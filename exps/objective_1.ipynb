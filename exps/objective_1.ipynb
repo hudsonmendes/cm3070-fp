{
  "cells": [
    {
      "cell_type": "markdown",
      "metadata": {
        "id": "view-in-github",
        "colab_type": "text"
      },
      "source": [
        "<a href=\"https://colab.research.google.com/github/hudsonmendes/cm3070-fp/blob/objective_1/exps/objective_1.ipynb\" target=\"_parent\"><img src=\"https://colab.research.google.com/assets/colab-badge.svg\" alt=\"Open In Colab\"/></a>"
      ]
    },
    {
      "cell_type": "markdown",
      "metadata": {
        "id": "vZT1mPJ6M-gN"
      },
      "source": [
        "# Load Code & Data\n",
        "\n",
        "In this section, we load the code and the data locally, so that we can utilise  the `hlm12erc` package and use the ml pipelines as they have been designed.\n",
        "\n",
        "The code files are copied from the following folder, and it's copied to the root directory of the present runtime.\n",
        "> `/content/drive/MyDrive/Code/github/universityoflondon/cm3070-fp/*`\n",
        "\n",
        "The following .zip file contains the data compressed, and we decompress it into the `./data` folder:\n",
        "> `/content/drive/MyDrive/Datasets/meld-transformed.zip`"
      ]
    },
    {
      "cell_type": "code",
      "execution_count": null,
      "metadata": {
        "id": "UDiByYAbHOP-"
      },
      "outputs": [],
      "source": [
        "from google.colab import drive\n",
        "drive.mount('/content/drive', force_remount=True)"
      ]
    },
    {
      "cell_type": "code",
      "execution_count": null,
      "metadata": {
        "id": "JmHiTWGDNC_M"
      },
      "outputs": [],
      "source": [
        "import os\n",
        "if not os.path.exists(\"./pyproject.toml\"):\n",
        "  !rm -rf ./src\n",
        "  !rm -rf ./tests\n",
        "  !rm -rf ./targets\n",
        "  !rm -rf ./configs\n",
        "  !cp -R /content/drive/MyDrive/Code/github/universityoflondon/cm3070-fp/* .\n",
        "  print(\"Source Code: overwritten!\")\n",
        "\n",
        "if not os.path.exists(\"./data/\"):\n",
        "  !unzip -j \"/content/drive/MyDrive/Datasets/meld-transformed.zip\" -d \"./data/\"\n",
        "  print(\"Data: overwritten!\")"
      ]
    },
    {
      "cell_type": "code",
      "source": [
        "!rm -rf ./data/*.csv\n",
        "!unzip -j \"/content/drive/MyDrive/Datasets/meld-transformerd-csvs.zip\" -d \"./data/\""
      ],
      "metadata": {
        "id": "u4bNfd1dop2A"
      },
      "execution_count": null,
      "outputs": []
    },
    {
      "cell_type": "markdown",
      "source": [
        "# Environment\n",
        "\n",
        "In this section of our project, we delve into the technical groundwork, outlining the structuring of our dependencies, initializing key system configurations and paths that will be leveraged throughout the ensuing stages.\n",
        "\n",
        "At the heart of this setup is the setup.cfg file, which lists our project's dependencies and facilitates the seamless installation of our custom-built **`hlm12erc`** library. By using the `-e` option for pip, we unlock dynamic editing capabilities for the library's codebase without requiring repeated reinstallation.\n",
        "\n",
        "To optimise our system, we've crafted different sets of dependencies for each critical task, including `etl`, `eda`, `modelling`, `training`, and `serving`, allowing us to avoid redundant installations in environments where certain packages aren't needed. We also establish specific log levels and configure Jupyter's `auto-reload` mechanisms, empowering us with real-time updates and valuable debugging insights."
      ],
      "metadata": {
        "id": "RGQEM7h9iHD8"
      }
    },
    {
      "cell_type": "markdown",
      "source": [
        "## Dependencies"
      ],
      "metadata": {
        "id": "rQdJ9dQAibKS"
      }
    },
    {
      "cell_type": "code",
      "source": [
        "!cat ./pyproject.toml"
      ],
      "metadata": {
        "id": "RR-nHS8hiVU9"
      },
      "execution_count": null,
      "outputs": []
    },
    {
      "cell_type": "code",
      "source": [
        "%pip install -e '.[training]'"
      ],
      "metadata": {
        "id": "emGQsxg7Yic9"
      },
      "execution_count": null,
      "outputs": []
    },
    {
      "cell_type": "markdown",
      "source": [
        "**Attention:** for the first time you run this notebook in a runtime, you you must restart your kernel at this point, because the dependencies you installed above bring in newer versions of libraries like `pandas`,etc."
      ],
      "metadata": {
        "id": "Uew1Mk0yZhrw"
      }
    },
    {
      "cell_type": "code",
      "source": [
        "import IPython\n",
        "IPython.Application.instance().kernel.do_shutdown(True)"
      ],
      "metadata": {
        "id": "tzpyrGgSaRWo"
      },
      "execution_count": null,
      "outputs": []
    },
    {
      "cell_type": "code",
      "source": [
        "%load_ext autoreload\n",
        "%autoreload 2"
      ],
      "metadata": {
        "id": "MrzbNIBPaIgW"
      },
      "execution_count": null,
      "outputs": []
    },
    {
      "cell_type": "markdown",
      "source": [
        "## Logging"
      ],
      "metadata": {
        "id": "T3ujNxWVYlxc"
      }
    },
    {
      "cell_type": "code",
      "source": [
        "import logging\n",
        "logging.basicConfig(level=logging.INFO)"
      ],
      "metadata": {
        "id": "QLppuTb7iWsm"
      },
      "execution_count": null,
      "outputs": []
    },
    {
      "cell_type": "code",
      "source": [
        "import warnings\n",
        "warnings.filterwarnings(\"ignore\")"
      ],
      "metadata": {
        "id": "yyIYTW4vZT4r"
      },
      "execution_count": null,
      "outputs": []
    },
    {
      "cell_type": "markdown",
      "source": [
        "## Paths & Locations"
      ],
      "metadata": {
        "id": "4zZIo_M5ijBO"
      }
    },
    {
      "cell_type": "code",
      "source": [
        "import pathlib\n",
        "\n",
        "# now that the chdir is set to the parent directory of the notebook,\n",
        "# we can work as if we were running in the root directory of the repository\n",
        "dir_home = pathlib.Path(\"./\")\n",
        "dir_data = dir_home / \"data\"\n",
        "dir_target = dir_home / \"target\"\n",
        "dir_configs = dir_home / \"configs\""
      ],
      "metadata": {
        "id": "rjSJAbtoiYF5"
      },
      "execution_count": null,
      "outputs": []
    },
    {
      "cell_type": "markdown",
      "source": [
        "## GPUs for Training\n",
        "\n",
        "For this MLOps Pipeline, we use GPUs to accelerate Machine Learning Training.\n",
        "\n",
        "TPUs have been tried out, but the limitations and constraints related to the TPU architecture caused it to be inviable to the available timeframe of the project. [The main blocker has been reported](https://discuss.pytorch.org/t/error-when-attempting-to-access-xla-tensor-shape/186214) to the PyTorch XLA team before the decision to pivot into GPUs was made."
      ],
      "metadata": {
        "id": "sxstYyWpqqPw"
      }
    },
    {
      "cell_type": "code",
      "source": [
        "# In order to try training using TPUs, uncomment the code below\n",
        "# import torch_xla.core.xla_model as xm\n",
        "# device = xm.xla_device()\n",
        "\n",
        "# The following code sets the `device` to one of the GPUs\n",
        "import torch\n",
        "device = torch.device(\"cpu\")\n",
        "if torch.cuda.is_available():\n",
        "  device = torch.device(\"cuda:0\")\n",
        "device"
      ],
      "metadata": {
        "colab": {
          "base_uri": "https://localhost:8080/"
        },
        "id": "a-b5UQ6KzpMu",
        "outputId": "17116ed0-2038-4c4c-86e5-54f4ac971492"
      },
      "execution_count": null,
      "outputs": [
        {
          "output_type": "execute_result",
          "data": {
            "text/plain": [
              "device(type='cuda', index=0)"
            ]
          },
          "metadata": {},
          "execution_count": 5
        }
      ]
    },
    {
      "cell_type": "markdown",
      "source": [
        "# Defining the Problem\n",
        "\n",
        "Emotion Recognition in Conversations (ERC) refers to the process of recognising and analysing emotions in interactive dialogues. It presents a unique set of challenges given the fact that the same words or phrases could convey different emotions depending on the context and flow of the conversation. This task is further complicated when applied in non-dyadic settings, where multiple participants engage in a dialogue. This makes ERC a complex problem within the realm of machine learning and artificial intelligence, where context modelling and emotional shifts among interlocutors are difficult to address accurately.\n",
        "\n",
        "Despite its complexity, ERC has garnered significant interest owing to its vast applications in opinion mining over social media threads, chat history, and other online platforms. The ability to accurately discern emotions in conversations can have profound implications for various industries, making any advancements in this field potentially groundbreaking. However, given the sparsity of the solution space and the high variability in model architecture, ERC remains a largely unexplored area with many potential paths for future research and experimentation.\n",
        "\n",
        "## Multi-Party Setting Challenge\n",
        "\n",
        "Multi-party conversations present an inherent set of challenges when it comes to emotion recognition (ERC). In a dialogue involving multiple participants, the context, conversation flow, and emotional shifts become considerably more intricate to decipher. The utterances in multi-party dialogues can express a wide range of emotions based on the context, making the task of accurate emotion recognition more arduous. This problem of contextual modelling and accounting for emotion shifts among multiple interlocutors remains a significant challenge in ERC. Additionally, the complex dynamics of multi-party conversations and the interdependence of individual emotional states further complicate the task.\n",
        "\n",
        "The multi-modality of ERC data also poses another layer of challenge in multi-party settings. As emotions can only be detected through human actions such as textual utterances, visual gestures, and acoustic signals in the absence of physiological indications, the need for effectively dealing with multi-modal data becomes crucial. While some models focus on exploring this multi-modality, others resort to using a single modality, usually textual, thereby ignoring valuable insights that could be gleaned from other modalities. Consequently, the architectural variations in the existing models, coupled with the largely unexplored solution space, underscore the daunting challenges of emotion recognition in multi-party settings.\n",
        "\n",
        "## Multi-modality Challenge\n",
        "\n",
        "The multifaceted challenge of Emotion Recognition in Conversations (ERC) is magnified by the multi-modal nature of the data involved. ERC data typically consists of multiple modalities, such as textual utterances, visual cues, and acoustic signals. Accurately detecting emotions from these varied sources is complex, as they can individually or collectively contribute to the overall emotional context. This complexity is amplified by the high-dimensionality of the data, particularly in video and audio modalities. This high-dimensional data is both difficult to investigate and expensive to compute, posing significant challenges in data handling, processing, and analysis.\n",
        "\n",
        "Furthermore, the computation and training of multi-modal models are exceptionally resource-intensive. Each modality may require distinct computational approaches and algorithms for processing and analyzing the data, increasing the overall computational load. Training such models also necessitates substantial computational power and time, often leading to increased costs and resource allocation. These factors, combined with the diverse architectures proposed to model ERC, contribute to the intricate and computationally demanding nature of emotion recognition. Despite the high costs and complexity, the vast potential applications of accurate ERC underscore the importance of ongoing research in this challenging, yet highly rewarding, field of machine learning."
      ],
      "metadata": {
        "id": "IyZK_b0Mio4x"
      }
    },
    {
      "cell_type": "markdown",
      "source": [
        "# Assembling the Dataset\n",
        "\n",
        "This notebook works on the **Loaded** data (already transformed through the ETL process), and unzipped in the top section of the notebook.\n",
        "\n",
        "Here is more information about the ETL process used from the `dev/modelling.ipynb`:\n",
        "> This section of the document focuses on assembling the final dataset that will be used for training and evaluating machine learning models. This involves performing ETL (Extract, Transform, Load) operations on the raw MELD data[1, 2] to prepare it for modelling. ETL is a process used to extract data from various sources, transform it into a format that is suitable for analysis, and load it into a target database or data warehouse. In this section, the raw data is extracted from various sources, transformed into a format that can be used for modelling, and loaded into a Pandas DataFrame.\n",
        ">\n",
        "> Here the final dataset is assembled by combining the preprocessed text, audio, and visual features for each example. The `hlm12erc` library is used to load the preprocessed features for each example and combine them into a single DataFrame. This library was created specifically for this project to simplify the notebook code by abstracting the ETL complexity into a simple, well-tested library that could be reused and scheduled if needed. The library was designed with full unit-test coverage to ensure that the data is loaded and combined correctly. The resulting DataFrame contains the preprocessed features for each example, as well as the corresponding label, which will be used for training and evaluating the machine learning models."
      ],
      "metadata": {
        "id": "2Y9XjOn5i4Ty"
      }
    },
    {
      "cell_type": "code",
      "source": [
        "from hlm12erc.training import MeldDataset\n",
        "\n",
        "ds_sample = MeldDataset(dir_data / f\"sample.csv\")\n",
        "ds_train  = MeldDataset(dir_data / f\"train.csv\")\n",
        "ds_valid  = MeldDataset(dir_data / f\"valid.csv\")\n",
        "ds_test   = MeldDataset(dir_data / f\"test.csv\")"
      ],
      "metadata": {
        "id": "Bif8ohckMzxt"
      },
      "execution_count": null,
      "outputs": []
    },
    {
      "cell_type": "code",
      "source": [
        "ds_train.df"
      ],
      "metadata": {
        "colab": {
          "base_uri": "https://localhost:8080/",
          "height": 780
        },
        "id": "0EMO-n48kOhv",
        "outputId": "f5f8aa18-4cdb-4223-9718-38da2e3ae897"
      },
      "execution_count": null,
      "outputs": [
        {
          "output_type": "execute_result",
          "data": {
            "text/plain": [
              "      Unnamed: 0  dialogue  sequence          speaker  \\\n",
              "0              0         0         0         Chandler   \n",
              "1              1         0         1  The Interviewer   \n",
              "2              2         0         2         Chandler   \n",
              "3              3         0         3  The Interviewer   \n",
              "4              4         0         4         Chandler   \n",
              "...          ...       ...       ...              ...   \n",
              "9984        9984      1038        13         Chandler   \n",
              "9985        9985      1038        14             Ross   \n",
              "9986        9986      1038        15             Joey   \n",
              "9987        9987      1038        16              All   \n",
              "9988        9988      1038        17             Joey   \n",
              "\n",
              "                                                 x_text           x_visual  \\\n",
              "0     also I was the point person on my companys tr...      d-0-seq-0.png   \n",
              "1                      You mustve had your hands full.      d-0-seq-1.png   \n",
              "2                               That I did. That I did.      d-0-seq-2.png   \n",
              "3         So lets talk a little bit about your duties.      d-0-seq-3.png   \n",
              "4                                My duties?  All right.      d-0-seq-4.png   \n",
              "...                                                 ...                ...   \n",
              "9984                                         You or me?  d-1038-seq-13.png   \n",
              "9985  I got it. Uh, Joey, women don't have Adam's ap...  d-1038-seq-14.png   \n",
              "9986               You guys are messing with me, right?  d-1038-seq-15.png   \n",
              "9987                                              Yeah.  d-1038-seq-16.png   \n",
              "9988  That was a good one. For a second there, I was...  d-1038-seq-17.png   \n",
              "\n",
              "                x_audio     label  \n",
              "0         d-0-seq-0.wav   neutral  \n",
              "1         d-0-seq-1.wav   neutral  \n",
              "2         d-0-seq-2.wav   neutral  \n",
              "3         d-0-seq-3.wav   neutral  \n",
              "4         d-0-seq-4.wav  surprise  \n",
              "...                 ...       ...  \n",
              "9984  d-1038-seq-13.wav   neutral  \n",
              "9985  d-1038-seq-14.wav   neutral  \n",
              "9986  d-1038-seq-15.wav  surprise  \n",
              "9987  d-1038-seq-16.wav   neutral  \n",
              "9988  d-1038-seq-17.wav       joy  \n",
              "\n",
              "[9989 rows x 8 columns]"
            ],
            "text/html": [
              "\n",
              "\n",
              "  <div id=\"df-2441ffd3-3b06-4b2e-93ed-84ad949992e4\">\n",
              "    <div class=\"colab-df-container\">\n",
              "      <div>\n",
              "<style scoped>\n",
              "    .dataframe tbody tr th:only-of-type {\n",
              "        vertical-align: middle;\n",
              "    }\n",
              "\n",
              "    .dataframe tbody tr th {\n",
              "        vertical-align: top;\n",
              "    }\n",
              "\n",
              "    .dataframe thead th {\n",
              "        text-align: right;\n",
              "    }\n",
              "</style>\n",
              "<table border=\"1\" class=\"dataframe\">\n",
              "  <thead>\n",
              "    <tr style=\"text-align: right;\">\n",
              "      <th></th>\n",
              "      <th>Unnamed: 0</th>\n",
              "      <th>dialogue</th>\n",
              "      <th>sequence</th>\n",
              "      <th>speaker</th>\n",
              "      <th>x_text</th>\n",
              "      <th>x_visual</th>\n",
              "      <th>x_audio</th>\n",
              "      <th>label</th>\n",
              "    </tr>\n",
              "  </thead>\n",
              "  <tbody>\n",
              "    <tr>\n",
              "      <th>0</th>\n",
              "      <td>0</td>\n",
              "      <td>0</td>\n",
              "      <td>0</td>\n",
              "      <td>Chandler</td>\n",
              "      <td>also I was the point person on my companys tr...</td>\n",
              "      <td>d-0-seq-0.png</td>\n",
              "      <td>d-0-seq-0.wav</td>\n",
              "      <td>neutral</td>\n",
              "    </tr>\n",
              "    <tr>\n",
              "      <th>1</th>\n",
              "      <td>1</td>\n",
              "      <td>0</td>\n",
              "      <td>1</td>\n",
              "      <td>The Interviewer</td>\n",
              "      <td>You mustve had your hands full.</td>\n",
              "      <td>d-0-seq-1.png</td>\n",
              "      <td>d-0-seq-1.wav</td>\n",
              "      <td>neutral</td>\n",
              "    </tr>\n",
              "    <tr>\n",
              "      <th>2</th>\n",
              "      <td>2</td>\n",
              "      <td>0</td>\n",
              "      <td>2</td>\n",
              "      <td>Chandler</td>\n",
              "      <td>That I did. That I did.</td>\n",
              "      <td>d-0-seq-2.png</td>\n",
              "      <td>d-0-seq-2.wav</td>\n",
              "      <td>neutral</td>\n",
              "    </tr>\n",
              "    <tr>\n",
              "      <th>3</th>\n",
              "      <td>3</td>\n",
              "      <td>0</td>\n",
              "      <td>3</td>\n",
              "      <td>The Interviewer</td>\n",
              "      <td>So lets talk a little bit about your duties.</td>\n",
              "      <td>d-0-seq-3.png</td>\n",
              "      <td>d-0-seq-3.wav</td>\n",
              "      <td>neutral</td>\n",
              "    </tr>\n",
              "    <tr>\n",
              "      <th>4</th>\n",
              "      <td>4</td>\n",
              "      <td>0</td>\n",
              "      <td>4</td>\n",
              "      <td>Chandler</td>\n",
              "      <td>My duties?  All right.</td>\n",
              "      <td>d-0-seq-4.png</td>\n",
              "      <td>d-0-seq-4.wav</td>\n",
              "      <td>surprise</td>\n",
              "    </tr>\n",
              "    <tr>\n",
              "      <th>...</th>\n",
              "      <td>...</td>\n",
              "      <td>...</td>\n",
              "      <td>...</td>\n",
              "      <td>...</td>\n",
              "      <td>...</td>\n",
              "      <td>...</td>\n",
              "      <td>...</td>\n",
              "      <td>...</td>\n",
              "    </tr>\n",
              "    <tr>\n",
              "      <th>9984</th>\n",
              "      <td>9984</td>\n",
              "      <td>1038</td>\n",
              "      <td>13</td>\n",
              "      <td>Chandler</td>\n",
              "      <td>You or me?</td>\n",
              "      <td>d-1038-seq-13.png</td>\n",
              "      <td>d-1038-seq-13.wav</td>\n",
              "      <td>neutral</td>\n",
              "    </tr>\n",
              "    <tr>\n",
              "      <th>9985</th>\n",
              "      <td>9985</td>\n",
              "      <td>1038</td>\n",
              "      <td>14</td>\n",
              "      <td>Ross</td>\n",
              "      <td>I got it. Uh, Joey, women don't have Adam's ap...</td>\n",
              "      <td>d-1038-seq-14.png</td>\n",
              "      <td>d-1038-seq-14.wav</td>\n",
              "      <td>neutral</td>\n",
              "    </tr>\n",
              "    <tr>\n",
              "      <th>9986</th>\n",
              "      <td>9986</td>\n",
              "      <td>1038</td>\n",
              "      <td>15</td>\n",
              "      <td>Joey</td>\n",
              "      <td>You guys are messing with me, right?</td>\n",
              "      <td>d-1038-seq-15.png</td>\n",
              "      <td>d-1038-seq-15.wav</td>\n",
              "      <td>surprise</td>\n",
              "    </tr>\n",
              "    <tr>\n",
              "      <th>9987</th>\n",
              "      <td>9987</td>\n",
              "      <td>1038</td>\n",
              "      <td>16</td>\n",
              "      <td>All</td>\n",
              "      <td>Yeah.</td>\n",
              "      <td>d-1038-seq-16.png</td>\n",
              "      <td>d-1038-seq-16.wav</td>\n",
              "      <td>neutral</td>\n",
              "    </tr>\n",
              "    <tr>\n",
              "      <th>9988</th>\n",
              "      <td>9988</td>\n",
              "      <td>1038</td>\n",
              "      <td>17</td>\n",
              "      <td>Joey</td>\n",
              "      <td>That was a good one. For a second there, I was...</td>\n",
              "      <td>d-1038-seq-17.png</td>\n",
              "      <td>d-1038-seq-17.wav</td>\n",
              "      <td>joy</td>\n",
              "    </tr>\n",
              "  </tbody>\n",
              "</table>\n",
              "<p>9989 rows × 8 columns</p>\n",
              "</div>\n",
              "      <button class=\"colab-df-convert\" onclick=\"convertToInteractive('df-2441ffd3-3b06-4b2e-93ed-84ad949992e4')\"\n",
              "              title=\"Convert this dataframe to an interactive table.\"\n",
              "              style=\"display:none;\">\n",
              "\n",
              "  <svg xmlns=\"http://www.w3.org/2000/svg\" height=\"24px\"viewBox=\"0 0 24 24\"\n",
              "       width=\"24px\">\n",
              "    <path d=\"M0 0h24v24H0V0z\" fill=\"none\"/>\n",
              "    <path d=\"M18.56 5.44l.94 2.06.94-2.06 2.06-.94-2.06-.94-.94-2.06-.94 2.06-2.06.94zm-11 1L8.5 8.5l.94-2.06 2.06-.94-2.06-.94L8.5 2.5l-.94 2.06-2.06.94zm10 10l.94 2.06.94-2.06 2.06-.94-2.06-.94-.94-2.06-.94 2.06-2.06.94z\"/><path d=\"M17.41 7.96l-1.37-1.37c-.4-.4-.92-.59-1.43-.59-.52 0-1.04.2-1.43.59L10.3 9.45l-7.72 7.72c-.78.78-.78 2.05 0 2.83L4 21.41c.39.39.9.59 1.41.59.51 0 1.02-.2 1.41-.59l7.78-7.78 2.81-2.81c.8-.78.8-2.07 0-2.86zM5.41 20L4 18.59l7.72-7.72 1.47 1.35L5.41 20z\"/>\n",
              "  </svg>\n",
              "      </button>\n",
              "\n",
              "\n",
              "\n",
              "    <div id=\"df-69f03e9c-5624-4cb7-a453-e7600905cdaa\">\n",
              "      <button class=\"colab-df-quickchart\" onclick=\"quickchart('df-69f03e9c-5624-4cb7-a453-e7600905cdaa')\"\n",
              "              title=\"Suggest charts.\"\n",
              "              style=\"display:none;\">\n",
              "\n",
              "<svg xmlns=\"http://www.w3.org/2000/svg\" height=\"24px\"viewBox=\"0 0 24 24\"\n",
              "     width=\"24px\">\n",
              "    <g>\n",
              "        <path d=\"M19 3H5c-1.1 0-2 .9-2 2v14c0 1.1.9 2 2 2h14c1.1 0 2-.9 2-2V5c0-1.1-.9-2-2-2zM9 17H7v-7h2v7zm4 0h-2V7h2v10zm4 0h-2v-4h2v4z\"/>\n",
              "    </g>\n",
              "</svg>\n",
              "      </button>\n",
              "    </div>\n",
              "\n",
              "<style>\n",
              "  .colab-df-quickchart {\n",
              "    background-color: #E8F0FE;\n",
              "    border: none;\n",
              "    border-radius: 50%;\n",
              "    cursor: pointer;\n",
              "    display: none;\n",
              "    fill: #1967D2;\n",
              "    height: 32px;\n",
              "    padding: 0 0 0 0;\n",
              "    width: 32px;\n",
              "  }\n",
              "\n",
              "  .colab-df-quickchart:hover {\n",
              "    background-color: #E2EBFA;\n",
              "    box-shadow: 0px 1px 2px rgba(60, 64, 67, 0.3), 0px 1px 3px 1px rgba(60, 64, 67, 0.15);\n",
              "    fill: #174EA6;\n",
              "  }\n",
              "\n",
              "  [theme=dark] .colab-df-quickchart {\n",
              "    background-color: #3B4455;\n",
              "    fill: #D2E3FC;\n",
              "  }\n",
              "\n",
              "  [theme=dark] .colab-df-quickchart:hover {\n",
              "    background-color: #434B5C;\n",
              "    box-shadow: 0px 1px 3px 1px rgba(0, 0, 0, 0.15);\n",
              "    filter: drop-shadow(0px 1px 2px rgba(0, 0, 0, 0.3));\n",
              "    fill: #FFFFFF;\n",
              "  }\n",
              "</style>\n",
              "\n",
              "    <script>\n",
              "      async function quickchart(key) {\n",
              "        const containerElement = document.querySelector('#' + key);\n",
              "        const charts = await google.colab.kernel.invokeFunction(\n",
              "            'suggestCharts', [key], {});\n",
              "      }\n",
              "    </script>\n",
              "\n",
              "      <script>\n",
              "\n",
              "function displayQuickchartButton(domScope) {\n",
              "  let quickchartButtonEl =\n",
              "    domScope.querySelector('#df-69f03e9c-5624-4cb7-a453-e7600905cdaa button.colab-df-quickchart');\n",
              "  quickchartButtonEl.style.display =\n",
              "    google.colab.kernel.accessAllowed ? 'block' : 'none';\n",
              "}\n",
              "\n",
              "        displayQuickchartButton(document);\n",
              "      </script>\n",
              "      <style>\n",
              "    .colab-df-container {\n",
              "      display:flex;\n",
              "      flex-wrap:wrap;\n",
              "      gap: 12px;\n",
              "    }\n",
              "\n",
              "    .colab-df-convert {\n",
              "      background-color: #E8F0FE;\n",
              "      border: none;\n",
              "      border-radius: 50%;\n",
              "      cursor: pointer;\n",
              "      display: none;\n",
              "      fill: #1967D2;\n",
              "      height: 32px;\n",
              "      padding: 0 0 0 0;\n",
              "      width: 32px;\n",
              "    }\n",
              "\n",
              "    .colab-df-convert:hover {\n",
              "      background-color: #E2EBFA;\n",
              "      box-shadow: 0px 1px 2px rgba(60, 64, 67, 0.3), 0px 1px 3px 1px rgba(60, 64, 67, 0.15);\n",
              "      fill: #174EA6;\n",
              "    }\n",
              "\n",
              "    [theme=dark] .colab-df-convert {\n",
              "      background-color: #3B4455;\n",
              "      fill: #D2E3FC;\n",
              "    }\n",
              "\n",
              "    [theme=dark] .colab-df-convert:hover {\n",
              "      background-color: #434B5C;\n",
              "      box-shadow: 0px 1px 3px 1px rgba(0, 0, 0, 0.15);\n",
              "      filter: drop-shadow(0px 1px 2px rgba(0, 0, 0, 0.3));\n",
              "      fill: #FFFFFF;\n",
              "    }\n",
              "  </style>\n",
              "\n",
              "      <script>\n",
              "        const buttonEl =\n",
              "          document.querySelector('#df-2441ffd3-3b06-4b2e-93ed-84ad949992e4 button.colab-df-convert');\n",
              "        buttonEl.style.display =\n",
              "          google.colab.kernel.accessAllowed ? 'block' : 'none';\n",
              "\n",
              "        async function convertToInteractive(key) {\n",
              "          const element = document.querySelector('#df-2441ffd3-3b06-4b2e-93ed-84ad949992e4');\n",
              "          const dataTable =\n",
              "            await google.colab.kernel.invokeFunction('convertToInteractive',\n",
              "                                                     [key], {});\n",
              "          if (!dataTable) return;\n",
              "\n",
              "          const docLinkHtml = 'Like what you see? Visit the ' +\n",
              "            '<a target=\"_blank\" href=https://colab.research.google.com/notebooks/data_table.ipynb>data table notebook</a>'\n",
              "            + ' to learn more about interactive tables.';\n",
              "          element.innerHTML = '';\n",
              "          dataTable['output_type'] = 'display_data';\n",
              "          await google.colab.output.renderOutput(dataTable, element);\n",
              "          const docLink = document.createElement('div');\n",
              "          docLink.innerHTML = docLinkHtml;\n",
              "          element.appendChild(docLink);\n",
              "        }\n",
              "      </script>\n",
              "    </div>\n",
              "  </div>\n"
            ]
          },
          "metadata": {},
          "execution_count": 7
        }
      ]
    },
    {
      "cell_type": "code",
      "source": [
        "import os\n",
        "import io\n",
        "import base64\n",
        "from IPython.display import display, HTML\n",
        "from PIL import Image\n",
        "\n",
        "df_sample = ds_train.df.groupby([\"label\"], group_keys=False).apply(lambda x: x.sample(min(len(x), 3)))\n",
        "df_sample = df_sample.sort_values([\"label\"])\n",
        "\n",
        "table_rows = []\n",
        "for i, row in df_sample.iterrows():\n",
        "    speaker_cell = f'<td>{row[\"speaker\"]}</td>'\n",
        "    text_cell = f'<td>{row[\"x_text\"]}</td>'\n",
        "    image_path = dir_data / row[\"x_visual\"]\n",
        "    with Image.open(image_path) as img:\n",
        "        width, height = img.size\n",
        "        crop_top = height // 2 - height // 10\n",
        "        crop_bottom = height // 2 + height // 10\n",
        "        img_cropped = img.crop((0, crop_top, width, crop_bottom))\n",
        "        buffer = io.BytesIO()\n",
        "        img_cropped.save(buffer, format=\"JPEG\")\n",
        "        image_data = base64.b64encode(buffer.getvalue()).decode()\n",
        "    image_cell = f'<td><img src=\"data:image/jpeg;base64,{image_data}\" width=\"100\"></td>'\n",
        "    audio_cell = f'<td><audio controls src=\"{os.path.join(\"data/\", row[\"x_audio\"])}\" /></td>'\n",
        "    label_cell = f'<td>{row[\"label\"]}</td>'\n",
        "    table_rows.append(f\"<tr>{speaker_cell}{text_cell}{image_cell}{audio_cell}{label_cell}</tr>\")\n",
        "\n",
        "table_html = (\n",
        "    \"<table><tr><th>Speaker</th><th>Text</th><th>Image</th><th>Audio</th><th>Emotion</th></tr>\"\n",
        "    + \"\".join(table_rows)\n",
        "    + \"</table>\"\n",
        ")\n",
        "display(HTML(table_html))"
      ],
      "metadata": {
        "colab": {
          "resources": {
            "http://localhost:8080/data/d-1018-seq-1.wav": {
              "data": "CjwhRE9DVFlQRSBodG1sPgo8aHRtbCBsYW5nPWVuPgogIDxtZXRhIGNoYXJzZXQ9dXRmLTg+CiAgPG1ldGEgbmFtZT12aWV3cG9ydCBjb250ZW50PSJpbml0aWFsLXNjYWxlPTEsIG1pbmltdW0tc2NhbGU9MSwgd2lkdGg9ZGV2aWNlLXdpZHRoIj4KICA8dGl0bGU+RXJyb3IgNDA0IChOb3QgRm91bmQpISExPC90aXRsZT4KICA8c3R5bGU+CiAgICAqe21hcmdpbjowO3BhZGRpbmc6MH1odG1sLGNvZGV7Zm9udDoxNXB4LzIycHggYXJpYWwsc2Fucy1zZXJpZn1odG1se2JhY2tncm91bmQ6I2ZmZjtjb2xvcjojMjIyO3BhZGRpbmc6MTVweH1ib2R5e21hcmdpbjo3JSBhdXRvIDA7bWF4LXdpZHRoOjM5MHB4O21pbi1oZWlnaHQ6MTgwcHg7cGFkZGluZzozMHB4IDAgMTVweH0qID4gYm9keXtiYWNrZ3JvdW5kOnVybCgvL3d3dy5nb29nbGUuY29tL2ltYWdlcy9lcnJvcnMvcm9ib3QucG5nKSAxMDAlIDVweCBuby1yZXBlYXQ7cGFkZGluZy1yaWdodDoyMDVweH1we21hcmdpbjoxMXB4IDAgMjJweDtvdmVyZmxvdzpoaWRkZW59aW5ze2NvbG9yOiM3Nzc7dGV4dC1kZWNvcmF0aW9uOm5vbmV9YSBpbWd7Ym9yZGVyOjB9QG1lZGlhIHNjcmVlbiBhbmQgKG1heC13aWR0aDo3NzJweCl7Ym9keXtiYWNrZ3JvdW5kOm5vbmU7bWFyZ2luLXRvcDowO21heC13aWR0aDpub25lO3BhZGRpbmctcmlnaHQ6MH19I2xvZ297YmFja2dyb3VuZDp1cmwoLy93d3cuZ29vZ2xlLmNvbS9pbWFnZXMvbG9nb3MvZXJyb3JwYWdlL2Vycm9yX2xvZ28tMTUweDU0LnBuZykgbm8tcmVwZWF0O21hcmdpbi1sZWZ0Oi01cHh9QG1lZGlhIG9ubHkgc2NyZWVuIGFuZCAobWluLXJlc29sdXRpb246MTkyZHBpKXsjbG9nb3tiYWNrZ3JvdW5kOnVybCgvL3d3dy5nb29nbGUuY29tL2ltYWdlcy9sb2dvcy9lcnJvcnBhZ2UvZXJyb3JfbG9nby0xNTB4NTQtMngucG5nKSBuby1yZXBlYXQgMCUgMCUvMTAwJSAxMDAlOy1tb3otYm9yZGVyLWltYWdlOnVybCgvL3d3dy5nb29nbGUuY29tL2ltYWdlcy9sb2dvcy9lcnJvcnBhZ2UvZXJyb3JfbG9nby0xNTB4NTQtMngucG5nKSAwfX1AbWVkaWEgb25seSBzY3JlZW4gYW5kICgtd2Via2l0LW1pbi1kZXZpY2UtcGl4ZWwtcmF0aW86Mil7I2xvZ297YmFja2dyb3VuZDp1cmwoLy93d3cuZ29vZ2xlLmNvbS9pbWFnZXMvbG9nb3MvZXJyb3JwYWdlL2Vycm9yX2xvZ28tMTUweDU0LTJ4LnBuZykgbm8tcmVwZWF0Oy13ZWJraXQtYmFja2dyb3VuZC1zaXplOjEwMCUgMTAwJX19I2xvZ297ZGlzcGxheTppbmxpbmUtYmxvY2s7aGVpZ2h0OjU0cHg7d2lkdGg6MTUwcHh9CiAgPC9zdHlsZT4KICA8YSBocmVmPS8vd3d3Lmdvb2dsZS5jb20vPjxzcGFuIGlkPWxvZ28gYXJpYS1sYWJlbD1Hb29nbGU+PC9zcGFuPjwvYT4KICA8cD48Yj40MDQuPC9iPiA8aW5zPlRoYXTigJlzIGFuIGVycm9yLjwvaW5zPgogIDxwPiAgPGlucz5UaGF04oCZcyBhbGwgd2Uga25vdy48L2lucz4K",
              "ok": false,
              "headers": [
                [
                  "content-length",
                  "1449"
                ],
                [
                  "content-type",
                  "text/html; charset=utf-8"
                ]
              ],
              "status": 404,
              "status_text": ""
            },
            "http://localhost:8080/data/d-509-seq-11.wav": {
              "data": "CjwhRE9DVFlQRSBodG1sPgo8aHRtbCBsYW5nPWVuPgogIDxtZXRhIGNoYXJzZXQ9dXRmLTg+CiAgPG1ldGEgbmFtZT12aWV3cG9ydCBjb250ZW50PSJpbml0aWFsLXNjYWxlPTEsIG1pbmltdW0tc2NhbGU9MSwgd2lkdGg9ZGV2aWNlLXdpZHRoIj4KICA8dGl0bGU+RXJyb3IgNDA0IChOb3QgRm91bmQpISExPC90aXRsZT4KICA8c3R5bGU+CiAgICAqe21hcmdpbjowO3BhZGRpbmc6MH1odG1sLGNvZGV7Zm9udDoxNXB4LzIycHggYXJpYWwsc2Fucy1zZXJpZn1odG1se2JhY2tncm91bmQ6I2ZmZjtjb2xvcjojMjIyO3BhZGRpbmc6MTVweH1ib2R5e21hcmdpbjo3JSBhdXRvIDA7bWF4LXdpZHRoOjM5MHB4O21pbi1oZWlnaHQ6MTgwcHg7cGFkZGluZzozMHB4IDAgMTVweH0qID4gYm9keXtiYWNrZ3JvdW5kOnVybCgvL3d3dy5nb29nbGUuY29tL2ltYWdlcy9lcnJvcnMvcm9ib3QucG5nKSAxMDAlIDVweCBuby1yZXBlYXQ7cGFkZGluZy1yaWdodDoyMDVweH1we21hcmdpbjoxMXB4IDAgMjJweDtvdmVyZmxvdzpoaWRkZW59aW5ze2NvbG9yOiM3Nzc7dGV4dC1kZWNvcmF0aW9uOm5vbmV9YSBpbWd7Ym9yZGVyOjB9QG1lZGlhIHNjcmVlbiBhbmQgKG1heC13aWR0aDo3NzJweCl7Ym9keXtiYWNrZ3JvdW5kOm5vbmU7bWFyZ2luLXRvcDowO21heC13aWR0aDpub25lO3BhZGRpbmctcmlnaHQ6MH19I2xvZ297YmFja2dyb3VuZDp1cmwoLy93d3cuZ29vZ2xlLmNvbS9pbWFnZXMvbG9nb3MvZXJyb3JwYWdlL2Vycm9yX2xvZ28tMTUweDU0LnBuZykgbm8tcmVwZWF0O21hcmdpbi1sZWZ0Oi01cHh9QG1lZGlhIG9ubHkgc2NyZWVuIGFuZCAobWluLXJlc29sdXRpb246MTkyZHBpKXsjbG9nb3tiYWNrZ3JvdW5kOnVybCgvL3d3dy5nb29nbGUuY29tL2ltYWdlcy9sb2dvcy9lcnJvcnBhZ2UvZXJyb3JfbG9nby0xNTB4NTQtMngucG5nKSBuby1yZXBlYXQgMCUgMCUvMTAwJSAxMDAlOy1tb3otYm9yZGVyLWltYWdlOnVybCgvL3d3dy5nb29nbGUuY29tL2ltYWdlcy9sb2dvcy9lcnJvcnBhZ2UvZXJyb3JfbG9nby0xNTB4NTQtMngucG5nKSAwfX1AbWVkaWEgb25seSBzY3JlZW4gYW5kICgtd2Via2l0LW1pbi1kZXZpY2UtcGl4ZWwtcmF0aW86Mil7I2xvZ297YmFja2dyb3VuZDp1cmwoLy93d3cuZ29vZ2xlLmNvbS9pbWFnZXMvbG9nb3MvZXJyb3JwYWdlL2Vycm9yX2xvZ28tMTUweDU0LTJ4LnBuZykgbm8tcmVwZWF0Oy13ZWJraXQtYmFja2dyb3VuZC1zaXplOjEwMCUgMTAwJX19I2xvZ297ZGlzcGxheTppbmxpbmUtYmxvY2s7aGVpZ2h0OjU0cHg7d2lkdGg6MTUwcHh9CiAgPC9zdHlsZT4KICA8YSBocmVmPS8vd3d3Lmdvb2dsZS5jb20vPjxzcGFuIGlkPWxvZ28gYXJpYS1sYWJlbD1Hb29nbGU+PC9zcGFuPjwvYT4KICA8cD48Yj40MDQuPC9iPiA8aW5zPlRoYXTigJlzIGFuIGVycm9yLjwvaW5zPgogIDxwPiAgPGlucz5UaGF04oCZcyBhbGwgd2Uga25vdy48L2lucz4K",
              "ok": false,
              "headers": [
                [
                  "content-length",
                  "1449"
                ],
                [
                  "content-type",
                  "text/html; charset=utf-8"
                ]
              ],
              "status": 404,
              "status_text": ""
            },
            "http://localhost:8080/data/d-637-seq-2.wav": {
              "data": "CjwhRE9DVFlQRSBodG1sPgo8aHRtbCBsYW5nPWVuPgogIDxtZXRhIGNoYXJzZXQ9dXRmLTg+CiAgPG1ldGEgbmFtZT12aWV3cG9ydCBjb250ZW50PSJpbml0aWFsLXNjYWxlPTEsIG1pbmltdW0tc2NhbGU9MSwgd2lkdGg9ZGV2aWNlLXdpZHRoIj4KICA8dGl0bGU+RXJyb3IgNDA0IChOb3QgRm91bmQpISExPC90aXRsZT4KICA8c3R5bGU+CiAgICAqe21hcmdpbjowO3BhZGRpbmc6MH1odG1sLGNvZGV7Zm9udDoxNXB4LzIycHggYXJpYWwsc2Fucy1zZXJpZn1odG1se2JhY2tncm91bmQ6I2ZmZjtjb2xvcjojMjIyO3BhZGRpbmc6MTVweH1ib2R5e21hcmdpbjo3JSBhdXRvIDA7bWF4LXdpZHRoOjM5MHB4O21pbi1oZWlnaHQ6MTgwcHg7cGFkZGluZzozMHB4IDAgMTVweH0qID4gYm9keXtiYWNrZ3JvdW5kOnVybCgvL3d3dy5nb29nbGUuY29tL2ltYWdlcy9lcnJvcnMvcm9ib3QucG5nKSAxMDAlIDVweCBuby1yZXBlYXQ7cGFkZGluZy1yaWdodDoyMDVweH1we21hcmdpbjoxMXB4IDAgMjJweDtvdmVyZmxvdzpoaWRkZW59aW5ze2NvbG9yOiM3Nzc7dGV4dC1kZWNvcmF0aW9uOm5vbmV9YSBpbWd7Ym9yZGVyOjB9QG1lZGlhIHNjcmVlbiBhbmQgKG1heC13aWR0aDo3NzJweCl7Ym9keXtiYWNrZ3JvdW5kOm5vbmU7bWFyZ2luLXRvcDowO21heC13aWR0aDpub25lO3BhZGRpbmctcmlnaHQ6MH19I2xvZ297YmFja2dyb3VuZDp1cmwoLy93d3cuZ29vZ2xlLmNvbS9pbWFnZXMvbG9nb3MvZXJyb3JwYWdlL2Vycm9yX2xvZ28tMTUweDU0LnBuZykgbm8tcmVwZWF0O21hcmdpbi1sZWZ0Oi01cHh9QG1lZGlhIG9ubHkgc2NyZWVuIGFuZCAobWluLXJlc29sdXRpb246MTkyZHBpKXsjbG9nb3tiYWNrZ3JvdW5kOnVybCgvL3d3dy5nb29nbGUuY29tL2ltYWdlcy9sb2dvcy9lcnJvcnBhZ2UvZXJyb3JfbG9nby0xNTB4NTQtMngucG5nKSBuby1yZXBlYXQgMCUgMCUvMTAwJSAxMDAlOy1tb3otYm9yZGVyLWltYWdlOnVybCgvL3d3dy5nb29nbGUuY29tL2ltYWdlcy9sb2dvcy9lcnJvcnBhZ2UvZXJyb3JfbG9nby0xNTB4NTQtMngucG5nKSAwfX1AbWVkaWEgb25seSBzY3JlZW4gYW5kICgtd2Via2l0LW1pbi1kZXZpY2UtcGl4ZWwtcmF0aW86Mil7I2xvZ297YmFja2dyb3VuZDp1cmwoLy93d3cuZ29vZ2xlLmNvbS9pbWFnZXMvbG9nb3MvZXJyb3JwYWdlL2Vycm9yX2xvZ28tMTUweDU0LTJ4LnBuZykgbm8tcmVwZWF0Oy13ZWJraXQtYmFja2dyb3VuZC1zaXplOjEwMCUgMTAwJX19I2xvZ297ZGlzcGxheTppbmxpbmUtYmxvY2s7aGVpZ2h0OjU0cHg7d2lkdGg6MTUwcHh9CiAgPC9zdHlsZT4KICA8YSBocmVmPS8vd3d3Lmdvb2dsZS5jb20vPjxzcGFuIGlkPWxvZ28gYXJpYS1sYWJlbD1Hb29nbGU+PC9zcGFuPjwvYT4KICA8cD48Yj40MDQuPC9iPiA8aW5zPlRoYXTigJlzIGFuIGVycm9yLjwvaW5zPgogIDxwPiAgPGlucz5UaGF04oCZcyBhbGwgd2Uga25vdy48L2lucz4K",
              "ok": false,
              "headers": [
                [
                  "content-length",
                  "1449"
                ],
                [
                  "content-type",
                  "text/html; charset=utf-8"
                ]
              ],
              "status": 404,
              "status_text": ""
            },
            "http://localhost:8080/data/d-451-seq-7.wav": {
              "data": "CjwhRE9DVFlQRSBodG1sPgo8aHRtbCBsYW5nPWVuPgogIDxtZXRhIGNoYXJzZXQ9dXRmLTg+CiAgPG1ldGEgbmFtZT12aWV3cG9ydCBjb250ZW50PSJpbml0aWFsLXNjYWxlPTEsIG1pbmltdW0tc2NhbGU9MSwgd2lkdGg9ZGV2aWNlLXdpZHRoIj4KICA8dGl0bGU+RXJyb3IgNDA0IChOb3QgRm91bmQpISExPC90aXRsZT4KICA8c3R5bGU+CiAgICAqe21hcmdpbjowO3BhZGRpbmc6MH1odG1sLGNvZGV7Zm9udDoxNXB4LzIycHggYXJpYWwsc2Fucy1zZXJpZn1odG1se2JhY2tncm91bmQ6I2ZmZjtjb2xvcjojMjIyO3BhZGRpbmc6MTVweH1ib2R5e21hcmdpbjo3JSBhdXRvIDA7bWF4LXdpZHRoOjM5MHB4O21pbi1oZWlnaHQ6MTgwcHg7cGFkZGluZzozMHB4IDAgMTVweH0qID4gYm9keXtiYWNrZ3JvdW5kOnVybCgvL3d3dy5nb29nbGUuY29tL2ltYWdlcy9lcnJvcnMvcm9ib3QucG5nKSAxMDAlIDVweCBuby1yZXBlYXQ7cGFkZGluZy1yaWdodDoyMDVweH1we21hcmdpbjoxMXB4IDAgMjJweDtvdmVyZmxvdzpoaWRkZW59aW5ze2NvbG9yOiM3Nzc7dGV4dC1kZWNvcmF0aW9uOm5vbmV9YSBpbWd7Ym9yZGVyOjB9QG1lZGlhIHNjcmVlbiBhbmQgKG1heC13aWR0aDo3NzJweCl7Ym9keXtiYWNrZ3JvdW5kOm5vbmU7bWFyZ2luLXRvcDowO21heC13aWR0aDpub25lO3BhZGRpbmctcmlnaHQ6MH19I2xvZ297YmFja2dyb3VuZDp1cmwoLy93d3cuZ29vZ2xlLmNvbS9pbWFnZXMvbG9nb3MvZXJyb3JwYWdlL2Vycm9yX2xvZ28tMTUweDU0LnBuZykgbm8tcmVwZWF0O21hcmdpbi1sZWZ0Oi01cHh9QG1lZGlhIG9ubHkgc2NyZWVuIGFuZCAobWluLXJlc29sdXRpb246MTkyZHBpKXsjbG9nb3tiYWNrZ3JvdW5kOnVybCgvL3d3dy5nb29nbGUuY29tL2ltYWdlcy9sb2dvcy9lcnJvcnBhZ2UvZXJyb3JfbG9nby0xNTB4NTQtMngucG5nKSBuby1yZXBlYXQgMCUgMCUvMTAwJSAxMDAlOy1tb3otYm9yZGVyLWltYWdlOnVybCgvL3d3dy5nb29nbGUuY29tL2ltYWdlcy9sb2dvcy9lcnJvcnBhZ2UvZXJyb3JfbG9nby0xNTB4NTQtMngucG5nKSAwfX1AbWVkaWEgb25seSBzY3JlZW4gYW5kICgtd2Via2l0LW1pbi1kZXZpY2UtcGl4ZWwtcmF0aW86Mil7I2xvZ297YmFja2dyb3VuZDp1cmwoLy93d3cuZ29vZ2xlLmNvbS9pbWFnZXMvbG9nb3MvZXJyb3JwYWdlL2Vycm9yX2xvZ28tMTUweDU0LTJ4LnBuZykgbm8tcmVwZWF0Oy13ZWJraXQtYmFja2dyb3VuZC1zaXplOjEwMCUgMTAwJX19I2xvZ297ZGlzcGxheTppbmxpbmUtYmxvY2s7aGVpZ2h0OjU0cHg7d2lkdGg6MTUwcHh9CiAgPC9zdHlsZT4KICA8YSBocmVmPS8vd3d3Lmdvb2dsZS5jb20vPjxzcGFuIGlkPWxvZ28gYXJpYS1sYWJlbD1Hb29nbGU+PC9zcGFuPjwvYT4KICA8cD48Yj40MDQuPC9iPiA8aW5zPlRoYXTigJlzIGFuIGVycm9yLjwvaW5zPgogIDxwPiAgPGlucz5UaGF04oCZcyBhbGwgd2Uga25vdy48L2lucz4K",
              "ok": false,
              "headers": [
                [
                  "content-length",
                  "1449"
                ],
                [
                  "content-type",
                  "text/html; charset=utf-8"
                ]
              ],
              "status": 404,
              "status_text": ""
            },
            "http://localhost:8080/data/d-388-seq-6.wav": {
              "data": "CjwhRE9DVFlQRSBodG1sPgo8aHRtbCBsYW5nPWVuPgogIDxtZXRhIGNoYXJzZXQ9dXRmLTg+CiAgPG1ldGEgbmFtZT12aWV3cG9ydCBjb250ZW50PSJpbml0aWFsLXNjYWxlPTEsIG1pbmltdW0tc2NhbGU9MSwgd2lkdGg9ZGV2aWNlLXdpZHRoIj4KICA8dGl0bGU+RXJyb3IgNDA0IChOb3QgRm91bmQpISExPC90aXRsZT4KICA8c3R5bGU+CiAgICAqe21hcmdpbjowO3BhZGRpbmc6MH1odG1sLGNvZGV7Zm9udDoxNXB4LzIycHggYXJpYWwsc2Fucy1zZXJpZn1odG1se2JhY2tncm91bmQ6I2ZmZjtjb2xvcjojMjIyO3BhZGRpbmc6MTVweH1ib2R5e21hcmdpbjo3JSBhdXRvIDA7bWF4LXdpZHRoOjM5MHB4O21pbi1oZWlnaHQ6MTgwcHg7cGFkZGluZzozMHB4IDAgMTVweH0qID4gYm9keXtiYWNrZ3JvdW5kOnVybCgvL3d3dy5nb29nbGUuY29tL2ltYWdlcy9lcnJvcnMvcm9ib3QucG5nKSAxMDAlIDVweCBuby1yZXBlYXQ7cGFkZGluZy1yaWdodDoyMDVweH1we21hcmdpbjoxMXB4IDAgMjJweDtvdmVyZmxvdzpoaWRkZW59aW5ze2NvbG9yOiM3Nzc7dGV4dC1kZWNvcmF0aW9uOm5vbmV9YSBpbWd7Ym9yZGVyOjB9QG1lZGlhIHNjcmVlbiBhbmQgKG1heC13aWR0aDo3NzJweCl7Ym9keXtiYWNrZ3JvdW5kOm5vbmU7bWFyZ2luLXRvcDowO21heC13aWR0aDpub25lO3BhZGRpbmctcmlnaHQ6MH19I2xvZ297YmFja2dyb3VuZDp1cmwoLy93d3cuZ29vZ2xlLmNvbS9pbWFnZXMvbG9nb3MvZXJyb3JwYWdlL2Vycm9yX2xvZ28tMTUweDU0LnBuZykgbm8tcmVwZWF0O21hcmdpbi1sZWZ0Oi01cHh9QG1lZGlhIG9ubHkgc2NyZWVuIGFuZCAobWluLXJlc29sdXRpb246MTkyZHBpKXsjbG9nb3tiYWNrZ3JvdW5kOnVybCgvL3d3dy5nb29nbGUuY29tL2ltYWdlcy9sb2dvcy9lcnJvcnBhZ2UvZXJyb3JfbG9nby0xNTB4NTQtMngucG5nKSBuby1yZXBlYXQgMCUgMCUvMTAwJSAxMDAlOy1tb3otYm9yZGVyLWltYWdlOnVybCgvL3d3dy5nb29nbGUuY29tL2ltYWdlcy9sb2dvcy9lcnJvcnBhZ2UvZXJyb3JfbG9nby0xNTB4NTQtMngucG5nKSAwfX1AbWVkaWEgb25seSBzY3JlZW4gYW5kICgtd2Via2l0LW1pbi1kZXZpY2UtcGl4ZWwtcmF0aW86Mil7I2xvZ297YmFja2dyb3VuZDp1cmwoLy93d3cuZ29vZ2xlLmNvbS9pbWFnZXMvbG9nb3MvZXJyb3JwYWdlL2Vycm9yX2xvZ28tMTUweDU0LTJ4LnBuZykgbm8tcmVwZWF0Oy13ZWJraXQtYmFja2dyb3VuZC1zaXplOjEwMCUgMTAwJX19I2xvZ297ZGlzcGxheTppbmxpbmUtYmxvY2s7aGVpZ2h0OjU0cHg7d2lkdGg6MTUwcHh9CiAgPC9zdHlsZT4KICA8YSBocmVmPS8vd3d3Lmdvb2dsZS5jb20vPjxzcGFuIGlkPWxvZ28gYXJpYS1sYWJlbD1Hb29nbGU+PC9zcGFuPjwvYT4KICA8cD48Yj40MDQuPC9iPiA8aW5zPlRoYXTigJlzIGFuIGVycm9yLjwvaW5zPgogIDxwPiAgPGlucz5UaGF04oCZcyBhbGwgd2Uga25vdy48L2lucz4K",
              "ok": false,
              "headers": [
                [
                  "content-length",
                  "1449"
                ],
                [
                  "content-type",
                  "text/html; charset=utf-8"
                ]
              ],
              "status": 404,
              "status_text": ""
            },
            "http://localhost:8080/data/d-22-seq-0.wav": {
              "data": "CjwhRE9DVFlQRSBodG1sPgo8aHRtbCBsYW5nPWVuPgogIDxtZXRhIGNoYXJzZXQ9dXRmLTg+CiAgPG1ldGEgbmFtZT12aWV3cG9ydCBjb250ZW50PSJpbml0aWFsLXNjYWxlPTEsIG1pbmltdW0tc2NhbGU9MSwgd2lkdGg9ZGV2aWNlLXdpZHRoIj4KICA8dGl0bGU+RXJyb3IgNDA0IChOb3QgRm91bmQpISExPC90aXRsZT4KICA8c3R5bGU+CiAgICAqe21hcmdpbjowO3BhZGRpbmc6MH1odG1sLGNvZGV7Zm9udDoxNXB4LzIycHggYXJpYWwsc2Fucy1zZXJpZn1odG1se2JhY2tncm91bmQ6I2ZmZjtjb2xvcjojMjIyO3BhZGRpbmc6MTVweH1ib2R5e21hcmdpbjo3JSBhdXRvIDA7bWF4LXdpZHRoOjM5MHB4O21pbi1oZWlnaHQ6MTgwcHg7cGFkZGluZzozMHB4IDAgMTVweH0qID4gYm9keXtiYWNrZ3JvdW5kOnVybCgvL3d3dy5nb29nbGUuY29tL2ltYWdlcy9lcnJvcnMvcm9ib3QucG5nKSAxMDAlIDVweCBuby1yZXBlYXQ7cGFkZGluZy1yaWdodDoyMDVweH1we21hcmdpbjoxMXB4IDAgMjJweDtvdmVyZmxvdzpoaWRkZW59aW5ze2NvbG9yOiM3Nzc7dGV4dC1kZWNvcmF0aW9uOm5vbmV9YSBpbWd7Ym9yZGVyOjB9QG1lZGlhIHNjcmVlbiBhbmQgKG1heC13aWR0aDo3NzJweCl7Ym9keXtiYWNrZ3JvdW5kOm5vbmU7bWFyZ2luLXRvcDowO21heC13aWR0aDpub25lO3BhZGRpbmctcmlnaHQ6MH19I2xvZ297YmFja2dyb3VuZDp1cmwoLy93d3cuZ29vZ2xlLmNvbS9pbWFnZXMvbG9nb3MvZXJyb3JwYWdlL2Vycm9yX2xvZ28tMTUweDU0LnBuZykgbm8tcmVwZWF0O21hcmdpbi1sZWZ0Oi01cHh9QG1lZGlhIG9ubHkgc2NyZWVuIGFuZCAobWluLXJlc29sdXRpb246MTkyZHBpKXsjbG9nb3tiYWNrZ3JvdW5kOnVybCgvL3d3dy5nb29nbGUuY29tL2ltYWdlcy9sb2dvcy9lcnJvcnBhZ2UvZXJyb3JfbG9nby0xNTB4NTQtMngucG5nKSBuby1yZXBlYXQgMCUgMCUvMTAwJSAxMDAlOy1tb3otYm9yZGVyLWltYWdlOnVybCgvL3d3dy5nb29nbGUuY29tL2ltYWdlcy9sb2dvcy9lcnJvcnBhZ2UvZXJyb3JfbG9nby0xNTB4NTQtMngucG5nKSAwfX1AbWVkaWEgb25seSBzY3JlZW4gYW5kICgtd2Via2l0LW1pbi1kZXZpY2UtcGl4ZWwtcmF0aW86Mil7I2xvZ297YmFja2dyb3VuZDp1cmwoLy93d3cuZ29vZ2xlLmNvbS9pbWFnZXMvbG9nb3MvZXJyb3JwYWdlL2Vycm9yX2xvZ28tMTUweDU0LTJ4LnBuZykgbm8tcmVwZWF0Oy13ZWJraXQtYmFja2dyb3VuZC1zaXplOjEwMCUgMTAwJX19I2xvZ297ZGlzcGxheTppbmxpbmUtYmxvY2s7aGVpZ2h0OjU0cHg7d2lkdGg6MTUwcHh9CiAgPC9zdHlsZT4KICA8YSBocmVmPS8vd3d3Lmdvb2dsZS5jb20vPjxzcGFuIGlkPWxvZ28gYXJpYS1sYWJlbD1Hb29nbGU+PC9zcGFuPjwvYT4KICA8cD48Yj40MDQuPC9iPiA8aW5zPlRoYXTigJlzIGFuIGVycm9yLjwvaW5zPgogIDxwPiAgPGlucz5UaGF04oCZcyBhbGwgd2Uga25vdy48L2lucz4K",
              "ok": false,
              "headers": [
                [
                  "content-length",
                  "1449"
                ],
                [
                  "content-type",
                  "text/html; charset=utf-8"
                ]
              ],
              "status": 404,
              "status_text": ""
            },
            "http://localhost:8080/data/d-561-seq-7.wav": {
              "data": "CjwhRE9DVFlQRSBodG1sPgo8aHRtbCBsYW5nPWVuPgogIDxtZXRhIGNoYXJzZXQ9dXRmLTg+CiAgPG1ldGEgbmFtZT12aWV3cG9ydCBjb250ZW50PSJpbml0aWFsLXNjYWxlPTEsIG1pbmltdW0tc2NhbGU9MSwgd2lkdGg9ZGV2aWNlLXdpZHRoIj4KICA8dGl0bGU+RXJyb3IgNDA0IChOb3QgRm91bmQpISExPC90aXRsZT4KICA8c3R5bGU+CiAgICAqe21hcmdpbjowO3BhZGRpbmc6MH1odG1sLGNvZGV7Zm9udDoxNXB4LzIycHggYXJpYWwsc2Fucy1zZXJpZn1odG1se2JhY2tncm91bmQ6I2ZmZjtjb2xvcjojMjIyO3BhZGRpbmc6MTVweH1ib2R5e21hcmdpbjo3JSBhdXRvIDA7bWF4LXdpZHRoOjM5MHB4O21pbi1oZWlnaHQ6MTgwcHg7cGFkZGluZzozMHB4IDAgMTVweH0qID4gYm9keXtiYWNrZ3JvdW5kOnVybCgvL3d3dy5nb29nbGUuY29tL2ltYWdlcy9lcnJvcnMvcm9ib3QucG5nKSAxMDAlIDVweCBuby1yZXBlYXQ7cGFkZGluZy1yaWdodDoyMDVweH1we21hcmdpbjoxMXB4IDAgMjJweDtvdmVyZmxvdzpoaWRkZW59aW5ze2NvbG9yOiM3Nzc7dGV4dC1kZWNvcmF0aW9uOm5vbmV9YSBpbWd7Ym9yZGVyOjB9QG1lZGlhIHNjcmVlbiBhbmQgKG1heC13aWR0aDo3NzJweCl7Ym9keXtiYWNrZ3JvdW5kOm5vbmU7bWFyZ2luLXRvcDowO21heC13aWR0aDpub25lO3BhZGRpbmctcmlnaHQ6MH19I2xvZ297YmFja2dyb3VuZDp1cmwoLy93d3cuZ29vZ2xlLmNvbS9pbWFnZXMvbG9nb3MvZXJyb3JwYWdlL2Vycm9yX2xvZ28tMTUweDU0LnBuZykgbm8tcmVwZWF0O21hcmdpbi1sZWZ0Oi01cHh9QG1lZGlhIG9ubHkgc2NyZWVuIGFuZCAobWluLXJlc29sdXRpb246MTkyZHBpKXsjbG9nb3tiYWNrZ3JvdW5kOnVybCgvL3d3dy5nb29nbGUuY29tL2ltYWdlcy9sb2dvcy9lcnJvcnBhZ2UvZXJyb3JfbG9nby0xNTB4NTQtMngucG5nKSBuby1yZXBlYXQgMCUgMCUvMTAwJSAxMDAlOy1tb3otYm9yZGVyLWltYWdlOnVybCgvL3d3dy5nb29nbGUuY29tL2ltYWdlcy9sb2dvcy9lcnJvcnBhZ2UvZXJyb3JfbG9nby0xNTB4NTQtMngucG5nKSAwfX1AbWVkaWEgb25seSBzY3JlZW4gYW5kICgtd2Via2l0LW1pbi1kZXZpY2UtcGl4ZWwtcmF0aW86Mil7I2xvZ297YmFja2dyb3VuZDp1cmwoLy93d3cuZ29vZ2xlLmNvbS9pbWFnZXMvbG9nb3MvZXJyb3JwYWdlL2Vycm9yX2xvZ28tMTUweDU0LTJ4LnBuZykgbm8tcmVwZWF0Oy13ZWJraXQtYmFja2dyb3VuZC1zaXplOjEwMCUgMTAwJX19I2xvZ297ZGlzcGxheTppbmxpbmUtYmxvY2s7aGVpZ2h0OjU0cHg7d2lkdGg6MTUwcHh9CiAgPC9zdHlsZT4KICA8YSBocmVmPS8vd3d3Lmdvb2dsZS5jb20vPjxzcGFuIGlkPWxvZ28gYXJpYS1sYWJlbD1Hb29nbGU+PC9zcGFuPjwvYT4KICA8cD48Yj40MDQuPC9iPiA8aW5zPlRoYXTigJlzIGFuIGVycm9yLjwvaW5zPgogIDxwPiAgPGlucz5UaGF04oCZcyBhbGwgd2Uga25vdy48L2lucz4K",
              "ok": false,
              "headers": [
                [
                  "content-length",
                  "1449"
                ],
                [
                  "content-type",
                  "text/html; charset=utf-8"
                ]
              ],
              "status": 404,
              "status_text": ""
            },
            "http://localhost:8080/data/d-736-seq-8.wav": {
              "data": "CjwhRE9DVFlQRSBodG1sPgo8aHRtbCBsYW5nPWVuPgogIDxtZXRhIGNoYXJzZXQ9dXRmLTg+CiAgPG1ldGEgbmFtZT12aWV3cG9ydCBjb250ZW50PSJpbml0aWFsLXNjYWxlPTEsIG1pbmltdW0tc2NhbGU9MSwgd2lkdGg9ZGV2aWNlLXdpZHRoIj4KICA8dGl0bGU+RXJyb3IgNDA0IChOb3QgRm91bmQpISExPC90aXRsZT4KICA8c3R5bGU+CiAgICAqe21hcmdpbjowO3BhZGRpbmc6MH1odG1sLGNvZGV7Zm9udDoxNXB4LzIycHggYXJpYWwsc2Fucy1zZXJpZn1odG1se2JhY2tncm91bmQ6I2ZmZjtjb2xvcjojMjIyO3BhZGRpbmc6MTVweH1ib2R5e21hcmdpbjo3JSBhdXRvIDA7bWF4LXdpZHRoOjM5MHB4O21pbi1oZWlnaHQ6MTgwcHg7cGFkZGluZzozMHB4IDAgMTVweH0qID4gYm9keXtiYWNrZ3JvdW5kOnVybCgvL3d3dy5nb29nbGUuY29tL2ltYWdlcy9lcnJvcnMvcm9ib3QucG5nKSAxMDAlIDVweCBuby1yZXBlYXQ7cGFkZGluZy1yaWdodDoyMDVweH1we21hcmdpbjoxMXB4IDAgMjJweDtvdmVyZmxvdzpoaWRkZW59aW5ze2NvbG9yOiM3Nzc7dGV4dC1kZWNvcmF0aW9uOm5vbmV9YSBpbWd7Ym9yZGVyOjB9QG1lZGlhIHNjcmVlbiBhbmQgKG1heC13aWR0aDo3NzJweCl7Ym9keXtiYWNrZ3JvdW5kOm5vbmU7bWFyZ2luLXRvcDowO21heC13aWR0aDpub25lO3BhZGRpbmctcmlnaHQ6MH19I2xvZ297YmFja2dyb3VuZDp1cmwoLy93d3cuZ29vZ2xlLmNvbS9pbWFnZXMvbG9nb3MvZXJyb3JwYWdlL2Vycm9yX2xvZ28tMTUweDU0LnBuZykgbm8tcmVwZWF0O21hcmdpbi1sZWZ0Oi01cHh9QG1lZGlhIG9ubHkgc2NyZWVuIGFuZCAobWluLXJlc29sdXRpb246MTkyZHBpKXsjbG9nb3tiYWNrZ3JvdW5kOnVybCgvL3d3dy5nb29nbGUuY29tL2ltYWdlcy9sb2dvcy9lcnJvcnBhZ2UvZXJyb3JfbG9nby0xNTB4NTQtMngucG5nKSBuby1yZXBlYXQgMCUgMCUvMTAwJSAxMDAlOy1tb3otYm9yZGVyLWltYWdlOnVybCgvL3d3dy5nb29nbGUuY29tL2ltYWdlcy9sb2dvcy9lcnJvcnBhZ2UvZXJyb3JfbG9nby0xNTB4NTQtMngucG5nKSAwfX1AbWVkaWEgb25seSBzY3JlZW4gYW5kICgtd2Via2l0LW1pbi1kZXZpY2UtcGl4ZWwtcmF0aW86Mil7I2xvZ297YmFja2dyb3VuZDp1cmwoLy93d3cuZ29vZ2xlLmNvbS9pbWFnZXMvbG9nb3MvZXJyb3JwYWdlL2Vycm9yX2xvZ28tMTUweDU0LTJ4LnBuZykgbm8tcmVwZWF0Oy13ZWJraXQtYmFja2dyb3VuZC1zaXplOjEwMCUgMTAwJX19I2xvZ297ZGlzcGxheTppbmxpbmUtYmxvY2s7aGVpZ2h0OjU0cHg7d2lkdGg6MTUwcHh9CiAgPC9zdHlsZT4KICA8YSBocmVmPS8vd3d3Lmdvb2dsZS5jb20vPjxzcGFuIGlkPWxvZ28gYXJpYS1sYWJlbD1Hb29nbGU+PC9zcGFuPjwvYT4KICA8cD48Yj40MDQuPC9iPiA8aW5zPlRoYXTigJlzIGFuIGVycm9yLjwvaW5zPgogIDxwPiAgPGlucz5UaGF04oCZcyBhbGwgd2Uga25vdy48L2lucz4K",
              "ok": false,
              "headers": [
                [
                  "content-length",
                  "1449"
                ],
                [
                  "content-type",
                  "text/html; charset=utf-8"
                ]
              ],
              "status": 404,
              "status_text": ""
            },
            "http://localhost:8080/data/d-964-seq-2.wav": {
              "data": "CjwhRE9DVFlQRSBodG1sPgo8aHRtbCBsYW5nPWVuPgogIDxtZXRhIGNoYXJzZXQ9dXRmLTg+CiAgPG1ldGEgbmFtZT12aWV3cG9ydCBjb250ZW50PSJpbml0aWFsLXNjYWxlPTEsIG1pbmltdW0tc2NhbGU9MSwgd2lkdGg9ZGV2aWNlLXdpZHRoIj4KICA8dGl0bGU+RXJyb3IgNDA0IChOb3QgRm91bmQpISExPC90aXRsZT4KICA8c3R5bGU+CiAgICAqe21hcmdpbjowO3BhZGRpbmc6MH1odG1sLGNvZGV7Zm9udDoxNXB4LzIycHggYXJpYWwsc2Fucy1zZXJpZn1odG1se2JhY2tncm91bmQ6I2ZmZjtjb2xvcjojMjIyO3BhZGRpbmc6MTVweH1ib2R5e21hcmdpbjo3JSBhdXRvIDA7bWF4LXdpZHRoOjM5MHB4O21pbi1oZWlnaHQ6MTgwcHg7cGFkZGluZzozMHB4IDAgMTVweH0qID4gYm9keXtiYWNrZ3JvdW5kOnVybCgvL3d3dy5nb29nbGUuY29tL2ltYWdlcy9lcnJvcnMvcm9ib3QucG5nKSAxMDAlIDVweCBuby1yZXBlYXQ7cGFkZGluZy1yaWdodDoyMDVweH1we21hcmdpbjoxMXB4IDAgMjJweDtvdmVyZmxvdzpoaWRkZW59aW5ze2NvbG9yOiM3Nzc7dGV4dC1kZWNvcmF0aW9uOm5vbmV9YSBpbWd7Ym9yZGVyOjB9QG1lZGlhIHNjcmVlbiBhbmQgKG1heC13aWR0aDo3NzJweCl7Ym9keXtiYWNrZ3JvdW5kOm5vbmU7bWFyZ2luLXRvcDowO21heC13aWR0aDpub25lO3BhZGRpbmctcmlnaHQ6MH19I2xvZ297YmFja2dyb3VuZDp1cmwoLy93d3cuZ29vZ2xlLmNvbS9pbWFnZXMvbG9nb3MvZXJyb3JwYWdlL2Vycm9yX2xvZ28tMTUweDU0LnBuZykgbm8tcmVwZWF0O21hcmdpbi1sZWZ0Oi01cHh9QG1lZGlhIG9ubHkgc2NyZWVuIGFuZCAobWluLXJlc29sdXRpb246MTkyZHBpKXsjbG9nb3tiYWNrZ3JvdW5kOnVybCgvL3d3dy5nb29nbGUuY29tL2ltYWdlcy9sb2dvcy9lcnJvcnBhZ2UvZXJyb3JfbG9nby0xNTB4NTQtMngucG5nKSBuby1yZXBlYXQgMCUgMCUvMTAwJSAxMDAlOy1tb3otYm9yZGVyLWltYWdlOnVybCgvL3d3dy5nb29nbGUuY29tL2ltYWdlcy9sb2dvcy9lcnJvcnBhZ2UvZXJyb3JfbG9nby0xNTB4NTQtMngucG5nKSAwfX1AbWVkaWEgb25seSBzY3JlZW4gYW5kICgtd2Via2l0LW1pbi1kZXZpY2UtcGl4ZWwtcmF0aW86Mil7I2xvZ297YmFja2dyb3VuZDp1cmwoLy93d3cuZ29vZ2xlLmNvbS9pbWFnZXMvbG9nb3MvZXJyb3JwYWdlL2Vycm9yX2xvZ28tMTUweDU0LTJ4LnBuZykgbm8tcmVwZWF0Oy13ZWJraXQtYmFja2dyb3VuZC1zaXplOjEwMCUgMTAwJX19I2xvZ297ZGlzcGxheTppbmxpbmUtYmxvY2s7aGVpZ2h0OjU0cHg7d2lkdGg6MTUwcHh9CiAgPC9zdHlsZT4KICA8YSBocmVmPS8vd3d3Lmdvb2dsZS5jb20vPjxzcGFuIGlkPWxvZ28gYXJpYS1sYWJlbD1Hb29nbGU+PC9zcGFuPjwvYT4KICA8cD48Yj40MDQuPC9iPiA8aW5zPlRoYXTigJlzIGFuIGVycm9yLjwvaW5zPgogIDxwPiAgPGlucz5UaGF04oCZcyBhbGwgd2Uga25vdy48L2lucz4K",
              "ok": false,
              "headers": [
                [
                  "content-length",
                  "1449"
                ],
                [
                  "content-type",
                  "text/html; charset=utf-8"
                ]
              ],
              "status": 404,
              "status_text": ""
            },
            "http://localhost:8080/data/d-110-seq-5.wav": {
              "data": "CjwhRE9DVFlQRSBodG1sPgo8aHRtbCBsYW5nPWVuPgogIDxtZXRhIGNoYXJzZXQ9dXRmLTg+CiAgPG1ldGEgbmFtZT12aWV3cG9ydCBjb250ZW50PSJpbml0aWFsLXNjYWxlPTEsIG1pbmltdW0tc2NhbGU9MSwgd2lkdGg9ZGV2aWNlLXdpZHRoIj4KICA8dGl0bGU+RXJyb3IgNDA0IChOb3QgRm91bmQpISExPC90aXRsZT4KICA8c3R5bGU+CiAgICAqe21hcmdpbjowO3BhZGRpbmc6MH1odG1sLGNvZGV7Zm9udDoxNXB4LzIycHggYXJpYWwsc2Fucy1zZXJpZn1odG1se2JhY2tncm91bmQ6I2ZmZjtjb2xvcjojMjIyO3BhZGRpbmc6MTVweH1ib2R5e21hcmdpbjo3JSBhdXRvIDA7bWF4LXdpZHRoOjM5MHB4O21pbi1oZWlnaHQ6MTgwcHg7cGFkZGluZzozMHB4IDAgMTVweH0qID4gYm9keXtiYWNrZ3JvdW5kOnVybCgvL3d3dy5nb29nbGUuY29tL2ltYWdlcy9lcnJvcnMvcm9ib3QucG5nKSAxMDAlIDVweCBuby1yZXBlYXQ7cGFkZGluZy1yaWdodDoyMDVweH1we21hcmdpbjoxMXB4IDAgMjJweDtvdmVyZmxvdzpoaWRkZW59aW5ze2NvbG9yOiM3Nzc7dGV4dC1kZWNvcmF0aW9uOm5vbmV9YSBpbWd7Ym9yZGVyOjB9QG1lZGlhIHNjcmVlbiBhbmQgKG1heC13aWR0aDo3NzJweCl7Ym9keXtiYWNrZ3JvdW5kOm5vbmU7bWFyZ2luLXRvcDowO21heC13aWR0aDpub25lO3BhZGRpbmctcmlnaHQ6MH19I2xvZ297YmFja2dyb3VuZDp1cmwoLy93d3cuZ29vZ2xlLmNvbS9pbWFnZXMvbG9nb3MvZXJyb3JwYWdlL2Vycm9yX2xvZ28tMTUweDU0LnBuZykgbm8tcmVwZWF0O21hcmdpbi1sZWZ0Oi01cHh9QG1lZGlhIG9ubHkgc2NyZWVuIGFuZCAobWluLXJlc29sdXRpb246MTkyZHBpKXsjbG9nb3tiYWNrZ3JvdW5kOnVybCgvL3d3dy5nb29nbGUuY29tL2ltYWdlcy9sb2dvcy9lcnJvcnBhZ2UvZXJyb3JfbG9nby0xNTB4NTQtMngucG5nKSBuby1yZXBlYXQgMCUgMCUvMTAwJSAxMDAlOy1tb3otYm9yZGVyLWltYWdlOnVybCgvL3d3dy5nb29nbGUuY29tL2ltYWdlcy9sb2dvcy9lcnJvcnBhZ2UvZXJyb3JfbG9nby0xNTB4NTQtMngucG5nKSAwfX1AbWVkaWEgb25seSBzY3JlZW4gYW5kICgtd2Via2l0LW1pbi1kZXZpY2UtcGl4ZWwtcmF0aW86Mil7I2xvZ297YmFja2dyb3VuZDp1cmwoLy93d3cuZ29vZ2xlLmNvbS9pbWFnZXMvbG9nb3MvZXJyb3JwYWdlL2Vycm9yX2xvZ28tMTUweDU0LTJ4LnBuZykgbm8tcmVwZWF0Oy13ZWJraXQtYmFja2dyb3VuZC1zaXplOjEwMCUgMTAwJX19I2xvZ297ZGlzcGxheTppbmxpbmUtYmxvY2s7aGVpZ2h0OjU0cHg7d2lkdGg6MTUwcHh9CiAgPC9zdHlsZT4KICA8YSBocmVmPS8vd3d3Lmdvb2dsZS5jb20vPjxzcGFuIGlkPWxvZ28gYXJpYS1sYWJlbD1Hb29nbGU+PC9zcGFuPjwvYT4KICA8cD48Yj40MDQuPC9iPiA8aW5zPlRoYXTigJlzIGFuIGVycm9yLjwvaW5zPgogIDxwPiAgPGlucz5UaGF04oCZcyBhbGwgd2Uga25vdy48L2lucz4K",
              "ok": false,
              "headers": [
                [
                  "content-length",
                  "1449"
                ],
                [
                  "content-type",
                  "text/html; charset=utf-8"
                ]
              ],
              "status": 404,
              "status_text": ""
            },
            "http://localhost:8080/data/d-860-seq-2.wav": {
              "data": "CjwhRE9DVFlQRSBodG1sPgo8aHRtbCBsYW5nPWVuPgogIDxtZXRhIGNoYXJzZXQ9dXRmLTg+CiAgPG1ldGEgbmFtZT12aWV3cG9ydCBjb250ZW50PSJpbml0aWFsLXNjYWxlPTEsIG1pbmltdW0tc2NhbGU9MSwgd2lkdGg9ZGV2aWNlLXdpZHRoIj4KICA8dGl0bGU+RXJyb3IgNDA0IChOb3QgRm91bmQpISExPC90aXRsZT4KICA8c3R5bGU+CiAgICAqe21hcmdpbjowO3BhZGRpbmc6MH1odG1sLGNvZGV7Zm9udDoxNXB4LzIycHggYXJpYWwsc2Fucy1zZXJpZn1odG1se2JhY2tncm91bmQ6I2ZmZjtjb2xvcjojMjIyO3BhZGRpbmc6MTVweH1ib2R5e21hcmdpbjo3JSBhdXRvIDA7bWF4LXdpZHRoOjM5MHB4O21pbi1oZWlnaHQ6MTgwcHg7cGFkZGluZzozMHB4IDAgMTVweH0qID4gYm9keXtiYWNrZ3JvdW5kOnVybCgvL3d3dy5nb29nbGUuY29tL2ltYWdlcy9lcnJvcnMvcm9ib3QucG5nKSAxMDAlIDVweCBuby1yZXBlYXQ7cGFkZGluZy1yaWdodDoyMDVweH1we21hcmdpbjoxMXB4IDAgMjJweDtvdmVyZmxvdzpoaWRkZW59aW5ze2NvbG9yOiM3Nzc7dGV4dC1kZWNvcmF0aW9uOm5vbmV9YSBpbWd7Ym9yZGVyOjB9QG1lZGlhIHNjcmVlbiBhbmQgKG1heC13aWR0aDo3NzJweCl7Ym9keXtiYWNrZ3JvdW5kOm5vbmU7bWFyZ2luLXRvcDowO21heC13aWR0aDpub25lO3BhZGRpbmctcmlnaHQ6MH19I2xvZ297YmFja2dyb3VuZDp1cmwoLy93d3cuZ29vZ2xlLmNvbS9pbWFnZXMvbG9nb3MvZXJyb3JwYWdlL2Vycm9yX2xvZ28tMTUweDU0LnBuZykgbm8tcmVwZWF0O21hcmdpbi1sZWZ0Oi01cHh9QG1lZGlhIG9ubHkgc2NyZWVuIGFuZCAobWluLXJlc29sdXRpb246MTkyZHBpKXsjbG9nb3tiYWNrZ3JvdW5kOnVybCgvL3d3dy5nb29nbGUuY29tL2ltYWdlcy9sb2dvcy9lcnJvcnBhZ2UvZXJyb3JfbG9nby0xNTB4NTQtMngucG5nKSBuby1yZXBlYXQgMCUgMCUvMTAwJSAxMDAlOy1tb3otYm9yZGVyLWltYWdlOnVybCgvL3d3dy5nb29nbGUuY29tL2ltYWdlcy9sb2dvcy9lcnJvcnBhZ2UvZXJyb3JfbG9nby0xNTB4NTQtMngucG5nKSAwfX1AbWVkaWEgb25seSBzY3JlZW4gYW5kICgtd2Via2l0LW1pbi1kZXZpY2UtcGl4ZWwtcmF0aW86Mil7I2xvZ297YmFja2dyb3VuZDp1cmwoLy93d3cuZ29vZ2xlLmNvbS9pbWFnZXMvbG9nb3MvZXJyb3JwYWdlL2Vycm9yX2xvZ28tMTUweDU0LTJ4LnBuZykgbm8tcmVwZWF0Oy13ZWJraXQtYmFja2dyb3VuZC1zaXplOjEwMCUgMTAwJX19I2xvZ297ZGlzcGxheTppbmxpbmUtYmxvY2s7aGVpZ2h0OjU0cHg7d2lkdGg6MTUwcHh9CiAgPC9zdHlsZT4KICA8YSBocmVmPS8vd3d3Lmdvb2dsZS5jb20vPjxzcGFuIGlkPWxvZ28gYXJpYS1sYWJlbD1Hb29nbGU+PC9zcGFuPjwvYT4KICA8cD48Yj40MDQuPC9iPiA8aW5zPlRoYXTigJlzIGFuIGVycm9yLjwvaW5zPgogIDxwPiAgPGlucz5UaGF04oCZcyBhbGwgd2Uga25vdy48L2lucz4K",
              "ok": false,
              "headers": [
                [
                  "content-length",
                  "1449"
                ],
                [
                  "content-type",
                  "text/html; charset=utf-8"
                ]
              ],
              "status": 404,
              "status_text": ""
            },
            "http://localhost:8080/data/d-660-seq-10.wav": {
              "data": "CjwhRE9DVFlQRSBodG1sPgo8aHRtbCBsYW5nPWVuPgogIDxtZXRhIGNoYXJzZXQ9dXRmLTg+CiAgPG1ldGEgbmFtZT12aWV3cG9ydCBjb250ZW50PSJpbml0aWFsLXNjYWxlPTEsIG1pbmltdW0tc2NhbGU9MSwgd2lkdGg9ZGV2aWNlLXdpZHRoIj4KICA8dGl0bGU+RXJyb3IgNDA0IChOb3QgRm91bmQpISExPC90aXRsZT4KICA8c3R5bGU+CiAgICAqe21hcmdpbjowO3BhZGRpbmc6MH1odG1sLGNvZGV7Zm9udDoxNXB4LzIycHggYXJpYWwsc2Fucy1zZXJpZn1odG1se2JhY2tncm91bmQ6I2ZmZjtjb2xvcjojMjIyO3BhZGRpbmc6MTVweH1ib2R5e21hcmdpbjo3JSBhdXRvIDA7bWF4LXdpZHRoOjM5MHB4O21pbi1oZWlnaHQ6MTgwcHg7cGFkZGluZzozMHB4IDAgMTVweH0qID4gYm9keXtiYWNrZ3JvdW5kOnVybCgvL3d3dy5nb29nbGUuY29tL2ltYWdlcy9lcnJvcnMvcm9ib3QucG5nKSAxMDAlIDVweCBuby1yZXBlYXQ7cGFkZGluZy1yaWdodDoyMDVweH1we21hcmdpbjoxMXB4IDAgMjJweDtvdmVyZmxvdzpoaWRkZW59aW5ze2NvbG9yOiM3Nzc7dGV4dC1kZWNvcmF0aW9uOm5vbmV9YSBpbWd7Ym9yZGVyOjB9QG1lZGlhIHNjcmVlbiBhbmQgKG1heC13aWR0aDo3NzJweCl7Ym9keXtiYWNrZ3JvdW5kOm5vbmU7bWFyZ2luLXRvcDowO21heC13aWR0aDpub25lO3BhZGRpbmctcmlnaHQ6MH19I2xvZ297YmFja2dyb3VuZDp1cmwoLy93d3cuZ29vZ2xlLmNvbS9pbWFnZXMvbG9nb3MvZXJyb3JwYWdlL2Vycm9yX2xvZ28tMTUweDU0LnBuZykgbm8tcmVwZWF0O21hcmdpbi1sZWZ0Oi01cHh9QG1lZGlhIG9ubHkgc2NyZWVuIGFuZCAobWluLXJlc29sdXRpb246MTkyZHBpKXsjbG9nb3tiYWNrZ3JvdW5kOnVybCgvL3d3dy5nb29nbGUuY29tL2ltYWdlcy9sb2dvcy9lcnJvcnBhZ2UvZXJyb3JfbG9nby0xNTB4NTQtMngucG5nKSBuby1yZXBlYXQgMCUgMCUvMTAwJSAxMDAlOy1tb3otYm9yZGVyLWltYWdlOnVybCgvL3d3dy5nb29nbGUuY29tL2ltYWdlcy9sb2dvcy9lcnJvcnBhZ2UvZXJyb3JfbG9nby0xNTB4NTQtMngucG5nKSAwfX1AbWVkaWEgb25seSBzY3JlZW4gYW5kICgtd2Via2l0LW1pbi1kZXZpY2UtcGl4ZWwtcmF0aW86Mil7I2xvZ297YmFja2dyb3VuZDp1cmwoLy93d3cuZ29vZ2xlLmNvbS9pbWFnZXMvbG9nb3MvZXJyb3JwYWdlL2Vycm9yX2xvZ28tMTUweDU0LTJ4LnBuZykgbm8tcmVwZWF0Oy13ZWJraXQtYmFja2dyb3VuZC1zaXplOjEwMCUgMTAwJX19I2xvZ297ZGlzcGxheTppbmxpbmUtYmxvY2s7aGVpZ2h0OjU0cHg7d2lkdGg6MTUwcHh9CiAgPC9zdHlsZT4KICA8YSBocmVmPS8vd3d3Lmdvb2dsZS5jb20vPjxzcGFuIGlkPWxvZ28gYXJpYS1sYWJlbD1Hb29nbGU+PC9zcGFuPjwvYT4KICA8cD48Yj40MDQuPC9iPiA8aW5zPlRoYXTigJlzIGFuIGVycm9yLjwvaW5zPgogIDxwPiAgPGlucz5UaGF04oCZcyBhbGwgd2Uga25vdy48L2lucz4K",
              "ok": false,
              "headers": [
                [
                  "content-length",
                  "1449"
                ],
                [
                  "content-type",
                  "text/html; charset=utf-8"
                ]
              ],
              "status": 404,
              "status_text": ""
            },
            "http://localhost:8080/data/d-672-seq-0.wav": {
              "data": "CjwhRE9DVFlQRSBodG1sPgo8aHRtbCBsYW5nPWVuPgogIDxtZXRhIGNoYXJzZXQ9dXRmLTg+CiAgPG1ldGEgbmFtZT12aWV3cG9ydCBjb250ZW50PSJpbml0aWFsLXNjYWxlPTEsIG1pbmltdW0tc2NhbGU9MSwgd2lkdGg9ZGV2aWNlLXdpZHRoIj4KICA8dGl0bGU+RXJyb3IgNDA0IChOb3QgRm91bmQpISExPC90aXRsZT4KICA8c3R5bGU+CiAgICAqe21hcmdpbjowO3BhZGRpbmc6MH1odG1sLGNvZGV7Zm9udDoxNXB4LzIycHggYXJpYWwsc2Fucy1zZXJpZn1odG1se2JhY2tncm91bmQ6I2ZmZjtjb2xvcjojMjIyO3BhZGRpbmc6MTVweH1ib2R5e21hcmdpbjo3JSBhdXRvIDA7bWF4LXdpZHRoOjM5MHB4O21pbi1oZWlnaHQ6MTgwcHg7cGFkZGluZzozMHB4IDAgMTVweH0qID4gYm9keXtiYWNrZ3JvdW5kOnVybCgvL3d3dy5nb29nbGUuY29tL2ltYWdlcy9lcnJvcnMvcm9ib3QucG5nKSAxMDAlIDVweCBuby1yZXBlYXQ7cGFkZGluZy1yaWdodDoyMDVweH1we21hcmdpbjoxMXB4IDAgMjJweDtvdmVyZmxvdzpoaWRkZW59aW5ze2NvbG9yOiM3Nzc7dGV4dC1kZWNvcmF0aW9uOm5vbmV9YSBpbWd7Ym9yZGVyOjB9QG1lZGlhIHNjcmVlbiBhbmQgKG1heC13aWR0aDo3NzJweCl7Ym9keXtiYWNrZ3JvdW5kOm5vbmU7bWFyZ2luLXRvcDowO21heC13aWR0aDpub25lO3BhZGRpbmctcmlnaHQ6MH19I2xvZ297YmFja2dyb3VuZDp1cmwoLy93d3cuZ29vZ2xlLmNvbS9pbWFnZXMvbG9nb3MvZXJyb3JwYWdlL2Vycm9yX2xvZ28tMTUweDU0LnBuZykgbm8tcmVwZWF0O21hcmdpbi1sZWZ0Oi01cHh9QG1lZGlhIG9ubHkgc2NyZWVuIGFuZCAobWluLXJlc29sdXRpb246MTkyZHBpKXsjbG9nb3tiYWNrZ3JvdW5kOnVybCgvL3d3dy5nb29nbGUuY29tL2ltYWdlcy9sb2dvcy9lcnJvcnBhZ2UvZXJyb3JfbG9nby0xNTB4NTQtMngucG5nKSBuby1yZXBlYXQgMCUgMCUvMTAwJSAxMDAlOy1tb3otYm9yZGVyLWltYWdlOnVybCgvL3d3dy5nb29nbGUuY29tL2ltYWdlcy9sb2dvcy9lcnJvcnBhZ2UvZXJyb3JfbG9nby0xNTB4NTQtMngucG5nKSAwfX1AbWVkaWEgb25seSBzY3JlZW4gYW5kICgtd2Via2l0LW1pbi1kZXZpY2UtcGl4ZWwtcmF0aW86Mil7I2xvZ297YmFja2dyb3VuZDp1cmwoLy93d3cuZ29vZ2xlLmNvbS9pbWFnZXMvbG9nb3MvZXJyb3JwYWdlL2Vycm9yX2xvZ28tMTUweDU0LTJ4LnBuZykgbm8tcmVwZWF0Oy13ZWJraXQtYmFja2dyb3VuZC1zaXplOjEwMCUgMTAwJX19I2xvZ297ZGlzcGxheTppbmxpbmUtYmxvY2s7aGVpZ2h0OjU0cHg7d2lkdGg6MTUwcHh9CiAgPC9zdHlsZT4KICA8YSBocmVmPS8vd3d3Lmdvb2dsZS5jb20vPjxzcGFuIGlkPWxvZ28gYXJpYS1sYWJlbD1Hb29nbGU+PC9zcGFuPjwvYT4KICA8cD48Yj40MDQuPC9iPiA8aW5zPlRoYXTigJlzIGFuIGVycm9yLjwvaW5zPgogIDxwPiAgPGlucz5UaGF04oCZcyBhbGwgd2Uga25vdy48L2lucz4K",
              "ok": false,
              "headers": [
                [
                  "content-length",
                  "1449"
                ],
                [
                  "content-type",
                  "text/html; charset=utf-8"
                ]
              ],
              "status": 404,
              "status_text": ""
            },
            "http://localhost:8080/data/d-288-seq-4.wav": {
              "data": "CjwhRE9DVFlQRSBodG1sPgo8aHRtbCBsYW5nPWVuPgogIDxtZXRhIGNoYXJzZXQ9dXRmLTg+CiAgPG1ldGEgbmFtZT12aWV3cG9ydCBjb250ZW50PSJpbml0aWFsLXNjYWxlPTEsIG1pbmltdW0tc2NhbGU9MSwgd2lkdGg9ZGV2aWNlLXdpZHRoIj4KICA8dGl0bGU+RXJyb3IgNDA0IChOb3QgRm91bmQpISExPC90aXRsZT4KICA8c3R5bGU+CiAgICAqe21hcmdpbjowO3BhZGRpbmc6MH1odG1sLGNvZGV7Zm9udDoxNXB4LzIycHggYXJpYWwsc2Fucy1zZXJpZn1odG1se2JhY2tncm91bmQ6I2ZmZjtjb2xvcjojMjIyO3BhZGRpbmc6MTVweH1ib2R5e21hcmdpbjo3JSBhdXRvIDA7bWF4LXdpZHRoOjM5MHB4O21pbi1oZWlnaHQ6MTgwcHg7cGFkZGluZzozMHB4IDAgMTVweH0qID4gYm9keXtiYWNrZ3JvdW5kOnVybCgvL3d3dy5nb29nbGUuY29tL2ltYWdlcy9lcnJvcnMvcm9ib3QucG5nKSAxMDAlIDVweCBuby1yZXBlYXQ7cGFkZGluZy1yaWdodDoyMDVweH1we21hcmdpbjoxMXB4IDAgMjJweDtvdmVyZmxvdzpoaWRkZW59aW5ze2NvbG9yOiM3Nzc7dGV4dC1kZWNvcmF0aW9uOm5vbmV9YSBpbWd7Ym9yZGVyOjB9QG1lZGlhIHNjcmVlbiBhbmQgKG1heC13aWR0aDo3NzJweCl7Ym9keXtiYWNrZ3JvdW5kOm5vbmU7bWFyZ2luLXRvcDowO21heC13aWR0aDpub25lO3BhZGRpbmctcmlnaHQ6MH19I2xvZ297YmFja2dyb3VuZDp1cmwoLy93d3cuZ29vZ2xlLmNvbS9pbWFnZXMvbG9nb3MvZXJyb3JwYWdlL2Vycm9yX2xvZ28tMTUweDU0LnBuZykgbm8tcmVwZWF0O21hcmdpbi1sZWZ0Oi01cHh9QG1lZGlhIG9ubHkgc2NyZWVuIGFuZCAobWluLXJlc29sdXRpb246MTkyZHBpKXsjbG9nb3tiYWNrZ3JvdW5kOnVybCgvL3d3dy5nb29nbGUuY29tL2ltYWdlcy9sb2dvcy9lcnJvcnBhZ2UvZXJyb3JfbG9nby0xNTB4NTQtMngucG5nKSBuby1yZXBlYXQgMCUgMCUvMTAwJSAxMDAlOy1tb3otYm9yZGVyLWltYWdlOnVybCgvL3d3dy5nb29nbGUuY29tL2ltYWdlcy9sb2dvcy9lcnJvcnBhZ2UvZXJyb3JfbG9nby0xNTB4NTQtMngucG5nKSAwfX1AbWVkaWEgb25seSBzY3JlZW4gYW5kICgtd2Via2l0LW1pbi1kZXZpY2UtcGl4ZWwtcmF0aW86Mil7I2xvZ297YmFja2dyb3VuZDp1cmwoLy93d3cuZ29vZ2xlLmNvbS9pbWFnZXMvbG9nb3MvZXJyb3JwYWdlL2Vycm9yX2xvZ28tMTUweDU0LTJ4LnBuZykgbm8tcmVwZWF0Oy13ZWJraXQtYmFja2dyb3VuZC1zaXplOjEwMCUgMTAwJX19I2xvZ297ZGlzcGxheTppbmxpbmUtYmxvY2s7aGVpZ2h0OjU0cHg7d2lkdGg6MTUwcHh9CiAgPC9zdHlsZT4KICA8YSBocmVmPS8vd3d3Lmdvb2dsZS5jb20vPjxzcGFuIGlkPWxvZ28gYXJpYS1sYWJlbD1Hb29nbGU+PC9zcGFuPjwvYT4KICA8cD48Yj40MDQuPC9iPiA8aW5zPlRoYXTigJlzIGFuIGVycm9yLjwvaW5zPgogIDxwPiAgPGlucz5UaGF04oCZcyBhbGwgd2Uga25vdy48L2lucz4K",
              "ok": false,
              "headers": [
                [
                  "content-length",
                  "1449"
                ],
                [
                  "content-type",
                  "text/html; charset=utf-8"
                ]
              ],
              "status": 404,
              "status_text": ""
            },
            "http://localhost:8080/data/d-735-seq-4.wav": {
              "data": "CjwhRE9DVFlQRSBodG1sPgo8aHRtbCBsYW5nPWVuPgogIDxtZXRhIGNoYXJzZXQ9dXRmLTg+CiAgPG1ldGEgbmFtZT12aWV3cG9ydCBjb250ZW50PSJpbml0aWFsLXNjYWxlPTEsIG1pbmltdW0tc2NhbGU9MSwgd2lkdGg9ZGV2aWNlLXdpZHRoIj4KICA8dGl0bGU+RXJyb3IgNDA0IChOb3QgRm91bmQpISExPC90aXRsZT4KICA8c3R5bGU+CiAgICAqe21hcmdpbjowO3BhZGRpbmc6MH1odG1sLGNvZGV7Zm9udDoxNXB4LzIycHggYXJpYWwsc2Fucy1zZXJpZn1odG1se2JhY2tncm91bmQ6I2ZmZjtjb2xvcjojMjIyO3BhZGRpbmc6MTVweH1ib2R5e21hcmdpbjo3JSBhdXRvIDA7bWF4LXdpZHRoOjM5MHB4O21pbi1oZWlnaHQ6MTgwcHg7cGFkZGluZzozMHB4IDAgMTVweH0qID4gYm9keXtiYWNrZ3JvdW5kOnVybCgvL3d3dy5nb29nbGUuY29tL2ltYWdlcy9lcnJvcnMvcm9ib3QucG5nKSAxMDAlIDVweCBuby1yZXBlYXQ7cGFkZGluZy1yaWdodDoyMDVweH1we21hcmdpbjoxMXB4IDAgMjJweDtvdmVyZmxvdzpoaWRkZW59aW5ze2NvbG9yOiM3Nzc7dGV4dC1kZWNvcmF0aW9uOm5vbmV9YSBpbWd7Ym9yZGVyOjB9QG1lZGlhIHNjcmVlbiBhbmQgKG1heC13aWR0aDo3NzJweCl7Ym9keXtiYWNrZ3JvdW5kOm5vbmU7bWFyZ2luLXRvcDowO21heC13aWR0aDpub25lO3BhZGRpbmctcmlnaHQ6MH19I2xvZ297YmFja2dyb3VuZDp1cmwoLy93d3cuZ29vZ2xlLmNvbS9pbWFnZXMvbG9nb3MvZXJyb3JwYWdlL2Vycm9yX2xvZ28tMTUweDU0LnBuZykgbm8tcmVwZWF0O21hcmdpbi1sZWZ0Oi01cHh9QG1lZGlhIG9ubHkgc2NyZWVuIGFuZCAobWluLXJlc29sdXRpb246MTkyZHBpKXsjbG9nb3tiYWNrZ3JvdW5kOnVybCgvL3d3dy5nb29nbGUuY29tL2ltYWdlcy9sb2dvcy9lcnJvcnBhZ2UvZXJyb3JfbG9nby0xNTB4NTQtMngucG5nKSBuby1yZXBlYXQgMCUgMCUvMTAwJSAxMDAlOy1tb3otYm9yZGVyLWltYWdlOnVybCgvL3d3dy5nb29nbGUuY29tL2ltYWdlcy9sb2dvcy9lcnJvcnBhZ2UvZXJyb3JfbG9nby0xNTB4NTQtMngucG5nKSAwfX1AbWVkaWEgb25seSBzY3JlZW4gYW5kICgtd2Via2l0LW1pbi1kZXZpY2UtcGl4ZWwtcmF0aW86Mil7I2xvZ297YmFja2dyb3VuZDp1cmwoLy93d3cuZ29vZ2xlLmNvbS9pbWFnZXMvbG9nb3MvZXJyb3JwYWdlL2Vycm9yX2xvZ28tMTUweDU0LTJ4LnBuZykgbm8tcmVwZWF0Oy13ZWJraXQtYmFja2dyb3VuZC1zaXplOjEwMCUgMTAwJX19I2xvZ297ZGlzcGxheTppbmxpbmUtYmxvY2s7aGVpZ2h0OjU0cHg7d2lkdGg6MTUwcHh9CiAgPC9zdHlsZT4KICA8YSBocmVmPS8vd3d3Lmdvb2dsZS5jb20vPjxzcGFuIGlkPWxvZ28gYXJpYS1sYWJlbD1Hb29nbGU+PC9zcGFuPjwvYT4KICA8cD48Yj40MDQuPC9iPiA8aW5zPlRoYXTigJlzIGFuIGVycm9yLjwvaW5zPgogIDxwPiAgPGlucz5UaGF04oCZcyBhbGwgd2Uga25vdy48L2lucz4K",
              "ok": false,
              "headers": [
                [
                  "content-length",
                  "1449"
                ],
                [
                  "content-type",
                  "text/html; charset=utf-8"
                ]
              ],
              "status": 404,
              "status_text": ""
            },
            "http://localhost:8080/data/d-594-seq-6.wav": {
              "data": "CjwhRE9DVFlQRSBodG1sPgo8aHRtbCBsYW5nPWVuPgogIDxtZXRhIGNoYXJzZXQ9dXRmLTg+CiAgPG1ldGEgbmFtZT12aWV3cG9ydCBjb250ZW50PSJpbml0aWFsLXNjYWxlPTEsIG1pbmltdW0tc2NhbGU9MSwgd2lkdGg9ZGV2aWNlLXdpZHRoIj4KICA8dGl0bGU+RXJyb3IgNDA0IChOb3QgRm91bmQpISExPC90aXRsZT4KICA8c3R5bGU+CiAgICAqe21hcmdpbjowO3BhZGRpbmc6MH1odG1sLGNvZGV7Zm9udDoxNXB4LzIycHggYXJpYWwsc2Fucy1zZXJpZn1odG1se2JhY2tncm91bmQ6I2ZmZjtjb2xvcjojMjIyO3BhZGRpbmc6MTVweH1ib2R5e21hcmdpbjo3JSBhdXRvIDA7bWF4LXdpZHRoOjM5MHB4O21pbi1oZWlnaHQ6MTgwcHg7cGFkZGluZzozMHB4IDAgMTVweH0qID4gYm9keXtiYWNrZ3JvdW5kOnVybCgvL3d3dy5nb29nbGUuY29tL2ltYWdlcy9lcnJvcnMvcm9ib3QucG5nKSAxMDAlIDVweCBuby1yZXBlYXQ7cGFkZGluZy1yaWdodDoyMDVweH1we21hcmdpbjoxMXB4IDAgMjJweDtvdmVyZmxvdzpoaWRkZW59aW5ze2NvbG9yOiM3Nzc7dGV4dC1kZWNvcmF0aW9uOm5vbmV9YSBpbWd7Ym9yZGVyOjB9QG1lZGlhIHNjcmVlbiBhbmQgKG1heC13aWR0aDo3NzJweCl7Ym9keXtiYWNrZ3JvdW5kOm5vbmU7bWFyZ2luLXRvcDowO21heC13aWR0aDpub25lO3BhZGRpbmctcmlnaHQ6MH19I2xvZ297YmFja2dyb3VuZDp1cmwoLy93d3cuZ29vZ2xlLmNvbS9pbWFnZXMvbG9nb3MvZXJyb3JwYWdlL2Vycm9yX2xvZ28tMTUweDU0LnBuZykgbm8tcmVwZWF0O21hcmdpbi1sZWZ0Oi01cHh9QG1lZGlhIG9ubHkgc2NyZWVuIGFuZCAobWluLXJlc29sdXRpb246MTkyZHBpKXsjbG9nb3tiYWNrZ3JvdW5kOnVybCgvL3d3dy5nb29nbGUuY29tL2ltYWdlcy9sb2dvcy9lcnJvcnBhZ2UvZXJyb3JfbG9nby0xNTB4NTQtMngucG5nKSBuby1yZXBlYXQgMCUgMCUvMTAwJSAxMDAlOy1tb3otYm9yZGVyLWltYWdlOnVybCgvL3d3dy5nb29nbGUuY29tL2ltYWdlcy9sb2dvcy9lcnJvcnBhZ2UvZXJyb3JfbG9nby0xNTB4NTQtMngucG5nKSAwfX1AbWVkaWEgb25seSBzY3JlZW4gYW5kICgtd2Via2l0LW1pbi1kZXZpY2UtcGl4ZWwtcmF0aW86Mil7I2xvZ297YmFja2dyb3VuZDp1cmwoLy93d3cuZ29vZ2xlLmNvbS9pbWFnZXMvbG9nb3MvZXJyb3JwYWdlL2Vycm9yX2xvZ28tMTUweDU0LTJ4LnBuZykgbm8tcmVwZWF0Oy13ZWJraXQtYmFja2dyb3VuZC1zaXplOjEwMCUgMTAwJX19I2xvZ297ZGlzcGxheTppbmxpbmUtYmxvY2s7aGVpZ2h0OjU0cHg7d2lkdGg6MTUwcHh9CiAgPC9zdHlsZT4KICA8YSBocmVmPS8vd3d3Lmdvb2dsZS5jb20vPjxzcGFuIGlkPWxvZ28gYXJpYS1sYWJlbD1Hb29nbGU+PC9zcGFuPjwvYT4KICA8cD48Yj40MDQuPC9iPiA8aW5zPlRoYXTigJlzIGFuIGVycm9yLjwvaW5zPgogIDxwPiAgPGlucz5UaGF04oCZcyBhbGwgd2Uga25vdy48L2lucz4K",
              "ok": false,
              "headers": [
                [
                  "content-length",
                  "1449"
                ],
                [
                  "content-type",
                  "text/html; charset=utf-8"
                ]
              ],
              "status": 404,
              "status_text": ""
            },
            "http://localhost:8080/data/d-574-seq-4.wav": {
              "data": "CjwhRE9DVFlQRSBodG1sPgo8aHRtbCBsYW5nPWVuPgogIDxtZXRhIGNoYXJzZXQ9dXRmLTg+CiAgPG1ldGEgbmFtZT12aWV3cG9ydCBjb250ZW50PSJpbml0aWFsLXNjYWxlPTEsIG1pbmltdW0tc2NhbGU9MSwgd2lkdGg9ZGV2aWNlLXdpZHRoIj4KICA8dGl0bGU+RXJyb3IgNDA0IChOb3QgRm91bmQpISExPC90aXRsZT4KICA8c3R5bGU+CiAgICAqe21hcmdpbjowO3BhZGRpbmc6MH1odG1sLGNvZGV7Zm9udDoxNXB4LzIycHggYXJpYWwsc2Fucy1zZXJpZn1odG1se2JhY2tncm91bmQ6I2ZmZjtjb2xvcjojMjIyO3BhZGRpbmc6MTVweH1ib2R5e21hcmdpbjo3JSBhdXRvIDA7bWF4LXdpZHRoOjM5MHB4O21pbi1oZWlnaHQ6MTgwcHg7cGFkZGluZzozMHB4IDAgMTVweH0qID4gYm9keXtiYWNrZ3JvdW5kOnVybCgvL3d3dy5nb29nbGUuY29tL2ltYWdlcy9lcnJvcnMvcm9ib3QucG5nKSAxMDAlIDVweCBuby1yZXBlYXQ7cGFkZGluZy1yaWdodDoyMDVweH1we21hcmdpbjoxMXB4IDAgMjJweDtvdmVyZmxvdzpoaWRkZW59aW5ze2NvbG9yOiM3Nzc7dGV4dC1kZWNvcmF0aW9uOm5vbmV9YSBpbWd7Ym9yZGVyOjB9QG1lZGlhIHNjcmVlbiBhbmQgKG1heC13aWR0aDo3NzJweCl7Ym9keXtiYWNrZ3JvdW5kOm5vbmU7bWFyZ2luLXRvcDowO21heC13aWR0aDpub25lO3BhZGRpbmctcmlnaHQ6MH19I2xvZ297YmFja2dyb3VuZDp1cmwoLy93d3cuZ29vZ2xlLmNvbS9pbWFnZXMvbG9nb3MvZXJyb3JwYWdlL2Vycm9yX2xvZ28tMTUweDU0LnBuZykgbm8tcmVwZWF0O21hcmdpbi1sZWZ0Oi01cHh9QG1lZGlhIG9ubHkgc2NyZWVuIGFuZCAobWluLXJlc29sdXRpb246MTkyZHBpKXsjbG9nb3tiYWNrZ3JvdW5kOnVybCgvL3d3dy5nb29nbGUuY29tL2ltYWdlcy9sb2dvcy9lcnJvcnBhZ2UvZXJyb3JfbG9nby0xNTB4NTQtMngucG5nKSBuby1yZXBlYXQgMCUgMCUvMTAwJSAxMDAlOy1tb3otYm9yZGVyLWltYWdlOnVybCgvL3d3dy5nb29nbGUuY29tL2ltYWdlcy9sb2dvcy9lcnJvcnBhZ2UvZXJyb3JfbG9nby0xNTB4NTQtMngucG5nKSAwfX1AbWVkaWEgb25seSBzY3JlZW4gYW5kICgtd2Via2l0LW1pbi1kZXZpY2UtcGl4ZWwtcmF0aW86Mil7I2xvZ297YmFja2dyb3VuZDp1cmwoLy93d3cuZ29vZ2xlLmNvbS9pbWFnZXMvbG9nb3MvZXJyb3JwYWdlL2Vycm9yX2xvZ28tMTUweDU0LTJ4LnBuZykgbm8tcmVwZWF0Oy13ZWJraXQtYmFja2dyb3VuZC1zaXplOjEwMCUgMTAwJX19I2xvZ297ZGlzcGxheTppbmxpbmUtYmxvY2s7aGVpZ2h0OjU0cHg7d2lkdGg6MTUwcHh9CiAgPC9zdHlsZT4KICA8YSBocmVmPS8vd3d3Lmdvb2dsZS5jb20vPjxzcGFuIGlkPWxvZ28gYXJpYS1sYWJlbD1Hb29nbGU+PC9zcGFuPjwvYT4KICA8cD48Yj40MDQuPC9iPiA8aW5zPlRoYXTigJlzIGFuIGVycm9yLjwvaW5zPgogIDxwPiAgPGlucz5UaGF04oCZcyBhbGwgd2Uga25vdy48L2lucz4K",
              "ok": false,
              "headers": [
                [
                  "content-length",
                  "1449"
                ],
                [
                  "content-type",
                  "text/html; charset=utf-8"
                ]
              ],
              "status": 404,
              "status_text": ""
            },
            "http://localhost:8080/data/d-347-seq-2.wav": {
              "data": "CjwhRE9DVFlQRSBodG1sPgo8aHRtbCBsYW5nPWVuPgogIDxtZXRhIGNoYXJzZXQ9dXRmLTg+CiAgPG1ldGEgbmFtZT12aWV3cG9ydCBjb250ZW50PSJpbml0aWFsLXNjYWxlPTEsIG1pbmltdW0tc2NhbGU9MSwgd2lkdGg9ZGV2aWNlLXdpZHRoIj4KICA8dGl0bGU+RXJyb3IgNDA0IChOb3QgRm91bmQpISExPC90aXRsZT4KICA8c3R5bGU+CiAgICAqe21hcmdpbjowO3BhZGRpbmc6MH1odG1sLGNvZGV7Zm9udDoxNXB4LzIycHggYXJpYWwsc2Fucy1zZXJpZn1odG1se2JhY2tncm91bmQ6I2ZmZjtjb2xvcjojMjIyO3BhZGRpbmc6MTVweH1ib2R5e21hcmdpbjo3JSBhdXRvIDA7bWF4LXdpZHRoOjM5MHB4O21pbi1oZWlnaHQ6MTgwcHg7cGFkZGluZzozMHB4IDAgMTVweH0qID4gYm9keXtiYWNrZ3JvdW5kOnVybCgvL3d3dy5nb29nbGUuY29tL2ltYWdlcy9lcnJvcnMvcm9ib3QucG5nKSAxMDAlIDVweCBuby1yZXBlYXQ7cGFkZGluZy1yaWdodDoyMDVweH1we21hcmdpbjoxMXB4IDAgMjJweDtvdmVyZmxvdzpoaWRkZW59aW5ze2NvbG9yOiM3Nzc7dGV4dC1kZWNvcmF0aW9uOm5vbmV9YSBpbWd7Ym9yZGVyOjB9QG1lZGlhIHNjcmVlbiBhbmQgKG1heC13aWR0aDo3NzJweCl7Ym9keXtiYWNrZ3JvdW5kOm5vbmU7bWFyZ2luLXRvcDowO21heC13aWR0aDpub25lO3BhZGRpbmctcmlnaHQ6MH19I2xvZ297YmFja2dyb3VuZDp1cmwoLy93d3cuZ29vZ2xlLmNvbS9pbWFnZXMvbG9nb3MvZXJyb3JwYWdlL2Vycm9yX2xvZ28tMTUweDU0LnBuZykgbm8tcmVwZWF0O21hcmdpbi1sZWZ0Oi01cHh9QG1lZGlhIG9ubHkgc2NyZWVuIGFuZCAobWluLXJlc29sdXRpb246MTkyZHBpKXsjbG9nb3tiYWNrZ3JvdW5kOnVybCgvL3d3dy5nb29nbGUuY29tL2ltYWdlcy9sb2dvcy9lcnJvcnBhZ2UvZXJyb3JfbG9nby0xNTB4NTQtMngucG5nKSBuby1yZXBlYXQgMCUgMCUvMTAwJSAxMDAlOy1tb3otYm9yZGVyLWltYWdlOnVybCgvL3d3dy5nb29nbGUuY29tL2ltYWdlcy9sb2dvcy9lcnJvcnBhZ2UvZXJyb3JfbG9nby0xNTB4NTQtMngucG5nKSAwfX1AbWVkaWEgb25seSBzY3JlZW4gYW5kICgtd2Via2l0LW1pbi1kZXZpY2UtcGl4ZWwtcmF0aW86Mil7I2xvZ297YmFja2dyb3VuZDp1cmwoLy93d3cuZ29vZ2xlLmNvbS9pbWFnZXMvbG9nb3MvZXJyb3JwYWdlL2Vycm9yX2xvZ28tMTUweDU0LTJ4LnBuZykgbm8tcmVwZWF0Oy13ZWJraXQtYmFja2dyb3VuZC1zaXplOjEwMCUgMTAwJX19I2xvZ297ZGlzcGxheTppbmxpbmUtYmxvY2s7aGVpZ2h0OjU0cHg7d2lkdGg6MTUwcHh9CiAgPC9zdHlsZT4KICA8YSBocmVmPS8vd3d3Lmdvb2dsZS5jb20vPjxzcGFuIGlkPWxvZ28gYXJpYS1sYWJlbD1Hb29nbGU+PC9zcGFuPjwvYT4KICA8cD48Yj40MDQuPC9iPiA8aW5zPlRoYXTigJlzIGFuIGVycm9yLjwvaW5zPgogIDxwPiAgPGlucz5UaGF04oCZcyBhbGwgd2Uga25vdy48L2lucz4K",
              "ok": false,
              "headers": [
                [
                  "content-length",
                  "1449"
                ],
                [
                  "content-type",
                  "text/html; charset=utf-8"
                ]
              ],
              "status": 404,
              "status_text": ""
            },
            "http://localhost:8080/data/d-379-seq-4.wav": {
              "data": "CjwhRE9DVFlQRSBodG1sPgo8aHRtbCBsYW5nPWVuPgogIDxtZXRhIGNoYXJzZXQ9dXRmLTg+CiAgPG1ldGEgbmFtZT12aWV3cG9ydCBjb250ZW50PSJpbml0aWFsLXNjYWxlPTEsIG1pbmltdW0tc2NhbGU9MSwgd2lkdGg9ZGV2aWNlLXdpZHRoIj4KICA8dGl0bGU+RXJyb3IgNDA0IChOb3QgRm91bmQpISExPC90aXRsZT4KICA8c3R5bGU+CiAgICAqe21hcmdpbjowO3BhZGRpbmc6MH1odG1sLGNvZGV7Zm9udDoxNXB4LzIycHggYXJpYWwsc2Fucy1zZXJpZn1odG1se2JhY2tncm91bmQ6I2ZmZjtjb2xvcjojMjIyO3BhZGRpbmc6MTVweH1ib2R5e21hcmdpbjo3JSBhdXRvIDA7bWF4LXdpZHRoOjM5MHB4O21pbi1oZWlnaHQ6MTgwcHg7cGFkZGluZzozMHB4IDAgMTVweH0qID4gYm9keXtiYWNrZ3JvdW5kOnVybCgvL3d3dy5nb29nbGUuY29tL2ltYWdlcy9lcnJvcnMvcm9ib3QucG5nKSAxMDAlIDVweCBuby1yZXBlYXQ7cGFkZGluZy1yaWdodDoyMDVweH1we21hcmdpbjoxMXB4IDAgMjJweDtvdmVyZmxvdzpoaWRkZW59aW5ze2NvbG9yOiM3Nzc7dGV4dC1kZWNvcmF0aW9uOm5vbmV9YSBpbWd7Ym9yZGVyOjB9QG1lZGlhIHNjcmVlbiBhbmQgKG1heC13aWR0aDo3NzJweCl7Ym9keXtiYWNrZ3JvdW5kOm5vbmU7bWFyZ2luLXRvcDowO21heC13aWR0aDpub25lO3BhZGRpbmctcmlnaHQ6MH19I2xvZ297YmFja2dyb3VuZDp1cmwoLy93d3cuZ29vZ2xlLmNvbS9pbWFnZXMvbG9nb3MvZXJyb3JwYWdlL2Vycm9yX2xvZ28tMTUweDU0LnBuZykgbm8tcmVwZWF0O21hcmdpbi1sZWZ0Oi01cHh9QG1lZGlhIG9ubHkgc2NyZWVuIGFuZCAobWluLXJlc29sdXRpb246MTkyZHBpKXsjbG9nb3tiYWNrZ3JvdW5kOnVybCgvL3d3dy5nb29nbGUuY29tL2ltYWdlcy9sb2dvcy9lcnJvcnBhZ2UvZXJyb3JfbG9nby0xNTB4NTQtMngucG5nKSBuby1yZXBlYXQgMCUgMCUvMTAwJSAxMDAlOy1tb3otYm9yZGVyLWltYWdlOnVybCgvL3d3dy5nb29nbGUuY29tL2ltYWdlcy9sb2dvcy9lcnJvcnBhZ2UvZXJyb3JfbG9nby0xNTB4NTQtMngucG5nKSAwfX1AbWVkaWEgb25seSBzY3JlZW4gYW5kICgtd2Via2l0LW1pbi1kZXZpY2UtcGl4ZWwtcmF0aW86Mil7I2xvZ297YmFja2dyb3VuZDp1cmwoLy93d3cuZ29vZ2xlLmNvbS9pbWFnZXMvbG9nb3MvZXJyb3JwYWdlL2Vycm9yX2xvZ28tMTUweDU0LTJ4LnBuZykgbm8tcmVwZWF0Oy13ZWJraXQtYmFja2dyb3VuZC1zaXplOjEwMCUgMTAwJX19I2xvZ297ZGlzcGxheTppbmxpbmUtYmxvY2s7aGVpZ2h0OjU0cHg7d2lkdGg6MTUwcHh9CiAgPC9zdHlsZT4KICA8YSBocmVmPS8vd3d3Lmdvb2dsZS5jb20vPjxzcGFuIGlkPWxvZ28gYXJpYS1sYWJlbD1Hb29nbGU+PC9zcGFuPjwvYT4KICA8cD48Yj40MDQuPC9iPiA8aW5zPlRoYXTigJlzIGFuIGVycm9yLjwvaW5zPgogIDxwPiAgPGlucz5UaGF04oCZcyBhbGwgd2Uga25vdy48L2lucz4K",
              "ok": false,
              "headers": [
                [
                  "content-length",
                  "1449"
                ],
                [
                  "content-type",
                  "text/html; charset=utf-8"
                ]
              ],
              "status": 404,
              "status_text": ""
            },
            "http://localhost:8080/data/d-657-seq-11.wav": {
              "data": "CjwhRE9DVFlQRSBodG1sPgo8aHRtbCBsYW5nPWVuPgogIDxtZXRhIGNoYXJzZXQ9dXRmLTg+CiAgPG1ldGEgbmFtZT12aWV3cG9ydCBjb250ZW50PSJpbml0aWFsLXNjYWxlPTEsIG1pbmltdW0tc2NhbGU9MSwgd2lkdGg9ZGV2aWNlLXdpZHRoIj4KICA8dGl0bGU+RXJyb3IgNDA0IChOb3QgRm91bmQpISExPC90aXRsZT4KICA8c3R5bGU+CiAgICAqe21hcmdpbjowO3BhZGRpbmc6MH1odG1sLGNvZGV7Zm9udDoxNXB4LzIycHggYXJpYWwsc2Fucy1zZXJpZn1odG1se2JhY2tncm91bmQ6I2ZmZjtjb2xvcjojMjIyO3BhZGRpbmc6MTVweH1ib2R5e21hcmdpbjo3JSBhdXRvIDA7bWF4LXdpZHRoOjM5MHB4O21pbi1oZWlnaHQ6MTgwcHg7cGFkZGluZzozMHB4IDAgMTVweH0qID4gYm9keXtiYWNrZ3JvdW5kOnVybCgvL3d3dy5nb29nbGUuY29tL2ltYWdlcy9lcnJvcnMvcm9ib3QucG5nKSAxMDAlIDVweCBuby1yZXBlYXQ7cGFkZGluZy1yaWdodDoyMDVweH1we21hcmdpbjoxMXB4IDAgMjJweDtvdmVyZmxvdzpoaWRkZW59aW5ze2NvbG9yOiM3Nzc7dGV4dC1kZWNvcmF0aW9uOm5vbmV9YSBpbWd7Ym9yZGVyOjB9QG1lZGlhIHNjcmVlbiBhbmQgKG1heC13aWR0aDo3NzJweCl7Ym9keXtiYWNrZ3JvdW5kOm5vbmU7bWFyZ2luLXRvcDowO21heC13aWR0aDpub25lO3BhZGRpbmctcmlnaHQ6MH19I2xvZ297YmFja2dyb3VuZDp1cmwoLy93d3cuZ29vZ2xlLmNvbS9pbWFnZXMvbG9nb3MvZXJyb3JwYWdlL2Vycm9yX2xvZ28tMTUweDU0LnBuZykgbm8tcmVwZWF0O21hcmdpbi1sZWZ0Oi01cHh9QG1lZGlhIG9ubHkgc2NyZWVuIGFuZCAobWluLXJlc29sdXRpb246MTkyZHBpKXsjbG9nb3tiYWNrZ3JvdW5kOnVybCgvL3d3dy5nb29nbGUuY29tL2ltYWdlcy9sb2dvcy9lcnJvcnBhZ2UvZXJyb3JfbG9nby0xNTB4NTQtMngucG5nKSBuby1yZXBlYXQgMCUgMCUvMTAwJSAxMDAlOy1tb3otYm9yZGVyLWltYWdlOnVybCgvL3d3dy5nb29nbGUuY29tL2ltYWdlcy9sb2dvcy9lcnJvcnBhZ2UvZXJyb3JfbG9nby0xNTB4NTQtMngucG5nKSAwfX1AbWVkaWEgb25seSBzY3JlZW4gYW5kICgtd2Via2l0LW1pbi1kZXZpY2UtcGl4ZWwtcmF0aW86Mil7I2xvZ297YmFja2dyb3VuZDp1cmwoLy93d3cuZ29vZ2xlLmNvbS9pbWFnZXMvbG9nb3MvZXJyb3JwYWdlL2Vycm9yX2xvZ28tMTUweDU0LTJ4LnBuZykgbm8tcmVwZWF0Oy13ZWJraXQtYmFja2dyb3VuZC1zaXplOjEwMCUgMTAwJX19I2xvZ297ZGlzcGxheTppbmxpbmUtYmxvY2s7aGVpZ2h0OjU0cHg7d2lkdGg6MTUwcHh9CiAgPC9zdHlsZT4KICA8YSBocmVmPS8vd3d3Lmdvb2dsZS5jb20vPjxzcGFuIGlkPWxvZ28gYXJpYS1sYWJlbD1Hb29nbGU+PC9zcGFuPjwvYT4KICA8cD48Yj40MDQuPC9iPiA8aW5zPlRoYXTigJlzIGFuIGVycm9yLjwvaW5zPgogIDxwPiAgPGlucz5UaGF04oCZcyBhbGwgd2Uga25vdy48L2lucz4K",
              "ok": false,
              "headers": [
                [
                  "content-length",
                  "1449"
                ],
                [
                  "content-type",
                  "text/html; charset=utf-8"
                ]
              ],
              "status": 404,
              "status_text": ""
            },
            "http://localhost:8080/data/d-1-seq-1.wav": {
              "data": "CjwhRE9DVFlQRSBodG1sPgo8aHRtbCBsYW5nPWVuPgogIDxtZXRhIGNoYXJzZXQ9dXRmLTg+CiAgPG1ldGEgbmFtZT12aWV3cG9ydCBjb250ZW50PSJpbml0aWFsLXNjYWxlPTEsIG1pbmltdW0tc2NhbGU9MSwgd2lkdGg9ZGV2aWNlLXdpZHRoIj4KICA8dGl0bGU+RXJyb3IgNDA0IChOb3QgRm91bmQpISExPC90aXRsZT4KICA8c3R5bGU+CiAgICAqe21hcmdpbjowO3BhZGRpbmc6MH1odG1sLGNvZGV7Zm9udDoxNXB4LzIycHggYXJpYWwsc2Fucy1zZXJpZn1odG1se2JhY2tncm91bmQ6I2ZmZjtjb2xvcjojMjIyO3BhZGRpbmc6MTVweH1ib2R5e21hcmdpbjo3JSBhdXRvIDA7bWF4LXdpZHRoOjM5MHB4O21pbi1oZWlnaHQ6MTgwcHg7cGFkZGluZzozMHB4IDAgMTVweH0qID4gYm9keXtiYWNrZ3JvdW5kOnVybCgvL3d3dy5nb29nbGUuY29tL2ltYWdlcy9lcnJvcnMvcm9ib3QucG5nKSAxMDAlIDVweCBuby1yZXBlYXQ7cGFkZGluZy1yaWdodDoyMDVweH1we21hcmdpbjoxMXB4IDAgMjJweDtvdmVyZmxvdzpoaWRkZW59aW5ze2NvbG9yOiM3Nzc7dGV4dC1kZWNvcmF0aW9uOm5vbmV9YSBpbWd7Ym9yZGVyOjB9QG1lZGlhIHNjcmVlbiBhbmQgKG1heC13aWR0aDo3NzJweCl7Ym9keXtiYWNrZ3JvdW5kOm5vbmU7bWFyZ2luLXRvcDowO21heC13aWR0aDpub25lO3BhZGRpbmctcmlnaHQ6MH19I2xvZ297YmFja2dyb3VuZDp1cmwoLy93d3cuZ29vZ2xlLmNvbS9pbWFnZXMvbG9nb3MvZXJyb3JwYWdlL2Vycm9yX2xvZ28tMTUweDU0LnBuZykgbm8tcmVwZWF0O21hcmdpbi1sZWZ0Oi01cHh9QG1lZGlhIG9ubHkgc2NyZWVuIGFuZCAobWluLXJlc29sdXRpb246MTkyZHBpKXsjbG9nb3tiYWNrZ3JvdW5kOnVybCgvL3d3dy5nb29nbGUuY29tL2ltYWdlcy9sb2dvcy9lcnJvcnBhZ2UvZXJyb3JfbG9nby0xNTB4NTQtMngucG5nKSBuby1yZXBlYXQgMCUgMCUvMTAwJSAxMDAlOy1tb3otYm9yZGVyLWltYWdlOnVybCgvL3d3dy5nb29nbGUuY29tL2ltYWdlcy9sb2dvcy9lcnJvcnBhZ2UvZXJyb3JfbG9nby0xNTB4NTQtMngucG5nKSAwfX1AbWVkaWEgb25seSBzY3JlZW4gYW5kICgtd2Via2l0LW1pbi1kZXZpY2UtcGl4ZWwtcmF0aW86Mil7I2xvZ297YmFja2dyb3VuZDp1cmwoLy93d3cuZ29vZ2xlLmNvbS9pbWFnZXMvbG9nb3MvZXJyb3JwYWdlL2Vycm9yX2xvZ28tMTUweDU0LTJ4LnBuZykgbm8tcmVwZWF0Oy13ZWJraXQtYmFja2dyb3VuZC1zaXplOjEwMCUgMTAwJX19I2xvZ297ZGlzcGxheTppbmxpbmUtYmxvY2s7aGVpZ2h0OjU0cHg7d2lkdGg6MTUwcHh9CiAgPC9zdHlsZT4KICA8YSBocmVmPS8vd3d3Lmdvb2dsZS5jb20vPjxzcGFuIGlkPWxvZ28gYXJpYS1sYWJlbD1Hb29nbGU+PC9zcGFuPjwvYT4KICA8cD48Yj40MDQuPC9iPiA8aW5zPlRoYXTigJlzIGFuIGVycm9yLjwvaW5zPgogIDxwPiAgPGlucz5UaGF04oCZcyBhbGwgd2Uga25vdy48L2lucz4K",
              "ok": false,
              "headers": [
                [
                  "content-length",
                  "1449"
                ],
                [
                  "content-type",
                  "text/html; charset=utf-8"
                ]
              ],
              "status": 404,
              "status_text": ""
            }
          },
          "base_uri": "https://localhost:8080/",
          "height": 1000
        },
        "id": "fuHnmo2yilib",
        "outputId": "0d1bb9c9-c681-4c51-f81b-082a6e6055df"
      },
      "execution_count": null,
      "outputs": [
        {
          "output_type": "display_data",
          "data": {
            "text/plain": [
              "<IPython.core.display.HTML object>"
            ],
            "text/html": [
              "<table><tr><th>Speaker</th><th>Text</th><th>Image</th><th>Audio</th><th>Emotion</th></tr><tr><td>Rachel</td><td>And this is not the only hospital in this city and we have no problem toWhoa!</td><td><img src=\"data:image/jpeg;base64,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\" width=\"100\"></td><td><audio controls src=\"data/d-509-seq-11.wav\" /></td><td>anger</td></tr><tr><td>Joey</td><td>Oh-oh! So thats the way its gonna be huh? Yeah I can break the rules too yknow!</td><td><img src=\"data:image/jpeg;base64,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\" width=\"100\"></td><td><audio controls src=\"data/d-637-seq-2.wav\" /></td><td>anger</td></tr><tr><td>Monica</td><td>Well, this is my sickness!</td><td><img src=\"data:image/jpeg;base64,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\" width=\"100\"></td><td><audio controls src=\"data/d-451-seq-7.wav\" /></td><td>anger</td></tr><tr><td>Joey</td><td>Ew! What is that? Something exploded!</td><td><img src=\"data:image/jpeg;base64,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\" width=\"100\"></td><td><audio controls src=\"data/d-22-seq-0.wav\" /></td><td>disgust</td></tr><tr><td>Joey</td><td>Oh yeah. If you ah, move your hamper, you see what color the tile used to be.  Yeah.</td><td><img src=\"data:image/jpeg;base64,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\" width=\"100\"></td><td><audio controls src=\"data/d-388-seq-6.wav\" /></td><td>disgust</td></tr><tr><td>Monica</td><td>Close? She's got her tongue in his ear.</td><td><img src=\"data:image/jpeg;base64,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\" width=\"100\"></td><td><audio controls src=\"data/d-561-seq-7.wav\" /></td><td>disgust</td></tr><tr><td>Rachel</td><td>Oh no</td><td><img src=\"data:image/jpeg;base64,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\" width=\"100\"></td><td><audio controls src=\"data/d-1018-seq-1.wav\" /></td><td>fear</td></tr><tr><td>Ross</td><td>I-I, I have to tell you something.</td><td><img src=\"data:image/jpeg;base64,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\" width=\"100\"></td><td><audio controls src=\"data/d-736-seq-8.wav\" /></td><td>fear</td></tr><tr><td>Phoebe</td><td>Umm look, youre coming on a little strong.</td><td><img src=\"data:image/jpeg;base64,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\" width=\"100\"></td><td><audio controls src=\"data/d-860-seq-2.wav\" /></td><td>fear</td></tr><tr><td>Ross</td><td>Well, y'know how I'm trying to work things out with Emily.</td><td><img src=\"data:image/jpeg;base64,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\" width=\"100\"></td><td><audio controls src=\"data/d-964-seq-2.wav\" /></td><td>joy</td></tr><tr><td>Monica</td><td>Hey! How was sailing?</td><td><img src=\"data:image/jpeg;base64,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\" width=\"100\"></td><td><audio controls src=\"data/d-110-seq-5.wav\" /></td><td>joy</td></tr><tr><td>Rachel</td><td>Thank you.</td><td><img src=\"data:image/jpeg;base64,/9j/4AAQSkZJRgABAQAAAQABAAD/2wBDAAgGBgcGBQgHBwcJCQgKDBQNDAsLDBkSEw8UHRofHh0aHBwgJC4nICIsIxwcKDcpLDAxNDQ0Hyc5PTgyPC4zNDL/2wBDAQkJCQwLDBgNDRgyIRwhMjIyMjIyMjIyMjIyMjIyMjIyMjIyMjIyMjIyMjIyMjIyMjIyMjIyMjIyMjIyMjIyMjL/wAARCADwAaoDASIAAhEBAxEB/8QAHwAAAQUBAQEBAQEAAAAAAAAAAAECAwQFBgcICQoL/8QAtRAAAgEDAwIEAwUFBAQAAAF9AQIDAAQRBRIhMUEGE1FhByJxFDKBkaEII0KxwRVS0fAkM2JyggkKFhcYGRolJicoKSo0NTY3ODk6Q0RFRkdISUpTVFVWV1hZWmNkZWZnaGlqc3R1dnd4eXqDhIWGh4iJipKTlJWWl5iZmqKjpKWmp6ipqrKztLW2t7i5usLDxMXGx8jJytLT1NXW19jZ2uHi4+Tl5ufo6erx8vP09fb3+Pn6/8QAHwEAAwEBAQEBAQEBAQAAAAAAAAECAwQFBgcICQoL/8QAtREAAgECBAQDBAcFBAQAAQJ3AAECAxEEBSExBhJBUQdhcRMiMoEIFEKRobHBCSMzUvAVYnLRChYkNOEl8RcYGRomJygpKjU2Nzg5OkNERUZHSElKU1RVVldYWVpjZGVmZ2hpanN0dXZ3eHl6goOEhYaHiImKkpOUlZaXmJmaoqOkpaanqKmqsrO0tba3uLm6wsPExcbHyMnK0tPU1dbX2Nna4uPk5ebn6Onq8vP09fb3+Pn6/9oADAMBAAIRAxEAPwDyUTTf880/OlE1xnOyP6UoWngcVzmpG5nmBEjgL/dVangUqrD2puKmi+6/0oAZqX/HnH9agi+4Km1P/j1iHvUEfQUwe5KTxUe6lZuKoX0/lwEA8txVJE3HzapFE+0KXx1xTG1WMxsyA7h0BrFzmir5ELmOi0/XS0yQyRDDEAMp6V04I3r7155anF3Ef9oV6Gv3kNS0ka022EzAHBHUVkXxCbSQeWwK2J1yykdhWTqYyqYGcMDUM0Lt9NHDZIHOC2AK0o2DQoUIIIGCKx9ZiZ7KAqhO1wTj6VqWCYsYRjHyCmF9SaJIw5lfHHT2qJ5zcSlY/ujrUIEsztEvQOaLUJbXF4hPzb1x+VBVycqR1rJ1mYBIomHys2T+FaTljN/wD+tZOuR5ihPV9+MUMT2NOOCN9NUKwGCp6471JY6XFb/Mj5J77qpMpOkqCv8AElQ6Ysj/AHoTj602yEbjaXBKxZowWJyTmmPo1mR88P61kS6ZcGVmR3AJzjcaGsdQ2/JLIP8AgZp3YaF1tGsO0cmfYmoj4fic5jWRPctVMW+rxH5ZpP8AvujztajkBad9vcZBpXYWRfj8ORg5aZzjtVv+yYxnD4yMdKyhqGql8KzkepAq1FfairYkYEBf7o60XY1YntNLXTmkKyM4kx17VdjUDcQOpyaybPUru5dxcIAE6YXGeDWrG2SeKTeupUbW0Ob1+JRLKcfe5NZvh9ANSjx6EVf126S5abZnCEqc+oqhoDf8TKH6H+VSGlyTU7Vv7USJT8zSADPua1NJgK63Mc/dQ5HrzVPVZFGt27AggSrnB961LD5dcn90P86Y7alnWY9+nv2wQa5IIDIH9sV2OqY/s+XcwAx3rkEPzYoYNHWaQAdOiHbBFPgt0toVhjztUYGetM0fnTY/x/nVjIbBHQ0IditcKN27uRiq+0eZuxzjGaluJlNy0AzvVQx44wf/ANVRbv3gXHUZoYh7/dqC2Gbw/wC7ReTNCIAAD5kgQ57DBpbX/j9I/wBj+tITNxfuD6UYpyj5R9KXbTJImFVAOH+oq6wqqB8r/wC8KBE4HyilxTgOKMUgGYoxTsUlMBhFJinmkxSENwKTFPxmm4HrQI5EDilxQBS0EhU8X3W+lQ1LCOG+lMCPUx/oUR96qoflFXdV/wCQdF9RVFD8g+lCEwkfArH1CTdIq+gq5PeQgn5txHYVmTyebIXHQ1rBEMioooqhDoztkVvQg16LC26ONvUA15xXeaS2/S7Yk54xUy2Nab1NB+p+lZOoZwn+9WlIP9I/7Z/1rI1fIFtj/nqKzNjauATbID7VdHCj6VnX7FbSMqcfMK0BkopPpQNDPOSBTjG481XjieeZpGA56mq9rKZYfOnYKNxGfXBqWXUURfLBVBnuetIZZcBW464xWHq77Z7ZmzgE1pef5o3QkSDuVNUdQf7QsS7CNrZORQD2NHfFJpYDMVUleR9aks7uxKYjduOvy1DJEr6R8uMhl/nRp2lCGIbsj+tNkotjULDJH2pAR6gipBe2mOLmL/vqom0uBjnA/Ko30W3cYKKfwpDuyz9oST7k0WPZhUiRq3OVb6EGsxtAtOSEUfTNRjRArZiLD6MaLBc29g/uikManrGPyrHGjT5J8+UfR6mWxu4vuzykYxgtRZhcuSwqw+VQDz0+lOiXlvwqlZQ3Vuz/AGmdpAcbd3atCMZOB1NFylqcbqUbpJeKykAyuRkdRVXQAf7ThHpn+VdHrVsZ5SFYfNwDVaw0wWcm9x86jhgaBcupmTadc3V9IIwFCzs25jgY3VuwW0kWqi4LAptIOOvNTSrHnzQeR61AsyMwyTgen86Y1EfrzLNpMiJ8zhlIXvwRXORwyFmbY2PpXRPPDwqnJ9TTJY2miMYbaTyCO9G6Bx6lzRhjToz7n+dTwr+6X6Vi2d/JpYK3IPlnoAM49624Z4biISQurIehFJaAZkqN/bUxwdvkoM/iaeVPmqQP4TVqfl6ixihsVireQPMICuPkkDH6YNLa/wDH7/wE1LLJhcDFR6eC1xI57YWlfoJm8o+UfSlpw+6KKZJEw4qqB8jf71W36VUX7rf71DEWgOBRS4pcUgGYpMU/FJigBmKDTsUhFADaZtqSm7R/k0hHIYpaBRTICp7f+L6VBVi2H3/pQAzV/wDkHRfUVnoRsHPar+scadF+FZo+4v0pie5mXtv5cpdBweSKpnpW8wBUg1hygCRgOma1gyGMoooqhBXd6IQdKgHtXCV2nh6TdpiD0bFTLY0pbm1IAXz329aydRRWVAwzhgRWlI5EwXHBUms3UiQkZ9XArJnQatxCJbZFPAyDT7q6S0iGeXxwKrXd4LeOBSpO5sce1ZN3K91LnPJOSR0+lKT7DVgiulDnOcAkjb2qx/o1xGQMhjyXbk1SaDy4gP4mOKUgoVRaSkFh0lhL5O+CU8Hpnik+23Fr8t5EzDpmrUM0kK+YWA5/KklYSwsT8394mmmmJqxLFexyIDB5i+3UVdg1S5ztIjJ9xXOTwS2cyPEWCk9PSti1gW5KvBdJ5+M+W0gyfwpPQcdTSGqXg628LfiRQ2rygc2QP+69W7VjIu2VMSLwQRVgwL3jH5VSswaaMpdWXPz2Mw/3WBqZNXtAfmhuE+qZq4beI9Yh+VN+yQEf6uiwrshXV9O6GWRfrGalGoWL/dul6Z5BFH2GA9jUbabAe5o1AJZ4JgohnjkIPIU5xWQ09yk8+W+UjIUdR7VqxWMVsxZOd3Xis28dTMxzhl+UUMqIhuTgeZksQDmq73jOSm/Cnp7VVuJyoyG6dqzn1JQ5wmD6ihDk7G2rBVYucjtVSSXE5SEH0LDpWc18/HcNU7Tjy42XGc847UxcxbJSNk8omSVuoParkF0eU5Ei8kY6VkCURzMQM7QD9ak+0BQZByHYZH17UhpmxeKk8Q3AbsetZMEtzpVx5hT90ThgDwRVyVt5wpHAGR61Fe3A+ygBQ6/yo9Ql3RtGYTFXQ5RkDCql1I63VsgYhW3bh68VW0SVZI3jDZC9Aewq5cRB5o5N3KAjHrmkSRz4Cp7n+lT6av7tm9XNVrggKD6Vfsk2W6D2zSEzXUfIPpS0qj5aMcVRJG3Q1TA+Q/71XW6GqgHy/wDAqQFoCjFLRQFhKaRT6SgQzFIaeeKacUANxSYp1N4pCOPFLQBS4pogTFWLXo/+7UBHFWbTo/0pgQ6z/wAg2H8KzFOYx9K09Z/5BkX4Vlr/AKtRTE9wJ4rDm/1rfWts9KxZhiVh71pAhkdFFOVC5IHXGaoQ2uv8MENYkej1yFdR4WlHkyx55DA0pbF0/iOkdP34bsFxWZqwBVB6MDWmXBlKfxBcn6VlaqyoqZPLNgVizpHavcKqQxjG4Dd9KoWzEFcng1Xv7nzb1jngcU4S7ATnoOKhj6lqRy82R0UYFM3HIUdScA+3SmxyjA55xTwR5q+wzSGPkcORHj5Qc1JZgzXca/wb9xHsKgRh5lW9L43kddmB+NGw1qzbjhgktn8xQ8srFsn+EVzuq6aYwXTIYcqwrpIY8nCngfKPwqSeOJ4XWXG3HOe1Td7nUoK1jnNE1GW6RraeRhMnAbPNbYt9QC/JcyfnXJuyWuriaBgY920sO9da2uW1rEqzI+dudyjNaRepyzVkMH9rx/8ALfcP9oCmtqWpxdRG3/AKkTXtJl5eeVP+AGrUOqaQ5xHdrn3Bq9DMppq9/tObSMn1wRUiatOx/e2SgYzlTWkLqwb7t5Cfqwp4WCQfJLC30YUaD1MmLUxdzCMW8kRHJ3dDVa/iSVUkThn5NbE9uq7WAUc9qyJ32IikcheamWmxrRV3qcxqm+2fYDu96xzLnjHNaOrXGbtx1FZfLc8VcUYVX7w8SNirEFw2COuRVIFs8U+KTaSD909apozUi/FMzRpz8ykg5q15qGMf3WHX0IrGYshODx1zUiTsEIHQHOKTiUpGwLnMoCHnjFQTTPHGygdDVFZ/n3EEGppphKuQamxXNoXNKuDDexyj7j/KwrpncZAzzXFW8xXC+prrYpPOSJ/VP1qWhxZHPIrS+UPvDGfxrZiGMCsJQW1Jv98foK3ouo+tILmoB8opR0oAFKaoRFJ0NVF+6P8Aeq4/Q1UX7o/3qTAtYoNLTHbFAASBTC9NLE02gQFzTd1BpKAHB6TeKaahLHJpXEznBS0gpaZAVYsx98e1V+lWbTq/+7TAh1fnS4z7islfuqPatfV/+QXH9RWQvQUxS3FPSsW4/wBc/wBa22rGul2zuPfNawIZBT4n8uVW9DTKKYie6iEU7AfdPI+la/hgkXco7FRVK/jzYWdwP4lKn8KseG3xqBX1WoTvEtaSOuUH7dI2OPKGD+NZmqoXeA/wqxY/lWwT8xI/u1kaqxWBz7GsmdNjmJJS05Pqc1bd/wB19azs5l/Gr7DgD2pyWxK3YqyENkdgasJNlz7YFU4/4v8AdP8AOnA/Pj1qbFFjzclvxrT0aQhiWPCkE/hzWEr/ADH/AHjWrYyeXZXEo6hcj64pSVi4bmg2tJAgCKxc9CeBmrUUs2pafOB98qePWsKx003ziS4kdmPRVGMVvWjDTrvYDlOhFS4pHRCcpbnLXGl3CykE4PYelddpMEV5ZgTqCygdatajZJIglXDIw4bHIPpWRYvcxb4oJAkucfMMinz6oiVJRTZqS6NYtwIx+AquPDsZbMeE/ClF5rUXa0f6oRT11y/Q4msYG90etbnNZEf/AAjKk/6zJp40GWPOzbyMcGpV1+QH5tMlx6qwqwmtwOfmtp48DPQGi4JIo2OmTabJK0kjMrjABPeq+oEhyfar8mqWuoBUgMm9WBIdccVTuAdw3chhwaiRvRaTscdeDfMSapsprd1SzEZ81Rx3rHmXnIq4s560GpEONvNNPfinEeppCOKsxYwk9O1PjYYIPeo88Y7UDrVWEmTmQEAY6dDQo9+KiWnrnmk0USp8kg9jXU6c260B9Ca5eNCzZPAre0mcBpI/4TyuazkXBmlbfPfE/wB0VsRdR9ax9OO6eVj64rYiPI+tSUa1FIOgpaAI36GqyfdX/eqzJwDVZPup/vUAWjUMmamNQSnmgRHRSUUAFNNOzTSaAENV2PzH61OTxVRmO4/WkBhClzmkHWlxTMwqe16v9Kgqe16t9KYEerc6antislB8orV1PnTV+tZadBTQpbinpWReY+0PithqyL0f6S30rWkveIZVooopiNi5G7w1at/dkYVDoTbdVi981ZmXb4Utz6zGqOkNs1S3P+1WVPZ+rNHujuQx89hnjyxWZqvMBHetcIu9m9VFZeojcpFQ2dKORVf3v41oSdPwquY9szfWrE3RvpRJ3sKKtcYgwHP+yKIjmX8KQH93J9BSRH95+FAyNCSx/wB41saeypbsH5UkCsaH5ifqa0kJWxU9y4/lSmXS3Ous2gEICIFrPuuL58nA65qKxufkUZp9xPEsrPI6qO5ast2dmli5aXkt1G0KlghXkkYNZ0M7Q6llmyyMMn1qWDUmnVobGEkH78xHQVn4K6lKmc8ZH5UNWJn8J2yjzvuyIR6Ain/Yh1Mat+FZdrZ6ZdWysYYxJj5sNtOatJocbKWt5riMf7ExNaRk30OVwZaNoh6w/kKZ9jh/uEfjUcOk3x4g1aXPoxzVn+zNcQf8fscn+8grZU5voLlZUmto4V3KDn3qjPEJYgOm05rSey1hvluBA6DnMYwc1B9hu8EeQ34c1Li1o0OKsYF9A0tq6bckjiub+w3JmCNGQD3IrsJCcFSMMDg1WP3sGs0+U2nTU7MzotItZY3hMbLIoB83PUn2rBuLWS3mdWGdpwa7BpttxEmBtkVh75HIrPuoke9bcOowaIzaCpQjKOhyrdelNArcu9GPLxcjrWU1sytgjmt1JNHnzpuL1GBV2gqfm7ipUU/3cmnxQkHpWja2ZdgCpxQ2JRb2KiA7QpBHrW7o+jXt5Jvt7d3RFZtwXjgZNdp4P+HVzruy7uw0VgOhPBk+nt717LZ6FY6Rp8dvaQqqIMZxyfrVRhcp+7ufOOmfxH1Oa2IjyPrW34y8NjRdae4toitndfOuBwjd1/rWJCPmA96icOV2KTujVBpcimUVAxJDkH6VXj6J9amfoagj+6n1pMC0TVZz81TseKrnrQA0mkzSnBpp4oEGaCaaTSZpCFYiqbfeP1qyelUmPzH60AY4NKM0g6U4e9MgO9T233m+lQmprbq30pgQ6l/yDhWXGflFaup/8g0GsqL7opoUhzkBSfSsSWQySlj3rcYZGKwZeJWA6ZrSm7MhjKcu0BgwJOOMHvTR1pSOaoRs3kinw7ZwgruViSAwJ/Ks/Tf+QjB/viqtWdPOL+A/7YqIx5Uyr3aO5gnZ55oyBhAMGqGozAXCxeo5q7bR7Li4cnhgDj0xWBezbr4uOxrGXY60UpR++P8AvVNOM7hSXSbLgHsTT5x8xx70uw0Qhfkk+lRwctn2qdB+7l+tQ24+YflVAR2/DN+NaH/LjET/AHjVCIEStV8L5mnMAMlGzSmVAs2suB1qZrWOdvMkUs3vWTG7RfOrZHoav2+tRRcSqR+Gajld9DZSVtTZsYrh0ESkRwDqAuKq30Sxa2gXvFzUUviOMRbYAXJ6ADAqvaySXF0biU5OCPpxSafUqU4tWTNWzljjijkkjEgBwQa3gLW7EclqxtJD91ozjB9x6Vyts+VeL/ZBrQ06dVfyy2OciumjK1iUzrNN1WZJDa34VZR92QDhq0pboKeT9K5oyh1CyfMB0PcVOl1ldjtn0Nd6egzUa9GetIl6CeSMVkvJg9c1F5/vWcphYi1q2WO68+P7knJHoay2GRmtedvPhaNjwf0rFYmNircEVx1Y68yCxJDt+beBwODjkVn8yXbH+HPFXN+eB0NNESjlBWBquxIqcY7VXm06GY5K4PsKsx5zirAXNC8gcU9zOj0qAfe5xXeeCfBcepSLeXcRFih+VP8Anqf8Ko+GfDz61fZcFbSIgyt6/wCyK9etvLtYkiiQKiDaqqOAK6KcHLVnJXlGCtHc1reOOKJI0UKqgAKBgAVOyGUBR61QhkLMOTzV0zbU8uPr/E3pXUjhZTv7G11GFrC4gWaBsFwTjn2rnLv4ZaPL81pNcWr9QCd6/rz+tdZGUTBJAqwtzDgDmm13BNo8m1TwTqmm5cBbiEfxxdvqKxv7Pl74r3cbZBwTj0rA1nw5b6hC5VBFNjiSMY/Md656lFte4aRqL7R49LbyCRo1UtjuBx+dNTT7gBdyYwee9dTNYvZTGB1+dePr71C8bHivOlVnF2Z0KEXqc68DgY4z6Hiq7QSp1Q10T2+8YYcelM+yrjaEBHvzU/WJD9mjnNrddp/KmGujeyT+JE/75qP7BFnOyqWI7on2ZzppCa6FrNc4WOoX01CMlBn6ULELqg9mzBJzmqLffP1rqP7Ji6kN9M1CdHtSSfLf/vqn9YgT7ORxIpwpvQU4V1IwCprf7zfSoamt/vN9KAItSH/EsFZUP3BWpqhxplZcH+rU+1MUh5xiqerWyxJBIsUaB1zlc8/WrrcKaZq436ZZP7EU4/FEXcwKUnNB60lbPcgKuaXCJr6MHop3GqgBJAAyTWzotu8c7s64O3ipbsioq7N4SF/MWPJZvlAqqdKMXzu6lickVo6ZHlXcAbicZPYUy/ckFQ2T9Ky5Va7O+Efd1MW9iyY8dmFRTjmrrKWiyeoNVZxxWN9RNEKglZfTNR2/DY9GqxEPlk96hUbRuH96quSRuhS4P1IrSsMF2jb7rDFVbtNrCQcg4NTodixzKeQcGk9UWtGVLuF7aZom/A+tUZ+WxXWS2K6vp7yw/wDHzCMlcdRXLzxNHLtYYNXBiqLQuWMSrD5hHKgmta1UJp+7/ZNZ8A2xMvotayxE6bDgffBFZzdx00Rqm0RyLwWXaaWLKybh1FSxgNGE+mP5VaNuFbGOorakuaJokWYpGdARTmkYVHZnK4Pap5tqqa6ub3blDHuOnPOKYspY9agWO4uX2wQvIf8AZGadcafqNpbtNPD5SD+8Rn8q5nUVx3JJbyOJSWbFZ8szXJMgHyjgVmTebNcqrHK56V0um2qtGcjIA5qZVLoSXMZaMQanU1bubGGMErlSPSmWVhc3cDTxJuVSQBnlselZOSCzTGKPm9609L06fVb+O0gHLcs3ZV7k1RSJpJFjRCZGO0KByT6V6p4b0RdE08b8G6lGZW9P9kfStIQ5mE6vLE09OsoNLs47S2GEQdT1Y9yavpIEIZuaz3ZlfIzU8Um45IOR29a7Ektjzm7u7NdZsAKg+dunt71ZRJAMKee9VbO3dU8yX7568fpV9H4wo/GrIY+K0XgyEtV6KCAdB+tVFhZz941MlvOv3XB+tAi7sjXoAKTavPpTAxjQeYOewFRMx35c4HXbngVJJg+I9E+2p51qgEq/hmuNexuUBHlcD7205x9a9OdtxOOlZt7p8dzKMHZJjhx/WsquGjU1e5tTquKseeHyySg4A6mhzHsxGn1NbGoWCmR43URTjqwHB+tYExeDfGwIboa8ytRlT32OqMlIkVI2jMg5A9e5pypGFZyM46Cqgk2xbQaXzjs29q57l2JyybMsRkjhRTUh3LubAycD3qrnMoDdSM/SrPnAj9B7UrhYdLbohwRmm/YWPO1RVgurvnsoz+NR+fJ60aEs8gpaAKXFeocYVLB94/Soqmtx8x+lMCvqozpRrMt/9Wv0rU1XjSay7f8A1a/SgTHy8RN9KS8O/wAOQH+65FJcHEDH2ob5vDTf7MlabRT80StzCI4JpWGFB9aeB/o7H3qNjkKParb1JJLXAuo8/wB4Vu20mZpDnkVgQnEyH3rYtQwjkYjBJrOoa09zo9PkC2OR1yRSLF5iPIT1PFZ9lMfI8od2rc8ny7YAnnFOHvI747GOww5Q1QnXAyfWtOWI7jg55zVG7QiJvXmsakbMUkVohljjuKZt4lHoRT4eXT3WpSmfNx3Wo2ZCQksW+3UY7YpbFDPE1ucBiPlz6ipzw6Rno6Co0DQznA75oWuhQyC8uLC5SWNijpwQf5H2qa7S01WVZocQTk5ZOx+lWtSt1liSfAywycDr71jomyR5RwEGPxPFWglsXlgKxy5IJOcYrXtkK6fED1Q/z/8A1Vm26k2/PJ3VqSN5dhx3Kj9azkESlCzGAnupI49jWkx4Q1lWpy06dtzYrSsSJkAftwa6MO9bFxJ4wI5c9mH61JDEL25Cknyl5OO9VbhiZDHHyFOWNbOmwbI2c/xfoKK8+WLsWzXsvIjQIkYQD0rM8U3McsEUCHPO5jT57hnbyoBk9OKydSjFspaZ9z45Uc4rgUnsQ0YMMZkueF6d66q1QRWgA6nk1iafFuZpcDLHgZ6V0Ucf+i++K2SsjSmtDLuEaaZIE+/IcD2966e2to7O2SJAAqjAFYemQtJrLFlO2JMlvcnp+ldHuBkyRkDtXNUfvcoSNXQtDh+2HVpYhuAxHnpn+99e1dAZU34bp7Vj6TqQEJtZgdv/ACzb09qtOzPMsaDLMcAV61FJQSRwVG3LU0vIe4dREuff0rZstPWFQzDc/qe1S2NpFaWsaNgMeT3PvTZdQihzhwox1PWtzFvoi4kOWAPerYiRf4a5pdXj35DM7DOCeKmTWGLbcYz0OaLhys6IKD0yKeZFgHJyx6Csm11RvMEcu0g8DPUVJcsySElt2ehoSuybFl7kA5Y5bvVTzt7s2ciqstx8uM8nvTY5ArbfX+dUNI0EfkUSNyDVZZNhwBTWmyQM96Y7Bf2UV4m5hiQDhhXIatpjOuMZkX7p9fau4BGOaoXECSl4yBnqDWdSCmrMcZNM8yzgsDxjrmmrKG4U5wa3PEOkPbBrmNcpnD4/nXOQcO7dsV4dek6crM7YyUlcmzl2Y/QUrMQBzTAcMB6UrcjNYWKLEcp6Zp+6qHnrGc0n2sn+IUgPO6KMUuK9c4BKmt/vn6VFtPpU1uPmJPHFAFfVR/xKfxFZduP3YrW1X/kGY9xWZCMIBTExl1xAaWD5vD92vowNMvDiA+9P0z59Pv4z/czW0l+4v5kL40ZIX/Qj9aq1fVf9BUetUT14oQiSAATx7uBmt8MCrYxjtXPEZAwOa17UkW6qeuKisrGtHcvacCbgD3zXVNkxD5c8VydlL5V3FnozbfzrsFT90CBxV0PhO6BlTxL1AcH0rNnjLKw610UkRK9VH1rLuIgCcDBp1YXRTMS1jy6D0DCriIPmOOqYqOJDHd49W/Sr0SAHb7EVxSISK81u0kcDKOQlWY4RJtLrg/5yKsWpxDGD2YirV3Evkq44wecdveuiELw5kUkPuIIxY/6stEOeOq+4rmLmAqFVGBQyAnFdjaMsunszkfKCG9K5XWLU2urxxpny3w6j09aqpFfEglsWoV2pGPVifyqe4bGnJnuyfzNCR4SM9sEfngVBqLFdOAHY5rle4lsVoyY2mkHY5q7buyyOkZ+9zn0rOgYz2UvHzbQfrir0BBWGQfxcVULqQRZtQWqxQEnk45z3qZbhpFWFTgdzTIWZ05PAHNOEkVsmTjca1xdlFGjLNxdppttiIZnb+L+7XP3M3nxbRlnZh1qS7uDJliagsxvcMa4YK4krs0baI4X5RwMCrzyukRCY3Acc1DD8qk02ViY3IPY810G1rI1NHkV7VnHJZySf0rQWsfQD/wAS6PHfJrYFcEtZMzbLthC00pY5ESffYds9K6DTEMd+rM24KCymq0EK2+liAffdS7/WtKwt2WMNtJkK+nQV6+Gg4wVzjqyuzQnvnwQhPTHFZ4s57lifuj3q7Hbvuy0TflVpJMfKYxium1zFaGcmisvLSg/SpltTF1bIqy0+1sMCoqMsSeeQe9Ow7sUSBQA33h0NWYbxprdoyACvSsuR8MVOR6GmRTnzgzNhTwaLiauXhI27J71J5nUDrVOeXEm1BnP6UwOc46mi4Gj9oAXrmkSTc2SapqGPPanmQA4HancLGpHKBwKY0gM/4VSWfAz1ojmLSFu1FybFiZEnDwyKGSRTketecX9o+nalNaN0Vsqf7y9q9EZxuU9wa57xZa+dCl2qfPEMMR/d/wD11y4unzwv1RrSlyyOTB5YmopJ8DAqKSUngdKgYnNeKdg8kscVCZcEjPSpEPNRNt3H60hM5gKw6QD8TS7ZP7ka1l+bdt1dqTZct1dvzr1jgNQq46yoPoKa20D5rgfpWZ9nlPV/1o+yHu9AFjULiJrLylcEiqa9B9KU2iZGSTzT2UKSBTEUr0khEAyzHAqTR0lWaeJ42UOhXJHGabKA97bKWC/NnJrRU3C39sJm8zJYBgO2PalUqtQ5F1FGKvcxnTy7UKe1ZrOcnHStbUj5SyL74FZYiYpnFa05O1wa1sdLr0cRbS5Y1QCSxQttHcE5rPhHFUbe4csEkYkKuFz2FaUSZXNZ1NzSnqxkreWiOD92QGu+tHEtsjjowBrgJxm3f2Ndl4enE2lQnuo2mtsO+h0x0kXniUtk1BJbh8joKvFSx4qF0bPSuqxuc7eWrRSCVRwDTx97f71pXa7kIK1nRDKMp5xXDiIW1RJLGP8ARpCP4ZAfwNaUaiW2IPcVVtEBDIejpj8RzViF9g2HtV4Z6WBEdoHtJthGYzwaj8Q26ySW1wB9xtpx6HpUss+Ac9RUMl2LpVi9xn8K6KkVyNAJ5RW2QnsR/jWfegNpsvf5Af1rVmcCNhngKSazJBv0tsd4x/OvM6kGdZNtXA6MpX+tXrb5rJSOqHP61m2f3ivf7wrSseDLCT1BxVrcIm/EdkB9Kw2nZpjkk81rRPutR/u1kRIWmPHeqxT91GjFuc+QD0yavWSARg+tULuUPhV+6vFX7VwkQz2FY017tzSmjQH3SBSAAq3FV/tA2k561Kj7hgd+tNl2NDQV/wBEA7ZOK3bSISX0MZ6FgT9BWPow8vT0J4JJNdTZ2Jt7VbubiWX7q/3V9T7msKdNzqWRzzlZGgrq05Y8qp7VrQmCZR+9ljP6VjIu2ID15q/ak7QvWvYRxM1BazMpMVyH7D5sUscd7E2JBuU+ozUcG5ZAEzjvWm91tjxnmqtckY6QvHnGxscg8g1mznZkoce3Y0s8pkVgzYPY1SE7yHyWO0r3PehgkI8nmr0xj9KiPfFPfCd/mPUVEMZqSi7kywAxIQ38RNSKixJlyOOaLW/jhjMOAWI4rDv7+R5HhjOWzjii6SEtS7cX4ztjqSPcFDMeazbSAoPMlO56uhty7nYhR+tJO42ife2BjoetWoxgDHeqUZBGe3pVuM4AB/CqQiUsS6illRJUEci5RwUYHuDUKtumyO1SuwAUHs1NiPNtVsX03UJbduinKn1HaqBNdv4ysBPZJfRj95Dw2O61wZbIrxcTS5J+R105cyJVaqxb5j160F2XpTOTzmuaxTOYwfQ/lS4x2ruPsUfdf0prWUHdV/Kuv60uxh7E4ilSNpXCIMsegrqri2tY0O2NNx6fLWaBFNbHylVJCMMyryPWrWITWhjO0XYoHTRHta4mVFzj5eTT3TS7RCzgyEdS7U6axnniO198SrneOpx7Vyeq3/2uYpENkC9B3P1pw5qj3MeZs0rnxJGhItLWFcdGKA1Rk8RapKQFuWX0CAD+VZBxXVfD7SY9T8TRvMu6G1XzmB6EjoPzrrjSiGp0OifDq41FI73XbqRPMG4QL9/H+0T0+ldK3gDw4I9gtZOn3vObNdKZc81BLcLGu5yAo5JNdCirGqVjyDxZ4Ufw5Is9vIZbOQ4UsPmQ+hrLt2IjA616j4jktdZ8MXnkSxzKqkgqwOCOa8ui4wK5aqSdjWCV7iS/6th2rZ8JXWHntSewdaxZjyQfSodPvGsdShnB4zhvpSouzNG7O56hGAQOalMIJAK9arQOGRWXkHkGr8eWwK9OOqOhO5TmsVkB2HJ9K5u8jNtPkgqDwa7cCOIY5LHoB1rN1awku7V824DAcHPNZVqXNEq1zCibbCG6FCD/AI1Bd3fkvuXHNMsZTJG8LDDrlSDUDW7SLh+NpxzXDSunZGbIJL6abO0CpLHf9o3Mc8VHKYoiEjO5jToJ1jm8rdl8ZOOwrepe2pLZeklMlvcn2KiqiyY0xyOyH+ef60vm7dOc9ycVCpC6XICcfu8fyFcQrlGAgXQYdP8AGtJP3d0pB61nQghyPcCtcQncD7ZrSKuxwRfhfbGV9OlTtBAtvuA+ZxVcpgFh/dqIOJGMbkjHHBxTrxvTTZpczb7EQEafeZ8gd8VozgpaoR1LKKpXEEYuUWMZwcljyTV6UlvKQjGGBrJPTQ0iyZk2yQJ3Y1NFjzJ/VDt/TNR7t11GRztVv6UtuxY3jf7X64FBodX4Ztlv3Tev7iFQzjsfQfia6qdjcXMangMay/DtmNP8NQlh+9uP3jfTsP8APrW1BEZL+2GOwJrow1PljfuefVleRuWuiRNGGdS3uTVo2NrEuFjwa0InQIMnB9KJpItnIBNdaRzNmPJ+7ztGDVVnYD5s/U1YuXjRi27k1QkuAcg45oeg0MnlLcA81AzZxk4cdD60hG08856VG7ZGKhsoUsW570hYop45pu4DHrSFhkdc0AVisks67JAgzgsT0pTDFHcny/mx1b1pCYxJiT7hPPNF3IPMC26/IR19ah7jRI04Xgcn0pizNI3Jpsdq7jODV2C02KCwxT1DYfb52YNWlcquM1EseF4pyDB+Y9KoksLxg0SPl1A+tQNON2M06Ng8oPoKdxEt0Fnt2hcZV/lI9jXlt/aPY30ts/WNsZ9R2r1Fv9bHzXI+N7IfaIrxB1UK2K5MXT5oX7GtKVnY5FunFSBeBUYGTU1eSdJoSzhBWdNeFjwahu7rJIrPM26UKDzSSIlKxf3q/wB45J6DPWoZGMbFlUD1Ud6lAS3i3E/vD1bvVCS53NkVaPMlK7uStKdhaLkNnK155f2s9pcskyFSSSD2NduZHD+Yg/3l9f8A69E8VtqEJWVA6n16g100anI/IEzz6vTvhbAEsNQuiOXkWMH2Az/WuI1LQpbPMkOZYvpyK9B+He2Pws5HVrhifyFelTkpaouO52hesPxXBc3fh66htQWlZeFHUjuK0xJxQWy3WtWro1PPfDdje6b4W1aa8ikhSRfkRxg8A5OKwtOgNxdx45CoXP4Cu38c6iINCliDYaTCfWuT8L4dpehPkEfnXPUV2VHTQy5zukcjuazJfv4HatO/Vo55FA+6SK0NF8KS6gBcXTmKDsB95v8ACsYu25tyuWiNrwtqButOETn95Fxz3HaunjlKpgcseBU2j6NplhGqpbKMjk9z9TVq5igDfulAA6V0wxVlqjrhRaWpU+0La7URfMuZO2f5+gqVA7HMrmSQ9ccKKoPNHFIzjG48ZNWI51Cj5uvOfWuynVjUV0DXKUb7Qbc3LXsc3kynqP4WNcvqkN7FKxjjLRk/eHIFdRNeCaU/N8o4FN3IwxxXnVaqU3yIORSPP5pvsil3BMh+6ppNL8wme5lPzMMCu5uNMtLtf30CMfXHNZ83hyLZiB2TnIHas3VujGVF3vcwp5MRpCOw3H6028kCWUceeWYHHsKuTaDepIzAhgap3ml30jJiBjtGKlNEOMuxBbtulQnoSDXUQRebGrY7c1z0Gm3ahQYGBFdbpsTLAFdecVvQSbZcEyK42xQZPQCsJZiZnPTcc10Gr28j2pVFPJHauc8p1kAKtkH0q6/wNFO5bSMs273q2SWkXI6EU+1hBhG7uKfOMuOmeMmuBPoXF6WGrhbh34wqYH4n/wCtVvw1YT6h5sKQNI8rlgeyjPU1Y0XSG1TVm05Fy0hUeZjgL1Neu6bp+kaLa/Zbe1I4w7k4Zj61tCm5uyFVqqBnC0MqwwxY2xqFx9K0kEdqNww0mMFvb2q3HaWhj22UoyeSjnk/jVeSzlDFWjYN6YruUbaHnuVxY74s+KnmnJTINMTTTBEZZmCegPWqk9wiofmBFUKxWupSTnOPrVLzdzDf8h9+homm3t60wMT8uMjvnpUN3K2J3feMfr6VXeUIcdWpkjKgO3p6VCCHP+z29aVxk2Sw3McegNQNL5bbieR70PIwO0c1mXE7BdveplIEWXLz3KsGHljtmtWUxqY+QD9c1j2soSLcf/1US3W+PA4qVK2o7G39sjQZ3D2qKTUkQctk1zpuCBgHJoUPJyxo9p2DlN1dXBOMcVbW6DJlaxYI1Xk1bjkADewpqT6iaRcEjM3HWrtueMng1mRSgDJNXbeUHJzxVJiZaXm4HPaq+tWy3enOjjpx+B/+vipLc7nZvfippSHhkQ9wRTavGzEtGeVtE0MrRt95SQaM1p+IbfyJluFGA/DfUVg+a1eHUg4yaOtSurmfNMeSTVSC5EcrSMN2OgNLO/G0dapNzkHvTijGrdxLr3ck7ZPAoDlRniqUcjIRuHyngf7NTFsnrVWseeyfzvakyd29Dhu/ofrUOakVsjFCESibcdp+V/Q9/pWjpWp/2crQ+WBEzbjgY59ayn2sMMAR70wl1+6dw9G6/nWsJOLuik7HdQahFcKNkgJParBc7d3QYrgIrnYwwxRvQ8Vek1a7ktXgEuNykBsciu2OKX2jVTXU53xhq/8AaGpmGNsxQ8fU1N4P3Szzqp6IP51k3OiXaMWQrLnnOcGrvh97nSruV5IWG6MqM9M9qpSjN6MpSvI6K40qF9WQ5Vg/zOvpXS+XtgXYAABwBWDo6GSWWeRtxZtuT+v6/wAq6pFVogOnFYVLKVkenQj7t2QxzuqKM1Fd3MmdqnFPcbXwOlULmT5yQc1F9DqsUbmUhDzUEWpFLV9xyU4HNNvZMITXO3l2YgwB+8P5VpQm4yMK8rI3kv4scnpUseoR55auOW/B6k5qUXRJ4ahxOdVTuYL+M8buKuJcxt3rgIrxlIw1acN85K4PNTylqodeJI278U8GL+8DXSfD/wAKx3loNV1a3aWJ+IIHHDf7R/pXfR6Jo6MCmk2SD18kH+daRoOSuTLERi7M8e+ViFRNzHoFGSa6LT/BupToJZBHbg9Ffk/kOlelslvbx4trWJSR/BEo4/CmNMsQVXUc84rWOHtuZSxT+ycRc+CNShiBSKO6UjnyzyPwNZy+EruRyDpNxkeqY/nXp7X8cacD8KrHV/3gULjnuap0ExLFT6nAXHgu8tYleTT3IOPljwzD8BSzeAbp4ATYNubHAZcj6816Pd3/AJckgU4bcOvpioLzUJBZqVbDOcZFT9WiH1qXY5zw3oNlokrMlx51yUwSBgJ6gev1q3qZ8m5DcbXH61Vc+RfqU4zgkU/VXL2it3Rq1hBQVkZSk5O7KrTspypxj0pjazeRjCTuB9aqtJlarSDvQx2RNLqd1O37yVm9yaaXlfociqDzbDj86ebnegGduKzbuVYtLL74p7ShVx2+tZrXXOe/rTDcNJ05+lHNYVi6ZPMbANRtIUOQ3NV1bI5BB7VDM4Ucck1LkOxcN4GODgN39DWazM0xPqabknkmmNOEychnA4FQ5NjsWWcINueO9RB2k4HC+tU1LvhmOSe1XYlKrijcNh8cYHPep0qNEzU6jAxVJCY7dgYz0p6OCMn6VC7bRx1pN4UAdaGwsWzKMhQMmr0LlEPvWXbkbt3Uir8ZLnBGMdRVIVjTtTtHPWnO+JiOearxOAOvSnu+VDd6u+hBieI7XzbS5RRkr86/zrhOfWvSrrErHPRhg15/LZyRzOm0/KxFediIXlc2g9Dl2fexNQsacDTG61gkNjlwwKn7ppiMQ/lNnI6H1FMLY/CkZGmPXaoP3u+farS7nnzjyuxaU+9P3Y71Ujl/gYYZf196fv3Gly2ZBMZBSeYKrlqTd6U0hlxXU8EAinKoX7rlfbqKqK9SebinqBYVpCQoVXyeoOKq3NwscxY5IToB3P8A+utW2s53t98MLvK/TA4AqCDQ7yXWIYri3eOFW3uzYw2OgFd1OMacbvdnVRpSetjotIsfKsIEYfOFBb6nk1qSHylAqWJAg6VBOCxJNcz7nrxSSKVxPgHHU1nPNwc9atXX3qz5RSLuZ+oS/LiuY1B/nj+prc1Ftp61zV7LvmGO1a0lqcWKlZAkRY8ilEbKejcdcVJDcqgzke+RVmGRWYtjg+ldqgmefzNEYhwFZXPPqK7HwxoRuJ7ZHG64ncKo/ug96zdKs1lZp3HyJ0Hqa77wH5UviuLcAdkTsm4fxY/+vWU4pS5UddJPl52eu6f5EdrHDENqRqEUew4q59n8yP5mJB7DtWLFIzMgjbGOWz8oH41opeJAgYzR7T3DjFbryOR33IGsbmJtvms6qflAHb3qC5R3dTyMc4xWtHI+zzI23qe6MDVSRbhnaSNWLKepxzTbBMptDO0Zcqdo6nFZ92dsg2Ky7e571qTT3apllIXPcVmXU7TyknBGOOKVyiw032mGO4ByyDZKPbsaIb6Nf3FyPlByrDtWbFdfZZd20EHgg9CKS8EZXMRzC33T3Q+hoTGWNS2ecJIpAwNRO/mWzoeSR3rKaR4zgnIq5BMroecGgZUXlTxVa5lCLwat3LrCGJ4z1rAubnexweKiTsVHUa8pZvel34HJquXApjSFjgdK57mhI8244FOjBzmo4kLHiriREDORSvcHoNLMMEn8KhnlUDcxAA9abdTJACzHPt6msOe4luX56dlFDEXJ7x5PljO1f1NPsVzMA/O7jmobeAkAtxVyNNjhgOhzTSC5YSHDkHsatItOkTDKezLmnIMVaRLY9UxTs7etCnB5FNkJOKYEEjEtQimRto6UbCTWha2+MM3ANQldjuPgg2RnA+pqePDHcDyO9MkmVQVX7vtUattAI6NWj0EWkZFfBOM9akdwWIHQVnA+/NWoyCuWPNCYhzjjNVGtomYsUGSc1dcoIiQCap+caznFPcE7H//Z\" width=\"100\"></td><td><audio controls src=\"data/d-660-seq-10.wav\" /></td><td>joy</td></tr><tr><td>Ross</td><td>Oh.  Oh-oh.</td><td><img src=\"data:image/jpeg;base64,/9j/4AAQSkZJRgABAQAAAQABAAD/2wBDAAgGBgcGBQgHBwcJCQgKDBQNDAsLDBkSEw8UHRofHh0aHBwgJC4nICIsIxwcKDcpLDAxNDQ0Hyc5PTgyPC4zNDL/2wBDAQkJCQwLDBgNDRgyIRwhMjIyMjIyMjIyMjIyMjIyMjIyMjIyMjIyMjIyMjIyMjIyMjIyMjIyMjIyMjIyMjIyMjL/wAARCADwAaoDASIAAhEBAxEB/8QAHwAAAQUBAQEBAQEAAAAAAAAAAAECAwQFBgcICQoL/8QAtRAAAgEDAwIEAwUFBAQAAAF9AQIDAAQRBRIhMUEGE1FhByJxFDKBkaEII0KxwRVS0fAkM2JyggkKFhcYGRolJicoKSo0NTY3ODk6Q0RFRkdISUpTVFVWV1hZWmNkZWZnaGlqc3R1dnd4eXqDhIWGh4iJipKTlJWWl5iZmqKjpKWmp6ipqrKztLW2t7i5usLDxMXGx8jJytLT1NXW19jZ2uHi4+Tl5ufo6erx8vP09fb3+Pn6/8QAHwEAAwEBAQEBAQEBAQAAAAAAAAECAwQFBgcICQoL/8QAtREAAgECBAQDBAcFBAQAAQJ3AAECAxEEBSExBhJBUQdhcRMiMoEIFEKRobHBCSMzUvAVYnLRChYkNOEl8RcYGRomJygpKjU2Nzg5OkNERUZHSElKU1RVVldYWVpjZGVmZ2hpanN0dXZ3eHl6goOEhYaHiImKkpOUlZaXmJmaoqOkpaanqKmqsrO0tba3uLm6wsPExcbHyMnK0tPU1dbX2Nna4uPk5ebn6Onq8vP09fb3+Pn6/9oADAMBAAIRAxEAPwD5/ooooAKKKKACiiigApaKKACiiigAooooAKKKWgAooooAKWgUUAKK1oR+6X6Vkr1FbMQ/dL9KBi9KUUpFFIYoFPFMHWpFGaAFXipR0pi1KozSGAFTKKaqc5qZU4poBVFO70lGcmqQEi8Gp1PaoVXBG87Ae5q0kUWSRNujH8QH9KdgQ9G7VJmqUuo2drvUrJIcjaQcD8ahOrwvMgjUhW7HtSbCxpGkWoYruOcHY2SOoqVTSuMkWpR0qIGpFoAcOtTKcCogOalXgUwHdakSo6fGcUDJKUCm5pymi4hccUYJp2MmpFTNIBEGBT+KUJilpgKprO1Rv3ZNaAPFZuq/6o/Sgk8w1T/j9c+9Uqu6n/x+v9ap0hCUcelFFADaSiigQUtFFABRRRQAUUUUAFFFFABRRS0AFFFFABRRRmgBaKKKAFXqK3IR+5X6Vhjiri6iUjC7OlMZokUYzWcdSY/wUg1Jx/AKkZqBcVIorLj1JmbBQVOLx/SkBpACnrxxWaL1/SnC9k9KLjNRRipVb1rIGoP6Uv8AaEnoKLgjXbGM5qE3EKEFi+B6L1pIYnubIStIoBbG3vSXKiGVBPIYwfunGVFWloAs2oQmZZHLTD0U0zUdX3whIbeSFccb1/rTJYoywJljCsMh17isi+mm8zy/MYovTnIxQ2O4j3LzEKxJPrU0CneMtwO9UQSD0qwJWjixjnuTUAjQFy1rcB4+vcetdBaXMd3AJUP1Hoa4pryQ4UjOKnsr+W3c+W2A/UUBc7cMKsIRtFcd/alz/fpw1e7A4ehMdzsVYA08uK4r+17zP+toOrXn/PU0XYtDuFIp+4CuD/ta9/57GkOq3p/5bNT5guegB19aPMUdxXnv9pXh/wCWzfnTft92T/rn/OlzMD0dZF9RViORcfeH515gb+6P/LZ/zo+3Xfa4k/76o5gPUTKvqPzppmT+8Pzry83t2es8n/fVNN1dH/lvJ/30afOI9RE8fTev51mapPGYz869PWvPjPcH/lq//fVRs0rcs7H6mjmEQ6kwa9cjpmqZqaf/AFnNQ00IKKKKAG0UUUCCiiigAooooAKKKKACiiloAKKKKACiiloAKKKKACjFFFAC03tTqQUDExRin4pMUAS2ke+YCtHyPaqunLmfPpWvtoGin5JHajyjV9UyeRTvKHpU2GZ3lGlWHLAHgZq+YhUc8f8AozgdeoosA2Z/sVudmD64PSstrh7qJ1eQgk5x2oklYAoxJqmpKvxTvcGW7Z2kJjPXGPwphZV3puJ5+X6UkRdXOOCajYnPTnNAWLKJld2Pu1FJPliO1OMxWHbjBNVTlmoQMmwCNwxmnQxkzKMcE1GRtQ1ast0k68cKKALQiNHlH0q1t9qNtKwFXyqXy6skUmKLAQeVR5VTgUuPaiwFfyvajyvap9tG2gCHy6PLFTbaNh9KLCIdg9KXYPSpdh9KCposMh2imMvGanKGmlDikIx7riWoasXi4mqvVIQUUUUwNifw1eW9ibt5IPLBwQJAT+VYxGCRnNG5v7x/OkoEFFLRQAlFLRQAlLiiigBY1DSKpOATgn0rWutGit3AS/glBAOVNZHeigZqLpUTRb/tkIPoTWe6KrlQwOD1FR4pRQA/aAOtMIoooEFFFFAwooooELQvJooj60DHEUhqTFIRSAt6YP3prZ25rJ0oE3B+lbqx8UxkaLzUm2nonNP2UhkO2mlMgjHWrGyk8ugDEuLXdcKhH3iAKsnw3cLLt2VqQWwnu4UI+84Ga7cWw8oZA3gYzWc5cp00KSmnc83n0KeFQ23PHaqiaTK3JQ/jXpE9scEFT+lZk1tg5C4qPaGzw6ONfRpj/DVOexNsMuOldwI81TvNI+1t97AqlMiVBW0OHfEhGBjFbukWGYGmkYIDwgPUmmyaK0GqxQfeD8j3rodOt4LplgnkW1VTgORkA1TlskRTop3cuhklaNntXWXHgbUxD9otDHeRYzuiPP5VzslvJC5SRCrA4IYYIrXlZzdSr5ftR5dWPLpfL5qQKwjpfKqzspdlAFbyhS+WKsFKaRQBD5YHamlRUxFRsKAIiKYakNMIpAMNNIpxBpD0oEYt9/rzVWrV/wD8fJqrTQgooopgdsPhxd4/4+4/ypf+Fb3f/P3F+Vdaupn1qVdRB71y88zr9nTON/4VvdjrdR0h+HN0P+XuP8q7b7f70032eho55h7OBw5+Hl2OtzHUbeArpf8Al5jruGu896ia5zT55h7OBw7eCblf+W6VA3hG4XrMlds82e9VncHvVc8ieSJx58Lyr1mFRt4dkH/LUflXWMQahdQapSZLhE5Q6FID/rFpP7EkH/LRa6ZoxmozGKfMyeVHOHRnHVxTTpLj+MV0TRDFRGLNO7FyowP7Mb+8KP7Nb+8K3DCKTyBRdisjD/s5v71H9nN/erb8gUeRTuxWRif2c396lTT8HJNbYtiegqVLId6NQsYosN3rViLSd3X9a2o7dFHSpNophYzrawjt23DrVwLxUm2nBeKAI1XmpNlOReak2igLEISl2VMq5rb0nwnrGtANZ2btHn/WN8q/maaTYGLaw4njfphwePrWndS6jp907pIJo+u1uuK9L8PfDO2tIGk1orNM33Y42IC/j3Ncn4r0mCDUp7Ro2WJTmPnnB6VFWNlc6sNreKOTj8RNe3OxlEY6YBqO91Zbb5Su4d+atWXh+BLjcxJH61U1PTo2uWUDgVhpc67T5dTNOp3Fw/8Ao6hB6mrtm10ZB5su4e1U00yNJM7mA9Aa1IAsagL0FN2RlGMr3ZBcxl9XtXUfcBJPpVHXbuK2kgtV4O3cxH6VtKFkbDdK4zxCuzW5OcggVdP4kRVdoO3U6/wd41n0+5FpLISn8OT1rq9at4PFTq9hA39ohcsAAA4/xrxBZHSZGQ/MDxXuXhBJrS3gllH7yRQz4PTjpXQtHoci95HPSeD9ciJ3adKMfSsqa0mtpCk0TRuOoYYNevpeGW7YzqzRqOTu4BqHVbzSr6H7PJYJP2DHgj6HrVOMSbM8hxRiu1u/BqzwGTT0nSQc+XKOD9DXJXNpNaTNFPGySL1DDFQ4tAViOKjapitREVAER61GalIqMigCM1GalKnNN2c0ARYpCKm2UbKQGTc2LTSlgagGlyHuK3PLpfLouxWMI6XJ/eFJ/ZkvqK3fLo8ui7HZG0HYVIJGHepRAKXyajQ11IhM3qacJ29TT/I9qTyKLINRPOPrSebnvSGGkMZFOwrsQuTTSc0pQ0mw07BdidabtzTsGjFOwrkTKOlNZAal280hWiwrlcx00RjFT7aNhp2Ar+Xz0pfKzVlYqkEY9KYioLbJqRbUVaCilxQBAIFApfKFTEcUAUARCIAUnlCrGOKbigCHyhThEKk70tAEax7adHBJNIqRoWdjgADJNaOkaTcazqMdnbLl3PLHoo7k+1ez+HvDGkeHoleGMXF3j5rhx39vSqSuBzvhX4f2dpbRX+sxs9wRuW3YYVfTPqa697yNJI0jQIg4CrwB+FR394Zn2Zx71lvOEJU/ezV7DSOhlvIltSHcgjnAHWvLfF2oxTanCsgCswKqSetdzcXaJpcs0g+4vWvFviVLIljZXqMVMjhkx2xWc9VY0py5HzF+Fm+3qi/d7mob6BXuH5x71Q0PWUvolc8SkDePelvp5fOkYHCDvmuVRaep6CqKUbooDMcrqxBwetTqQBmqjyKwJHOe4p/nBLcE9adjKUiwj4JPeuQ8RPnVWP8AsiujSYfeJrkdXn8/UZHB46VdP4jCs/cIrFBLqFujdC4B/OvdNNdYrJTGfmIxz2rxnwxbm58QWqDs24/hXswCWkQJHGOBW63OePwklzefZoAm7LHn6n1qPTIWZ/tM2SM5C+tUIwLu9HmMdnVj7V0Ueo20KLHbRA4GNzdqsZqW13IFDyEQx9i/U/QVW1iDSdchMUwPnAfJKq8j/wCtWTeXbFS7tk9qtWVwsEQOAX7k00ybXOB1fRrjSp9kg3IfuuOhFZLKc169f2sOu6VJAQPMAyjehryq6t3tp3hkUq6Egg1Mo9UIpEVG1WGFMK1kBBzTDU5WmbaGAwCjFP20beKQDKXFPC0u2kAzFGKk20bKBnSBDThGfSrotZf7p/KpBay/3D+VTY2uZ+w+lNK+1aX2SU/wGk+yS/3DTsIyyh9KYUPpWsbSX+4aT7HKR9yiwjIMftTTGfStg2cn9w0n2KTH+rqrMRjGNvSmlD6Vs/Ypf+eZ/KkNjL/zzP5U7CMXyie1J5belbX2KUf8sz+VVZfLhfbIQp96NgM4RmneXWotq7AMqZB9KDZyf88zTEZgQ56U7YRxitD7JJ/cNL9lk/uGgRnbT6UbD6VppZOxxtIpDZSqcbDRYDNKn0oCH0rQNnJ/cNILSX+4adgKJU03BrQNrJ/cNM+zP/cNFgKWDShTirZt3/umkaJkQsVIA5JosB23haEaToS3IAF1fvtU9wg/xNd2kvl2ixj05rxbQ/FEkt1FY3D5W2bMP+7nkV62lys0KMjAgqCDV2sUJI/7wHNVbldpaQ/hUk5AX5eSKiEnnoidc5U0DKfiK7Efho4P32ArzD4qN5Wk6RbdDsyR+Fega1E00Wlaec5ln5HfANef/FGCS+1yGKIjEK4waQPY4CzvZbCSOaM9PvL6iurkltNStlnhZWJHzKeo+tc++gX5QEQlwR2ptrZT2kwSRWjfqARjioqR6ouhUlHQ3QqBcZx7CmOC2B/CKvWsKTwLu+8ODV3+zIivXrXO2dipt6nN3MnlRMfauTlbfIzeprqfEUD2MIz0kOFrl1glkPyxs30FbUlpc48Q9bHT+AIw+us5H3EzXo15cmRzzwOlcL4Is7i3uLiWWMoCoAJFdYrGaRvQdTWq0M1sXbHgOw6nirQYIKq20oVOmB2okk4J/KmASyNNcIgPANaLsRCFHWs61AD7ifmNVNf8RW2iwfP+8nYfJGD+ppoTNY+J7TRiPtsmxD0wMk/hXO+IdU0rV7xbrT5tzsP3ilSDn1rhZNWW/vHu9SR5yeEjVtoAqxDqmnQyBo9OZT6+eTj9KHsTubBFNK0+NhLGsicq3IpStZAQbaTbzU5XFN20AQlaMVKVpuMVIDcUYp+004LxSGRgUu2n7cUYphY9GXGKlB4qAMAOop3movVxQaFkYFJxVf7TF/z0FH2qL++KLCJuM9KXA9Kri6i/vilW5jJ/1i/nTAnwPSlwPSoxKhH3l/OnbwemKYhcD0oIUUhb5c1Xvpik8KW2SGGXJHSi4E5x0xXKa3Zl7p2yAD0r2zT/AAXYXFhBNI77nQMSK848ZaB9g1yWGBi8aqGye2awr82iiXS5W3chtFCWUXA4UVKksTNs3Ln0qlZGTydjtkAce1ZszbdQOWxW9yLHR7F7AUBF9B+VNMkMVrE4mV84HBp4YH8abENKr6UbQewqQrSYoAjKL6UzYPSpjTcUwIWQY6UwIMdBU7DimYoAgKAdqrxXWl3moSaHdq/nXMZEMiNjZJ1AP1qe8mS2tZJnPyopNeXvezS38t0WZZCdykHkGrgrsTdiXXbi5j1Y7rdbS7tSEkVBt3EfxY9fWvVPDGuS29la/auYLhAyt/cJ/pXnA0fV/FyvqCTwz3EeEcO4V2AHB9+K6nw3NPDpyaHq9rLBLGT5ErD5T/s5oY4s9LdvN+VeQe4qFGMcu0/wkGqmh3LCRbabl14B9anuSE1GQD+7mkUDW/m+J1mc/LbQsyj3PFeceIFa98QzP1GcV6YxxeTzdjbjmuACrJqswPJ3UgJrGwAaFCM5IFL470GCOwN7bR7XtmUtjup4Na2nxb7yIAdGBroLuyjv1ntZfuTxsh/EUx7Hitrd7CMdO9bizxx2rTO2ERdxNctf2txo2ozWV0pWSJiOe47EVo6VbXWslFlVlsYjuY/3z6VzOm+ax2RrpRLVro51iUXd4hbfzHH2Ve1X4dKgt2KiIDHbFdLpNuN7MF+WNeKnTTlumkA4fORXRFWVjjk7u7OfEQijbaMcVEx8mxz/ABSNitxdOeW5+zt8rc9RWX4ltzYLbYHyg4aqsSJEcoPQCo5Zgh55Y9BTI7pDbgis2a92s8pyQo4A7nsKSBk2rawujWnmth53+4mf1NcFKuo6zcvcvHLM7nnapNdRJZWll/xNPE8he4cZhsFPzY7bvQVkX/i6/vIzDarHZ2w+7HAuMD60yWxtv4S1W4AZo0hX1lcLVlfBt2v376xUepmFc1LdXMzZkmkf/eYmlSQsME80Jk6HbWum/wBn2/lPf2s7Z4SJ9xAqXbXF6fO0V/GynoefpXb7htGKiW40RFaQjinmmmoGRkU3FPNGKQhAKUgAc0A4qNyTQO41pAOlN3+9NIpMUgOnhuFkjJmmk3DqA2KhXVbIzBNs5HTJaswneMjrSRW4DBm7c1t7NE+0Z0ontBGJGyqHgZfmtOGzhdcB0JZcriQcVxU0fmAMTlR2qzaRCKTzAx3EetNQQ/aM7WLQridQY3iJ9NwqyngvVpUJSIE9tpBzXILNICCrNn1BrXstX1C3dSl3OPo5qvZroLnZPrPhvVtBsTeX9hJ5I6vGc7frjpXInVpdxa3mcp6HqK9Hk8VavfWUlpcXHmQFdrBlGSPrXEa5JZ208cFvZIo6l+5rNxa3KvcrW2v3aMN53L6Guu0PU45XeJRE0kiYw/avPJJ13cKBTo7qSGeOVHKmlfQEz3i2vr2TwNcCK42ywHAZTzgHtXn9xfTs5adncsRuL9TVWw8Ty28ZsyT5bDJyetGq6q1zHEW2nBwNorGcLyumaRaSs0TRyq07lV27ugrGuOdRYMKmN0UmdueBmq/2tZXaRgC1X2JNtY7ZrVEWILznr3qtqM0sMsflsQPanWckT25YsAQKjnJuEBHIWmwua1jMZ4AW6jrVkiqelpiE1ebpxVIRGwwM0baFJPBqXb0pgQspxTCvHSrLLionGRSuBxPjHV0gC2IfBPL4/lXFloyu5WyaueIraS48RXskpyqvgCsgxqh+XitoOyIluWSzqpKMykdwcU2HX9TtH/d3suB2Zsj9ahM7BSBVJgd2aUtRHp3hHx+slzHBqmBODiOUcBvY16BHdC5unkY9RmvnDoc967Lwv4xv4bqGykie6DfKu371Rc0Uj2uWYHS5JB1I259hXA2pLazN9TXcXA2aUkZBVtmWHoTXDWp26tIf7xNBR2ejW/7zzSPYVrE4uVNV7JRHDGAO1SzNiRSPWmgINX0LTNTdJb6yjmdOVZhzWLeWkSlUiRY4xwFUYAFdZNzCD3IrDePzJgCOM0wI7e3W3ttidW5Jp9uvlyZ96lfCgYqtuxKKQGk8MbOkxUb171y3jGESWzcZwM107sRbcHmsbxBEZrBjjnFNEs85s7nEDqT0rKm8RNpt+HjUOy5xkZwexpl3K9pJNtGWGcCuZm8x5Fd+d3OaQmx13dTXl08ssjSO5yWY5JpSNsYApIY+rEfSpCOeaaIIkQ5zTiMHIpWYqOFqEyv9KNgL+m2xe4UAZdjwK67bMqgGJuK4i1uZI3yjFXHQirLX+rAk+bNiokNHV+Y4PKNUbXODyDXJnUNS7yyUw3993kb8qkLnWG8QdalSVXXINc5p00kyS+cSSBxWpbMdg5qWM0u1RtT0OVGaRhQBAaSnEUmKALRwCSCaekjbcGoEOCcmpkOVrpIJUJIxxir/ANjlCoyyId4zgHpWLHJJ9oHBxnmu3sLWxuIUDJ82OSKLjSMuCwnPQr+JrYt9IvHChWj5/wBqpxpliGIG4Y75q0unw/8APR/wNLmL5UMj0+4iUxs8YY9eaoXfhSTUbhWa8iTtir8llaowzM+4/wC1TZbW3jTO5jj/AGqlyvuNRRkXPgOKKMN/asTN3X0rGutJkgt0ZIBIgbaJN39K6DbC0y7Rn2Y1cIxDj7Ch5yADSUbrQHoc9HaRCRXmXYSMbasG2jlcRxLkjnNN1AO9ywxtJA49KvaSZ4UATb7kiuRU1KrozfntDYzXt50LFk+Q8c1mohWRl7iuovzdEk+YpHptrmFl23j7uTmtnHlsrmV0y7bZJ2gdRV+1gkZ9gqpacSlu1aFtPsnVyMDPNOxFy3HcCBVULyOtX423ruHQisW4cNM5XgE5rVsfmth7VSAlReanAx1piryKmxQMiYGqV/crZ2ctw3SNS2PWrsjBFJJwBzk15t4m16e7upYYJv8ARF+UBT9761UY3FexhajeNd3EkzuN7nJrKc89ae7hieKrvwa1bIGyGoC4b605mqAnDZrNsAZjnFeg/C7Tor3UJZ5AAIcFjnk+gFeeNw9b2kyus4l028NrdD+Avt3H2PT8DS6jT1PoK/bNtJ9K4OPjU8+5rGT4ga1YRG31WzWXK4DEbD/gawJPGtybzzI7aMAHoSabL5j3q2b9xEf9kGmzMdw5rymH4paikCqLC3O0YyS1RTfFDV5OlnbKfYE/1poLntKNuthWaVxLz615dB8VNaT/AFltbtH/AHdpH65qyvxVYtmXSx77ZP8A61AXPQZmPmYqHB8yuKX4m6c5zJZXCfQg1aT4iaG45Nwh948/yoC528ZynNRahD5lkwx2rnrTxz4ekwDfhM/30Iro49X0rUdPItdQtpWx90OM/lTQXPEvEziwv2JQkMelcxGxlnOBhTzg9q6bx1dwSakYYZFcq2W2nOK5W3bEhz3FJ7kdS23yioWDMeOBUzEYye1VmkZ2wgoYg+6eZPypfNU8Fc0pyo+6M+tJ5uOox+FIAG0sCAQa62xuEuLCPoWUYNcnuJ5V6nsr6S2ul3McE4I9qTGmdFKi5+6Pyqu6Dso/KrLuMZqsxyagADL5ZXaAfapLUfIKhwRmp7b7gpMZooPlFDCljB2UEUAQHk0mKk2c0u0UgMFdfYdYxTh4hOM+X+tZf9mTn0pp025HatOZk2NpPEaqc+Tz9a7Dwx4hgu0ZHwjL0zXmn2C5A+7VmwF5Y3KyqpwOo9RScm9Brc9qjvLZjkyAg9jV0ajb+XgFPrXnMGs2pjUypIpxzip/7Z03H+tlH4UclR9TTmidrNdW7OJDIAR6Gqd3qMJQgSCuRbWLBv8AltJj6VXk1Sw/56SGl7Or3DmidHDfRC5T5s4Nb17q9vp9qHkJUHvivNk1i0SdTErswPFaOua1LqFokaQ7AByTRGjWlJLp1DnjZtkmq+I4rifdanPqSKtaP4lBu47Z4iWY9Qa4hg5jc45z1pLD7THexvHksD1olRXtXFCVR8up6vrl8bex83Zu46ZrjI7gzzGTGNxzijVr/ULuyWF1AGOcVRtDImAamNKcI/vNypzi/hOptZOOeOKuRy5A9M1Rhuw2nLGYAHHV89aYksnlgA4GaoyRrvPvwCACK2NN/wCPX8a5ISyeYCTmtywvXWEjHemijbyd1PZiFzWWb9vSnHUTsximBneMNQa00GQJndKfLyPfrXksocEkHGK73xlqayWsVqq/OzbvoK40WpYFmNaQTsKRnecejVHLKuKvyWOQcVmzwPEfmBxQ9BEZamHk8UlFRcQ09a17TTzfgmyVmlVctF3PuKp28SE7mYDHrT1uvKukaFtjKeGQ4waQGlFqt7ZQNavtkjHWKdNwU+2elZ7arP5uY1ij56JGMV0sd5pWu2/l6u5tL1RxdxrkSf749fes9dL0JJ9surllzwY4zVO5Vh0fibUljCq0AAH/ADwTP8q6bSYNY1CETTyRxxnkAQICR+VVI9C8HvECPEUqnHRoK3ItQ0az0+O1j8Qq6RjAYwkHFTLmtoa0lG/vCXVveRjEF2jDHKSRKwP4EVg3gv48l9HsLhe+yDaf0NdJ5EU1tHNZ3TXCt/GV20sCyW+4k8kciseeUdGdPsYz1OCl1Kx3FZtDgVu4WR1/rUZutEf72nXCe6T5/mK67VdDt9TQyAbJh3HeuZHhm4aYRhkHODubGK0jUTOadGUWV0OgO3Iv4/ptbFX10/R5ELW+t+WccLcQsp/MZqeTwLcI5WK5jkYYyKrt4TvmyvG4cYzWl0jNJs5u8WCJ3VZRO+fvr90fn1qG2QZaR8hVH5mugHg2/wDN+dTt9u9R3Hh7USwjEHlxL0A/rUOauHs5djElbdjHepVjEagDr3rXj8M3DAbmAxzUN7p1xZDMiZX+8OlNTi3uDpySvYzgoprA9iD7YpzsO1QscjjrVkDGHPHBoDbiM9QaX749xTQSWHqDzUgdLFdxSwjLAY45pGnRRuPSsOUc/Jn8KczzMgUHAqBm6zqygjoRUtqflFY9sZIh8zce9alpKNo5pXGjYj4QU7GaZEylRyKl4xQBGQBSUrGkzSApizc/wGl+xS/3K2wAp5OGpob5gB171Y7GKbGXPMZpPsUo/gNdAHy+TyacDtJwRg+tAWOc+xSnkqQPpR/Zo7o1dIAFJBAalbqARzirjNx2CxyzaYCchWxUbaWD2aur2/KdwAFKu1lwq9Kr2rYcpykemFHVlRsg+la+L7bxGp47rWsoYnAVcd6lV/4WIGaSqSQuVHLGznfIkUAE84FKlgySAJkN611JCgbtoPrimCJGYMFWs9ea5VlaxgzWU+0b5WI+tPhtcY4NboVVzuTINGwNllCjHam3cEivAmAFxxipVQfrRwQATz7ClCgkbePrSFYeUVe+TV20ZREckCqEg689BVK+kKwKFLL+PWkM2pr+2h+/ItZ9x4ht1BEalq5uRiW5JNQMy9zTuK4uo3jX+oNKwwOgHpW74d0BdQPn3PEK9F/vVzyqhYsDnnmu90yVYbGJVIwF7U6s3GGhrh4KU9S/Lo9rsCRQxqAOy1zmr+HBMhAjU/Qc10yXhOBmjIkfcegrjUmdzimrHmUvgW/JzGp56DFben/Cq6a3869m2HGRGnJ/GvTtPhCKJGUZI4yOlTvdqhKk9avnZmsPDseC6z4XuNOuTGu94x7c1ktprK3yrJx6rXteqRxPLvdQc9yKy5LOzdc+WufarjPuY1MNbWJ5UR8pB6jg16p4c+EtvqujWuoPK7ecgfGcYrzzXLQ2WtyrtKxS8rxxX0V8P5XbwBYNFywixj3FaTd1c54qzdzmI/hBp8K5dS3rk1MPh5oMCFpLZWX3zXeQ6qJfkmGxunPrWLrWoQRHyg4BJ45qFNNXTLjJNpHLahb2lhZrDAoVIxhRWWhUWRlcAk9KTWJ3mnVAOCeazr69SIJBuAYdqx1bPQdoo1kji/s0Stw5rFuLUXGWU4cHgjvW3oVxDf3f2YkMqxkstZN2UtLiRA4wrEcmqUXa5nKabsUVif7THHK7BXcbiDgj3rRurYaayvDOZFfrk5waybu6MjoU/OmSXLYAYnpV3fKYK3PoaIv3ZuuDTZLwsPm5rL83Jz3qPz8nBrM2uaBkU9DUMwWaIxSAFWGDVQyHPBpvmkd6mwXOTvrc211JEegPH0qr0NaWtOHvMjrtGazK7Iu6PPmrSG9H9jQF/egetOxmrVlam5ulUdByTQyR0MW0Y3VOsZ/hT8TWtBpkSg/MMj17042uRgEZqLMoyfs7OPmb8qswRBVxV5bMBeeTTktqVgEjUgDk08l+xNTrBgdaPJxRYCqTJn7xpN0n99qtmEEU37OKLAYv/CW3B27oEOPel/4S64JH7hAPrXOUVZN2dMPF8obP2cZ+tOHi8k/Nbf8Aj1cxRQO7Op/4TBiwzb4A9DUw8Zr0NsxH1rkKKAuzr/8AhMoyuDbtx05p6+MoOM27gexrjaWgLs7P/hL7TGfKkz3p6+MLIHmKQ1xOKKAuzul8Y2CjJSXJ6inL4v09QQqyDPrXB4pcUBzM71fF+nMvzeYD9KcnivTdxy7gfSuAxRQHMzv18UaaH/1jYPtT28U6cyYEpBHTivPeKKAuz0A+JtNIx5pY/SquoeILFrddrlmB6CuJppoC7NqfXC/+rTA96z5LyaXlnNVqKBXNCzvDESrMcNXZ6PqLmJY34wPlz3FefrXd2scb6TbM3BCZ3dxSkudWNKU+V3O00OMXsjlhlUH61sw6V++DklUB6GofCFsLfQY5nyWmYuCe46CtK6aR2ABwvpWEo2VjuhPmZNIwhGAQRWReSESbv4etXZwQi85JFU7q3LWrOSSuOg6mosze6SMK9vRKxywAHAFZ8NzGk2WJINZ97cCCWQykooOMNxVG31W3uNQitoSXkkYKPqa2VPS5ySxOtjX1mwj1NVYICAOo7V6r8NCI/CkMGc+S7Kc/WvHdd1QaNey2USO7xgbnzw3HpXffBrXG1LTdRhkIDxy7gPQEf/Wq7NIicoS23O71WOBmYqAD6iuUu9PhmmzOx9jmuju2DMynqKw7vvXBJ+/dGqpR5TJv9LEuxUHzJ39a8v8AGIkttZVEYhsdq9hD/u19cYrAuPC1pc6u2qXsqFUHCt0r0acdLnPObtymX4LspdL0ubU7w4eReM+lec61rM1xqdw6SkIXOADXV+MPGEbxNp9jhY14JFecO24k+tXsjFyLyavdR4xIcVcTxHLgCVA3vWHSVFkwU2jp4dbhY5c7frVyO9tpvuzKT6ZrjaMkc55qXBFqszud2RwQailcIpLHAFcck8yHKSMD7GpTdXEo2ySsw9Can2ZXtyS8n864dh07VW5oY4bHapkIGO9bKJi3fUjAYnGK39JjEKDd99utUI2CHdtBpI9XEbE+V+tElYEzpWwB7j0pAQSSAcisZPECY+aAn8akHiGHtEwH1qB3NcMNnSlzhODg1jNr8LNzGwFP/t20IHyuD9KAuaoO/nJHuaUbmcjnFZo16y44cfhR/btpz8zc+1KwXNRVbnGDRsPrWZHrdnnJcj6ipP7Zsv8Ant+lFgOQoopaogKKSloAKBRQKAFopBS0DClUZIGcUlLQB0Fz4Xa3gt5ft9o/nJvAD8r9aSPwtcSwmSO5tn5ACiTkk9hWTZWs19dR20Ks8kjBVUdya940D4FWi28M2oX8zz7QzRx/KFP174qlG+40eU3Xw98S2dpJcyaRdCKMZZgmcCuWZCDgjpX2i8cunWIjO6cRxiMKoyzDGOT3rzW/0TwvE7f8UmFYk5MiuM/rSasykkz53wRSV763g7wpqxQnRLizGNpaBjj6nJrgvHHgGLQbdb7TpJZbUttcSYyh7dO1S9Nw5OxwFMan96a1MgSiikoAeDXo3h+wbVYLG0UHMgAOOw715vXt/wAKrR5bEXsigIi+Wh9T3poaO/isFgto4Y4wI41CqPYVA1iS+cAj1znFarylQNwyPWlUoYyAASTQ0mbxm0ZjaeqqAxyKhaAAjjgdBWq23kbcnvmqMq4J/nSUUhubZz+t+H7DWIWS4iGf7w4Oa84vfBl7oGpRahZN50cThwpHNeuuo6daoXSjaQVBB7GnYzPGtauDeajNcFHUP2YY7Vf+GPiWLw34r23L7LW6HlO3ZT2P+fWur1XRra5D/IMmuF1fwsbeNp4227eatvQm2tz6E1C4glUSxyKOMg561iy3ETctIv514BF4p1iCEQreOUUYAJ6Up8Tam/3rls1i6UHLmLVaVrHtt3qMEMLSFx8oz1ry3xP4xuL9mtoHKx55I71zs2s386lZLl2B6jNZxJJrVO2xm5XBnZySSSfWm0vSipuQJRRS0DCkoooEKKmRe9RquTUwHy00MiYZNOQHvTsUpIFUBZR+BVGddsrY6dal83BpJcPHuA5FD1QivRSUtZgFFFFABRSgZpxjYdQaAG0lSFDTdpouAlFd23wk8VDpaRt9JRTD8JvFo6aeD9JFquVjscPRXZN8LvFqDJ0pz9HX/Goj8NvFSjJ0mb8CKVmPlZyVArqH+H3ihRzo9z/3zUB8D+JV66Pdf98Ug5Wc/RW43g/xAn3tJux/2yNQN4b1lPvabdD/ALZGgOVmVSir7aJqa/esbgfWM0RaRfNMiG1mBZgOUNAWZ6L8HNGs31htX1EhEg4g3jhn9fwr6It9U0/OBeW4yMcyAV5VomlppemW1sgx5aDJHc9zWo5s1t5hcQGSUr+6dWxsPqfWtG+hXKd5JqNkc4vLf/v4KpXF9p7qRJdW5HoZBXmc8aLnJByetVd3Ue/FTdD5bHeXN5piE7LmAD0VgaxtQk0+/tJrOVhLHKpUgDNZOnaRLdxyzrhY0UsSenFa050e20u0nsnLXxz5qOMqO1O6asC0Z8965pUuj6rNayqRtOUz3Xsay2r1P4haYb3To72JC80LYbaMkqf/AK9eZSWlwg+aJx9VNZXtoxSj1RAaKmS1nkOEhcn2U1LHpl9JIES0mLHoAhp3RNmVkXcwA6mvpnwPpH9k+FbGBhhynmP9TzXknhH4dave6/afarQpariaVieAoPQ++R0r6DWNUVV4CgYxVJlpW3GugYYz+dVzGyPuBwfpU7Mm75CD7VE8hZjj6YpjQ0y8gt16VDc7WTIxntxQSd+WB46CmlDvy3Ge1Ayq0fcgYqOSFZU246+1XnjDKSDUW7Yc7QeKLgczf6e6scHrXFeK4Wt9JlcyE7uMdMV6jdSQy53cH6VxfivwrqWv2qrp20hTkqTjNFwtc8Sbg0lb+p+D9e0sk3WmzqoP3guR+YrCZSrFWBBHUGpTuZNNbiE0lOxTTmmIKSlpKACiloxQAAUuKXpWjpei3mrziO3Qe7NwBRddQSuZ6naalXLnCqST2Ar0Ox+GSbVe7uiSf4VrpLTwfp9io8pAG9cZNCfYrl7nkQ0nUnUFLOYg99hpraNqOCTay8dflNe3jS0QfK5/GoJICjYI59aerFZHiUenXRkAaCQLnklTxU+rwR2dz5cRGGQNgHpmvVb2xWSJyq/Kw+df6ivJdXs5LHU5oJGLEHIb1HalawMoUtFFIkKKKKAHCrQvpyF+ZTtGBlRVXNFAFr7bLnJCZ/3aPt0v92P/AL5qrSUhn//Z\" width=\"100\"></td><td><audio controls src=\"data/d-672-seq-0.wav\" /></td><td>neutral</td></tr><tr><td>Joey</td><td>But it really</td><td><img src=\"data:image/jpeg;base64,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\" width=\"100\"></td><td><audio controls src=\"data/d-288-seq-4.wav\" /></td><td>neutral</td></tr><tr><td>Ross</td><td>Yes, I suppose I am a dog. But Issac, see I-I happen to have a girlfriend.</td><td><img src=\"data:image/jpeg;base64,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\" width=\"100\"></td><td><audio controls src=\"data/d-735-seq-4.wav\" /></td><td>neutral</td></tr><tr><td>Joey</td><td>Please, help me out, for old times sake.</td><td><img src=\"data:image/jpeg;base64,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\" width=\"100\"></td><td><audio controls src=\"data/d-594-seq-6.wav\" /></td><td>sadness</td></tr><tr><td>Rachel</td><td>Im just doing it to get back at Ross.</td><td><img src=\"data:image/jpeg;base64,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\" width=\"100\"></td><td><audio controls src=\"data/d-379-seq-4.wav\" /></td><td>sadness</td></tr><tr><td>Rachel</td><td>You know? Forget it!</td><td><img src=\"data:image/jpeg;base64,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\" width=\"100\"></td><td><audio controls src=\"data/d-1-seq-1.wav\" /></td><td>sadness</td></tr><tr><td>Monica</td><td>Really?!</td><td><img src=\"data:image/jpeg;base64,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\" width=\"100\"></td><td><audio controls src=\"data/d-347-seq-2.wav\" /></td><td>surprise</td></tr><tr><td>Monica</td><td>The best man? Wow!</td><td><img src=\"data:image/jpeg;base64,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\" width=\"100\"></td><td><audio controls src=\"data/d-657-seq-11.wav\" /></td><td>surprise</td></tr><tr><td>Joey</td><td>Oohh!! Ohh! Oh-oh-oh! Oh-oh!!</td><td><img src=\"data:image/jpeg;base64,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\" width=\"100\"></td><td><audio controls src=\"data/d-574-seq-4.wav\" /></td><td>surprise</td></tr></table>"
            ]
          },
          "metadata": {}
        }
      ]
    },
    {
      "cell_type": "markdown",
      "source": [
        "# Choosing the Metric of Success\n",
        "\n",
        "The chosen metric of success for the **HLM12ERC** project, as outlined in the document, is **`Accuracy`**, in the form it's calculated by the `scikit-learn` library[3].\n",
        "\n",
        "The document establishes the criteria for comparative success between different approaches, such as Advanced Textual Embeddings, based on their ability to achieve superior Accuracy scores over the MELD Test Split. This choice clearly aligns with the principles described by Francois Chollet in \"Choosing the Metric of Success\"[4], where the selection of a suitable metric is vital for effectively guiding the optimization of machine learning models and for a fair comparative analysis of different methods."
      ],
      "metadata": {
        "id": "NBZ8i931lySa"
      }
    },
    {
      "cell_type": "code",
      "source": [
        "import inspect\n",
        "from hlm12erc.training import ERCEvaluator\n",
        "from IPython.display import Code\n",
        "\n",
        "class_code = inspect.getsource(ERCEvaluator)\n",
        "Code(class_code, language=\"python\")"
      ],
      "metadata": {
        "colab": {
          "base_uri": "https://localhost:8080/",
          "height": 1000
        },
        "id": "sUmJf6i9Vz2V",
        "outputId": "2db26b86-25b8-4af8-9ca9-390acba5b63c"
      },
      "execution_count": null,
      "outputs": [
        {
          "output_type": "execute_result",
          "data": {
            "text/plain": [
              "class ERCEvaluator:\n",
              "    model: ERCModel\n",
              "    label_encoder: ERCLabelEncoder\n",
              "    data_collator: ERCDataCollator\n",
              "\n",
              "    def __init__(self, model: ERCModel) -> None:\n",
              "        self.model = model\n",
              "        self.label_encoder = model.label_encoder\n",
              "        self.data_collator = ERCDataCollator(label_encoder=model.label_encoder, config=model.config)\n",
              "\n",
              "    def evaluate(\n",
              "        self,\n",
              "        dataset: MeldDataset,\n",
              "        batch_size: int = 4,\n",
              "        device: torch.device | None = None,\n",
              "        output_dict: bool = False,\n",
              "    ) -> Dict[str, Any] | None:\n",
              "        \"\"\"\n",
              "        Evaluates the model on the given dataset.\n",
              "\n",
              "        :param dataset: The dataset to evaluate on, usually the test split.\n",
              "        :param batch_size: The size of the batches that will be run against the model\n",
              "        :param device: The device to run the data collation on\n",
              "        :param output_dict: Whether to return the classification report dictionary\n",
              "        :return: The classification report dictionary, unless print_only=True\n",
              "        \"\"\"\n",
              "        if device is not None:\n",
              "            self.model.to(device)\n",
              "\n",
              "        emotions = self.label_encoder.classes\n",
              "        labels, preds = None, None\n",
              "        with torch.no_grad():\n",
              "            labels, preds = self._collect_labels_and_preds(dataset, device, batch_size)\n",
              "\n",
              "        return self._report_on_results(emotions, labels, preds, output_dict)\n",
              "\n",
              "    def _collect_labels_and_preds(self, dataset, device, batch_size) -> Tuple[List[List[int]], List[List[int]]]:\n",
              "        \"\"\"\n",
              "        Collects the one hot encodings of the true labels and the prediction softmax distributions,\n",
              "        stack them and run an argmax (on axis 1) to get the integers representing the labels.\n",
              "\n",
              "        :param dataset: The dataset to evaluate on, usually the test split.\n",
              "        :param device: The device to run the data collation on\n",
              "        :param batch_size: The size of the batches that will be run against the model\n",
              "        :return: A tuple of two lists, the first being the true labels and the second being the predicted labels\n",
              "        \"\"\"\n",
              "        y_true, y_pred = [], []\n",
              "        for start in trange(0, len(dataset), batch_size, desc=\"evaluating\"):\n",
              "            end = start + batch_size\n",
              "            batch_records = dataset[start:end]\n",
              "            batch_collated = self.data_collator(batch_records, device=device)\n",
              "            y_true.extend(batch_collated[\"y_true\"])\n",
              "            y_pred.extend(self.model(**batch_collated).labels)\n",
              "        labels = torch.stack(y_true, dim=0).argmax(dim=1).tolist()\n",
              "        preds = torch.stack(y_pred, dim=0).argmax(dim=1).tolist()\n",
              "        return labels, preds\n",
              "\n",
              "    def _report_on_results(\n",
              "        self,\n",
              "        emotions: List[str],\n",
              "        labels: List[List[int]],\n",
              "        preds: List[List[int]],\n",
              "        output_dict: bool,\n",
              "    ) -> Dict[str, Any] | None:\n",
              "        \"\"\"\n",
              "        Prints the classification report and returns the report dictionary.\n",
              "\n",
              "        :param emotions: The list of emotions\n",
              "        :param labels: The true labels\n",
              "        :param preds: The predicted labels\n",
              "        :param output_dict: Whether to return the classification report dictionary\n",
              "        :return: The classification report dictionary\n",
              "        \"\"\"\n",
              "        print(classification_report(y_true=labels, y_pred=preds, target_names=emotions))\n",
              "        if output_dict:\n",
              "            return classification_report(y_true=labels, y_pred=preds, target_names=emotions, output_dict=True)"
            ],
            "text/html": [
              "<style>pre { line-height: 125%; }\n",
              "td.linenos .normal { color: inherit; background-color: transparent; padding-left: 5px; padding-right: 5px; }\n",
              "span.linenos { color: inherit; background-color: transparent; padding-left: 5px; padding-right: 5px; }\n",
              "td.linenos .special { color: #000000; background-color: #ffffc0; padding-left: 5px; padding-right: 5px; }\n",
              "span.linenos.special { color: #000000; background-color: #ffffc0; padding-left: 5px; padding-right: 5px; }\n",
              ".output_html .hll { background-color: #ffffcc }\n",
              ".output_html { background: #f8f8f8; }\n",
              ".output_html .c { color: #3D7B7B; font-style: italic } /* Comment */\n",
              ".output_html .err { border: 1px solid #FF0000 } /* Error */\n",
              ".output_html .k { color: #008000; font-weight: bold } /* Keyword */\n",
              ".output_html .o { color: #666666 } /* Operator */\n",
              ".output_html .ch { color: #3D7B7B; font-style: italic } /* Comment.Hashbang */\n",
              ".output_html .cm { color: #3D7B7B; font-style: italic } /* Comment.Multiline */\n",
              ".output_html .cp { color: #9C6500 } /* Comment.Preproc */\n",
              ".output_html .cpf { color: #3D7B7B; font-style: italic } /* Comment.PreprocFile */\n",
              ".output_html .c1 { color: #3D7B7B; font-style: italic } /* Comment.Single */\n",
              ".output_html .cs { color: #3D7B7B; font-style: italic } /* Comment.Special */\n",
              ".output_html .gd { color: #A00000 } /* Generic.Deleted */\n",
              ".output_html .ge { font-style: italic } /* Generic.Emph */\n",
              ".output_html .ges { font-weight: bold; font-style: italic } /* Generic.EmphStrong */\n",
              ".output_html .gr { color: #E40000 } /* Generic.Error */\n",
              ".output_html .gh { color: #000080; font-weight: bold } /* Generic.Heading */\n",
              ".output_html .gi { color: #008400 } /* Generic.Inserted */\n",
              ".output_html .go { color: #717171 } /* Generic.Output */\n",
              ".output_html .gp { color: #000080; font-weight: bold } /* Generic.Prompt */\n",
              ".output_html .gs { font-weight: bold } /* Generic.Strong */\n",
              ".output_html .gu { color: #800080; font-weight: bold } /* Generic.Subheading */\n",
              ".output_html .gt { color: #0044DD } /* Generic.Traceback */\n",
              ".output_html .kc { color: #008000; font-weight: bold } /* Keyword.Constant */\n",
              ".output_html .kd { color: #008000; font-weight: bold } /* Keyword.Declaration */\n",
              ".output_html .kn { color: #008000; font-weight: bold } /* Keyword.Namespace */\n",
              ".output_html .kp { color: #008000 } /* Keyword.Pseudo */\n",
              ".output_html .kr { color: #008000; font-weight: bold } /* Keyword.Reserved */\n",
              ".output_html .kt { color: #B00040 } /* Keyword.Type */\n",
              ".output_html .m { color: #666666 } /* Literal.Number */\n",
              ".output_html .s { color: #BA2121 } /* Literal.String */\n",
              ".output_html .na { color: #687822 } /* Name.Attribute */\n",
              ".output_html .nb { color: #008000 } /* Name.Builtin */\n",
              ".output_html .nc { color: #0000FF; font-weight: bold } /* Name.Class */\n",
              ".output_html .no { color: #880000 } /* Name.Constant */\n",
              ".output_html .nd { color: #AA22FF } /* Name.Decorator */\n",
              ".output_html .ni { color: #717171; font-weight: bold } /* Name.Entity */\n",
              ".output_html .ne { color: #CB3F38; font-weight: bold } /* Name.Exception */\n",
              ".output_html .nf { color: #0000FF } /* Name.Function */\n",
              ".output_html .nl { color: #767600 } /* Name.Label */\n",
              ".output_html .nn { color: #0000FF; font-weight: bold } /* Name.Namespace */\n",
              ".output_html .nt { color: #008000; font-weight: bold } /* Name.Tag */\n",
              ".output_html .nv { color: #19177C } /* Name.Variable */\n",
              ".output_html .ow { color: #AA22FF; font-weight: bold } /* Operator.Word */\n",
              ".output_html .w { color: #bbbbbb } /* Text.Whitespace */\n",
              ".output_html .mb { color: #666666 } /* Literal.Number.Bin */\n",
              ".output_html .mf { color: #666666 } /* Literal.Number.Float */\n",
              ".output_html .mh { color: #666666 } /* Literal.Number.Hex */\n",
              ".output_html .mi { color: #666666 } /* Literal.Number.Integer */\n",
              ".output_html .mo { color: #666666 } /* Literal.Number.Oct */\n",
              ".output_html .sa { color: #BA2121 } /* Literal.String.Affix */\n",
              ".output_html .sb { color: #BA2121 } /* Literal.String.Backtick */\n",
              ".output_html .sc { color: #BA2121 } /* Literal.String.Char */\n",
              ".output_html .dl { color: #BA2121 } /* Literal.String.Delimiter */\n",
              ".output_html .sd { color: #BA2121; font-style: italic } /* Literal.String.Doc */\n",
              ".output_html .s2 { color: #BA2121 } /* Literal.String.Double */\n",
              ".output_html .se { color: #AA5D1F; font-weight: bold } /* Literal.String.Escape */\n",
              ".output_html .sh { color: #BA2121 } /* Literal.String.Heredoc */\n",
              ".output_html .si { color: #A45A77; font-weight: bold } /* Literal.String.Interpol */\n",
              ".output_html .sx { color: #008000 } /* Literal.String.Other */\n",
              ".output_html .sr { color: #A45A77 } /* Literal.String.Regex */\n",
              ".output_html .s1 { color: #BA2121 } /* Literal.String.Single */\n",
              ".output_html .ss { color: #19177C } /* Literal.String.Symbol */\n",
              ".output_html .bp { color: #008000 } /* Name.Builtin.Pseudo */\n",
              ".output_html .fm { color: #0000FF } /* Name.Function.Magic */\n",
              ".output_html .vc { color: #19177C } /* Name.Variable.Class */\n",
              ".output_html .vg { color: #19177C } /* Name.Variable.Global */\n",
              ".output_html .vi { color: #19177C } /* Name.Variable.Instance */\n",
              ".output_html .vm { color: #19177C } /* Name.Variable.Magic */\n",
              ".output_html .il { color: #666666 } /* Literal.Number.Integer.Long */</style><div class=\"highlight\"><pre><span></span><span class=\"k\">class</span> <span class=\"nc\">ERCEvaluator</span><span class=\"p\">:</span>\n",
              "    <span class=\"n\">model</span><span class=\"p\">:</span> <span class=\"n\">ERCModel</span>\n",
              "    <span class=\"n\">label_encoder</span><span class=\"p\">:</span> <span class=\"n\">ERCLabelEncoder</span>\n",
              "    <span class=\"n\">data_collator</span><span class=\"p\">:</span> <span class=\"n\">ERCDataCollator</span>\n",
              "\n",
              "    <span class=\"k\">def</span> <span class=\"fm\">__init__</span><span class=\"p\">(</span><span class=\"bp\">self</span><span class=\"p\">,</span> <span class=\"n\">model</span><span class=\"p\">:</span> <span class=\"n\">ERCModel</span><span class=\"p\">)</span> <span class=\"o\">-&gt;</span> <span class=\"kc\">None</span><span class=\"p\">:</span>\n",
              "        <span class=\"bp\">self</span><span class=\"o\">.</span><span class=\"n\">model</span> <span class=\"o\">=</span> <span class=\"n\">model</span>\n",
              "        <span class=\"bp\">self</span><span class=\"o\">.</span><span class=\"n\">label_encoder</span> <span class=\"o\">=</span> <span class=\"n\">model</span><span class=\"o\">.</span><span class=\"n\">label_encoder</span>\n",
              "        <span class=\"bp\">self</span><span class=\"o\">.</span><span class=\"n\">data_collator</span> <span class=\"o\">=</span> <span class=\"n\">ERCDataCollator</span><span class=\"p\">(</span><span class=\"n\">label_encoder</span><span class=\"o\">=</span><span class=\"n\">model</span><span class=\"o\">.</span><span class=\"n\">label_encoder</span><span class=\"p\">,</span> <span class=\"n\">config</span><span class=\"o\">=</span><span class=\"n\">model</span><span class=\"o\">.</span><span class=\"n\">config</span><span class=\"p\">)</span>\n",
              "\n",
              "    <span class=\"k\">def</span> <span class=\"nf\">evaluate</span><span class=\"p\">(</span>\n",
              "        <span class=\"bp\">self</span><span class=\"p\">,</span>\n",
              "        <span class=\"n\">dataset</span><span class=\"p\">:</span> <span class=\"n\">MeldDataset</span><span class=\"p\">,</span>\n",
              "        <span class=\"n\">batch_size</span><span class=\"p\">:</span> <span class=\"nb\">int</span> <span class=\"o\">=</span> <span class=\"mi\">4</span><span class=\"p\">,</span>\n",
              "        <span class=\"n\">device</span><span class=\"p\">:</span> <span class=\"n\">torch</span><span class=\"o\">.</span><span class=\"n\">device</span> <span class=\"o\">|</span> <span class=\"kc\">None</span> <span class=\"o\">=</span> <span class=\"kc\">None</span><span class=\"p\">,</span>\n",
              "        <span class=\"n\">output_dict</span><span class=\"p\">:</span> <span class=\"nb\">bool</span> <span class=\"o\">=</span> <span class=\"kc\">False</span><span class=\"p\">,</span>\n",
              "    <span class=\"p\">)</span> <span class=\"o\">-&gt;</span> <span class=\"n\">Dict</span><span class=\"p\">[</span><span class=\"nb\">str</span><span class=\"p\">,</span> <span class=\"n\">Any</span><span class=\"p\">]</span> <span class=\"o\">|</span> <span class=\"kc\">None</span><span class=\"p\">:</span>\n",
              "<span class=\"w\">        </span><span class=\"sd\">&quot;&quot;&quot;</span>\n",
              "<span class=\"sd\">        Evaluates the model on the given dataset.</span>\n",
              "\n",
              "<span class=\"sd\">        :param dataset: The dataset to evaluate on, usually the test split.</span>\n",
              "<span class=\"sd\">        :param batch_size: The size of the batches that will be run against the model</span>\n",
              "<span class=\"sd\">        :param device: The device to run the data collation on</span>\n",
              "<span class=\"sd\">        :param output_dict: Whether to return the classification report dictionary</span>\n",
              "<span class=\"sd\">        :return: The classification report dictionary, unless print_only=True</span>\n",
              "<span class=\"sd\">        &quot;&quot;&quot;</span>\n",
              "        <span class=\"k\">if</span> <span class=\"n\">device</span> <span class=\"ow\">is</span> <span class=\"ow\">not</span> <span class=\"kc\">None</span><span class=\"p\">:</span>\n",
              "            <span class=\"bp\">self</span><span class=\"o\">.</span><span class=\"n\">model</span><span class=\"o\">.</span><span class=\"n\">to</span><span class=\"p\">(</span><span class=\"n\">device</span><span class=\"p\">)</span>\n",
              "\n",
              "        <span class=\"n\">emotions</span> <span class=\"o\">=</span> <span class=\"bp\">self</span><span class=\"o\">.</span><span class=\"n\">label_encoder</span><span class=\"o\">.</span><span class=\"n\">classes</span>\n",
              "        <span class=\"n\">labels</span><span class=\"p\">,</span> <span class=\"n\">preds</span> <span class=\"o\">=</span> <span class=\"kc\">None</span><span class=\"p\">,</span> <span class=\"kc\">None</span>\n",
              "        <span class=\"k\">with</span> <span class=\"n\">torch</span><span class=\"o\">.</span><span class=\"n\">no_grad</span><span class=\"p\">():</span>\n",
              "            <span class=\"n\">labels</span><span class=\"p\">,</span> <span class=\"n\">preds</span> <span class=\"o\">=</span> <span class=\"bp\">self</span><span class=\"o\">.</span><span class=\"n\">_collect_labels_and_preds</span><span class=\"p\">(</span><span class=\"n\">dataset</span><span class=\"p\">,</span> <span class=\"n\">device</span><span class=\"p\">,</span> <span class=\"n\">batch_size</span><span class=\"p\">)</span>\n",
              "\n",
              "        <span class=\"k\">return</span> <span class=\"bp\">self</span><span class=\"o\">.</span><span class=\"n\">_report_on_results</span><span class=\"p\">(</span><span class=\"n\">emotions</span><span class=\"p\">,</span> <span class=\"n\">labels</span><span class=\"p\">,</span> <span class=\"n\">preds</span><span class=\"p\">,</span> <span class=\"n\">output_dict</span><span class=\"p\">)</span>\n",
              "\n",
              "    <span class=\"k\">def</span> <span class=\"nf\">_collect_labels_and_preds</span><span class=\"p\">(</span><span class=\"bp\">self</span><span class=\"p\">,</span> <span class=\"n\">dataset</span><span class=\"p\">,</span> <span class=\"n\">device</span><span class=\"p\">,</span> <span class=\"n\">batch_size</span><span class=\"p\">)</span> <span class=\"o\">-&gt;</span> <span class=\"n\">Tuple</span><span class=\"p\">[</span><span class=\"n\">List</span><span class=\"p\">[</span><span class=\"n\">List</span><span class=\"p\">[</span><span class=\"nb\">int</span><span class=\"p\">]],</span> <span class=\"n\">List</span><span class=\"p\">[</span><span class=\"n\">List</span><span class=\"p\">[</span><span class=\"nb\">int</span><span class=\"p\">]]]:</span>\n",
              "<span class=\"w\">        </span><span class=\"sd\">&quot;&quot;&quot;</span>\n",
              "<span class=\"sd\">        Collects the one hot encodings of the true labels and the prediction softmax distributions,</span>\n",
              "<span class=\"sd\">        stack them and run an argmax (on axis 1) to get the integers representing the labels.</span>\n",
              "\n",
              "<span class=\"sd\">        :param dataset: The dataset to evaluate on, usually the test split.</span>\n",
              "<span class=\"sd\">        :param device: The device to run the data collation on</span>\n",
              "<span class=\"sd\">        :param batch_size: The size of the batches that will be run against the model</span>\n",
              "<span class=\"sd\">        :return: A tuple of two lists, the first being the true labels and the second being the predicted labels</span>\n",
              "<span class=\"sd\">        &quot;&quot;&quot;</span>\n",
              "        <span class=\"n\">y_true</span><span class=\"p\">,</span> <span class=\"n\">y_pred</span> <span class=\"o\">=</span> <span class=\"p\">[],</span> <span class=\"p\">[]</span>\n",
              "        <span class=\"k\">for</span> <span class=\"n\">start</span> <span class=\"ow\">in</span> <span class=\"n\">trange</span><span class=\"p\">(</span><span class=\"mi\">0</span><span class=\"p\">,</span> <span class=\"nb\">len</span><span class=\"p\">(</span><span class=\"n\">dataset</span><span class=\"p\">),</span> <span class=\"n\">batch_size</span><span class=\"p\">,</span> <span class=\"n\">desc</span><span class=\"o\">=</span><span class=\"s2\">&quot;evaluating&quot;</span><span class=\"p\">):</span>\n",
              "            <span class=\"n\">end</span> <span class=\"o\">=</span> <span class=\"n\">start</span> <span class=\"o\">+</span> <span class=\"n\">batch_size</span>\n",
              "            <span class=\"n\">batch_records</span> <span class=\"o\">=</span> <span class=\"n\">dataset</span><span class=\"p\">[</span><span class=\"n\">start</span><span class=\"p\">:</span><span class=\"n\">end</span><span class=\"p\">]</span>\n",
              "            <span class=\"n\">batch_collated</span> <span class=\"o\">=</span> <span class=\"bp\">self</span><span class=\"o\">.</span><span class=\"n\">data_collator</span><span class=\"p\">(</span><span class=\"n\">batch_records</span><span class=\"p\">,</span> <span class=\"n\">device</span><span class=\"o\">=</span><span class=\"n\">device</span><span class=\"p\">)</span>\n",
              "            <span class=\"n\">y_true</span><span class=\"o\">.</span><span class=\"n\">extend</span><span class=\"p\">(</span><span class=\"n\">batch_collated</span><span class=\"p\">[</span><span class=\"s2\">&quot;y_true&quot;</span><span class=\"p\">])</span>\n",
              "            <span class=\"n\">y_pred</span><span class=\"o\">.</span><span class=\"n\">extend</span><span class=\"p\">(</span><span class=\"bp\">self</span><span class=\"o\">.</span><span class=\"n\">model</span><span class=\"p\">(</span><span class=\"o\">**</span><span class=\"n\">batch_collated</span><span class=\"p\">)</span><span class=\"o\">.</span><span class=\"n\">labels</span><span class=\"p\">)</span>\n",
              "        <span class=\"n\">labels</span> <span class=\"o\">=</span> <span class=\"n\">torch</span><span class=\"o\">.</span><span class=\"n\">stack</span><span class=\"p\">(</span><span class=\"n\">y_true</span><span class=\"p\">,</span> <span class=\"n\">dim</span><span class=\"o\">=</span><span class=\"mi\">0</span><span class=\"p\">)</span><span class=\"o\">.</span><span class=\"n\">argmax</span><span class=\"p\">(</span><span class=\"n\">dim</span><span class=\"o\">=</span><span class=\"mi\">1</span><span class=\"p\">)</span><span class=\"o\">.</span><span class=\"n\">tolist</span><span class=\"p\">()</span>\n",
              "        <span class=\"n\">preds</span> <span class=\"o\">=</span> <span class=\"n\">torch</span><span class=\"o\">.</span><span class=\"n\">stack</span><span class=\"p\">(</span><span class=\"n\">y_pred</span><span class=\"p\">,</span> <span class=\"n\">dim</span><span class=\"o\">=</span><span class=\"mi\">0</span><span class=\"p\">)</span><span class=\"o\">.</span><span class=\"n\">argmax</span><span class=\"p\">(</span><span class=\"n\">dim</span><span class=\"o\">=</span><span class=\"mi\">1</span><span class=\"p\">)</span><span class=\"o\">.</span><span class=\"n\">tolist</span><span class=\"p\">()</span>\n",
              "        <span class=\"k\">return</span> <span class=\"n\">labels</span><span class=\"p\">,</span> <span class=\"n\">preds</span>\n",
              "\n",
              "    <span class=\"k\">def</span> <span class=\"nf\">_report_on_results</span><span class=\"p\">(</span>\n",
              "        <span class=\"bp\">self</span><span class=\"p\">,</span>\n",
              "        <span class=\"n\">emotions</span><span class=\"p\">:</span> <span class=\"n\">List</span><span class=\"p\">[</span><span class=\"nb\">str</span><span class=\"p\">],</span>\n",
              "        <span class=\"n\">labels</span><span class=\"p\">:</span> <span class=\"n\">List</span><span class=\"p\">[</span><span class=\"n\">List</span><span class=\"p\">[</span><span class=\"nb\">int</span><span class=\"p\">]],</span>\n",
              "        <span class=\"n\">preds</span><span class=\"p\">:</span> <span class=\"n\">List</span><span class=\"p\">[</span><span class=\"n\">List</span><span class=\"p\">[</span><span class=\"nb\">int</span><span class=\"p\">]],</span>\n",
              "        <span class=\"n\">output_dict</span><span class=\"p\">:</span> <span class=\"nb\">bool</span><span class=\"p\">,</span>\n",
              "    <span class=\"p\">)</span> <span class=\"o\">-&gt;</span> <span class=\"n\">Dict</span><span class=\"p\">[</span><span class=\"nb\">str</span><span class=\"p\">,</span> <span class=\"n\">Any</span><span class=\"p\">]</span> <span class=\"o\">|</span> <span class=\"kc\">None</span><span class=\"p\">:</span>\n",
              "<span class=\"w\">        </span><span class=\"sd\">&quot;&quot;&quot;</span>\n",
              "<span class=\"sd\">        Prints the classification report and returns the report dictionary.</span>\n",
              "\n",
              "<span class=\"sd\">        :param emotions: The list of emotions</span>\n",
              "<span class=\"sd\">        :param labels: The true labels</span>\n",
              "<span class=\"sd\">        :param preds: The predicted labels</span>\n",
              "<span class=\"sd\">        :param output_dict: Whether to return the classification report dictionary</span>\n",
              "<span class=\"sd\">        :return: The classification report dictionary</span>\n",
              "<span class=\"sd\">        &quot;&quot;&quot;</span>\n",
              "        <span class=\"nb\">print</span><span class=\"p\">(</span><span class=\"n\">classification_report</span><span class=\"p\">(</span><span class=\"n\">y_true</span><span class=\"o\">=</span><span class=\"n\">labels</span><span class=\"p\">,</span> <span class=\"n\">y_pred</span><span class=\"o\">=</span><span class=\"n\">preds</span><span class=\"p\">,</span> <span class=\"n\">target_names</span><span class=\"o\">=</span><span class=\"n\">emotions</span><span class=\"p\">))</span>\n",
              "        <span class=\"k\">if</span> <span class=\"n\">output_dict</span><span class=\"p\">:</span>\n",
              "            <span class=\"k\">return</span> <span class=\"n\">classification_report</span><span class=\"p\">(</span><span class=\"n\">y_true</span><span class=\"o\">=</span><span class=\"n\">labels</span><span class=\"p\">,</span> <span class=\"n\">y_pred</span><span class=\"o\">=</span><span class=\"n\">preds</span><span class=\"p\">,</span> <span class=\"n\">target_names</span><span class=\"o\">=</span><span class=\"n\">emotions</span><span class=\"p\">,</span> <span class=\"n\">output_dict</span><span class=\"o\">=</span><span class=\"kc\">True</span><span class=\"p\">)</span>\n",
              "</pre></div>\n"
            ],
            "text/latex": "\\begin{Verbatim}[commandchars=\\\\\\{\\}]\n\\PY{k}{class} \\PY{n+nc}{ERCEvaluator}\\PY{p}{:}\n    \\PY{n}{model}\\PY{p}{:} \\PY{n}{ERCModel}\n    \\PY{n}{label\\PYZus{}encoder}\\PY{p}{:} \\PY{n}{ERCLabelEncoder}\n    \\PY{n}{data\\PYZus{}collator}\\PY{p}{:} \\PY{n}{ERCDataCollator}\n\n    \\PY{k}{def} \\PY{n+nf+fm}{\\PYZus{}\\PYZus{}init\\PYZus{}\\PYZus{}}\\PY{p}{(}\\PY{n+nb+bp}{self}\\PY{p}{,} \\PY{n}{model}\\PY{p}{:} \\PY{n}{ERCModel}\\PY{p}{)} \\PY{o}{\\PYZhy{}}\\PY{o}{\\PYZgt{}} \\PY{k+kc}{None}\\PY{p}{:}\n        \\PY{n+nb+bp}{self}\\PY{o}{.}\\PY{n}{model} \\PY{o}{=} \\PY{n}{model}\n        \\PY{n+nb+bp}{self}\\PY{o}{.}\\PY{n}{label\\PYZus{}encoder} \\PY{o}{=} \\PY{n}{model}\\PY{o}{.}\\PY{n}{label\\PYZus{}encoder}\n        \\PY{n+nb+bp}{self}\\PY{o}{.}\\PY{n}{data\\PYZus{}collator} \\PY{o}{=} \\PY{n}{ERCDataCollator}\\PY{p}{(}\\PY{n}{label\\PYZus{}encoder}\\PY{o}{=}\\PY{n}{model}\\PY{o}{.}\\PY{n}{label\\PYZus{}encoder}\\PY{p}{,} \\PY{n}{config}\\PY{o}{=}\\PY{n}{model}\\PY{o}{.}\\PY{n}{config}\\PY{p}{)}\n\n    \\PY{k}{def} \\PY{n+nf}{evaluate}\\PY{p}{(}\n        \\PY{n+nb+bp}{self}\\PY{p}{,}\n        \\PY{n}{dataset}\\PY{p}{:} \\PY{n}{MeldDataset}\\PY{p}{,}\n        \\PY{n}{batch\\PYZus{}size}\\PY{p}{:} \\PY{n+nb}{int} \\PY{o}{=} \\PY{l+m+mi}{4}\\PY{p}{,}\n        \\PY{n}{device}\\PY{p}{:} \\PY{n}{torch}\\PY{o}{.}\\PY{n}{device} \\PY{o}{|} \\PY{k+kc}{None} \\PY{o}{=} \\PY{k+kc}{None}\\PY{p}{,}\n        \\PY{n}{output\\PYZus{}dict}\\PY{p}{:} \\PY{n+nb}{bool} \\PY{o}{=} \\PY{k+kc}{False}\\PY{p}{,}\n    \\PY{p}{)} \\PY{o}{\\PYZhy{}}\\PY{o}{\\PYZgt{}} \\PY{n}{Dict}\\PY{p}{[}\\PY{n+nb}{str}\\PY{p}{,} \\PY{n}{Any}\\PY{p}{]} \\PY{o}{|} \\PY{k+kc}{None}\\PY{p}{:}\n\\PY{+w}{        }\\PY{l+s+sd}{\\PYZdq{}\\PYZdq{}\\PYZdq{}}\n\\PY{l+s+sd}{        Evaluates the model on the given dataset.}\n\n\\PY{l+s+sd}{        :param dataset: The dataset to evaluate on, usually the test split.}\n\\PY{l+s+sd}{        :param batch\\PYZus{}size: The size of the batches that will be run against the model}\n\\PY{l+s+sd}{        :param device: The device to run the data collation on}\n\\PY{l+s+sd}{        :param output\\PYZus{}dict: Whether to return the classification report dictionary}\n\\PY{l+s+sd}{        :return: The classification report dictionary, unless print\\PYZus{}only=True}\n\\PY{l+s+sd}{        \\PYZdq{}\\PYZdq{}\\PYZdq{}}\n        \\PY{k}{if} \\PY{n}{device} \\PY{o+ow}{is} \\PY{o+ow}{not} \\PY{k+kc}{None}\\PY{p}{:}\n            \\PY{n+nb+bp}{self}\\PY{o}{.}\\PY{n}{model}\\PY{o}{.}\\PY{n}{to}\\PY{p}{(}\\PY{n}{device}\\PY{p}{)}\n\n        \\PY{n}{emotions} \\PY{o}{=} \\PY{n+nb+bp}{self}\\PY{o}{.}\\PY{n}{label\\PYZus{}encoder}\\PY{o}{.}\\PY{n}{classes}\n        \\PY{n}{labels}\\PY{p}{,} \\PY{n}{preds} \\PY{o}{=} \\PY{k+kc}{None}\\PY{p}{,} \\PY{k+kc}{None}\n        \\PY{k}{with} \\PY{n}{torch}\\PY{o}{.}\\PY{n}{no\\PYZus{}grad}\\PY{p}{(}\\PY{p}{)}\\PY{p}{:}\n            \\PY{n}{labels}\\PY{p}{,} \\PY{n}{preds} \\PY{o}{=} \\PY{n+nb+bp}{self}\\PY{o}{.}\\PY{n}{\\PYZus{}collect\\PYZus{}labels\\PYZus{}and\\PYZus{}preds}\\PY{p}{(}\\PY{n}{dataset}\\PY{p}{,} \\PY{n}{device}\\PY{p}{,} \\PY{n}{batch\\PYZus{}size}\\PY{p}{)}\n\n        \\PY{k}{return} \\PY{n+nb+bp}{self}\\PY{o}{.}\\PY{n}{\\PYZus{}report\\PYZus{}on\\PYZus{}results}\\PY{p}{(}\\PY{n}{emotions}\\PY{p}{,} \\PY{n}{labels}\\PY{p}{,} \\PY{n}{preds}\\PY{p}{,} \\PY{n}{output\\PYZus{}dict}\\PY{p}{)}\n\n    \\PY{k}{def} \\PY{n+nf}{\\PYZus{}collect\\PYZus{}labels\\PYZus{}and\\PYZus{}preds}\\PY{p}{(}\\PY{n+nb+bp}{self}\\PY{p}{,} \\PY{n}{dataset}\\PY{p}{,} \\PY{n}{device}\\PY{p}{,} \\PY{n}{batch\\PYZus{}size}\\PY{p}{)} \\PY{o}{\\PYZhy{}}\\PY{o}{\\PYZgt{}} \\PY{n}{Tuple}\\PY{p}{[}\\PY{n}{List}\\PY{p}{[}\\PY{n}{List}\\PY{p}{[}\\PY{n+nb}{int}\\PY{p}{]}\\PY{p}{]}\\PY{p}{,} \\PY{n}{List}\\PY{p}{[}\\PY{n}{List}\\PY{p}{[}\\PY{n+nb}{int}\\PY{p}{]}\\PY{p}{]}\\PY{p}{]}\\PY{p}{:}\n\\PY{+w}{        }\\PY{l+s+sd}{\\PYZdq{}\\PYZdq{}\\PYZdq{}}\n\\PY{l+s+sd}{        Collects the one hot encodings of the true labels and the prediction softmax distributions,}\n\\PY{l+s+sd}{        stack them and run an argmax (on axis 1) to get the integers representing the labels.}\n\n\\PY{l+s+sd}{        :param dataset: The dataset to evaluate on, usually the test split.}\n\\PY{l+s+sd}{        :param device: The device to run the data collation on}\n\\PY{l+s+sd}{        :param batch\\PYZus{}size: The size of the batches that will be run against the model}\n\\PY{l+s+sd}{        :return: A tuple of two lists, the first being the true labels and the second being the predicted labels}\n\\PY{l+s+sd}{        \\PYZdq{}\\PYZdq{}\\PYZdq{}}\n        \\PY{n}{y\\PYZus{}true}\\PY{p}{,} \\PY{n}{y\\PYZus{}pred} \\PY{o}{=} \\PY{p}{[}\\PY{p}{]}\\PY{p}{,} \\PY{p}{[}\\PY{p}{]}\n        \\PY{k}{for} \\PY{n}{start} \\PY{o+ow}{in} \\PY{n}{trange}\\PY{p}{(}\\PY{l+m+mi}{0}\\PY{p}{,} \\PY{n+nb}{len}\\PY{p}{(}\\PY{n}{dataset}\\PY{p}{)}\\PY{p}{,} \\PY{n}{batch\\PYZus{}size}\\PY{p}{,} \\PY{n}{desc}\\PY{o}{=}\\PY{l+s+s2}{\\PYZdq{}}\\PY{l+s+s2}{evaluating}\\PY{l+s+s2}{\\PYZdq{}}\\PY{p}{)}\\PY{p}{:}\n            \\PY{n}{end} \\PY{o}{=} \\PY{n}{start} \\PY{o}{+} \\PY{n}{batch\\PYZus{}size}\n            \\PY{n}{batch\\PYZus{}records} \\PY{o}{=} \\PY{n}{dataset}\\PY{p}{[}\\PY{n}{start}\\PY{p}{:}\\PY{n}{end}\\PY{p}{]}\n            \\PY{n}{batch\\PYZus{}collated} \\PY{o}{=} \\PY{n+nb+bp}{self}\\PY{o}{.}\\PY{n}{data\\PYZus{}collator}\\PY{p}{(}\\PY{n}{batch\\PYZus{}records}\\PY{p}{,} \\PY{n}{device}\\PY{o}{=}\\PY{n}{device}\\PY{p}{)}\n            \\PY{n}{y\\PYZus{}true}\\PY{o}{.}\\PY{n}{extend}\\PY{p}{(}\\PY{n}{batch\\PYZus{}collated}\\PY{p}{[}\\PY{l+s+s2}{\\PYZdq{}}\\PY{l+s+s2}{y\\PYZus{}true}\\PY{l+s+s2}{\\PYZdq{}}\\PY{p}{]}\\PY{p}{)}\n            \\PY{n}{y\\PYZus{}pred}\\PY{o}{.}\\PY{n}{extend}\\PY{p}{(}\\PY{n+nb+bp}{self}\\PY{o}{.}\\PY{n}{model}\\PY{p}{(}\\PY{o}{*}\\PY{o}{*}\\PY{n}{batch\\PYZus{}collated}\\PY{p}{)}\\PY{o}{.}\\PY{n}{labels}\\PY{p}{)}\n        \\PY{n}{labels} \\PY{o}{=} \\PY{n}{torch}\\PY{o}{.}\\PY{n}{stack}\\PY{p}{(}\\PY{n}{y\\PYZus{}true}\\PY{p}{,} \\PY{n}{dim}\\PY{o}{=}\\PY{l+m+mi}{0}\\PY{p}{)}\\PY{o}{.}\\PY{n}{argmax}\\PY{p}{(}\\PY{n}{dim}\\PY{o}{=}\\PY{l+m+mi}{1}\\PY{p}{)}\\PY{o}{.}\\PY{n}{tolist}\\PY{p}{(}\\PY{p}{)}\n        \\PY{n}{preds} \\PY{o}{=} \\PY{n}{torch}\\PY{o}{.}\\PY{n}{stack}\\PY{p}{(}\\PY{n}{y\\PYZus{}pred}\\PY{p}{,} \\PY{n}{dim}\\PY{o}{=}\\PY{l+m+mi}{0}\\PY{p}{)}\\PY{o}{.}\\PY{n}{argmax}\\PY{p}{(}\\PY{n}{dim}\\PY{o}{=}\\PY{l+m+mi}{1}\\PY{p}{)}\\PY{o}{.}\\PY{n}{tolist}\\PY{p}{(}\\PY{p}{)}\n        \\PY{k}{return} \\PY{n}{labels}\\PY{p}{,} \\PY{n}{preds}\n\n    \\PY{k}{def} \\PY{n+nf}{\\PYZus{}report\\PYZus{}on\\PYZus{}results}\\PY{p}{(}\n        \\PY{n+nb+bp}{self}\\PY{p}{,}\n        \\PY{n}{emotions}\\PY{p}{:} \\PY{n}{List}\\PY{p}{[}\\PY{n+nb}{str}\\PY{p}{]}\\PY{p}{,}\n        \\PY{n}{labels}\\PY{p}{:} \\PY{n}{List}\\PY{p}{[}\\PY{n}{List}\\PY{p}{[}\\PY{n+nb}{int}\\PY{p}{]}\\PY{p}{]}\\PY{p}{,}\n        \\PY{n}{preds}\\PY{p}{:} \\PY{n}{List}\\PY{p}{[}\\PY{n}{List}\\PY{p}{[}\\PY{n+nb}{int}\\PY{p}{]}\\PY{p}{]}\\PY{p}{,}\n        \\PY{n}{output\\PYZus{}dict}\\PY{p}{:} \\PY{n+nb}{bool}\\PY{p}{,}\n    \\PY{p}{)} \\PY{o}{\\PYZhy{}}\\PY{o}{\\PYZgt{}} \\PY{n}{Dict}\\PY{p}{[}\\PY{n+nb}{str}\\PY{p}{,} \\PY{n}{Any}\\PY{p}{]} \\PY{o}{|} \\PY{k+kc}{None}\\PY{p}{:}\n\\PY{+w}{        }\\PY{l+s+sd}{\\PYZdq{}\\PYZdq{}\\PYZdq{}}\n\\PY{l+s+sd}{        Prints the classification report and returns the report dictionary.}\n\n\\PY{l+s+sd}{        :param emotions: The list of emotions}\n\\PY{l+s+sd}{        :param labels: The true labels}\n\\PY{l+s+sd}{        :param preds: The predicted labels}\n\\PY{l+s+sd}{        :param output\\PYZus{}dict: Whether to return the classification report dictionary}\n\\PY{l+s+sd}{        :return: The classification report dictionary}\n\\PY{l+s+sd}{        \\PYZdq{}\\PYZdq{}\\PYZdq{}}\n        \\PY{n+nb}{print}\\PY{p}{(}\\PY{n}{classification\\PYZus{}report}\\PY{p}{(}\\PY{n}{y\\PYZus{}true}\\PY{o}{=}\\PY{n}{labels}\\PY{p}{,} \\PY{n}{y\\PYZus{}pred}\\PY{o}{=}\\PY{n}{preds}\\PY{p}{,} \\PY{n}{target\\PYZus{}names}\\PY{o}{=}\\PY{n}{emotions}\\PY{p}{)}\\PY{p}{)}\n        \\PY{k}{if} \\PY{n}{output\\PYZus{}dict}\\PY{p}{:}\n            \\PY{k}{return} \\PY{n}{classification\\PYZus{}report}\\PY{p}{(}\\PY{n}{y\\PYZus{}true}\\PY{o}{=}\\PY{n}{labels}\\PY{p}{,} \\PY{n}{y\\PYZus{}pred}\\PY{o}{=}\\PY{n}{preds}\\PY{p}{,} \\PY{n}{target\\PYZus{}names}\\PY{o}{=}\\PY{n}{emotions}\\PY{p}{,} \\PY{n}{output\\PYZus{}dict}\\PY{o}{=}\\PY{k+kc}{True}\\PY{p}{)}\n\\end{Verbatim}\n"
          },
          "metadata": {},
          "execution_count": 14
        }
      ]
    },
    {
      "cell_type": "code",
      "source": [
        "import inspect\n",
        "from hlm12erc.training import ERCMetricCalculator\n",
        "from IPython.display import Code\n",
        "\n",
        "class_code = inspect.getsource(ERCMetricCalculator)\n",
        "Code(class_code, language=\"python\")"
      ],
      "metadata": {
        "colab": {
          "base_uri": "https://localhost:8080/",
          "height": 930
        },
        "id": "b_krUGv6LxTI",
        "outputId": "88dda7ee-39f7-4462-ef95-6620f6a9105d"
      },
      "execution_count": null,
      "outputs": [
        {
          "output_type": "execute_result",
          "data": {
            "text/plain": [
              "class ERCMetricCalculator:\n",
              "    \"\"\"\n",
              "    Responsible for calculating the metrics for an ERC prediction against\n",
              "    the ground truth, including the loss if a loss function is provided.\n",
              "    \"\"\"\n",
              "\n",
              "    loss_fn: Optional[ERCLoss]\n",
              "\n",
              "    def __init__(self, classifier_loss_fn: Optional[str] = None) -> None:\n",
              "        \"\"\"\n",
              "        Contructs a new ERCMetricCalculator.\n",
              "\n",
              "        :param classifier_loss_fn: The name of the loss function to use for the classifier.\n",
              "        \"\"\"\n",
              "        self.loss_fn = None\n",
              "        if classifier_loss_fn:\n",
              "            self.loss_fn = ERCLoss.resolve_type_from(classifier_loss_fn)()\n",
              "\n",
              "    def __call__(self, eval_pred: EvalPrediction) -> Dict[str, Any]:\n",
              "        \"\"\"\n",
              "        Calculates the `acc`, `f1_weighted`, `p_weighted`, `r_weighted`.\n",
              "        It also produces the `loss` in case a `self.loss_fn` is provided.\n",
              "\n",
              "        :param eval_pred: The evaluation prediction to calculate the metrics for.\n",
              "        :return: A dictionary containing the metrics.\n",
              "        \"\"\"\n",
              "        pred, labels = self._extract_pred_loss(eval_pred)\n",
              "        return self._build_output(\n",
              "            loss=self._determine_loss(pred=pred, labels=labels),\n",
              "            y_true=labels.argmax(dim=1).cpu(),\n",
              "            y_pred=pred.argmax(dim=1).cpu(),\n",
              "        )\n",
              "\n",
              "    def _extract_pred_loss(self, eval_pred) -> Tuple[torch.Tensor, torch.Tensor]:\n",
              "        pred = eval_pred.predictions\n",
              "        labels = eval_pred.label_ids\n",
              "        pred = pred[0] if isinstance(pred, tuple) else pred\n",
              "        pred = torch.from_numpy(pred) if isinstance(pred, np.ndarray) else pred\n",
              "        labels = torch.from_numpy(labels) if isinstance(labels, np.ndarray) else labels\n",
              "        return pred, labels\n",
              "\n",
              "    def _determine_loss(self, pred: torch.Tensor, labels: torch.Tensor):\n",
              "        return self.loss_fn(y_pred=pred, y_true=labels) if self.loss_fn is not None else None\n",
              "\n",
              "    def _build_output(self, loss: Union[float, torch.Tensor], y_true: torch.Tensor, y_pred: torch.Tensor):\n",
              "        output = {}\n",
              "        if loss:\n",
              "            output[\"loss\"] = loss.item() if isinstance(loss, torch.Tensor) else loss\n",
              "        output[\"acc\"] = accuracy_score(y_true, y_pred)\n",
              "        output[\"f1_weighted\"] = f1_score(y_true, y_pred, average=\"weighted\")\n",
              "        return output"
            ],
            "text/html": [
              "<style>pre { line-height: 125%; }\n",
              "td.linenos .normal { color: inherit; background-color: transparent; padding-left: 5px; padding-right: 5px; }\n",
              "span.linenos { color: inherit; background-color: transparent; padding-left: 5px; padding-right: 5px; }\n",
              "td.linenos .special { color: #000000; background-color: #ffffc0; padding-left: 5px; padding-right: 5px; }\n",
              "span.linenos.special { color: #000000; background-color: #ffffc0; padding-left: 5px; padding-right: 5px; }\n",
              ".output_html .hll { background-color: #ffffcc }\n",
              ".output_html { background: #f8f8f8; }\n",
              ".output_html .c { color: #3D7B7B; font-style: italic } /* Comment */\n",
              ".output_html .err { border: 1px solid #FF0000 } /* Error */\n",
              ".output_html .k { color: #008000; font-weight: bold } /* Keyword */\n",
              ".output_html .o { color: #666666 } /* Operator */\n",
              ".output_html .ch { color: #3D7B7B; font-style: italic } /* Comment.Hashbang */\n",
              ".output_html .cm { color: #3D7B7B; font-style: italic } /* Comment.Multiline */\n",
              ".output_html .cp { color: #9C6500 } /* Comment.Preproc */\n",
              ".output_html .cpf { color: #3D7B7B; font-style: italic } /* Comment.PreprocFile */\n",
              ".output_html .c1 { color: #3D7B7B; font-style: italic } /* Comment.Single */\n",
              ".output_html .cs { color: #3D7B7B; font-style: italic } /* Comment.Special */\n",
              ".output_html .gd { color: #A00000 } /* Generic.Deleted */\n",
              ".output_html .ge { font-style: italic } /* Generic.Emph */\n",
              ".output_html .ges { font-weight: bold; font-style: italic } /* Generic.EmphStrong */\n",
              ".output_html .gr { color: #E40000 } /* Generic.Error */\n",
              ".output_html .gh { color: #000080; font-weight: bold } /* Generic.Heading */\n",
              ".output_html .gi { color: #008400 } /* Generic.Inserted */\n",
              ".output_html .go { color: #717171 } /* Generic.Output */\n",
              ".output_html .gp { color: #000080; font-weight: bold } /* Generic.Prompt */\n",
              ".output_html .gs { font-weight: bold } /* Generic.Strong */\n",
              ".output_html .gu { color: #800080; font-weight: bold } /* Generic.Subheading */\n",
              ".output_html .gt { color: #0044DD } /* Generic.Traceback */\n",
              ".output_html .kc { color: #008000; font-weight: bold } /* Keyword.Constant */\n",
              ".output_html .kd { color: #008000; font-weight: bold } /* Keyword.Declaration */\n",
              ".output_html .kn { color: #008000; font-weight: bold } /* Keyword.Namespace */\n",
              ".output_html .kp { color: #008000 } /* Keyword.Pseudo */\n",
              ".output_html .kr { color: #008000; font-weight: bold } /* Keyword.Reserved */\n",
              ".output_html .kt { color: #B00040 } /* Keyword.Type */\n",
              ".output_html .m { color: #666666 } /* Literal.Number */\n",
              ".output_html .s { color: #BA2121 } /* Literal.String */\n",
              ".output_html .na { color: #687822 } /* Name.Attribute */\n",
              ".output_html .nb { color: #008000 } /* Name.Builtin */\n",
              ".output_html .nc { color: #0000FF; font-weight: bold } /* Name.Class */\n",
              ".output_html .no { color: #880000 } /* Name.Constant */\n",
              ".output_html .nd { color: #AA22FF } /* Name.Decorator */\n",
              ".output_html .ni { color: #717171; font-weight: bold } /* Name.Entity */\n",
              ".output_html .ne { color: #CB3F38; font-weight: bold } /* Name.Exception */\n",
              ".output_html .nf { color: #0000FF } /* Name.Function */\n",
              ".output_html .nl { color: #767600 } /* Name.Label */\n",
              ".output_html .nn { color: #0000FF; font-weight: bold } /* Name.Namespace */\n",
              ".output_html .nt { color: #008000; font-weight: bold } /* Name.Tag */\n",
              ".output_html .nv { color: #19177C } /* Name.Variable */\n",
              ".output_html .ow { color: #AA22FF; font-weight: bold } /* Operator.Word */\n",
              ".output_html .w { color: #bbbbbb } /* Text.Whitespace */\n",
              ".output_html .mb { color: #666666 } /* Literal.Number.Bin */\n",
              ".output_html .mf { color: #666666 } /* Literal.Number.Float */\n",
              ".output_html .mh { color: #666666 } /* Literal.Number.Hex */\n",
              ".output_html .mi { color: #666666 } /* Literal.Number.Integer */\n",
              ".output_html .mo { color: #666666 } /* Literal.Number.Oct */\n",
              ".output_html .sa { color: #BA2121 } /* Literal.String.Affix */\n",
              ".output_html .sb { color: #BA2121 } /* Literal.String.Backtick */\n",
              ".output_html .sc { color: #BA2121 } /* Literal.String.Char */\n",
              ".output_html .dl { color: #BA2121 } /* Literal.String.Delimiter */\n",
              ".output_html .sd { color: #BA2121; font-style: italic } /* Literal.String.Doc */\n",
              ".output_html .s2 { color: #BA2121 } /* Literal.String.Double */\n",
              ".output_html .se { color: #AA5D1F; font-weight: bold } /* Literal.String.Escape */\n",
              ".output_html .sh { color: #BA2121 } /* Literal.String.Heredoc */\n",
              ".output_html .si { color: #A45A77; font-weight: bold } /* Literal.String.Interpol */\n",
              ".output_html .sx { color: #008000 } /* Literal.String.Other */\n",
              ".output_html .sr { color: #A45A77 } /* Literal.String.Regex */\n",
              ".output_html .s1 { color: #BA2121 } /* Literal.String.Single */\n",
              ".output_html .ss { color: #19177C } /* Literal.String.Symbol */\n",
              ".output_html .bp { color: #008000 } /* Name.Builtin.Pseudo */\n",
              ".output_html .fm { color: #0000FF } /* Name.Function.Magic */\n",
              ".output_html .vc { color: #19177C } /* Name.Variable.Class */\n",
              ".output_html .vg { color: #19177C } /* Name.Variable.Global */\n",
              ".output_html .vi { color: #19177C } /* Name.Variable.Instance */\n",
              ".output_html .vm { color: #19177C } /* Name.Variable.Magic */\n",
              ".output_html .il { color: #666666 } /* Literal.Number.Integer.Long */</style><div class=\"highlight\"><pre><span></span><span class=\"k\">class</span> <span class=\"nc\">ERCMetricCalculator</span><span class=\"p\">:</span>\n",
              "<span class=\"w\">    </span><span class=\"sd\">&quot;&quot;&quot;</span>\n",
              "<span class=\"sd\">    Responsible for calculating the metrics for an ERC prediction against</span>\n",
              "<span class=\"sd\">    the ground truth, including the loss if a loss function is provided.</span>\n",
              "<span class=\"sd\">    &quot;&quot;&quot;</span>\n",
              "\n",
              "    <span class=\"n\">loss_fn</span><span class=\"p\">:</span> <span class=\"n\">Optional</span><span class=\"p\">[</span><span class=\"n\">ERCLoss</span><span class=\"p\">]</span>\n",
              "\n",
              "    <span class=\"k\">def</span> <span class=\"fm\">__init__</span><span class=\"p\">(</span><span class=\"bp\">self</span><span class=\"p\">,</span> <span class=\"n\">classifier_loss_fn</span><span class=\"p\">:</span> <span class=\"n\">Optional</span><span class=\"p\">[</span><span class=\"nb\">str</span><span class=\"p\">]</span> <span class=\"o\">=</span> <span class=\"kc\">None</span><span class=\"p\">)</span> <span class=\"o\">-&gt;</span> <span class=\"kc\">None</span><span class=\"p\">:</span>\n",
              "<span class=\"w\">        </span><span class=\"sd\">&quot;&quot;&quot;</span>\n",
              "<span class=\"sd\">        Contructs a new ERCMetricCalculator.</span>\n",
              "\n",
              "<span class=\"sd\">        :param classifier_loss_fn: The name of the loss function to use for the classifier.</span>\n",
              "<span class=\"sd\">        &quot;&quot;&quot;</span>\n",
              "        <span class=\"bp\">self</span><span class=\"o\">.</span><span class=\"n\">loss_fn</span> <span class=\"o\">=</span> <span class=\"kc\">None</span>\n",
              "        <span class=\"k\">if</span> <span class=\"n\">classifier_loss_fn</span><span class=\"p\">:</span>\n",
              "            <span class=\"bp\">self</span><span class=\"o\">.</span><span class=\"n\">loss_fn</span> <span class=\"o\">=</span> <span class=\"n\">ERCLoss</span><span class=\"o\">.</span><span class=\"n\">resolve_type_from</span><span class=\"p\">(</span><span class=\"n\">classifier_loss_fn</span><span class=\"p\">)()</span>\n",
              "\n",
              "    <span class=\"k\">def</span> <span class=\"fm\">__call__</span><span class=\"p\">(</span><span class=\"bp\">self</span><span class=\"p\">,</span> <span class=\"n\">eval_pred</span><span class=\"p\">:</span> <span class=\"n\">EvalPrediction</span><span class=\"p\">)</span> <span class=\"o\">-&gt;</span> <span class=\"n\">Dict</span><span class=\"p\">[</span><span class=\"nb\">str</span><span class=\"p\">,</span> <span class=\"n\">Any</span><span class=\"p\">]:</span>\n",
              "<span class=\"w\">        </span><span class=\"sd\">&quot;&quot;&quot;</span>\n",
              "<span class=\"sd\">        Calculates the `acc`, `f1_weighted`, `p_weighted`, `r_weighted`.</span>\n",
              "<span class=\"sd\">        It also produces the `loss` in case a `self.loss_fn` is provided.</span>\n",
              "\n",
              "<span class=\"sd\">        :param eval_pred: The evaluation prediction to calculate the metrics for.</span>\n",
              "<span class=\"sd\">        :return: A dictionary containing the metrics.</span>\n",
              "<span class=\"sd\">        &quot;&quot;&quot;</span>\n",
              "        <span class=\"n\">pred</span><span class=\"p\">,</span> <span class=\"n\">labels</span> <span class=\"o\">=</span> <span class=\"bp\">self</span><span class=\"o\">.</span><span class=\"n\">_extract_pred_loss</span><span class=\"p\">(</span><span class=\"n\">eval_pred</span><span class=\"p\">)</span>\n",
              "        <span class=\"k\">return</span> <span class=\"bp\">self</span><span class=\"o\">.</span><span class=\"n\">_build_output</span><span class=\"p\">(</span>\n",
              "            <span class=\"n\">loss</span><span class=\"o\">=</span><span class=\"bp\">self</span><span class=\"o\">.</span><span class=\"n\">_determine_loss</span><span class=\"p\">(</span><span class=\"n\">pred</span><span class=\"o\">=</span><span class=\"n\">pred</span><span class=\"p\">,</span> <span class=\"n\">labels</span><span class=\"o\">=</span><span class=\"n\">labels</span><span class=\"p\">),</span>\n",
              "            <span class=\"n\">y_true</span><span class=\"o\">=</span><span class=\"n\">labels</span><span class=\"o\">.</span><span class=\"n\">argmax</span><span class=\"p\">(</span><span class=\"n\">dim</span><span class=\"o\">=</span><span class=\"mi\">1</span><span class=\"p\">)</span><span class=\"o\">.</span><span class=\"n\">cpu</span><span class=\"p\">(),</span>\n",
              "            <span class=\"n\">y_pred</span><span class=\"o\">=</span><span class=\"n\">pred</span><span class=\"o\">.</span><span class=\"n\">argmax</span><span class=\"p\">(</span><span class=\"n\">dim</span><span class=\"o\">=</span><span class=\"mi\">1</span><span class=\"p\">)</span><span class=\"o\">.</span><span class=\"n\">cpu</span><span class=\"p\">(),</span>\n",
              "        <span class=\"p\">)</span>\n",
              "\n",
              "    <span class=\"k\">def</span> <span class=\"nf\">_extract_pred_loss</span><span class=\"p\">(</span><span class=\"bp\">self</span><span class=\"p\">,</span> <span class=\"n\">eval_pred</span><span class=\"p\">)</span> <span class=\"o\">-&gt;</span> <span class=\"n\">Tuple</span><span class=\"p\">[</span><span class=\"n\">torch</span><span class=\"o\">.</span><span class=\"n\">Tensor</span><span class=\"p\">,</span> <span class=\"n\">torch</span><span class=\"o\">.</span><span class=\"n\">Tensor</span><span class=\"p\">]:</span>\n",
              "        <span class=\"n\">pred</span> <span class=\"o\">=</span> <span class=\"n\">eval_pred</span><span class=\"o\">.</span><span class=\"n\">predictions</span>\n",
              "        <span class=\"n\">labels</span> <span class=\"o\">=</span> <span class=\"n\">eval_pred</span><span class=\"o\">.</span><span class=\"n\">label_ids</span>\n",
              "        <span class=\"n\">pred</span> <span class=\"o\">=</span> <span class=\"n\">pred</span><span class=\"p\">[</span><span class=\"mi\">0</span><span class=\"p\">]</span> <span class=\"k\">if</span> <span class=\"nb\">isinstance</span><span class=\"p\">(</span><span class=\"n\">pred</span><span class=\"p\">,</span> <span class=\"nb\">tuple</span><span class=\"p\">)</span> <span class=\"k\">else</span> <span class=\"n\">pred</span>\n",
              "        <span class=\"n\">pred</span> <span class=\"o\">=</span> <span class=\"n\">torch</span><span class=\"o\">.</span><span class=\"n\">from_numpy</span><span class=\"p\">(</span><span class=\"n\">pred</span><span class=\"p\">)</span> <span class=\"k\">if</span> <span class=\"nb\">isinstance</span><span class=\"p\">(</span><span class=\"n\">pred</span><span class=\"p\">,</span> <span class=\"n\">np</span><span class=\"o\">.</span><span class=\"n\">ndarray</span><span class=\"p\">)</span> <span class=\"k\">else</span> <span class=\"n\">pred</span>\n",
              "        <span class=\"n\">labels</span> <span class=\"o\">=</span> <span class=\"n\">torch</span><span class=\"o\">.</span><span class=\"n\">from_numpy</span><span class=\"p\">(</span><span class=\"n\">labels</span><span class=\"p\">)</span> <span class=\"k\">if</span> <span class=\"nb\">isinstance</span><span class=\"p\">(</span><span class=\"n\">labels</span><span class=\"p\">,</span> <span class=\"n\">np</span><span class=\"o\">.</span><span class=\"n\">ndarray</span><span class=\"p\">)</span> <span class=\"k\">else</span> <span class=\"n\">labels</span>\n",
              "        <span class=\"k\">return</span> <span class=\"n\">pred</span><span class=\"p\">,</span> <span class=\"n\">labels</span>\n",
              "\n",
              "    <span class=\"k\">def</span> <span class=\"nf\">_determine_loss</span><span class=\"p\">(</span><span class=\"bp\">self</span><span class=\"p\">,</span> <span class=\"n\">pred</span><span class=\"p\">:</span> <span class=\"n\">torch</span><span class=\"o\">.</span><span class=\"n\">Tensor</span><span class=\"p\">,</span> <span class=\"n\">labels</span><span class=\"p\">:</span> <span class=\"n\">torch</span><span class=\"o\">.</span><span class=\"n\">Tensor</span><span class=\"p\">):</span>\n",
              "        <span class=\"k\">return</span> <span class=\"bp\">self</span><span class=\"o\">.</span><span class=\"n\">loss_fn</span><span class=\"p\">(</span><span class=\"n\">y_pred</span><span class=\"o\">=</span><span class=\"n\">pred</span><span class=\"p\">,</span> <span class=\"n\">y_true</span><span class=\"o\">=</span><span class=\"n\">labels</span><span class=\"p\">)</span> <span class=\"k\">if</span> <span class=\"bp\">self</span><span class=\"o\">.</span><span class=\"n\">loss_fn</span> <span class=\"ow\">is</span> <span class=\"ow\">not</span> <span class=\"kc\">None</span> <span class=\"k\">else</span> <span class=\"kc\">None</span>\n",
              "\n",
              "    <span class=\"k\">def</span> <span class=\"nf\">_build_output</span><span class=\"p\">(</span><span class=\"bp\">self</span><span class=\"p\">,</span> <span class=\"n\">loss</span><span class=\"p\">:</span> <span class=\"n\">Union</span><span class=\"p\">[</span><span class=\"nb\">float</span><span class=\"p\">,</span> <span class=\"n\">torch</span><span class=\"o\">.</span><span class=\"n\">Tensor</span><span class=\"p\">],</span> <span class=\"n\">y_true</span><span class=\"p\">:</span> <span class=\"n\">torch</span><span class=\"o\">.</span><span class=\"n\">Tensor</span><span class=\"p\">,</span> <span class=\"n\">y_pred</span><span class=\"p\">:</span> <span class=\"n\">torch</span><span class=\"o\">.</span><span class=\"n\">Tensor</span><span class=\"p\">):</span>\n",
              "        <span class=\"n\">output</span> <span class=\"o\">=</span> <span class=\"p\">{}</span>\n",
              "        <span class=\"k\">if</span> <span class=\"n\">loss</span><span class=\"p\">:</span>\n",
              "            <span class=\"n\">output</span><span class=\"p\">[</span><span class=\"s2\">&quot;loss&quot;</span><span class=\"p\">]</span> <span class=\"o\">=</span> <span class=\"n\">loss</span><span class=\"o\">.</span><span class=\"n\">item</span><span class=\"p\">()</span> <span class=\"k\">if</span> <span class=\"nb\">isinstance</span><span class=\"p\">(</span><span class=\"n\">loss</span><span class=\"p\">,</span> <span class=\"n\">torch</span><span class=\"o\">.</span><span class=\"n\">Tensor</span><span class=\"p\">)</span> <span class=\"k\">else</span> <span class=\"n\">loss</span>\n",
              "        <span class=\"n\">output</span><span class=\"p\">[</span><span class=\"s2\">&quot;acc&quot;</span><span class=\"p\">]</span> <span class=\"o\">=</span> <span class=\"n\">accuracy_score</span><span class=\"p\">(</span><span class=\"n\">y_true</span><span class=\"p\">,</span> <span class=\"n\">y_pred</span><span class=\"p\">)</span>\n",
              "        <span class=\"n\">output</span><span class=\"p\">[</span><span class=\"s2\">&quot;f1_weighted&quot;</span><span class=\"p\">]</span> <span class=\"o\">=</span> <span class=\"n\">f1_score</span><span class=\"p\">(</span><span class=\"n\">y_true</span><span class=\"p\">,</span> <span class=\"n\">y_pred</span><span class=\"p\">,</span> <span class=\"n\">average</span><span class=\"o\">=</span><span class=\"s2\">&quot;weighted&quot;</span><span class=\"p\">)</span>\n",
              "        <span class=\"k\">return</span> <span class=\"n\">output</span>\n",
              "</pre></div>\n"
            ],
            "text/latex": "\\begin{Verbatim}[commandchars=\\\\\\{\\}]\n\\PY{k}{class} \\PY{n+nc}{ERCMetricCalculator}\\PY{p}{:}\n\\PY{+w}{    }\\PY{l+s+sd}{\\PYZdq{}\\PYZdq{}\\PYZdq{}}\n\\PY{l+s+sd}{    Responsible for calculating the metrics for an ERC prediction against}\n\\PY{l+s+sd}{    the ground truth, including the loss if a loss function is provided.}\n\\PY{l+s+sd}{    \\PYZdq{}\\PYZdq{}\\PYZdq{}}\n\n    \\PY{n}{loss\\PYZus{}fn}\\PY{p}{:} \\PY{n}{Optional}\\PY{p}{[}\\PY{n}{ERCLoss}\\PY{p}{]}\n\n    \\PY{k}{def} \\PY{n+nf+fm}{\\PYZus{}\\PYZus{}init\\PYZus{}\\PYZus{}}\\PY{p}{(}\\PY{n+nb+bp}{self}\\PY{p}{,} \\PY{n}{classifier\\PYZus{}loss\\PYZus{}fn}\\PY{p}{:} \\PY{n}{Optional}\\PY{p}{[}\\PY{n+nb}{str}\\PY{p}{]} \\PY{o}{=} \\PY{k+kc}{None}\\PY{p}{)} \\PY{o}{\\PYZhy{}}\\PY{o}{\\PYZgt{}} \\PY{k+kc}{None}\\PY{p}{:}\n\\PY{+w}{        }\\PY{l+s+sd}{\\PYZdq{}\\PYZdq{}\\PYZdq{}}\n\\PY{l+s+sd}{        Contructs a new ERCMetricCalculator.}\n\n\\PY{l+s+sd}{        :param classifier\\PYZus{}loss\\PYZus{}fn: The name of the loss function to use for the classifier.}\n\\PY{l+s+sd}{        \\PYZdq{}\\PYZdq{}\\PYZdq{}}\n        \\PY{n+nb+bp}{self}\\PY{o}{.}\\PY{n}{loss\\PYZus{}fn} \\PY{o}{=} \\PY{k+kc}{None}\n        \\PY{k}{if} \\PY{n}{classifier\\PYZus{}loss\\PYZus{}fn}\\PY{p}{:}\n            \\PY{n+nb+bp}{self}\\PY{o}{.}\\PY{n}{loss\\PYZus{}fn} \\PY{o}{=} \\PY{n}{ERCLoss}\\PY{o}{.}\\PY{n}{resolve\\PYZus{}type\\PYZus{}from}\\PY{p}{(}\\PY{n}{classifier\\PYZus{}loss\\PYZus{}fn}\\PY{p}{)}\\PY{p}{(}\\PY{p}{)}\n\n    \\PY{k}{def} \\PY{n+nf+fm}{\\PYZus{}\\PYZus{}call\\PYZus{}\\PYZus{}}\\PY{p}{(}\\PY{n+nb+bp}{self}\\PY{p}{,} \\PY{n}{eval\\PYZus{}pred}\\PY{p}{:} \\PY{n}{EvalPrediction}\\PY{p}{)} \\PY{o}{\\PYZhy{}}\\PY{o}{\\PYZgt{}} \\PY{n}{Dict}\\PY{p}{[}\\PY{n+nb}{str}\\PY{p}{,} \\PY{n}{Any}\\PY{p}{]}\\PY{p}{:}\n\\PY{+w}{        }\\PY{l+s+sd}{\\PYZdq{}\\PYZdq{}\\PYZdq{}}\n\\PY{l+s+sd}{        Calculates the `acc`, `f1\\PYZus{}weighted`, `p\\PYZus{}weighted`, `r\\PYZus{}weighted`.}\n\\PY{l+s+sd}{        It also produces the `loss` in case a `self.loss\\PYZus{}fn` is provided.}\n\n\\PY{l+s+sd}{        :param eval\\PYZus{}pred: The evaluation prediction to calculate the metrics for.}\n\\PY{l+s+sd}{        :return: A dictionary containing the metrics.}\n\\PY{l+s+sd}{        \\PYZdq{}\\PYZdq{}\\PYZdq{}}\n        \\PY{n}{pred}\\PY{p}{,} \\PY{n}{labels} \\PY{o}{=} \\PY{n+nb+bp}{self}\\PY{o}{.}\\PY{n}{\\PYZus{}extract\\PYZus{}pred\\PYZus{}loss}\\PY{p}{(}\\PY{n}{eval\\PYZus{}pred}\\PY{p}{)}\n        \\PY{k}{return} \\PY{n+nb+bp}{self}\\PY{o}{.}\\PY{n}{\\PYZus{}build\\PYZus{}output}\\PY{p}{(}\n            \\PY{n}{loss}\\PY{o}{=}\\PY{n+nb+bp}{self}\\PY{o}{.}\\PY{n}{\\PYZus{}determine\\PYZus{}loss}\\PY{p}{(}\\PY{n}{pred}\\PY{o}{=}\\PY{n}{pred}\\PY{p}{,} \\PY{n}{labels}\\PY{o}{=}\\PY{n}{labels}\\PY{p}{)}\\PY{p}{,}\n            \\PY{n}{y\\PYZus{}true}\\PY{o}{=}\\PY{n}{labels}\\PY{o}{.}\\PY{n}{argmax}\\PY{p}{(}\\PY{n}{dim}\\PY{o}{=}\\PY{l+m+mi}{1}\\PY{p}{)}\\PY{o}{.}\\PY{n}{cpu}\\PY{p}{(}\\PY{p}{)}\\PY{p}{,}\n            \\PY{n}{y\\PYZus{}pred}\\PY{o}{=}\\PY{n}{pred}\\PY{o}{.}\\PY{n}{argmax}\\PY{p}{(}\\PY{n}{dim}\\PY{o}{=}\\PY{l+m+mi}{1}\\PY{p}{)}\\PY{o}{.}\\PY{n}{cpu}\\PY{p}{(}\\PY{p}{)}\\PY{p}{,}\n        \\PY{p}{)}\n\n    \\PY{k}{def} \\PY{n+nf}{\\PYZus{}extract\\PYZus{}pred\\PYZus{}loss}\\PY{p}{(}\\PY{n+nb+bp}{self}\\PY{p}{,} \\PY{n}{eval\\PYZus{}pred}\\PY{p}{)} \\PY{o}{\\PYZhy{}}\\PY{o}{\\PYZgt{}} \\PY{n}{Tuple}\\PY{p}{[}\\PY{n}{torch}\\PY{o}{.}\\PY{n}{Tensor}\\PY{p}{,} \\PY{n}{torch}\\PY{o}{.}\\PY{n}{Tensor}\\PY{p}{]}\\PY{p}{:}\n        \\PY{n}{pred} \\PY{o}{=} \\PY{n}{eval\\PYZus{}pred}\\PY{o}{.}\\PY{n}{predictions}\n        \\PY{n}{labels} \\PY{o}{=} \\PY{n}{eval\\PYZus{}pred}\\PY{o}{.}\\PY{n}{label\\PYZus{}ids}\n        \\PY{n}{pred} \\PY{o}{=} \\PY{n}{pred}\\PY{p}{[}\\PY{l+m+mi}{0}\\PY{p}{]} \\PY{k}{if} \\PY{n+nb}{isinstance}\\PY{p}{(}\\PY{n}{pred}\\PY{p}{,} \\PY{n+nb}{tuple}\\PY{p}{)} \\PY{k}{else} \\PY{n}{pred}\n        \\PY{n}{pred} \\PY{o}{=} \\PY{n}{torch}\\PY{o}{.}\\PY{n}{from\\PYZus{}numpy}\\PY{p}{(}\\PY{n}{pred}\\PY{p}{)} \\PY{k}{if} \\PY{n+nb}{isinstance}\\PY{p}{(}\\PY{n}{pred}\\PY{p}{,} \\PY{n}{np}\\PY{o}{.}\\PY{n}{ndarray}\\PY{p}{)} \\PY{k}{else} \\PY{n}{pred}\n        \\PY{n}{labels} \\PY{o}{=} \\PY{n}{torch}\\PY{o}{.}\\PY{n}{from\\PYZus{}numpy}\\PY{p}{(}\\PY{n}{labels}\\PY{p}{)} \\PY{k}{if} \\PY{n+nb}{isinstance}\\PY{p}{(}\\PY{n}{labels}\\PY{p}{,} \\PY{n}{np}\\PY{o}{.}\\PY{n}{ndarray}\\PY{p}{)} \\PY{k}{else} \\PY{n}{labels}\n        \\PY{k}{return} \\PY{n}{pred}\\PY{p}{,} \\PY{n}{labels}\n\n    \\PY{k}{def} \\PY{n+nf}{\\PYZus{}determine\\PYZus{}loss}\\PY{p}{(}\\PY{n+nb+bp}{self}\\PY{p}{,} \\PY{n}{pred}\\PY{p}{:} \\PY{n}{torch}\\PY{o}{.}\\PY{n}{Tensor}\\PY{p}{,} \\PY{n}{labels}\\PY{p}{:} \\PY{n}{torch}\\PY{o}{.}\\PY{n}{Tensor}\\PY{p}{)}\\PY{p}{:}\n        \\PY{k}{return} \\PY{n+nb+bp}{self}\\PY{o}{.}\\PY{n}{loss\\PYZus{}fn}\\PY{p}{(}\\PY{n}{y\\PYZus{}pred}\\PY{o}{=}\\PY{n}{pred}\\PY{p}{,} \\PY{n}{y\\PYZus{}true}\\PY{o}{=}\\PY{n}{labels}\\PY{p}{)} \\PY{k}{if} \\PY{n+nb+bp}{self}\\PY{o}{.}\\PY{n}{loss\\PYZus{}fn} \\PY{o+ow}{is} \\PY{o+ow}{not} \\PY{k+kc}{None} \\PY{k}{else} \\PY{k+kc}{None}\n\n    \\PY{k}{def} \\PY{n+nf}{\\PYZus{}build\\PYZus{}output}\\PY{p}{(}\\PY{n+nb+bp}{self}\\PY{p}{,} \\PY{n}{loss}\\PY{p}{:} \\PY{n}{Union}\\PY{p}{[}\\PY{n+nb}{float}\\PY{p}{,} \\PY{n}{torch}\\PY{o}{.}\\PY{n}{Tensor}\\PY{p}{]}\\PY{p}{,} \\PY{n}{y\\PYZus{}true}\\PY{p}{:} \\PY{n}{torch}\\PY{o}{.}\\PY{n}{Tensor}\\PY{p}{,} \\PY{n}{y\\PYZus{}pred}\\PY{p}{:} \\PY{n}{torch}\\PY{o}{.}\\PY{n}{Tensor}\\PY{p}{)}\\PY{p}{:}\n        \\PY{n}{output} \\PY{o}{=} \\PY{p}{\\PYZob{}}\\PY{p}{\\PYZcb{}}\n        \\PY{k}{if} \\PY{n}{loss}\\PY{p}{:}\n            \\PY{n}{output}\\PY{p}{[}\\PY{l+s+s2}{\\PYZdq{}}\\PY{l+s+s2}{loss}\\PY{l+s+s2}{\\PYZdq{}}\\PY{p}{]} \\PY{o}{=} \\PY{n}{loss}\\PY{o}{.}\\PY{n}{item}\\PY{p}{(}\\PY{p}{)} \\PY{k}{if} \\PY{n+nb}{isinstance}\\PY{p}{(}\\PY{n}{loss}\\PY{p}{,} \\PY{n}{torch}\\PY{o}{.}\\PY{n}{Tensor}\\PY{p}{)} \\PY{k}{else} \\PY{n}{loss}\n        \\PY{n}{output}\\PY{p}{[}\\PY{l+s+s2}{\\PYZdq{}}\\PY{l+s+s2}{acc}\\PY{l+s+s2}{\\PYZdq{}}\\PY{p}{]} \\PY{o}{=} \\PY{n}{accuracy\\PYZus{}score}\\PY{p}{(}\\PY{n}{y\\PYZus{}true}\\PY{p}{,} \\PY{n}{y\\PYZus{}pred}\\PY{p}{)}\n        \\PY{n}{output}\\PY{p}{[}\\PY{l+s+s2}{\\PYZdq{}}\\PY{l+s+s2}{f1\\PYZus{}weighted}\\PY{l+s+s2}{\\PYZdq{}}\\PY{p}{]} \\PY{o}{=} \\PY{n}{f1\\PYZus{}score}\\PY{p}{(}\\PY{n}{y\\PYZus{}true}\\PY{p}{,} \\PY{n}{y\\PYZus{}pred}\\PY{p}{,} \\PY{n}{average}\\PY{o}{=}\\PY{l+s+s2}{\\PYZdq{}}\\PY{l+s+s2}{weighted}\\PY{l+s+s2}{\\PYZdq{}}\\PY{p}{)}\n        \\PY{k}{return} \\PY{n}{output}\n\\end{Verbatim}\n"
          },
          "metadata": {},
          "execution_count": 9
        }
      ]
    },
    {
      "cell_type": "markdown",
      "source": [
        "# Deciding on the Evaluation Protocol\n",
        "\n",
        "The evaluation protocol for the **HLM12ERC** project adopts the **`Hold Out Test-set`** approach, a decision influenced by the structure of the MELD Dataset and the constraints imposed by its size and multimodal nature. This dataset comes pre-divided into three splits: `train`, `dev`, and `test`, which directly supports the implementation of the Hold Out approach.\n",
        "\n",
        "The choice of this protocol is further justified due to the impracticability of using methods like K-Fold Cross Validation, stemming from the significant computational demands of the MELD dataset. In addition, the Hold Out Test-set approach serves as the evaluation standard for both individual components (Objectives 1 to 6) and the final model (Objective 7), ensuring consistent assessment throughout the development process.\n"
      ],
      "metadata": {
        "id": "YiBbDrwnl3Qt"
      }
    },
    {
      "cell_type": "code",
      "source": [
        "import pandas as pd\n",
        "\n",
        "df_stats = pd.DataFrame.from_dict(\n",
        "    dict(train=len(ds_train),\n",
        "         valid=len(ds_valid),\n",
        "         test=len(ds_test)),\n",
        "    orient=\"index\",\n",
        "    columns=[\"count\"])\n",
        "\n",
        "df_stats[\"percentage\"] = df_stats.apply(\n",
        "    lambda row: f'{round(100. * row[\"count\"] / df_stats[\"count\"].sum())}%',\n",
        "    axis=1)\n",
        "\n",
        "df_stats"
      ],
      "metadata": {
        "colab": {
          "base_uri": "https://localhost:8080/",
          "height": 143
        },
        "id": "y5X22ky5NE0C",
        "outputId": "ce3c4e1b-3fce-49ea-8aca-2360657cd234"
      },
      "execution_count": null,
      "outputs": [
        {
          "output_type": "execute_result",
          "data": {
            "text/plain": [
              "       count percentage\n",
              "train   9989        73%\n",
              "valid   1109         8%\n",
              "test    2610        19%"
            ],
            "text/html": [
              "\n",
              "\n",
              "  <div id=\"df-17ad3c03-db35-4668-b1ab-b560f313eff9\">\n",
              "    <div class=\"colab-df-container\">\n",
              "      <div>\n",
              "<style scoped>\n",
              "    .dataframe tbody tr th:only-of-type {\n",
              "        vertical-align: middle;\n",
              "    }\n",
              "\n",
              "    .dataframe tbody tr th {\n",
              "        vertical-align: top;\n",
              "    }\n",
              "\n",
              "    .dataframe thead th {\n",
              "        text-align: right;\n",
              "    }\n",
              "</style>\n",
              "<table border=\"1\" class=\"dataframe\">\n",
              "  <thead>\n",
              "    <tr style=\"text-align: right;\">\n",
              "      <th></th>\n",
              "      <th>count</th>\n",
              "      <th>percentage</th>\n",
              "    </tr>\n",
              "  </thead>\n",
              "  <tbody>\n",
              "    <tr>\n",
              "      <th>train</th>\n",
              "      <td>9989</td>\n",
              "      <td>73%</td>\n",
              "    </tr>\n",
              "    <tr>\n",
              "      <th>valid</th>\n",
              "      <td>1109</td>\n",
              "      <td>8%</td>\n",
              "    </tr>\n",
              "    <tr>\n",
              "      <th>test</th>\n",
              "      <td>2610</td>\n",
              "      <td>19%</td>\n",
              "    </tr>\n",
              "  </tbody>\n",
              "</table>\n",
              "</div>\n",
              "      <button class=\"colab-df-convert\" onclick=\"convertToInteractive('df-17ad3c03-db35-4668-b1ab-b560f313eff9')\"\n",
              "              title=\"Convert this dataframe to an interactive table.\"\n",
              "              style=\"display:none;\">\n",
              "\n",
              "  <svg xmlns=\"http://www.w3.org/2000/svg\" height=\"24px\"viewBox=\"0 0 24 24\"\n",
              "       width=\"24px\">\n",
              "    <path d=\"M0 0h24v24H0V0z\" fill=\"none\"/>\n",
              "    <path d=\"M18.56 5.44l.94 2.06.94-2.06 2.06-.94-2.06-.94-.94-2.06-.94 2.06-2.06.94zm-11 1L8.5 8.5l.94-2.06 2.06-.94-2.06-.94L8.5 2.5l-.94 2.06-2.06.94zm10 10l.94 2.06.94-2.06 2.06-.94-2.06-.94-.94-2.06-.94 2.06-2.06.94z\"/><path d=\"M17.41 7.96l-1.37-1.37c-.4-.4-.92-.59-1.43-.59-.52 0-1.04.2-1.43.59L10.3 9.45l-7.72 7.72c-.78.78-.78 2.05 0 2.83L4 21.41c.39.39.9.59 1.41.59.51 0 1.02-.2 1.41-.59l7.78-7.78 2.81-2.81c.8-.78.8-2.07 0-2.86zM5.41 20L4 18.59l7.72-7.72 1.47 1.35L5.41 20z\"/>\n",
              "  </svg>\n",
              "      </button>\n",
              "\n",
              "\n",
              "\n",
              "    <div id=\"df-c6648fbb-4a2e-420e-a19b-3cfc26409e5c\">\n",
              "      <button class=\"colab-df-quickchart\" onclick=\"quickchart('df-c6648fbb-4a2e-420e-a19b-3cfc26409e5c')\"\n",
              "              title=\"Suggest charts.\"\n",
              "              style=\"display:none;\">\n",
              "\n",
              "<svg xmlns=\"http://www.w3.org/2000/svg\" height=\"24px\"viewBox=\"0 0 24 24\"\n",
              "     width=\"24px\">\n",
              "    <g>\n",
              "        <path d=\"M19 3H5c-1.1 0-2 .9-2 2v14c0 1.1.9 2 2 2h14c1.1 0 2-.9 2-2V5c0-1.1-.9-2-2-2zM9 17H7v-7h2v7zm4 0h-2V7h2v10zm4 0h-2v-4h2v4z\"/>\n",
              "    </g>\n",
              "</svg>\n",
              "      </button>\n",
              "    </div>\n",
              "\n",
              "<style>\n",
              "  .colab-df-quickchart {\n",
              "    background-color: #E8F0FE;\n",
              "    border: none;\n",
              "    border-radius: 50%;\n",
              "    cursor: pointer;\n",
              "    display: none;\n",
              "    fill: #1967D2;\n",
              "    height: 32px;\n",
              "    padding: 0 0 0 0;\n",
              "    width: 32px;\n",
              "  }\n",
              "\n",
              "  .colab-df-quickchart:hover {\n",
              "    background-color: #E2EBFA;\n",
              "    box-shadow: 0px 1px 2px rgba(60, 64, 67, 0.3), 0px 1px 3px 1px rgba(60, 64, 67, 0.15);\n",
              "    fill: #174EA6;\n",
              "  }\n",
              "\n",
              "  [theme=dark] .colab-df-quickchart {\n",
              "    background-color: #3B4455;\n",
              "    fill: #D2E3FC;\n",
              "  }\n",
              "\n",
              "  [theme=dark] .colab-df-quickchart:hover {\n",
              "    background-color: #434B5C;\n",
              "    box-shadow: 0px 1px 3px 1px rgba(0, 0, 0, 0.15);\n",
              "    filter: drop-shadow(0px 1px 2px rgba(0, 0, 0, 0.3));\n",
              "    fill: #FFFFFF;\n",
              "  }\n",
              "</style>\n",
              "\n",
              "    <script>\n",
              "      async function quickchart(key) {\n",
              "        const containerElement = document.querySelector('#' + key);\n",
              "        const charts = await google.colab.kernel.invokeFunction(\n",
              "            'suggestCharts', [key], {});\n",
              "      }\n",
              "    </script>\n",
              "\n",
              "      <script>\n",
              "\n",
              "function displayQuickchartButton(domScope) {\n",
              "  let quickchartButtonEl =\n",
              "    domScope.querySelector('#df-c6648fbb-4a2e-420e-a19b-3cfc26409e5c button.colab-df-quickchart');\n",
              "  quickchartButtonEl.style.display =\n",
              "    google.colab.kernel.accessAllowed ? 'block' : 'none';\n",
              "}\n",
              "\n",
              "        displayQuickchartButton(document);\n",
              "      </script>\n",
              "      <style>\n",
              "    .colab-df-container {\n",
              "      display:flex;\n",
              "      flex-wrap:wrap;\n",
              "      gap: 12px;\n",
              "    }\n",
              "\n",
              "    .colab-df-convert {\n",
              "      background-color: #E8F0FE;\n",
              "      border: none;\n",
              "      border-radius: 50%;\n",
              "      cursor: pointer;\n",
              "      display: none;\n",
              "      fill: #1967D2;\n",
              "      height: 32px;\n",
              "      padding: 0 0 0 0;\n",
              "      width: 32px;\n",
              "    }\n",
              "\n",
              "    .colab-df-convert:hover {\n",
              "      background-color: #E2EBFA;\n",
              "      box-shadow: 0px 1px 2px rgba(60, 64, 67, 0.3), 0px 1px 3px 1px rgba(60, 64, 67, 0.15);\n",
              "      fill: #174EA6;\n",
              "    }\n",
              "\n",
              "    [theme=dark] .colab-df-convert {\n",
              "      background-color: #3B4455;\n",
              "      fill: #D2E3FC;\n",
              "    }\n",
              "\n",
              "    [theme=dark] .colab-df-convert:hover {\n",
              "      background-color: #434B5C;\n",
              "      box-shadow: 0px 1px 3px 1px rgba(0, 0, 0, 0.15);\n",
              "      filter: drop-shadow(0px 1px 2px rgba(0, 0, 0, 0.3));\n",
              "      fill: #FFFFFF;\n",
              "    }\n",
              "  </style>\n",
              "\n",
              "      <script>\n",
              "        const buttonEl =\n",
              "          document.querySelector('#df-17ad3c03-db35-4668-b1ab-b560f313eff9 button.colab-df-convert');\n",
              "        buttonEl.style.display =\n",
              "          google.colab.kernel.accessAllowed ? 'block' : 'none';\n",
              "\n",
              "        async function convertToInteractive(key) {\n",
              "          const element = document.querySelector('#df-17ad3c03-db35-4668-b1ab-b560f313eff9');\n",
              "          const dataTable =\n",
              "            await google.colab.kernel.invokeFunction('convertToInteractive',\n",
              "                                                     [key], {});\n",
              "          if (!dataTable) return;\n",
              "\n",
              "          const docLinkHtml = 'Like what you see? Visit the ' +\n",
              "            '<a target=\"_blank\" href=https://colab.research.google.com/notebooks/data_table.ipynb>data table notebook</a>'\n",
              "            + ' to learn more about interactive tables.';\n",
              "          element.innerHTML = '';\n",
              "          dataTable['output_type'] = 'display_data';\n",
              "          await google.colab.output.renderOutput(dataTable, element);\n",
              "          const docLink = document.createElement('div');\n",
              "          docLink.innerHTML = docLinkHtml;\n",
              "          element.appendChild(docLink);\n",
              "        }\n",
              "      </script>\n",
              "    </div>\n",
              "  </div>\n"
            ]
          },
          "metadata": {},
          "execution_count": 10
        }
      ]
    },
    {
      "cell_type": "markdown",
      "source": [
        "# Preparing your Data\n",
        "\n",
        "The data preparation process in this code involves three main stages: (a) ETL (Extract, Transform, Load), (b) DataSet Loading, and (c) Data Collation for model training.\n",
        "\n",
        "* **ETL:** This stage simplifies the dataset by extracting the data from a Kaggle source, transforming it into a 1st Normal Form (1NF) CSV table format, and loading it into a destination folder or Google Cloud Storage bucket. The ETL process makes the data easier to consume by the training process. The logic can be found in the `hlm12erc.etl` module, and it can also be run with a command-line instruction, and orchestrated through the `hlm12erc.etl.ETL` class.\n",
        "\n",
        "* **DataSet Loading:** This stage wraps the data using PyTorch Data Utility Classes to shape it appropriately for consumption by the model trainer. This step ensures that the data is organized and can be efficiently fed into the training process. The dataset class is defined at `hlm12erc.training.MeldDataset`.\n",
        "\n",
        "* **Data Collation:** The Data Collator is responsible for creating batches of data suitable for model training and evaluation. It takes a list of MeldRecord instances and collates the data into a dictionary format with keys like `x_text`, `x_visual`, `x_audio`, and `y_true`. The collation involves converting text, visual, and audio data into appropriate formats and encoding the labels using ERCLabelEncoder, making the data ready for consumption by the PyTorch model's \"forward\" method during both training and inference. The collator class is defined at `hlm12erc.training.ERCDataCollator`, and can be observed below."
      ],
      "metadata": {
        "id": "6gX19NpBl7Tf"
      }
    },
    {
      "cell_type": "code",
      "source": [
        "import inspect\n",
        "from hlm12erc.training import MeldDataset\n",
        "from IPython.display import Code\n",
        "\n",
        "class_code = inspect.getsource(MeldDataset)\n",
        "Code(class_code, language=\"python\")"
      ],
      "metadata": {
        "colab": {
          "base_uri": "https://localhost:8080/",
          "height": 1000
        },
        "id": "nBn1_9kVvot6",
        "outputId": "6bd59e8e-d9f9-4546-c8f8-134eef376344"
      },
      "execution_count": null,
      "outputs": [
        {
          "output_type": "execute_result",
          "data": {
            "text/plain": [
              "class MeldDataset(Dataset):\n",
              "    \"\"\"\n",
              "    Using a dataframe to the dataset .csv file, this class allows access to\n",
              "    the data in the high level form of a `MeldRecord` object, that already\n",
              "    carries the visual features (PIL.Image) and audio features (wave.Wave).\n",
              "\n",
              "    Example:\n",
              "        >>> df = pd.read_csv(\"data/meld/train.csv\")\n",
              "        >>> dataset = MeldDataset(df)\n",
              "        >>> record = dataset[0]\n",
              "    \"\"\"\n",
              "\n",
              "    filepath: pathlib.Path\n",
              "    filedir: pathlib.Path\n",
              "    df: pd.DataFrame\n",
              "    record_reader: MeldRecordReader\n",
              "\n",
              "    def __init__(self, filepath: pathlib.Path):\n",
              "        \"\"\"\n",
              "        Creates a new instance of the MeldDataset for a split\n",
              "\n",
              "        :param df: The dataframe containing the data for the split\n",
              "        \"\"\"\n",
              "        self.filepath = filepath\n",
              "        self.filedir = filepath.parent\n",
              "        self.df = pd.read_csv(self.filepath).sort_values(by=[\"dialogue\", \"sequence\"], ascending=[True, True])\n",
              "        self.record_reader = MeldRecordReader(df=self.df, filename=filepath.stem, filedir=self.filedir)\n",
              "        self.emotions = sorted(self.df.label.unique().tolist())\n",
              "\n",
              "    def __len__(self) -> int:\n",
              "        \"\"\"\n",
              "        Returns the number of samples in the dataset, based on the length\n",
              "        of the dataframe itself.\n",
              "\n",
              "        :return: The number of samples in the dataset\n",
              "        \"\"\"\n",
              "        return len(self.df)\n",
              "\n",
              "    def __getitem__(self, index: slice | int) -> MeldRecord | List[MeldRecord]:\n",
              "        \"\"\"\n",
              "        Returns a single sample from the dataset, based on the index provided.\n",
              "        The sample is returned in the form of a `MeldRecord` object, that\n",
              "        already carries the visual features (PIL.Image) and audio features\n",
              "        (wave.Wave)\n",
              "\n",
              "        :param index: The index of the sample to be returned, integer or slice\n",
              "        :return: A `MeldRecord` instance or batch, containing the sample(s)\n",
              "        \"\"\"\n",
              "        if isinstance(index, slice):\n",
              "            records = [self.record_reader.read_at(i) for i in range(index.start, index.stop, index.step or 1)]\n",
              "            return [r for r in records if r is not None]\n",
              "        elif isinstance(index, int):\n",
              "            record = self.record_reader.read_at(index)\n",
              "            if record is None:\n",
              "                raise IndexError(f\"The index '{index}' is out of bounds.\")\n",
              "            return record\n",
              "        else:\n",
              "            raise TypeError(f\"The index '{index}' is an invalid index type.\")\n",
              "\n",
              "    @property\n",
              "    def classes(self) -> List[str]:\n",
              "        \"\"\"\n",
              "        Returns a list of the classes in the dataset, based on the unique\n",
              "        labels in the dataframe.\n",
              "\n",
              "        :return: A list of the classes in the dataset\n",
              "        \"\"\"\n",
              "        return self.emotions"
            ],
            "text/html": [
              "<style>pre { line-height: 125%; }\n",
              "td.linenos .normal { color: inherit; background-color: transparent; padding-left: 5px; padding-right: 5px; }\n",
              "span.linenos { color: inherit; background-color: transparent; padding-left: 5px; padding-right: 5px; }\n",
              "td.linenos .special { color: #000000; background-color: #ffffc0; padding-left: 5px; padding-right: 5px; }\n",
              "span.linenos.special { color: #000000; background-color: #ffffc0; padding-left: 5px; padding-right: 5px; }\n",
              ".output_html .hll { background-color: #ffffcc }\n",
              ".output_html { background: #f8f8f8; }\n",
              ".output_html .c { color: #3D7B7B; font-style: italic } /* Comment */\n",
              ".output_html .err { border: 1px solid #FF0000 } /* Error */\n",
              ".output_html .k { color: #008000; font-weight: bold } /* Keyword */\n",
              ".output_html .o { color: #666666 } /* Operator */\n",
              ".output_html .ch { color: #3D7B7B; font-style: italic } /* Comment.Hashbang */\n",
              ".output_html .cm { color: #3D7B7B; font-style: italic } /* Comment.Multiline */\n",
              ".output_html .cp { color: #9C6500 } /* Comment.Preproc */\n",
              ".output_html .cpf { color: #3D7B7B; font-style: italic } /* Comment.PreprocFile */\n",
              ".output_html .c1 { color: #3D7B7B; font-style: italic } /* Comment.Single */\n",
              ".output_html .cs { color: #3D7B7B; font-style: italic } /* Comment.Special */\n",
              ".output_html .gd { color: #A00000 } /* Generic.Deleted */\n",
              ".output_html .ge { font-style: italic } /* Generic.Emph */\n",
              ".output_html .ges { font-weight: bold; font-style: italic } /* Generic.EmphStrong */\n",
              ".output_html .gr { color: #E40000 } /* Generic.Error */\n",
              ".output_html .gh { color: #000080; font-weight: bold } /* Generic.Heading */\n",
              ".output_html .gi { color: #008400 } /* Generic.Inserted */\n",
              ".output_html .go { color: #717171 } /* Generic.Output */\n",
              ".output_html .gp { color: #000080; font-weight: bold } /* Generic.Prompt */\n",
              ".output_html .gs { font-weight: bold } /* Generic.Strong */\n",
              ".output_html .gu { color: #800080; font-weight: bold } /* Generic.Subheading */\n",
              ".output_html .gt { color: #0044DD } /* Generic.Traceback */\n",
              ".output_html .kc { color: #008000; font-weight: bold } /* Keyword.Constant */\n",
              ".output_html .kd { color: #008000; font-weight: bold } /* Keyword.Declaration */\n",
              ".output_html .kn { color: #008000; font-weight: bold } /* Keyword.Namespace */\n",
              ".output_html .kp { color: #008000 } /* Keyword.Pseudo */\n",
              ".output_html .kr { color: #008000; font-weight: bold } /* Keyword.Reserved */\n",
              ".output_html .kt { color: #B00040 } /* Keyword.Type */\n",
              ".output_html .m { color: #666666 } /* Literal.Number */\n",
              ".output_html .s { color: #BA2121 } /* Literal.String */\n",
              ".output_html .na { color: #687822 } /* Name.Attribute */\n",
              ".output_html .nb { color: #008000 } /* Name.Builtin */\n",
              ".output_html .nc { color: #0000FF; font-weight: bold } /* Name.Class */\n",
              ".output_html .no { color: #880000 } /* Name.Constant */\n",
              ".output_html .nd { color: #AA22FF } /* Name.Decorator */\n",
              ".output_html .ni { color: #717171; font-weight: bold } /* Name.Entity */\n",
              ".output_html .ne { color: #CB3F38; font-weight: bold } /* Name.Exception */\n",
              ".output_html .nf { color: #0000FF } /* Name.Function */\n",
              ".output_html .nl { color: #767600 } /* Name.Label */\n",
              ".output_html .nn { color: #0000FF; font-weight: bold } /* Name.Namespace */\n",
              ".output_html .nt { color: #008000; font-weight: bold } /* Name.Tag */\n",
              ".output_html .nv { color: #19177C } /* Name.Variable */\n",
              ".output_html .ow { color: #AA22FF; font-weight: bold } /* Operator.Word */\n",
              ".output_html .w { color: #bbbbbb } /* Text.Whitespace */\n",
              ".output_html .mb { color: #666666 } /* Literal.Number.Bin */\n",
              ".output_html .mf { color: #666666 } /* Literal.Number.Float */\n",
              ".output_html .mh { color: #666666 } /* Literal.Number.Hex */\n",
              ".output_html .mi { color: #666666 } /* Literal.Number.Integer */\n",
              ".output_html .mo { color: #666666 } /* Literal.Number.Oct */\n",
              ".output_html .sa { color: #BA2121 } /* Literal.String.Affix */\n",
              ".output_html .sb { color: #BA2121 } /* Literal.String.Backtick */\n",
              ".output_html .sc { color: #BA2121 } /* Literal.String.Char */\n",
              ".output_html .dl { color: #BA2121 } /* Literal.String.Delimiter */\n",
              ".output_html .sd { color: #BA2121; font-style: italic } /* Literal.String.Doc */\n",
              ".output_html .s2 { color: #BA2121 } /* Literal.String.Double */\n",
              ".output_html .se { color: #AA5D1F; font-weight: bold } /* Literal.String.Escape */\n",
              ".output_html .sh { color: #BA2121 } /* Literal.String.Heredoc */\n",
              ".output_html .si { color: #A45A77; font-weight: bold } /* Literal.String.Interpol */\n",
              ".output_html .sx { color: #008000 } /* Literal.String.Other */\n",
              ".output_html .sr { color: #A45A77 } /* Literal.String.Regex */\n",
              ".output_html .s1 { color: #BA2121 } /* Literal.String.Single */\n",
              ".output_html .ss { color: #19177C } /* Literal.String.Symbol */\n",
              ".output_html .bp { color: #008000 } /* Name.Builtin.Pseudo */\n",
              ".output_html .fm { color: #0000FF } /* Name.Function.Magic */\n",
              ".output_html .vc { color: #19177C } /* Name.Variable.Class */\n",
              ".output_html .vg { color: #19177C } /* Name.Variable.Global */\n",
              ".output_html .vi { color: #19177C } /* Name.Variable.Instance */\n",
              ".output_html .vm { color: #19177C } /* Name.Variable.Magic */\n",
              ".output_html .il { color: #666666 } /* Literal.Number.Integer.Long */</style><div class=\"highlight\"><pre><span></span><span class=\"k\">class</span> <span class=\"nc\">MeldDataset</span><span class=\"p\">(</span><span class=\"n\">Dataset</span><span class=\"p\">):</span>\n",
              "<span class=\"w\">    </span><span class=\"sd\">&quot;&quot;&quot;</span>\n",
              "<span class=\"sd\">    Using a dataframe to the dataset .csv file, this class allows access to</span>\n",
              "<span class=\"sd\">    the data in the high level form of a `MeldRecord` object, that already</span>\n",
              "<span class=\"sd\">    carries the visual features (PIL.Image) and audio features (wave.Wave).</span>\n",
              "\n",
              "<span class=\"sd\">    Example:</span>\n",
              "<span class=\"sd\">        &gt;&gt;&gt; df = pd.read_csv(&quot;data/meld/train.csv&quot;)</span>\n",
              "<span class=\"sd\">        &gt;&gt;&gt; dataset = MeldDataset(df)</span>\n",
              "<span class=\"sd\">        &gt;&gt;&gt; record = dataset[0]</span>\n",
              "<span class=\"sd\">    &quot;&quot;&quot;</span>\n",
              "\n",
              "    <span class=\"n\">filepath</span><span class=\"p\">:</span> <span class=\"n\">pathlib</span><span class=\"o\">.</span><span class=\"n\">Path</span>\n",
              "    <span class=\"n\">filedir</span><span class=\"p\">:</span> <span class=\"n\">pathlib</span><span class=\"o\">.</span><span class=\"n\">Path</span>\n",
              "    <span class=\"n\">df</span><span class=\"p\">:</span> <span class=\"n\">pd</span><span class=\"o\">.</span><span class=\"n\">DataFrame</span>\n",
              "    <span class=\"n\">record_reader</span><span class=\"p\">:</span> <span class=\"n\">MeldRecordReader</span>\n",
              "\n",
              "    <span class=\"k\">def</span> <span class=\"fm\">__init__</span><span class=\"p\">(</span><span class=\"bp\">self</span><span class=\"p\">,</span> <span class=\"n\">filepath</span><span class=\"p\">:</span> <span class=\"n\">pathlib</span><span class=\"o\">.</span><span class=\"n\">Path</span><span class=\"p\">):</span>\n",
              "<span class=\"w\">        </span><span class=\"sd\">&quot;&quot;&quot;</span>\n",
              "<span class=\"sd\">        Creates a new instance of the MeldDataset for a split</span>\n",
              "\n",
              "<span class=\"sd\">        :param df: The dataframe containing the data for the split</span>\n",
              "<span class=\"sd\">        &quot;&quot;&quot;</span>\n",
              "        <span class=\"bp\">self</span><span class=\"o\">.</span><span class=\"n\">filepath</span> <span class=\"o\">=</span> <span class=\"n\">filepath</span>\n",
              "        <span class=\"bp\">self</span><span class=\"o\">.</span><span class=\"n\">filedir</span> <span class=\"o\">=</span> <span class=\"n\">filepath</span><span class=\"o\">.</span><span class=\"n\">parent</span>\n",
              "        <span class=\"bp\">self</span><span class=\"o\">.</span><span class=\"n\">df</span> <span class=\"o\">=</span> <span class=\"n\">pd</span><span class=\"o\">.</span><span class=\"n\">read_csv</span><span class=\"p\">(</span><span class=\"bp\">self</span><span class=\"o\">.</span><span class=\"n\">filepath</span><span class=\"p\">)</span><span class=\"o\">.</span><span class=\"n\">sort_values</span><span class=\"p\">(</span><span class=\"n\">by</span><span class=\"o\">=</span><span class=\"p\">[</span><span class=\"s2\">&quot;dialogue&quot;</span><span class=\"p\">,</span> <span class=\"s2\">&quot;sequence&quot;</span><span class=\"p\">],</span> <span class=\"n\">ascending</span><span class=\"o\">=</span><span class=\"p\">[</span><span class=\"kc\">True</span><span class=\"p\">,</span> <span class=\"kc\">True</span><span class=\"p\">])</span>\n",
              "        <span class=\"bp\">self</span><span class=\"o\">.</span><span class=\"n\">record_reader</span> <span class=\"o\">=</span> <span class=\"n\">MeldRecordReader</span><span class=\"p\">(</span><span class=\"n\">df</span><span class=\"o\">=</span><span class=\"bp\">self</span><span class=\"o\">.</span><span class=\"n\">df</span><span class=\"p\">,</span> <span class=\"n\">filename</span><span class=\"o\">=</span><span class=\"n\">filepath</span><span class=\"o\">.</span><span class=\"n\">stem</span><span class=\"p\">,</span> <span class=\"n\">filedir</span><span class=\"o\">=</span><span class=\"bp\">self</span><span class=\"o\">.</span><span class=\"n\">filedir</span><span class=\"p\">)</span>\n",
              "        <span class=\"bp\">self</span><span class=\"o\">.</span><span class=\"n\">emotions</span> <span class=\"o\">=</span> <span class=\"nb\">sorted</span><span class=\"p\">(</span><span class=\"bp\">self</span><span class=\"o\">.</span><span class=\"n\">df</span><span class=\"o\">.</span><span class=\"n\">label</span><span class=\"o\">.</span><span class=\"n\">unique</span><span class=\"p\">()</span><span class=\"o\">.</span><span class=\"n\">tolist</span><span class=\"p\">())</span>\n",
              "\n",
              "    <span class=\"k\">def</span> <span class=\"fm\">__len__</span><span class=\"p\">(</span><span class=\"bp\">self</span><span class=\"p\">)</span> <span class=\"o\">-&gt;</span> <span class=\"nb\">int</span><span class=\"p\">:</span>\n",
              "<span class=\"w\">        </span><span class=\"sd\">&quot;&quot;&quot;</span>\n",
              "<span class=\"sd\">        Returns the number of samples in the dataset, based on the length</span>\n",
              "<span class=\"sd\">        of the dataframe itself.</span>\n",
              "\n",
              "<span class=\"sd\">        :return: The number of samples in the dataset</span>\n",
              "<span class=\"sd\">        &quot;&quot;&quot;</span>\n",
              "        <span class=\"k\">return</span> <span class=\"nb\">len</span><span class=\"p\">(</span><span class=\"bp\">self</span><span class=\"o\">.</span><span class=\"n\">df</span><span class=\"p\">)</span>\n",
              "\n",
              "    <span class=\"k\">def</span> <span class=\"fm\">__getitem__</span><span class=\"p\">(</span><span class=\"bp\">self</span><span class=\"p\">,</span> <span class=\"n\">index</span><span class=\"p\">:</span> <span class=\"nb\">slice</span> <span class=\"o\">|</span> <span class=\"nb\">int</span><span class=\"p\">)</span> <span class=\"o\">-&gt;</span> <span class=\"n\">MeldRecord</span> <span class=\"o\">|</span> <span class=\"n\">List</span><span class=\"p\">[</span><span class=\"n\">MeldRecord</span><span class=\"p\">]:</span>\n",
              "<span class=\"w\">        </span><span class=\"sd\">&quot;&quot;&quot;</span>\n",
              "<span class=\"sd\">        Returns a single sample from the dataset, based on the index provided.</span>\n",
              "<span class=\"sd\">        The sample is returned in the form of a `MeldRecord` object, that</span>\n",
              "<span class=\"sd\">        already carries the visual features (PIL.Image) and audio features</span>\n",
              "<span class=\"sd\">        (wave.Wave)</span>\n",
              "\n",
              "<span class=\"sd\">        :param index: The index of the sample to be returned, integer or slice</span>\n",
              "<span class=\"sd\">        :return: A `MeldRecord` instance or batch, containing the sample(s)</span>\n",
              "<span class=\"sd\">        &quot;&quot;&quot;</span>\n",
              "        <span class=\"k\">if</span> <span class=\"nb\">isinstance</span><span class=\"p\">(</span><span class=\"n\">index</span><span class=\"p\">,</span> <span class=\"nb\">slice</span><span class=\"p\">):</span>\n",
              "            <span class=\"n\">records</span> <span class=\"o\">=</span> <span class=\"p\">[</span><span class=\"bp\">self</span><span class=\"o\">.</span><span class=\"n\">record_reader</span><span class=\"o\">.</span><span class=\"n\">read_at</span><span class=\"p\">(</span><span class=\"n\">i</span><span class=\"p\">)</span> <span class=\"k\">for</span> <span class=\"n\">i</span> <span class=\"ow\">in</span> <span class=\"nb\">range</span><span class=\"p\">(</span><span class=\"n\">index</span><span class=\"o\">.</span><span class=\"n\">start</span><span class=\"p\">,</span> <span class=\"n\">index</span><span class=\"o\">.</span><span class=\"n\">stop</span><span class=\"p\">,</span> <span class=\"n\">index</span><span class=\"o\">.</span><span class=\"n\">step</span> <span class=\"ow\">or</span> <span class=\"mi\">1</span><span class=\"p\">)]</span>\n",
              "            <span class=\"k\">return</span> <span class=\"p\">[</span><span class=\"n\">r</span> <span class=\"k\">for</span> <span class=\"n\">r</span> <span class=\"ow\">in</span> <span class=\"n\">records</span> <span class=\"k\">if</span> <span class=\"n\">r</span> <span class=\"ow\">is</span> <span class=\"ow\">not</span> <span class=\"kc\">None</span><span class=\"p\">]</span>\n",
              "        <span class=\"k\">elif</span> <span class=\"nb\">isinstance</span><span class=\"p\">(</span><span class=\"n\">index</span><span class=\"p\">,</span> <span class=\"nb\">int</span><span class=\"p\">):</span>\n",
              "            <span class=\"n\">record</span> <span class=\"o\">=</span> <span class=\"bp\">self</span><span class=\"o\">.</span><span class=\"n\">record_reader</span><span class=\"o\">.</span><span class=\"n\">read_at</span><span class=\"p\">(</span><span class=\"n\">index</span><span class=\"p\">)</span>\n",
              "            <span class=\"k\">if</span> <span class=\"n\">record</span> <span class=\"ow\">is</span> <span class=\"kc\">None</span><span class=\"p\">:</span>\n",
              "                <span class=\"k\">raise</span> <span class=\"ne\">IndexError</span><span class=\"p\">(</span><span class=\"sa\">f</span><span class=\"s2\">&quot;The index &#39;</span><span class=\"si\">{</span><span class=\"n\">index</span><span class=\"si\">}</span><span class=\"s2\">&#39; is out of bounds.&quot;</span><span class=\"p\">)</span>\n",
              "            <span class=\"k\">return</span> <span class=\"n\">record</span>\n",
              "        <span class=\"k\">else</span><span class=\"p\">:</span>\n",
              "            <span class=\"k\">raise</span> <span class=\"ne\">TypeError</span><span class=\"p\">(</span><span class=\"sa\">f</span><span class=\"s2\">&quot;The index &#39;</span><span class=\"si\">{</span><span class=\"n\">index</span><span class=\"si\">}</span><span class=\"s2\">&#39; is an invalid index type.&quot;</span><span class=\"p\">)</span>\n",
              "\n",
              "    <span class=\"nd\">@property</span>\n",
              "    <span class=\"k\">def</span> <span class=\"nf\">classes</span><span class=\"p\">(</span><span class=\"bp\">self</span><span class=\"p\">)</span> <span class=\"o\">-&gt;</span> <span class=\"n\">List</span><span class=\"p\">[</span><span class=\"nb\">str</span><span class=\"p\">]:</span>\n",
              "<span class=\"w\">        </span><span class=\"sd\">&quot;&quot;&quot;</span>\n",
              "<span class=\"sd\">        Returns a list of the classes in the dataset, based on the unique</span>\n",
              "<span class=\"sd\">        labels in the dataframe.</span>\n",
              "\n",
              "<span class=\"sd\">        :return: A list of the classes in the dataset</span>\n",
              "<span class=\"sd\">        &quot;&quot;&quot;</span>\n",
              "        <span class=\"k\">return</span> <span class=\"bp\">self</span><span class=\"o\">.</span><span class=\"n\">emotions</span>\n",
              "</pre></div>\n"
            ],
            "text/latex": "\\begin{Verbatim}[commandchars=\\\\\\{\\}]\n\\PY{k}{class} \\PY{n+nc}{MeldDataset}\\PY{p}{(}\\PY{n}{Dataset}\\PY{p}{)}\\PY{p}{:}\n\\PY{+w}{    }\\PY{l+s+sd}{\\PYZdq{}\\PYZdq{}\\PYZdq{}}\n\\PY{l+s+sd}{    Using a dataframe to the dataset .csv file, this class allows access to}\n\\PY{l+s+sd}{    the data in the high level form of a `MeldRecord` object, that already}\n\\PY{l+s+sd}{    carries the visual features (PIL.Image) and audio features (wave.Wave).}\n\n\\PY{l+s+sd}{    Example:}\n\\PY{l+s+sd}{        \\PYZgt{}\\PYZgt{}\\PYZgt{} df = pd.read\\PYZus{}csv(\\PYZdq{}data/meld/train.csv\\PYZdq{})}\n\\PY{l+s+sd}{        \\PYZgt{}\\PYZgt{}\\PYZgt{} dataset = MeldDataset(df)}\n\\PY{l+s+sd}{        \\PYZgt{}\\PYZgt{}\\PYZgt{} record = dataset[0]}\n\\PY{l+s+sd}{    \\PYZdq{}\\PYZdq{}\\PYZdq{}}\n\n    \\PY{n}{filepath}\\PY{p}{:} \\PY{n}{pathlib}\\PY{o}{.}\\PY{n}{Path}\n    \\PY{n}{filedir}\\PY{p}{:} \\PY{n}{pathlib}\\PY{o}{.}\\PY{n}{Path}\n    \\PY{n}{df}\\PY{p}{:} \\PY{n}{pd}\\PY{o}{.}\\PY{n}{DataFrame}\n    \\PY{n}{record\\PYZus{}reader}\\PY{p}{:} \\PY{n}{MeldRecordReader}\n\n    \\PY{k}{def} \\PY{n+nf+fm}{\\PYZus{}\\PYZus{}init\\PYZus{}\\PYZus{}}\\PY{p}{(}\\PY{n+nb+bp}{self}\\PY{p}{,} \\PY{n}{filepath}\\PY{p}{:} \\PY{n}{pathlib}\\PY{o}{.}\\PY{n}{Path}\\PY{p}{)}\\PY{p}{:}\n\\PY{+w}{        }\\PY{l+s+sd}{\\PYZdq{}\\PYZdq{}\\PYZdq{}}\n\\PY{l+s+sd}{        Creates a new instance of the MeldDataset for a split}\n\n\\PY{l+s+sd}{        :param df: The dataframe containing the data for the split}\n\\PY{l+s+sd}{        \\PYZdq{}\\PYZdq{}\\PYZdq{}}\n        \\PY{n+nb+bp}{self}\\PY{o}{.}\\PY{n}{filepath} \\PY{o}{=} \\PY{n}{filepath}\n        \\PY{n+nb+bp}{self}\\PY{o}{.}\\PY{n}{filedir} \\PY{o}{=} \\PY{n}{filepath}\\PY{o}{.}\\PY{n}{parent}\n        \\PY{n+nb+bp}{self}\\PY{o}{.}\\PY{n}{df} \\PY{o}{=} \\PY{n}{pd}\\PY{o}{.}\\PY{n}{read\\PYZus{}csv}\\PY{p}{(}\\PY{n+nb+bp}{self}\\PY{o}{.}\\PY{n}{filepath}\\PY{p}{)}\\PY{o}{.}\\PY{n}{sort\\PYZus{}values}\\PY{p}{(}\\PY{n}{by}\\PY{o}{=}\\PY{p}{[}\\PY{l+s+s2}{\\PYZdq{}}\\PY{l+s+s2}{dialogue}\\PY{l+s+s2}{\\PYZdq{}}\\PY{p}{,} \\PY{l+s+s2}{\\PYZdq{}}\\PY{l+s+s2}{sequence}\\PY{l+s+s2}{\\PYZdq{}}\\PY{p}{]}\\PY{p}{,} \\PY{n}{ascending}\\PY{o}{=}\\PY{p}{[}\\PY{k+kc}{True}\\PY{p}{,} \\PY{k+kc}{True}\\PY{p}{]}\\PY{p}{)}\n        \\PY{n+nb+bp}{self}\\PY{o}{.}\\PY{n}{record\\PYZus{}reader} \\PY{o}{=} \\PY{n}{MeldRecordReader}\\PY{p}{(}\\PY{n}{df}\\PY{o}{=}\\PY{n+nb+bp}{self}\\PY{o}{.}\\PY{n}{df}\\PY{p}{,} \\PY{n}{filename}\\PY{o}{=}\\PY{n}{filepath}\\PY{o}{.}\\PY{n}{stem}\\PY{p}{,} \\PY{n}{filedir}\\PY{o}{=}\\PY{n+nb+bp}{self}\\PY{o}{.}\\PY{n}{filedir}\\PY{p}{)}\n        \\PY{n+nb+bp}{self}\\PY{o}{.}\\PY{n}{emotions} \\PY{o}{=} \\PY{n+nb}{sorted}\\PY{p}{(}\\PY{n+nb+bp}{self}\\PY{o}{.}\\PY{n}{df}\\PY{o}{.}\\PY{n}{label}\\PY{o}{.}\\PY{n}{unique}\\PY{p}{(}\\PY{p}{)}\\PY{o}{.}\\PY{n}{tolist}\\PY{p}{(}\\PY{p}{)}\\PY{p}{)}\n\n    \\PY{k}{def} \\PY{n+nf+fm}{\\PYZus{}\\PYZus{}len\\PYZus{}\\PYZus{}}\\PY{p}{(}\\PY{n+nb+bp}{self}\\PY{p}{)} \\PY{o}{\\PYZhy{}}\\PY{o}{\\PYZgt{}} \\PY{n+nb}{int}\\PY{p}{:}\n\\PY{+w}{        }\\PY{l+s+sd}{\\PYZdq{}\\PYZdq{}\\PYZdq{}}\n\\PY{l+s+sd}{        Returns the number of samples in the dataset, based on the length}\n\\PY{l+s+sd}{        of the dataframe itself.}\n\n\\PY{l+s+sd}{        :return: The number of samples in the dataset}\n\\PY{l+s+sd}{        \\PYZdq{}\\PYZdq{}\\PYZdq{}}\n        \\PY{k}{return} \\PY{n+nb}{len}\\PY{p}{(}\\PY{n+nb+bp}{self}\\PY{o}{.}\\PY{n}{df}\\PY{p}{)}\n\n    \\PY{k}{def} \\PY{n+nf+fm}{\\PYZus{}\\PYZus{}getitem\\PYZus{}\\PYZus{}}\\PY{p}{(}\\PY{n+nb+bp}{self}\\PY{p}{,} \\PY{n}{index}\\PY{p}{:} \\PY{n+nb}{slice} \\PY{o}{|} \\PY{n+nb}{int}\\PY{p}{)} \\PY{o}{\\PYZhy{}}\\PY{o}{\\PYZgt{}} \\PY{n}{MeldRecord} \\PY{o}{|} \\PY{n}{List}\\PY{p}{[}\\PY{n}{MeldRecord}\\PY{p}{]}\\PY{p}{:}\n\\PY{+w}{        }\\PY{l+s+sd}{\\PYZdq{}\\PYZdq{}\\PYZdq{}}\n\\PY{l+s+sd}{        Returns a single sample from the dataset, based on the index provided.}\n\\PY{l+s+sd}{        The sample is returned in the form of a `MeldRecord` object, that}\n\\PY{l+s+sd}{        already carries the visual features (PIL.Image) and audio features}\n\\PY{l+s+sd}{        (wave.Wave)}\n\n\\PY{l+s+sd}{        :param index: The index of the sample to be returned, integer or slice}\n\\PY{l+s+sd}{        :return: A `MeldRecord` instance or batch, containing the sample(s)}\n\\PY{l+s+sd}{        \\PYZdq{}\\PYZdq{}\\PYZdq{}}\n        \\PY{k}{if} \\PY{n+nb}{isinstance}\\PY{p}{(}\\PY{n}{index}\\PY{p}{,} \\PY{n+nb}{slice}\\PY{p}{)}\\PY{p}{:}\n            \\PY{n}{records} \\PY{o}{=} \\PY{p}{[}\\PY{n+nb+bp}{self}\\PY{o}{.}\\PY{n}{record\\PYZus{}reader}\\PY{o}{.}\\PY{n}{read\\PYZus{}at}\\PY{p}{(}\\PY{n}{i}\\PY{p}{)} \\PY{k}{for} \\PY{n}{i} \\PY{o+ow}{in} \\PY{n+nb}{range}\\PY{p}{(}\\PY{n}{index}\\PY{o}{.}\\PY{n}{start}\\PY{p}{,} \\PY{n}{index}\\PY{o}{.}\\PY{n}{stop}\\PY{p}{,} \\PY{n}{index}\\PY{o}{.}\\PY{n}{step} \\PY{o+ow}{or} \\PY{l+m+mi}{1}\\PY{p}{)}\\PY{p}{]}\n            \\PY{k}{return} \\PY{p}{[}\\PY{n}{r} \\PY{k}{for} \\PY{n}{r} \\PY{o+ow}{in} \\PY{n}{records} \\PY{k}{if} \\PY{n}{r} \\PY{o+ow}{is} \\PY{o+ow}{not} \\PY{k+kc}{None}\\PY{p}{]}\n        \\PY{k}{elif} \\PY{n+nb}{isinstance}\\PY{p}{(}\\PY{n}{index}\\PY{p}{,} \\PY{n+nb}{int}\\PY{p}{)}\\PY{p}{:}\n            \\PY{n}{record} \\PY{o}{=} \\PY{n+nb+bp}{self}\\PY{o}{.}\\PY{n}{record\\PYZus{}reader}\\PY{o}{.}\\PY{n}{read\\PYZus{}at}\\PY{p}{(}\\PY{n}{index}\\PY{p}{)}\n            \\PY{k}{if} \\PY{n}{record} \\PY{o+ow}{is} \\PY{k+kc}{None}\\PY{p}{:}\n                \\PY{k}{raise} \\PY{n+ne}{IndexError}\\PY{p}{(}\\PY{l+s+sa}{f}\\PY{l+s+s2}{\\PYZdq{}}\\PY{l+s+s2}{The index }\\PY{l+s+s2}{\\PYZsq{}}\\PY{l+s+si}{\\PYZob{}}\\PY{n}{index}\\PY{l+s+si}{\\PYZcb{}}\\PY{l+s+s2}{\\PYZsq{}}\\PY{l+s+s2}{ is out of bounds.}\\PY{l+s+s2}{\\PYZdq{}}\\PY{p}{)}\n            \\PY{k}{return} \\PY{n}{record}\n        \\PY{k}{else}\\PY{p}{:}\n            \\PY{k}{raise} \\PY{n+ne}{TypeError}\\PY{p}{(}\\PY{l+s+sa}{f}\\PY{l+s+s2}{\\PYZdq{}}\\PY{l+s+s2}{The index }\\PY{l+s+s2}{\\PYZsq{}}\\PY{l+s+si}{\\PYZob{}}\\PY{n}{index}\\PY{l+s+si}{\\PYZcb{}}\\PY{l+s+s2}{\\PYZsq{}}\\PY{l+s+s2}{ is an invalid index type.}\\PY{l+s+s2}{\\PYZdq{}}\\PY{p}{)}\n\n    \\PY{n+nd}{@property}\n    \\PY{k}{def} \\PY{n+nf}{classes}\\PY{p}{(}\\PY{n+nb+bp}{self}\\PY{p}{)} \\PY{o}{\\PYZhy{}}\\PY{o}{\\PYZgt{}} \\PY{n}{List}\\PY{p}{[}\\PY{n+nb}{str}\\PY{p}{]}\\PY{p}{:}\n\\PY{+w}{        }\\PY{l+s+sd}{\\PYZdq{}\\PYZdq{}\\PYZdq{}}\n\\PY{l+s+sd}{        Returns a list of the classes in the dataset, based on the unique}\n\\PY{l+s+sd}{        labels in the dataframe.}\n\n\\PY{l+s+sd}{        :return: A list of the classes in the dataset}\n\\PY{l+s+sd}{        \\PYZdq{}\\PYZdq{}\\PYZdq{}}\n        \\PY{k}{return} \\PY{n+nb+bp}{self}\\PY{o}{.}\\PY{n}{emotions}\n\\end{Verbatim}\n"
          },
          "metadata": {},
          "execution_count": 11
        }
      ]
    },
    {
      "cell_type": "code",
      "source": [
        "import inspect\n",
        "from hlm12erc.training import ERCDataCollator\n",
        "from IPython.display import Code\n",
        "\n",
        "class_code = inspect.getsource(ERCDataCollator)\n",
        "Code(class_code, language=\"python\")"
      ],
      "metadata": {
        "colab": {
          "base_uri": "https://localhost:8080/",
          "height": 1000
        },
        "id": "256mkeqdRf-T",
        "outputId": "a79c6fea-362f-4e65-dd1b-5aacefba7129"
      },
      "execution_count": null,
      "outputs": [
        {
          "output_type": "execute_result",
          "data": {
            "text/plain": [
              "class ERCDataCollator:\n",
              "    \"\"\"\n",
              "    Collates the data from the ERC dataset into a format that can be used and\n",
              "    batched by the model, with multiple records turned into lists of its underlying\n",
              "    datapoints.\n",
              "    \"\"\"\n",
              "\n",
              "    LABEL_NAME: str = \"y_true\"\n",
              "\n",
              "    config: ERCConfig\n",
              "    label_encoder: ERCLabelEncoder\n",
              "    device: torch.device | None\n",
              "\n",
              "    def __init__(self, config: ERCConfig, label_encoder: ERCLabelEncoder) -> None:\n",
              "        \"\"\"\n",
              "        Initialise the ERCDataCollator class with the given ERCLabelEncoder object.\n",
              "\n",
              "        :param config: ERCConfig object containing the configuration\n",
              "        :param label_encoder: ERCLabelEncoder object containing the label encoder\n",
              "        \"\"\"\n",
              "        self.config = config\n",
              "        self.label_encoder = label_encoder\n",
              "\n",
              "    def __call__(\n",
              "        self,\n",
              "        batch: List[MeldRecord],\n",
              "        device: torch.device | None = None,\n",
              "    ) -> dict:\n",
              "        \"\"\"\n",
              "        Collates the data from the ERC dataset into a format that can be used and\n",
              "        batched by the model, with multiple records turned into lists of its underlying\n",
              "        datapoints. We also encode the labels to make it easier to use in the model.\n",
              "\n",
              "        :param record: The list of records to collate\n",
              "        :param device: if provided, send tensors to device\n",
              "        :return: The collated data\n",
              "        \"\"\"\n",
              "        x_text = [r.text for r in batch]\n",
              "        x_visual = self._visual_to_stacked_tensor([r.visual for r in batch])\n",
              "        x_audio = self._audio_to_stacked_tensor([r.audio for r in batch])\n",
              "        y_label = self.label_encoder([r.label for r in batch])\n",
              "        if device is not None:\n",
              "            x_visual = x_visual.to(device)\n",
              "            x_audio = x_audio.to(device)\n",
              "            y_label = y_label.to(device)\n",
              "        return {\n",
              "            \"x_text\": x_text,\n",
              "            \"x_visual\": x_visual,\n",
              "            \"x_audio\": x_audio,\n",
              "            ERCDataCollator.LABEL_NAME: y_label,\n",
              "        }\n",
              "\n",
              "    def _visual_to_stacked_tensor(self, videos: List[torch.Tensor]) -> torch.Tensor:\n",
              "        \"\"\"\n",
              "        Stack together tensors representing feature vectors of images.\n",
              "\n",
              "        :param record: The list of individual tensors for visual data\n",
              "        :return: The collated visual data as a tensor of shape (batch_size, *visual_in_features)\n",
              "        \"\"\"\n",
              "        return torch.stack(videos, dim=0)\n",
              "\n",
              "    def _audio_to_stacked_tensor(self, audios: List[torch.from_numpy]) -> torch.Tensor:\n",
              "        \"\"\"\n",
              "        Stack together tensors of different sizes by truncating or padding them\n",
              "        to the `target_size`.\n",
              "\n",
              "        :param record: The list of individual tensors for audio data\n",
              "        :return: The collated audio data as a tensor of shape (batch_size, audio_in_features)\n",
              "        \"\"\"\n",
              "\n",
              "        def truncate_or_pad(vec: torch.Tensor, target_size: int) -> torch.Tensor:\n",
              "            if vec.size(0) > target_size:\n",
              "                return vec[:target_size]\n",
              "            elif vec.size(0) < target_size:\n",
              "                pad_len = target_size - vec.size(0)\n",
              "                padding = torch.zeros(pad_len, *vec.size()[1:], dtype=vec.dtype)\n",
              "                return torch.cat([vec, padding], dim=0)\n",
              "            else:\n",
              "                return vec\n",
              "\n",
              "        vecs = [truncate_or_pad(audio, target_size=self.config.audio_in_features) for audio in audios]\n",
              "        return torch.stack(vecs, dim=0)"
            ],
            "text/html": [
              "<style>pre { line-height: 125%; }\n",
              "td.linenos .normal { color: inherit; background-color: transparent; padding-left: 5px; padding-right: 5px; }\n",
              "span.linenos { color: inherit; background-color: transparent; padding-left: 5px; padding-right: 5px; }\n",
              "td.linenos .special { color: #000000; background-color: #ffffc0; padding-left: 5px; padding-right: 5px; }\n",
              "span.linenos.special { color: #000000; background-color: #ffffc0; padding-left: 5px; padding-right: 5px; }\n",
              ".output_html .hll { background-color: #ffffcc }\n",
              ".output_html { background: #f8f8f8; }\n",
              ".output_html .c { color: #3D7B7B; font-style: italic } /* Comment */\n",
              ".output_html .err { border: 1px solid #FF0000 } /* Error */\n",
              ".output_html .k { color: #008000; font-weight: bold } /* Keyword */\n",
              ".output_html .o { color: #666666 } /* Operator */\n",
              ".output_html .ch { color: #3D7B7B; font-style: italic } /* Comment.Hashbang */\n",
              ".output_html .cm { color: #3D7B7B; font-style: italic } /* Comment.Multiline */\n",
              ".output_html .cp { color: #9C6500 } /* Comment.Preproc */\n",
              ".output_html .cpf { color: #3D7B7B; font-style: italic } /* Comment.PreprocFile */\n",
              ".output_html .c1 { color: #3D7B7B; font-style: italic } /* Comment.Single */\n",
              ".output_html .cs { color: #3D7B7B; font-style: italic } /* Comment.Special */\n",
              ".output_html .gd { color: #A00000 } /* Generic.Deleted */\n",
              ".output_html .ge { font-style: italic } /* Generic.Emph */\n",
              ".output_html .ges { font-weight: bold; font-style: italic } /* Generic.EmphStrong */\n",
              ".output_html .gr { color: #E40000 } /* Generic.Error */\n",
              ".output_html .gh { color: #000080; font-weight: bold } /* Generic.Heading */\n",
              ".output_html .gi { color: #008400 } /* Generic.Inserted */\n",
              ".output_html .go { color: #717171 } /* Generic.Output */\n",
              ".output_html .gp { color: #000080; font-weight: bold } /* Generic.Prompt */\n",
              ".output_html .gs { font-weight: bold } /* Generic.Strong */\n",
              ".output_html .gu { color: #800080; font-weight: bold } /* Generic.Subheading */\n",
              ".output_html .gt { color: #0044DD } /* Generic.Traceback */\n",
              ".output_html .kc { color: #008000; font-weight: bold } /* Keyword.Constant */\n",
              ".output_html .kd { color: #008000; font-weight: bold } /* Keyword.Declaration */\n",
              ".output_html .kn { color: #008000; font-weight: bold } /* Keyword.Namespace */\n",
              ".output_html .kp { color: #008000 } /* Keyword.Pseudo */\n",
              ".output_html .kr { color: #008000; font-weight: bold } /* Keyword.Reserved */\n",
              ".output_html .kt { color: #B00040 } /* Keyword.Type */\n",
              ".output_html .m { color: #666666 } /* Literal.Number */\n",
              ".output_html .s { color: #BA2121 } /* Literal.String */\n",
              ".output_html .na { color: #687822 } /* Name.Attribute */\n",
              ".output_html .nb { color: #008000 } /* Name.Builtin */\n",
              ".output_html .nc { color: #0000FF; font-weight: bold } /* Name.Class */\n",
              ".output_html .no { color: #880000 } /* Name.Constant */\n",
              ".output_html .nd { color: #AA22FF } /* Name.Decorator */\n",
              ".output_html .ni { color: #717171; font-weight: bold } /* Name.Entity */\n",
              ".output_html .ne { color: #CB3F38; font-weight: bold } /* Name.Exception */\n",
              ".output_html .nf { color: #0000FF } /* Name.Function */\n",
              ".output_html .nl { color: #767600 } /* Name.Label */\n",
              ".output_html .nn { color: #0000FF; font-weight: bold } /* Name.Namespace */\n",
              ".output_html .nt { color: #008000; font-weight: bold } /* Name.Tag */\n",
              ".output_html .nv { color: #19177C } /* Name.Variable */\n",
              ".output_html .ow { color: #AA22FF; font-weight: bold } /* Operator.Word */\n",
              ".output_html .w { color: #bbbbbb } /* Text.Whitespace */\n",
              ".output_html .mb { color: #666666 } /* Literal.Number.Bin */\n",
              ".output_html .mf { color: #666666 } /* Literal.Number.Float */\n",
              ".output_html .mh { color: #666666 } /* Literal.Number.Hex */\n",
              ".output_html .mi { color: #666666 } /* Literal.Number.Integer */\n",
              ".output_html .mo { color: #666666 } /* Literal.Number.Oct */\n",
              ".output_html .sa { color: #BA2121 } /* Literal.String.Affix */\n",
              ".output_html .sb { color: #BA2121 } /* Literal.String.Backtick */\n",
              ".output_html .sc { color: #BA2121 } /* Literal.String.Char */\n",
              ".output_html .dl { color: #BA2121 } /* Literal.String.Delimiter */\n",
              ".output_html .sd { color: #BA2121; font-style: italic } /* Literal.String.Doc */\n",
              ".output_html .s2 { color: #BA2121 } /* Literal.String.Double */\n",
              ".output_html .se { color: #AA5D1F; font-weight: bold } /* Literal.String.Escape */\n",
              ".output_html .sh { color: #BA2121 } /* Literal.String.Heredoc */\n",
              ".output_html .si { color: #A45A77; font-weight: bold } /* Literal.String.Interpol */\n",
              ".output_html .sx { color: #008000 } /* Literal.String.Other */\n",
              ".output_html .sr { color: #A45A77 } /* Literal.String.Regex */\n",
              ".output_html .s1 { color: #BA2121 } /* Literal.String.Single */\n",
              ".output_html .ss { color: #19177C } /* Literal.String.Symbol */\n",
              ".output_html .bp { color: #008000 } /* Name.Builtin.Pseudo */\n",
              ".output_html .fm { color: #0000FF } /* Name.Function.Magic */\n",
              ".output_html .vc { color: #19177C } /* Name.Variable.Class */\n",
              ".output_html .vg { color: #19177C } /* Name.Variable.Global */\n",
              ".output_html .vi { color: #19177C } /* Name.Variable.Instance */\n",
              ".output_html .vm { color: #19177C } /* Name.Variable.Magic */\n",
              ".output_html .il { color: #666666 } /* Literal.Number.Integer.Long */</style><div class=\"highlight\"><pre><span></span><span class=\"k\">class</span> <span class=\"nc\">ERCDataCollator</span><span class=\"p\">:</span>\n",
              "<span class=\"w\">    </span><span class=\"sd\">&quot;&quot;&quot;</span>\n",
              "<span class=\"sd\">    Collates the data from the ERC dataset into a format that can be used and</span>\n",
              "<span class=\"sd\">    batched by the model, with multiple records turned into lists of its underlying</span>\n",
              "<span class=\"sd\">    datapoints.</span>\n",
              "<span class=\"sd\">    &quot;&quot;&quot;</span>\n",
              "\n",
              "    <span class=\"n\">LABEL_NAME</span><span class=\"p\">:</span> <span class=\"nb\">str</span> <span class=\"o\">=</span> <span class=\"s2\">&quot;y_true&quot;</span>\n",
              "\n",
              "    <span class=\"n\">config</span><span class=\"p\">:</span> <span class=\"n\">ERCConfig</span>\n",
              "    <span class=\"n\">label_encoder</span><span class=\"p\">:</span> <span class=\"n\">ERCLabelEncoder</span>\n",
              "    <span class=\"n\">device</span><span class=\"p\">:</span> <span class=\"n\">torch</span><span class=\"o\">.</span><span class=\"n\">device</span> <span class=\"o\">|</span> <span class=\"kc\">None</span>\n",
              "\n",
              "    <span class=\"k\">def</span> <span class=\"fm\">__init__</span><span class=\"p\">(</span><span class=\"bp\">self</span><span class=\"p\">,</span> <span class=\"n\">config</span><span class=\"p\">:</span> <span class=\"n\">ERCConfig</span><span class=\"p\">,</span> <span class=\"n\">label_encoder</span><span class=\"p\">:</span> <span class=\"n\">ERCLabelEncoder</span><span class=\"p\">)</span> <span class=\"o\">-&gt;</span> <span class=\"kc\">None</span><span class=\"p\">:</span>\n",
              "<span class=\"w\">        </span><span class=\"sd\">&quot;&quot;&quot;</span>\n",
              "<span class=\"sd\">        Initialise the ERCDataCollator class with the given ERCLabelEncoder object.</span>\n",
              "\n",
              "<span class=\"sd\">        :param config: ERCConfig object containing the configuration</span>\n",
              "<span class=\"sd\">        :param label_encoder: ERCLabelEncoder object containing the label encoder</span>\n",
              "<span class=\"sd\">        &quot;&quot;&quot;</span>\n",
              "        <span class=\"bp\">self</span><span class=\"o\">.</span><span class=\"n\">config</span> <span class=\"o\">=</span> <span class=\"n\">config</span>\n",
              "        <span class=\"bp\">self</span><span class=\"o\">.</span><span class=\"n\">label_encoder</span> <span class=\"o\">=</span> <span class=\"n\">label_encoder</span>\n",
              "\n",
              "    <span class=\"k\">def</span> <span class=\"fm\">__call__</span><span class=\"p\">(</span>\n",
              "        <span class=\"bp\">self</span><span class=\"p\">,</span>\n",
              "        <span class=\"n\">batch</span><span class=\"p\">:</span> <span class=\"n\">List</span><span class=\"p\">[</span><span class=\"n\">MeldRecord</span><span class=\"p\">],</span>\n",
              "        <span class=\"n\">device</span><span class=\"p\">:</span> <span class=\"n\">torch</span><span class=\"o\">.</span><span class=\"n\">device</span> <span class=\"o\">|</span> <span class=\"kc\">None</span> <span class=\"o\">=</span> <span class=\"kc\">None</span><span class=\"p\">,</span>\n",
              "    <span class=\"p\">)</span> <span class=\"o\">-&gt;</span> <span class=\"nb\">dict</span><span class=\"p\">:</span>\n",
              "<span class=\"w\">        </span><span class=\"sd\">&quot;&quot;&quot;</span>\n",
              "<span class=\"sd\">        Collates the data from the ERC dataset into a format that can be used and</span>\n",
              "<span class=\"sd\">        batched by the model, with multiple records turned into lists of its underlying</span>\n",
              "<span class=\"sd\">        datapoints. We also encode the labels to make it easier to use in the model.</span>\n",
              "\n",
              "<span class=\"sd\">        :param record: The list of records to collate</span>\n",
              "<span class=\"sd\">        :param device: if provided, send tensors to device</span>\n",
              "<span class=\"sd\">        :return: The collated data</span>\n",
              "<span class=\"sd\">        &quot;&quot;&quot;</span>\n",
              "        <span class=\"n\">x_text</span> <span class=\"o\">=</span> <span class=\"p\">[</span><span class=\"n\">r</span><span class=\"o\">.</span><span class=\"n\">text</span> <span class=\"k\">for</span> <span class=\"n\">r</span> <span class=\"ow\">in</span> <span class=\"n\">batch</span><span class=\"p\">]</span>\n",
              "        <span class=\"n\">x_visual</span> <span class=\"o\">=</span> <span class=\"bp\">self</span><span class=\"o\">.</span><span class=\"n\">_visual_to_stacked_tensor</span><span class=\"p\">([</span><span class=\"n\">r</span><span class=\"o\">.</span><span class=\"n\">visual</span> <span class=\"k\">for</span> <span class=\"n\">r</span> <span class=\"ow\">in</span> <span class=\"n\">batch</span><span class=\"p\">])</span>\n",
              "        <span class=\"n\">x_audio</span> <span class=\"o\">=</span> <span class=\"bp\">self</span><span class=\"o\">.</span><span class=\"n\">_audio_to_stacked_tensor</span><span class=\"p\">([</span><span class=\"n\">r</span><span class=\"o\">.</span><span class=\"n\">audio</span> <span class=\"k\">for</span> <span class=\"n\">r</span> <span class=\"ow\">in</span> <span class=\"n\">batch</span><span class=\"p\">])</span>\n",
              "        <span class=\"n\">y_label</span> <span class=\"o\">=</span> <span class=\"bp\">self</span><span class=\"o\">.</span><span class=\"n\">label_encoder</span><span class=\"p\">([</span><span class=\"n\">r</span><span class=\"o\">.</span><span class=\"n\">label</span> <span class=\"k\">for</span> <span class=\"n\">r</span> <span class=\"ow\">in</span> <span class=\"n\">batch</span><span class=\"p\">])</span>\n",
              "        <span class=\"k\">if</span> <span class=\"n\">device</span> <span class=\"ow\">is</span> <span class=\"ow\">not</span> <span class=\"kc\">None</span><span class=\"p\">:</span>\n",
              "            <span class=\"n\">x_visual</span> <span class=\"o\">=</span> <span class=\"n\">x_visual</span><span class=\"o\">.</span><span class=\"n\">to</span><span class=\"p\">(</span><span class=\"n\">device</span><span class=\"p\">)</span>\n",
              "            <span class=\"n\">x_audio</span> <span class=\"o\">=</span> <span class=\"n\">x_audio</span><span class=\"o\">.</span><span class=\"n\">to</span><span class=\"p\">(</span><span class=\"n\">device</span><span class=\"p\">)</span>\n",
              "            <span class=\"n\">y_label</span> <span class=\"o\">=</span> <span class=\"n\">y_label</span><span class=\"o\">.</span><span class=\"n\">to</span><span class=\"p\">(</span><span class=\"n\">device</span><span class=\"p\">)</span>\n",
              "        <span class=\"k\">return</span> <span class=\"p\">{</span>\n",
              "            <span class=\"s2\">&quot;x_text&quot;</span><span class=\"p\">:</span> <span class=\"n\">x_text</span><span class=\"p\">,</span>\n",
              "            <span class=\"s2\">&quot;x_visual&quot;</span><span class=\"p\">:</span> <span class=\"n\">x_visual</span><span class=\"p\">,</span>\n",
              "            <span class=\"s2\">&quot;x_audio&quot;</span><span class=\"p\">:</span> <span class=\"n\">x_audio</span><span class=\"p\">,</span>\n",
              "            <span class=\"n\">ERCDataCollator</span><span class=\"o\">.</span><span class=\"n\">LABEL_NAME</span><span class=\"p\">:</span> <span class=\"n\">y_label</span><span class=\"p\">,</span>\n",
              "        <span class=\"p\">}</span>\n",
              "\n",
              "    <span class=\"k\">def</span> <span class=\"nf\">_visual_to_stacked_tensor</span><span class=\"p\">(</span><span class=\"bp\">self</span><span class=\"p\">,</span> <span class=\"n\">videos</span><span class=\"p\">:</span> <span class=\"n\">List</span><span class=\"p\">[</span><span class=\"n\">torch</span><span class=\"o\">.</span><span class=\"n\">Tensor</span><span class=\"p\">])</span> <span class=\"o\">-&gt;</span> <span class=\"n\">torch</span><span class=\"o\">.</span><span class=\"n\">Tensor</span><span class=\"p\">:</span>\n",
              "<span class=\"w\">        </span><span class=\"sd\">&quot;&quot;&quot;</span>\n",
              "<span class=\"sd\">        Stack together tensors representing feature vectors of images.</span>\n",
              "\n",
              "<span class=\"sd\">        :param record: The list of individual tensors for visual data</span>\n",
              "<span class=\"sd\">        :return: The collated visual data as a tensor of shape (batch_size, *visual_in_features)</span>\n",
              "<span class=\"sd\">        &quot;&quot;&quot;</span>\n",
              "        <span class=\"k\">return</span> <span class=\"n\">torch</span><span class=\"o\">.</span><span class=\"n\">stack</span><span class=\"p\">(</span><span class=\"n\">videos</span><span class=\"p\">,</span> <span class=\"n\">dim</span><span class=\"o\">=</span><span class=\"mi\">0</span><span class=\"p\">)</span>\n",
              "\n",
              "    <span class=\"k\">def</span> <span class=\"nf\">_audio_to_stacked_tensor</span><span class=\"p\">(</span><span class=\"bp\">self</span><span class=\"p\">,</span> <span class=\"n\">audios</span><span class=\"p\">:</span> <span class=\"n\">List</span><span class=\"p\">[</span><span class=\"n\">torch</span><span class=\"o\">.</span><span class=\"n\">from_numpy</span><span class=\"p\">])</span> <span class=\"o\">-&gt;</span> <span class=\"n\">torch</span><span class=\"o\">.</span><span class=\"n\">Tensor</span><span class=\"p\">:</span>\n",
              "<span class=\"w\">        </span><span class=\"sd\">&quot;&quot;&quot;</span>\n",
              "<span class=\"sd\">        Stack together tensors of different sizes by truncating or padding them</span>\n",
              "<span class=\"sd\">        to the `target_size`.</span>\n",
              "\n",
              "<span class=\"sd\">        :param record: The list of individual tensors for audio data</span>\n",
              "<span class=\"sd\">        :return: The collated audio data as a tensor of shape (batch_size, audio_in_features)</span>\n",
              "<span class=\"sd\">        &quot;&quot;&quot;</span>\n",
              "\n",
              "        <span class=\"k\">def</span> <span class=\"nf\">truncate_or_pad</span><span class=\"p\">(</span><span class=\"n\">vec</span><span class=\"p\">:</span> <span class=\"n\">torch</span><span class=\"o\">.</span><span class=\"n\">Tensor</span><span class=\"p\">,</span> <span class=\"n\">target_size</span><span class=\"p\">:</span> <span class=\"nb\">int</span><span class=\"p\">)</span> <span class=\"o\">-&gt;</span> <span class=\"n\">torch</span><span class=\"o\">.</span><span class=\"n\">Tensor</span><span class=\"p\">:</span>\n",
              "            <span class=\"k\">if</span> <span class=\"n\">vec</span><span class=\"o\">.</span><span class=\"n\">size</span><span class=\"p\">(</span><span class=\"mi\">0</span><span class=\"p\">)</span> <span class=\"o\">&gt;</span> <span class=\"n\">target_size</span><span class=\"p\">:</span>\n",
              "                <span class=\"k\">return</span> <span class=\"n\">vec</span><span class=\"p\">[:</span><span class=\"n\">target_size</span><span class=\"p\">]</span>\n",
              "            <span class=\"k\">elif</span> <span class=\"n\">vec</span><span class=\"o\">.</span><span class=\"n\">size</span><span class=\"p\">(</span><span class=\"mi\">0</span><span class=\"p\">)</span> <span class=\"o\">&lt;</span> <span class=\"n\">target_size</span><span class=\"p\">:</span>\n",
              "                <span class=\"n\">pad_len</span> <span class=\"o\">=</span> <span class=\"n\">target_size</span> <span class=\"o\">-</span> <span class=\"n\">vec</span><span class=\"o\">.</span><span class=\"n\">size</span><span class=\"p\">(</span><span class=\"mi\">0</span><span class=\"p\">)</span>\n",
              "                <span class=\"n\">padding</span> <span class=\"o\">=</span> <span class=\"n\">torch</span><span class=\"o\">.</span><span class=\"n\">zeros</span><span class=\"p\">(</span><span class=\"n\">pad_len</span><span class=\"p\">,</span> <span class=\"o\">*</span><span class=\"n\">vec</span><span class=\"o\">.</span><span class=\"n\">size</span><span class=\"p\">()[</span><span class=\"mi\">1</span><span class=\"p\">:],</span> <span class=\"n\">dtype</span><span class=\"o\">=</span><span class=\"n\">vec</span><span class=\"o\">.</span><span class=\"n\">dtype</span><span class=\"p\">)</span>\n",
              "                <span class=\"k\">return</span> <span class=\"n\">torch</span><span class=\"o\">.</span><span class=\"n\">cat</span><span class=\"p\">([</span><span class=\"n\">vec</span><span class=\"p\">,</span> <span class=\"n\">padding</span><span class=\"p\">],</span> <span class=\"n\">dim</span><span class=\"o\">=</span><span class=\"mi\">0</span><span class=\"p\">)</span>\n",
              "            <span class=\"k\">else</span><span class=\"p\">:</span>\n",
              "                <span class=\"k\">return</span> <span class=\"n\">vec</span>\n",
              "\n",
              "        <span class=\"n\">vecs</span> <span class=\"o\">=</span> <span class=\"p\">[</span><span class=\"n\">truncate_or_pad</span><span class=\"p\">(</span><span class=\"n\">audio</span><span class=\"p\">,</span> <span class=\"n\">target_size</span><span class=\"o\">=</span><span class=\"bp\">self</span><span class=\"o\">.</span><span class=\"n\">config</span><span class=\"o\">.</span><span class=\"n\">audio_in_features</span><span class=\"p\">)</span> <span class=\"k\">for</span> <span class=\"n\">audio</span> <span class=\"ow\">in</span> <span class=\"n\">audios</span><span class=\"p\">]</span>\n",
              "        <span class=\"k\">return</span> <span class=\"n\">torch</span><span class=\"o\">.</span><span class=\"n\">stack</span><span class=\"p\">(</span><span class=\"n\">vecs</span><span class=\"p\">,</span> <span class=\"n\">dim</span><span class=\"o\">=</span><span class=\"mi\">0</span><span class=\"p\">)</span>\n",
              "</pre></div>\n"
            ],
            "text/latex": "\\begin{Verbatim}[commandchars=\\\\\\{\\}]\n\\PY{k}{class} \\PY{n+nc}{ERCDataCollator}\\PY{p}{:}\n\\PY{+w}{    }\\PY{l+s+sd}{\\PYZdq{}\\PYZdq{}\\PYZdq{}}\n\\PY{l+s+sd}{    Collates the data from the ERC dataset into a format that can be used and}\n\\PY{l+s+sd}{    batched by the model, with multiple records turned into lists of its underlying}\n\\PY{l+s+sd}{    datapoints.}\n\\PY{l+s+sd}{    \\PYZdq{}\\PYZdq{}\\PYZdq{}}\n\n    \\PY{n}{LABEL\\PYZus{}NAME}\\PY{p}{:} \\PY{n+nb}{str} \\PY{o}{=} \\PY{l+s+s2}{\\PYZdq{}}\\PY{l+s+s2}{y\\PYZus{}true}\\PY{l+s+s2}{\\PYZdq{}}\n\n    \\PY{n}{config}\\PY{p}{:} \\PY{n}{ERCConfig}\n    \\PY{n}{label\\PYZus{}encoder}\\PY{p}{:} \\PY{n}{ERCLabelEncoder}\n    \\PY{n}{device}\\PY{p}{:} \\PY{n}{torch}\\PY{o}{.}\\PY{n}{device} \\PY{o}{|} \\PY{k+kc}{None}\n\n    \\PY{k}{def} \\PY{n+nf+fm}{\\PYZus{}\\PYZus{}init\\PYZus{}\\PYZus{}}\\PY{p}{(}\\PY{n+nb+bp}{self}\\PY{p}{,} \\PY{n}{config}\\PY{p}{:} \\PY{n}{ERCConfig}\\PY{p}{,} \\PY{n}{label\\PYZus{}encoder}\\PY{p}{:} \\PY{n}{ERCLabelEncoder}\\PY{p}{)} \\PY{o}{\\PYZhy{}}\\PY{o}{\\PYZgt{}} \\PY{k+kc}{None}\\PY{p}{:}\n\\PY{+w}{        }\\PY{l+s+sd}{\\PYZdq{}\\PYZdq{}\\PYZdq{}}\n\\PY{l+s+sd}{        Initialise the ERCDataCollator class with the given ERCLabelEncoder object.}\n\n\\PY{l+s+sd}{        :param config: ERCConfig object containing the configuration}\n\\PY{l+s+sd}{        :param label\\PYZus{}encoder: ERCLabelEncoder object containing the label encoder}\n\\PY{l+s+sd}{        \\PYZdq{}\\PYZdq{}\\PYZdq{}}\n        \\PY{n+nb+bp}{self}\\PY{o}{.}\\PY{n}{config} \\PY{o}{=} \\PY{n}{config}\n        \\PY{n+nb+bp}{self}\\PY{o}{.}\\PY{n}{label\\PYZus{}encoder} \\PY{o}{=} \\PY{n}{label\\PYZus{}encoder}\n\n    \\PY{k}{def} \\PY{n+nf+fm}{\\PYZus{}\\PYZus{}call\\PYZus{}\\PYZus{}}\\PY{p}{(}\n        \\PY{n+nb+bp}{self}\\PY{p}{,}\n        \\PY{n}{batch}\\PY{p}{:} \\PY{n}{List}\\PY{p}{[}\\PY{n}{MeldRecord}\\PY{p}{]}\\PY{p}{,}\n        \\PY{n}{device}\\PY{p}{:} \\PY{n}{torch}\\PY{o}{.}\\PY{n}{device} \\PY{o}{|} \\PY{k+kc}{None} \\PY{o}{=} \\PY{k+kc}{None}\\PY{p}{,}\n    \\PY{p}{)} \\PY{o}{\\PYZhy{}}\\PY{o}{\\PYZgt{}} \\PY{n+nb}{dict}\\PY{p}{:}\n\\PY{+w}{        }\\PY{l+s+sd}{\\PYZdq{}\\PYZdq{}\\PYZdq{}}\n\\PY{l+s+sd}{        Collates the data from the ERC dataset into a format that can be used and}\n\\PY{l+s+sd}{        batched by the model, with multiple records turned into lists of its underlying}\n\\PY{l+s+sd}{        datapoints. We also encode the labels to make it easier to use in the model.}\n\n\\PY{l+s+sd}{        :param record: The list of records to collate}\n\\PY{l+s+sd}{        :param device: if provided, send tensors to device}\n\\PY{l+s+sd}{        :return: The collated data}\n\\PY{l+s+sd}{        \\PYZdq{}\\PYZdq{}\\PYZdq{}}\n        \\PY{n}{x\\PYZus{}text} \\PY{o}{=} \\PY{p}{[}\\PY{n}{r}\\PY{o}{.}\\PY{n}{text} \\PY{k}{for} \\PY{n}{r} \\PY{o+ow}{in} \\PY{n}{batch}\\PY{p}{]}\n        \\PY{n}{x\\PYZus{}visual} \\PY{o}{=} \\PY{n+nb+bp}{self}\\PY{o}{.}\\PY{n}{\\PYZus{}visual\\PYZus{}to\\PYZus{}stacked\\PYZus{}tensor}\\PY{p}{(}\\PY{p}{[}\\PY{n}{r}\\PY{o}{.}\\PY{n}{visual} \\PY{k}{for} \\PY{n}{r} \\PY{o+ow}{in} \\PY{n}{batch}\\PY{p}{]}\\PY{p}{)}\n        \\PY{n}{x\\PYZus{}audio} \\PY{o}{=} \\PY{n+nb+bp}{self}\\PY{o}{.}\\PY{n}{\\PYZus{}audio\\PYZus{}to\\PYZus{}stacked\\PYZus{}tensor}\\PY{p}{(}\\PY{p}{[}\\PY{n}{r}\\PY{o}{.}\\PY{n}{audio} \\PY{k}{for} \\PY{n}{r} \\PY{o+ow}{in} \\PY{n}{batch}\\PY{p}{]}\\PY{p}{)}\n        \\PY{n}{y\\PYZus{}label} \\PY{o}{=} \\PY{n+nb+bp}{self}\\PY{o}{.}\\PY{n}{label\\PYZus{}encoder}\\PY{p}{(}\\PY{p}{[}\\PY{n}{r}\\PY{o}{.}\\PY{n}{label} \\PY{k}{for} \\PY{n}{r} \\PY{o+ow}{in} \\PY{n}{batch}\\PY{p}{]}\\PY{p}{)}\n        \\PY{k}{if} \\PY{n}{device} \\PY{o+ow}{is} \\PY{o+ow}{not} \\PY{k+kc}{None}\\PY{p}{:}\n            \\PY{n}{x\\PYZus{}visual} \\PY{o}{=} \\PY{n}{x\\PYZus{}visual}\\PY{o}{.}\\PY{n}{to}\\PY{p}{(}\\PY{n}{device}\\PY{p}{)}\n            \\PY{n}{x\\PYZus{}audio} \\PY{o}{=} \\PY{n}{x\\PYZus{}audio}\\PY{o}{.}\\PY{n}{to}\\PY{p}{(}\\PY{n}{device}\\PY{p}{)}\n            \\PY{n}{y\\PYZus{}label} \\PY{o}{=} \\PY{n}{y\\PYZus{}label}\\PY{o}{.}\\PY{n}{to}\\PY{p}{(}\\PY{n}{device}\\PY{p}{)}\n        \\PY{k}{return} \\PY{p}{\\PYZob{}}\n            \\PY{l+s+s2}{\\PYZdq{}}\\PY{l+s+s2}{x\\PYZus{}text}\\PY{l+s+s2}{\\PYZdq{}}\\PY{p}{:} \\PY{n}{x\\PYZus{}text}\\PY{p}{,}\n            \\PY{l+s+s2}{\\PYZdq{}}\\PY{l+s+s2}{x\\PYZus{}visual}\\PY{l+s+s2}{\\PYZdq{}}\\PY{p}{:} \\PY{n}{x\\PYZus{}visual}\\PY{p}{,}\n            \\PY{l+s+s2}{\\PYZdq{}}\\PY{l+s+s2}{x\\PYZus{}audio}\\PY{l+s+s2}{\\PYZdq{}}\\PY{p}{:} \\PY{n}{x\\PYZus{}audio}\\PY{p}{,}\n            \\PY{n}{ERCDataCollator}\\PY{o}{.}\\PY{n}{LABEL\\PYZus{}NAME}\\PY{p}{:} \\PY{n}{y\\PYZus{}label}\\PY{p}{,}\n        \\PY{p}{\\PYZcb{}}\n\n    \\PY{k}{def} \\PY{n+nf}{\\PYZus{}visual\\PYZus{}to\\PYZus{}stacked\\PYZus{}tensor}\\PY{p}{(}\\PY{n+nb+bp}{self}\\PY{p}{,} \\PY{n}{videos}\\PY{p}{:} \\PY{n}{List}\\PY{p}{[}\\PY{n}{torch}\\PY{o}{.}\\PY{n}{Tensor}\\PY{p}{]}\\PY{p}{)} \\PY{o}{\\PYZhy{}}\\PY{o}{\\PYZgt{}} \\PY{n}{torch}\\PY{o}{.}\\PY{n}{Tensor}\\PY{p}{:}\n\\PY{+w}{        }\\PY{l+s+sd}{\\PYZdq{}\\PYZdq{}\\PYZdq{}}\n\\PY{l+s+sd}{        Stack together tensors representing feature vectors of images.}\n\n\\PY{l+s+sd}{        :param record: The list of individual tensors for visual data}\n\\PY{l+s+sd}{        :return: The collated visual data as a tensor of shape (batch\\PYZus{}size, *visual\\PYZus{}in\\PYZus{}features)}\n\\PY{l+s+sd}{        \\PYZdq{}\\PYZdq{}\\PYZdq{}}\n        \\PY{k}{return} \\PY{n}{torch}\\PY{o}{.}\\PY{n}{stack}\\PY{p}{(}\\PY{n}{videos}\\PY{p}{,} \\PY{n}{dim}\\PY{o}{=}\\PY{l+m+mi}{0}\\PY{p}{)}\n\n    \\PY{k}{def} \\PY{n+nf}{\\PYZus{}audio\\PYZus{}to\\PYZus{}stacked\\PYZus{}tensor}\\PY{p}{(}\\PY{n+nb+bp}{self}\\PY{p}{,} \\PY{n}{audios}\\PY{p}{:} \\PY{n}{List}\\PY{p}{[}\\PY{n}{torch}\\PY{o}{.}\\PY{n}{from\\PYZus{}numpy}\\PY{p}{]}\\PY{p}{)} \\PY{o}{\\PYZhy{}}\\PY{o}{\\PYZgt{}} \\PY{n}{torch}\\PY{o}{.}\\PY{n}{Tensor}\\PY{p}{:}\n\\PY{+w}{        }\\PY{l+s+sd}{\\PYZdq{}\\PYZdq{}\\PYZdq{}}\n\\PY{l+s+sd}{        Stack together tensors of different sizes by truncating or padding them}\n\\PY{l+s+sd}{        to the `target\\PYZus{}size`.}\n\n\\PY{l+s+sd}{        :param record: The list of individual tensors for audio data}\n\\PY{l+s+sd}{        :return: The collated audio data as a tensor of shape (batch\\PYZus{}size, audio\\PYZus{}in\\PYZus{}features)}\n\\PY{l+s+sd}{        \\PYZdq{}\\PYZdq{}\\PYZdq{}}\n\n        \\PY{k}{def} \\PY{n+nf}{truncate\\PYZus{}or\\PYZus{}pad}\\PY{p}{(}\\PY{n}{vec}\\PY{p}{:} \\PY{n}{torch}\\PY{o}{.}\\PY{n}{Tensor}\\PY{p}{,} \\PY{n}{target\\PYZus{}size}\\PY{p}{:} \\PY{n+nb}{int}\\PY{p}{)} \\PY{o}{\\PYZhy{}}\\PY{o}{\\PYZgt{}} \\PY{n}{torch}\\PY{o}{.}\\PY{n}{Tensor}\\PY{p}{:}\n            \\PY{k}{if} \\PY{n}{vec}\\PY{o}{.}\\PY{n}{size}\\PY{p}{(}\\PY{l+m+mi}{0}\\PY{p}{)} \\PY{o}{\\PYZgt{}} \\PY{n}{target\\PYZus{}size}\\PY{p}{:}\n                \\PY{k}{return} \\PY{n}{vec}\\PY{p}{[}\\PY{p}{:}\\PY{n}{target\\PYZus{}size}\\PY{p}{]}\n            \\PY{k}{elif} \\PY{n}{vec}\\PY{o}{.}\\PY{n}{size}\\PY{p}{(}\\PY{l+m+mi}{0}\\PY{p}{)} \\PY{o}{\\PYZlt{}} \\PY{n}{target\\PYZus{}size}\\PY{p}{:}\n                \\PY{n}{pad\\PYZus{}len} \\PY{o}{=} \\PY{n}{target\\PYZus{}size} \\PY{o}{\\PYZhy{}} \\PY{n}{vec}\\PY{o}{.}\\PY{n}{size}\\PY{p}{(}\\PY{l+m+mi}{0}\\PY{p}{)}\n                \\PY{n}{padding} \\PY{o}{=} \\PY{n}{torch}\\PY{o}{.}\\PY{n}{zeros}\\PY{p}{(}\\PY{n}{pad\\PYZus{}len}\\PY{p}{,} \\PY{o}{*}\\PY{n}{vec}\\PY{o}{.}\\PY{n}{size}\\PY{p}{(}\\PY{p}{)}\\PY{p}{[}\\PY{l+m+mi}{1}\\PY{p}{:}\\PY{p}{]}\\PY{p}{,} \\PY{n}{dtype}\\PY{o}{=}\\PY{n}{vec}\\PY{o}{.}\\PY{n}{dtype}\\PY{p}{)}\n                \\PY{k}{return} \\PY{n}{torch}\\PY{o}{.}\\PY{n}{cat}\\PY{p}{(}\\PY{p}{[}\\PY{n}{vec}\\PY{p}{,} \\PY{n}{padding}\\PY{p}{]}\\PY{p}{,} \\PY{n}{dim}\\PY{o}{=}\\PY{l+m+mi}{0}\\PY{p}{)}\n            \\PY{k}{else}\\PY{p}{:}\n                \\PY{k}{return} \\PY{n}{vec}\n\n        \\PY{n}{vecs} \\PY{o}{=} \\PY{p}{[}\\PY{n}{truncate\\PYZus{}or\\PYZus{}pad}\\PY{p}{(}\\PY{n}{audio}\\PY{p}{,} \\PY{n}{target\\PYZus{}size}\\PY{o}{=}\\PY{n+nb+bp}{self}\\PY{o}{.}\\PY{n}{config}\\PY{o}{.}\\PY{n}{audio\\PYZus{}in\\PYZus{}features}\\PY{p}{)} \\PY{k}{for} \\PY{n}{audio} \\PY{o+ow}{in} \\PY{n}{audios}\\PY{p}{]}\n        \\PY{k}{return} \\PY{n}{torch}\\PY{o}{.}\\PY{n}{stack}\\PY{p}{(}\\PY{n}{vecs}\\PY{p}{,} \\PY{n}{dim}\\PY{o}{=}\\PY{l+m+mi}{0}\\PY{p}{)}\n\\end{Verbatim}\n"
          },
          "metadata": {},
          "execution_count": 12
        }
      ]
    },
    {
      "cell_type": "markdown",
      "source": [
        "# Model Selection\n",
        "\n",
        "This section takes us from a baseline model to a final model through a rigorous set of experiments set out by the **Project Design** document as objectives.\n",
        "\n",
        "We initially attempt to establish a baseline model with some basic approaches to the representation of each modality of the data, which serves as a starting point and upon which we shall iterate.\n",
        "\n",
        "Then, we utilize a two-step process for each different experiment to evaluate whether we can produce a better model than the ones previously devised. First, a \"Scaling up\" phase aims to develop a model capable of overfitting the data, allowing deeper insights into its learning capacity and identifying areas for improvement. Second, a \"Regularizing\" phase addresses overfitting concerns through hyperparameter tuning. This iterative optimization ultimately leads to the final model that fulfills the success criteria and delivers superior performance on the MELD Test Split."
      ],
      "metadata": {
        "id": "wE7ESxmBmGtM"
      }
    },
    {
      "cell_type": "markdown",
      "source": [
        "## Monitoring (Weights & Biases)"
      ],
      "metadata": {
        "id": "SBmUYJLImI5p"
      }
    },
    {
      "cell_type": "code",
      "source": [
        "%env WANDB_NOTEBOOK_NAME=dev/mlops.ipynb\n",
        "%env WANDB_PROJECT=hlm12erc"
      ],
      "metadata": {
        "colab": {
          "base_uri": "https://localhost:8080/"
        },
        "id": "6TqPQNY2mLZZ",
        "outputId": "824a155b-eafb-484f-ce5f-bc7cac231070"
      },
      "execution_count": null,
      "outputs": [
        {
          "output_type": "stream",
          "name": "stdout",
          "text": [
            "env: WANDB_NOTEBOOK_NAME=dev/mlops.ipynb\n",
            "env: WANDB_PROJECT=hlm12erc\n"
          ]
        }
      ]
    },
    {
      "cell_type": "code",
      "source": [
        "import wandb\n",
        "wandb.login()"
      ],
      "metadata": {
        "colab": {
          "base_uri": "https://localhost:8080/"
        },
        "id": "ULw77YwonvKr",
        "outputId": "1a7f8872-9966-424c-f5eb-a5e6c84ffb39"
      },
      "execution_count": null,
      "outputs": [
        {
          "output_type": "stream",
          "name": "stderr",
          "text": [
            "\u001b[34m\u001b[1mwandb\u001b[0m: Currently logged in as: \u001b[33mhudsonmendes\u001b[0m. Use \u001b[1m`wandb login --relogin`\u001b[0m to force relogin\n"
          ]
        },
        {
          "output_type": "execute_result",
          "data": {
            "text/plain": [
              "True"
            ]
          },
          "metadata": {},
          "execution_count": 15
        }
      ]
    },
    {
      "cell_type": "markdown",
      "source": [
        "## Training & Evaluation Helpers"
      ],
      "metadata": {
        "id": "i9xFm1Y_TXet"
      }
    },
    {
      "cell_type": "code",
      "source": [
        "from typing import Tuple\n",
        "from hlm12erc.modelling import ERCConfigLoader, ERCModel\n",
        "from hlm12erc.training import ERCTrainer, MeldDataset\n",
        "\n",
        "def train_model(\n",
        "    config_name: str,\n",
        "    datasets: Tuple[MeldDataset, MeldDataset],\n",
        "    n_epochs: int,\n",
        "  ) -> Tuple[str, ERCModel]:\n",
        "  model_config = ERCConfigLoader(dir_configs / f\"{config_name}.yml\").load()\n",
        "  model_trainer = ERCTrainer(model_config)\n",
        "  _, model_instance = model_trainer.train(\n",
        "      data=datasets,\n",
        "      n_epochs=n_epochs,\n",
        "      batch_size=32,\n",
        "      save_to=(dir_target),\n",
        "      device=device)\n",
        "  return model_instance"
      ],
      "metadata": {
        "id": "-AHb45RUTcAm"
      },
      "execution_count": null,
      "outputs": []
    },
    {
      "cell_type": "code",
      "source": [
        "from hlm12erc.modelling import ERCModel\n",
        "from hlm12erc.training import ERCEvaluator, MeldDataset\n",
        "\n",
        "def evaluate_model(model_instance: ERCModel, dataset: MeldDataset):\n",
        "  model_evaluator = ERCEvaluator(model_instance)\n",
        "  model_evaluator.evaluate(\n",
        "      dataset=dataset,\n",
        "      batch_size=32,\n",
        "      device=device)"
      ],
      "metadata": {
        "id": "inD_kNqiTw9a"
      },
      "execution_count": null,
      "outputs": []
    },
    {
      "cell_type": "markdown",
      "source": [
        "## Objective 0: Mock Training"
      ],
      "metadata": {
        "id": "tPXIvx6hTAb3"
      }
    },
    {
      "cell_type": "code",
      "source": [
        "mock_instance = train_model(\"mock\", datasets=(ds_sample, ds_sample), n_epochs=1)\n",
        "evaluate_model(mock_instance)"
      ],
      "metadata": {
        "colab": {
          "base_uri": "https://localhost:8080/",
          "height": 967,
          "referenced_widgets": [
            "c5432ed395564df6a273230feb8f8855",
            "c93e36b0697442ddafe23dfdb46aa6ca",
            "005204ee0dca4964b26a39eacd5847be",
            "ff5f962de0e1415190457e77838d90db",
            "537b21369320437c9c90ce51ec7862f7",
            "e1996b6f353649aaaa0d85ffe96e670e",
            "fafa7d74e4cd4dc29d8d8b7ff40584b1",
            "74f76e0170884ad5a8e2ad7c2b39e4a4",
            "1b4c32eaf7ff438cabbb1769df6ffa7f",
            "a4ade44839c947bea38ab41aaf6eb4ac",
            "6209453a87cf4ff98dd0170b7c5b539c"
          ]
        },
        "id": "HX6MooqQTFi2",
        "outputId": "72c2643a-28bf-41a2-af6e-31c330197c8c"
      },
      "execution_count": null,
      "outputs": [
        {
          "output_type": "stream",
          "name": "stderr",
          "text": [
            "Using cache found in /root/.cache/torch/hub/pytorch_vision_v0.6.0\n"
          ]
        },
        {
          "output_type": "display_data",
          "data": {
            "text/plain": [
              "<IPython.core.display.HTML object>"
            ],
            "text/html": [
              "Tracking run with wandb version 0.15.8"
            ]
          },
          "metadata": {}
        },
        {
          "output_type": "display_data",
          "data": {
            "text/plain": [
              "<IPython.core.display.HTML object>"
            ],
            "text/html": [
              "Run data is saved locally in <code>/content/wandb/run-20230815_131815-w3n9sx72</code>"
            ]
          },
          "metadata": {}
        },
        {
          "output_type": "display_data",
          "data": {
            "text/plain": [
              "<IPython.core.display.HTML object>"
            ],
            "text/html": [
              "Syncing run <strong><a href='https://wandb.ai/hudsonmendes/hlm12erc/runs/w3n9sx72' target=\"_blank\">run-1692105494-model-hlm12erc-mock</a></strong> to <a href='https://wandb.ai/hudsonmendes/hlm12erc' target=\"_blank\">Weights & Biases</a> (<a href='https://wandb.me/run' target=\"_blank\">docs</a>)<br/>"
            ]
          },
          "metadata": {}
        },
        {
          "output_type": "display_data",
          "data": {
            "text/plain": [
              "<IPython.core.display.HTML object>"
            ],
            "text/html": [
              " View project at <a href='https://wandb.ai/hudsonmendes/hlm12erc' target=\"_blank\">https://wandb.ai/hudsonmendes/hlm12erc</a>"
            ]
          },
          "metadata": {}
        },
        {
          "output_type": "display_data",
          "data": {
            "text/plain": [
              "<IPython.core.display.HTML object>"
            ],
            "text/html": [
              " View run at <a href='https://wandb.ai/hudsonmendes/hlm12erc/runs/w3n9sx72' target=\"_blank\">https://wandb.ai/hudsonmendes/hlm12erc/runs/w3n9sx72</a>"
            ]
          },
          "metadata": {}
        },
        {
          "output_type": "display_data",
          "data": {
            "text/plain": [
              "<IPython.core.display.HTML object>"
            ],
            "text/html": [
              "\n",
              "    <div>\n",
              "      \n",
              "      <progress value='1' max='1' style='width:300px; height:20px; vertical-align: middle;'></progress>\n",
              "      [1/1 00:01, Epoch 1/1]\n",
              "    </div>\n",
              "    <table border=\"1\" class=\"dataframe\">\n",
              "  <thead>\n",
              " <tr style=\"text-align: left;\">\n",
              "      <th>Epoch</th>\n",
              "      <th>Training Loss</th>\n",
              "      <th>Validation Loss</th>\n",
              "      <th>Acc</th>\n",
              "      <th>F1 Weighted</th>\n",
              "    </tr>\n",
              "  </thead>\n",
              "  <tbody>\n",
              "    <tr>\n",
              "      <td>1</td>\n",
              "      <td>1.507782</td>\n",
              "      <td>1.400839</td>\n",
              "      <td>0.190476</td>\n",
              "      <td>0.060952</td>\n",
              "    </tr>\n",
              "  </tbody>\n",
              "</table><p>"
            ]
          },
          "metadata": {}
        },
        {
          "output_type": "display_data",
          "data": {
            "text/plain": [
              "<IPython.core.display.HTML object>"
            ],
            "text/html": [
              "Waiting for W&B process to finish... <strong style=\"color:green\">(success).</strong>"
            ]
          },
          "metadata": {}
        },
        {
          "output_type": "display_data",
          "data": {
            "text/plain": [
              "<IPython.core.display.HTML object>"
            ],
            "text/html": [
              "<style>\n",
              "    table.wandb td:nth-child(1) { padding: 0 10px; text-align: left ; width: auto;} td:nth-child(2) {text-align: left ; width: 100%}\n",
              "    .wandb-row { display: flex; flex-direction: row; flex-wrap: wrap; justify-content: flex-start; width: 100% }\n",
              "    .wandb-col { display: flex; flex-direction: column; flex-basis: 100%; flex: 1; padding: 10px; }\n",
              "    </style>\n",
              "<div class=\"wandb-row\"><div class=\"wandb-col\"><h3>Run history:</h3><br/><table class=\"wandb\"><tr><td>eval/acc</td><td>▁</td></tr><tr><td>eval/f1_weighted</td><td>▁</td></tr><tr><td>eval/loss</td><td>▁</td></tr><tr><td>eval/runtime</td><td>▁</td></tr><tr><td>eval/samples_per_second</td><td>▁</td></tr><tr><td>eval/steps_per_second</td><td>▁</td></tr><tr><td>train/acc</td><td>▁▁</td></tr><tr><td>train/epoch</td><td>▁███</td></tr><tr><td>train/f1_weighted</td><td>▁▁</td></tr><tr><td>train/global_step</td><td>▁███</td></tr><tr><td>train/loss</td><td>▁█</td></tr><tr><td>train/total_flos</td><td>▁</td></tr><tr><td>train/train_loss</td><td>▁</td></tr><tr><td>train/train_runtime</td><td>▁</td></tr><tr><td>train/train_samples_per_second</td><td>▁</td></tr><tr><td>train/train_steps_per_second</td><td>▁</td></tr></table><br/></div><div class=\"wandb-col\"><h3>Run summary:</h3><br/><table class=\"wandb\"><tr><td>eval/acc</td><td>0.19048</td></tr><tr><td>eval/f1_weighted</td><td>0.06095</td></tr><tr><td>eval/loss</td><td>1.40084</td></tr><tr><td>eval/runtime</td><td>0.8398</td></tr><tr><td>eval/samples_per_second</td><td>25.006</td></tr><tr><td>eval/steps_per_second</td><td>1.191</td></tr><tr><td>train/acc</td><td>0.19048</td></tr><tr><td>train/epoch</td><td>1.0</td></tr><tr><td>train/f1_weighted</td><td>0.32</td></tr><tr><td>train/global_step</td><td>1</td></tr><tr><td>train/loss</td><td>1.50778</td></tr><tr><td>train/total_flos</td><td>0.0</td></tr><tr><td>train/train_loss</td><td>1.40083</td></tr><tr><td>train/train_runtime</td><td>5.0325</td></tr><tr><td>train/train_samples_per_second</td><td>4.173</td></tr><tr><td>train/train_steps_per_second</td><td>0.199</td></tr></table><br/></div></div>"
            ]
          },
          "metadata": {}
        },
        {
          "output_type": "display_data",
          "data": {
            "text/plain": [
              "<IPython.core.display.HTML object>"
            ],
            "text/html": [
              " View run <strong style=\"color:#cdcd00\">run-1692105494-model-hlm12erc-mock</strong> at: <a href='https://wandb.ai/hudsonmendes/hlm12erc/runs/w3n9sx72' target=\"_blank\">https://wandb.ai/hudsonmendes/hlm12erc/runs/w3n9sx72</a><br/>Synced 4 W&B file(s), 0 media file(s), 3 artifact file(s) and 0 other file(s)"
            ]
          },
          "metadata": {}
        },
        {
          "output_type": "display_data",
          "data": {
            "text/plain": [
              "<IPython.core.display.HTML object>"
            ],
            "text/html": [
              "Find logs at: <code>./wandb/run-20230815_131815-w3n9sx72/logs</code>"
            ]
          },
          "metadata": {}
        },
        {
          "output_type": "display_data",
          "data": {
            "text/plain": [
              "evaluating:   0%|          | 0/1 [00:00<?, ?it/s]"
            ],
            "application/vnd.jupyter.widget-view+json": {
              "version_major": 2,
              "version_minor": 0,
              "model_id": "c5432ed395564df6a273230feb8f8855"
            }
          },
          "metadata": {}
        },
        {
          "output_type": "stream",
          "name": "stdout",
          "text": [
            "              precision    recall  f1-score   support\n",
            "\n",
            "        fear       0.00      0.00      0.00         2\n",
            "     neutral       0.00      0.00      0.00        14\n",
            "     sadness       0.00      0.00      0.00         1\n",
            "    surprise       0.19      1.00      0.32         4\n",
            "\n",
            "    accuracy                           0.19        21\n",
            "   macro avg       0.05      0.25      0.08        21\n",
            "weighted avg       0.04      0.19      0.06        21\n",
            "\n"
          ]
        }
      ]
    },
    {
      "cell_type": "markdown",
      "source": [
        "## Objective 1: Baseline Model"
      ],
      "metadata": {
        "id": "z8E82FN0qkoq"
      }
    },
    {
      "cell_type": "code",
      "source": [
        "baseline_instance = train_model(\"baseline\", datasets=(ds_train, ds_valid), n_epochs=10)\n",
        "evaluate_model(baseline_instance, dataset=ds_test)"
      ],
      "metadata": {
        "colab": {
          "base_uri": "https://localhost:8080/",
          "height": 1000,
          "referenced_widgets": [
            "0e1fdfa03a4d4ab0bbd90ff4ca076643",
            "491f6c30292d4b1a8928b4f89173a122",
            "287633547ae846f8998bc5d8fd4ee4ec",
            "e79309d129094af784a372ef3fe5a759",
            "a31a5cfa386d411da11c5f61a8d82c21",
            "495bc1d99aeb476fb1cb163465cd3f69",
            "87f972d90fd9492fa8464aed8b870321",
            "17917991a75d4d3aadc1600fa900bc31",
            "9df5e5b79b054d8d8fd3960d25db5805",
            "63969658b953416787d502cfb4463f32",
            "101d9ba247fd4006ad2b108d40f7b5ad"
          ]
        },
        "id": "5NfNxcx10-ZB",
        "outputId": "ba00a52a-fb13-489b-d1a1-d71e8d031646"
      },
      "execution_count": null,
      "outputs": [
        {
          "output_type": "stream",
          "name": "stderr",
          "text": [
            "Using cache found in /root/.cache/torch/hub/pytorch_vision_v0.6.0\n"
          ]
        },
        {
          "output_type": "display_data",
          "data": {
            "text/plain": [
              "<IPython.core.display.HTML object>"
            ],
            "text/html": [
              "Tracking run with wandb version 0.15.8"
            ]
          },
          "metadata": {}
        },
        {
          "output_type": "display_data",
          "data": {
            "text/plain": [
              "<IPython.core.display.HTML object>"
            ],
            "text/html": [
              "Run data is saved locally in <code>/content/wandb/run-20230815_131925-olf8fdwz</code>"
            ]
          },
          "metadata": {}
        },
        {
          "output_type": "display_data",
          "data": {
            "text/plain": [
              "<IPython.core.display.HTML object>"
            ],
            "text/html": [
              "Syncing run <strong><a href='https://wandb.ai/hudsonmendes/hlm12erc/runs/olf8fdwz' target=\"_blank\">run-1692105564-model-hlm12erc-baseline</a></strong> to <a href='https://wandb.ai/hudsonmendes/hlm12erc' target=\"_blank\">Weights & Biases</a> (<a href='https://wandb.me/run' target=\"_blank\">docs</a>)<br/>"
            ]
          },
          "metadata": {}
        },
        {
          "output_type": "display_data",
          "data": {
            "text/plain": [
              "<IPython.core.display.HTML object>"
            ],
            "text/html": [
              " View project at <a href='https://wandb.ai/hudsonmendes/hlm12erc' target=\"_blank\">https://wandb.ai/hudsonmendes/hlm12erc</a>"
            ]
          },
          "metadata": {}
        },
        {
          "output_type": "display_data",
          "data": {
            "text/plain": [
              "<IPython.core.display.HTML object>"
            ],
            "text/html": [
              " View run at <a href='https://wandb.ai/hudsonmendes/hlm12erc/runs/olf8fdwz' target=\"_blank\">https://wandb.ai/hudsonmendes/hlm12erc/runs/olf8fdwz</a>"
            ]
          },
          "metadata": {}
        },
        {
          "output_type": "display_data",
          "data": {
            "text/plain": [
              "<IPython.core.display.HTML object>"
            ],
            "text/html": [
              "\n",
              "    <div>\n",
              "      \n",
              "      <progress value='3130' max='3130' style='width:300px; height:20px; vertical-align: middle;'></progress>\n",
              "      [3130/3130 1:33:45, Epoch 10/10]\n",
              "    </div>\n",
              "    <table border=\"1\" class=\"dataframe\">\n",
              "  <thead>\n",
              " <tr style=\"text-align: left;\">\n",
              "      <th>Epoch</th>\n",
              "      <th>Training Loss</th>\n",
              "      <th>Validation Loss</th>\n",
              "      <th>Acc</th>\n",
              "      <th>F1 Weighted</th>\n",
              "    </tr>\n",
              "  </thead>\n",
              "  <tbody>\n",
              "    <tr>\n",
              "      <td>1</td>\n",
              "      <td>1.895749</td>\n",
              "      <td>1.833325</td>\n",
              "      <td>0.423805</td>\n",
              "      <td>0.252297</td>\n",
              "    </tr>\n",
              "    <tr>\n",
              "      <td>2</td>\n",
              "      <td>1.740506</td>\n",
              "      <td>1.742728</td>\n",
              "      <td>0.423805</td>\n",
              "      <td>0.252297</td>\n",
              "    </tr>\n",
              "    <tr>\n",
              "      <td>3</td>\n",
              "      <td>1.737829</td>\n",
              "      <td>1.741933</td>\n",
              "      <td>0.423805</td>\n",
              "      <td>0.252297</td>\n",
              "    </tr>\n",
              "    <tr>\n",
              "      <td>4</td>\n",
              "      <td>1.737346</td>\n",
              "      <td>1.741780</td>\n",
              "      <td>0.423805</td>\n",
              "      <td>0.252297</td>\n",
              "    </tr>\n",
              "    <tr>\n",
              "      <td>5</td>\n",
              "      <td>1.737174</td>\n",
              "      <td>1.741723</td>\n",
              "      <td>0.423805</td>\n",
              "      <td>0.252297</td>\n",
              "    </tr>\n",
              "    <tr>\n",
              "      <td>6</td>\n",
              "      <td>1.737091</td>\n",
              "      <td>1.741695</td>\n",
              "      <td>0.423805</td>\n",
              "      <td>0.252297</td>\n",
              "    </tr>\n",
              "    <tr>\n",
              "      <td>7</td>\n",
              "      <td>1.737046</td>\n",
              "      <td>1.741680</td>\n",
              "      <td>0.423805</td>\n",
              "      <td>0.252297</td>\n",
              "    </tr>\n",
              "    <tr>\n",
              "      <td>8</td>\n",
              "      <td>1.737022</td>\n",
              "      <td>1.741671</td>\n",
              "      <td>0.423805</td>\n",
              "      <td>0.252297</td>\n",
              "    </tr>\n",
              "    <tr>\n",
              "      <td>9</td>\n",
              "      <td>1.737010</td>\n",
              "      <td>1.741667</td>\n",
              "      <td>0.423805</td>\n",
              "      <td>0.252297</td>\n",
              "    </tr>\n",
              "    <tr>\n",
              "      <td>10</td>\n",
              "      <td>1.737006</td>\n",
              "      <td>1.741665</td>\n",
              "      <td>0.423805</td>\n",
              "      <td>0.252297</td>\n",
              "    </tr>\n",
              "  </tbody>\n",
              "</table><p>"
            ]
          },
          "metadata": {}
        },
        {
          "output_type": "display_data",
          "data": {
            "text/plain": [
              "<IPython.core.display.HTML object>"
            ],
            "text/html": [
              "Waiting for W&B process to finish... <strong style=\"color:green\">(success).</strong>"
            ]
          },
          "metadata": {}
        },
        {
          "output_type": "display_data",
          "data": {
            "text/plain": [
              "<IPython.core.display.HTML object>"
            ],
            "text/html": [
              "<style>\n",
              "    table.wandb td:nth-child(1) { padding: 0 10px; text-align: left ; width: auto;} td:nth-child(2) {text-align: left ; width: 100%}\n",
              "    .wandb-row { display: flex; flex-direction: row; flex-wrap: wrap; justify-content: flex-start; width: 100% }\n",
              "    .wandb-col { display: flex; flex-direction: column; flex-basis: 100%; flex: 1; padding: 10px; }\n",
              "    </style>\n",
              "<div class=\"wandb-row\"><div class=\"wandb-col\"><h3>Run history:</h3><br/><table class=\"wandb\"><tr><td>eval/acc</td><td>▁▁▁▁▁▁▁▁▁▁</td></tr><tr><td>eval/f1_weighted</td><td>▁▁▁▁▁▁▁▁▁▁</td></tr><tr><td>eval/loss</td><td>█▁▁▁▁▁▁▁▁▁</td></tr><tr><td>eval/runtime</td><td>▆▇█▂▂▆▁▂▁▂</td></tr><tr><td>eval/samples_per_second</td><td>▂▂▁▆▇▃█▇█▇</td></tr><tr><td>eval/steps_per_second</td><td>▂▂▁▆▇▃█▇█▇</td></tr><tr><td>train/acc</td><td>▁▁▄▃▃▆▇▅▅▆▅▅▄▆▆▅▆▆▅▅▇▆▅▆▆▇▆▆▄▅▆▇▆▆▅▄▆▃█▄</td></tr><tr><td>train/epoch</td><td>▁▁▁▂▂▂▂▂▂▃▃▃▃▃▄▄▄▄▄▄▅▅▅▅▅▅▆▆▆▆▆▇▇▇▇▇▇███</td></tr><tr><td>train/f1_weighted</td><td>▁▁▅▄▄▇▇▅▅▆▅▅▅▆▆▅▆▆▅▆▇▆▅▆▆▇▇▆▅▆▆▇▆▆▅▅▆▄█▅</td></tr><tr><td>train/global_step</td><td>▁▁▁▂▂▂▂▂▂▃▃▃▃▃▄▄▄▄▄▄▅▅▅▅▅▅▆▆▆▆▆▇▇▇▇▇▇███</td></tr><tr><td>train/learning_rate</td><td>▂▂▃▄▆▇████▇▇▇▇▆▆▆▆▆▅▅▅▅▅▄▄▄▄▃▃▃▃▃▂▂▂▂▁▁▁</td></tr><tr><td>train/loss</td><td>███▇▇▆▅▆▆▅▅▅▆▇▄▇▆▆▅▅▅▄▅▁▄▅▆▅▅▅▆▇▄▇▅▆▆▅▆▆</td></tr><tr><td>train/total_flos</td><td>▁</td></tr><tr><td>train/train_loss</td><td>▁</td></tr><tr><td>train/train_runtime</td><td>▁</td></tr><tr><td>train/train_samples_per_second</td><td>▁</td></tr><tr><td>train/train_steps_per_second</td><td>▁</td></tr></table><br/></div><div class=\"wandb-col\"><h3>Run summary:</h3><br/><table class=\"wandb\"><tr><td>eval/acc</td><td>0.42381</td></tr><tr><td>eval/f1_weighted</td><td>0.2523</td></tr><tr><td>eval/loss</td><td>1.74167</td></tr><tr><td>eval/runtime</td><td>44.8044</td></tr><tr><td>eval/samples_per_second</td><td>24.752</td></tr><tr><td>eval/steps_per_second</td><td>0.781</td></tr><tr><td>train/acc</td><td>0.42857</td></tr><tr><td>train/epoch</td><td>10.0</td></tr><tr><td>train/f1_weighted</td><td>0.6</td></tr><tr><td>train/global_step</td><td>3130</td></tr><tr><td>train/learning_rate</td><td>0.0</td></tr><tr><td>train/loss</td><td>1.73701</td></tr><tr><td>train/total_flos</td><td>0.0</td></tr><tr><td>train/train_loss</td><td>1.71883</td></tr><tr><td>train/train_runtime</td><td>5629.1286</td></tr><tr><td>train/train_samples_per_second</td><td>17.745</td></tr><tr><td>train/train_steps_per_second</td><td>0.556</td></tr></table><br/></div></div>"
            ]
          },
          "metadata": {}
        },
        {
          "output_type": "display_data",
          "data": {
            "text/plain": [
              "<IPython.core.display.HTML object>"
            ],
            "text/html": [
              " View run <strong style=\"color:#cdcd00\">run-1692105564-model-hlm12erc-baseline</strong> at: <a href='https://wandb.ai/hudsonmendes/hlm12erc/runs/olf8fdwz' target=\"_blank\">https://wandb.ai/hudsonmendes/hlm12erc/runs/olf8fdwz</a><br/>Synced 4 W&B file(s), 0 media file(s), 3 artifact file(s) and 0 other file(s)"
            ]
          },
          "metadata": {}
        },
        {
          "output_type": "display_data",
          "data": {
            "text/plain": [
              "<IPython.core.display.HTML object>"
            ],
            "text/html": [
              "Find logs at: <code>./wandb/run-20230815_131925-olf8fdwz/logs</code>"
            ]
          },
          "metadata": {}
        },
        {
          "output_type": "display_data",
          "data": {
            "text/plain": [
              "evaluating:   0%|          | 0/1 [00:00<?, ?it/s]"
            ],
            "application/vnd.jupyter.widget-view+json": {
              "version_major": 2,
              "version_minor": 0,
              "model_id": "0e1fdfa03a4d4ab0bbd90ff4ca076643"
            }
          },
          "metadata": {}
        },
        {
          "output_type": "error",
          "ename": "ValueError",
          "evalue": "ignored",
          "traceback": [
            "\u001b[0;31m---------------------------------------------------------------------------\u001b[0m",
            "\u001b[0;31mValueError\u001b[0m                                Traceback (most recent call last)",
            "\u001b[0;32m<ipython-input-23-ab6cb0902e99>\u001b[0m in \u001b[0;36m<cell line: 2>\u001b[0;34m()\u001b[0m\n\u001b[1;32m      1\u001b[0m \u001b[0mbaseline_instance\u001b[0m \u001b[0;34m=\u001b[0m \u001b[0mtrain_model\u001b[0m\u001b[0;34m(\u001b[0m\u001b[0;34m\"baseline\"\u001b[0m\u001b[0;34m,\u001b[0m \u001b[0mdatasets\u001b[0m\u001b[0;34m=\u001b[0m\u001b[0;34m(\u001b[0m\u001b[0mds_train\u001b[0m\u001b[0;34m,\u001b[0m \u001b[0mds_valid\u001b[0m\u001b[0;34m)\u001b[0m\u001b[0;34m,\u001b[0m \u001b[0mn_epochs\u001b[0m\u001b[0;34m=\u001b[0m\u001b[0;36m10\u001b[0m\u001b[0;34m)\u001b[0m\u001b[0;34m\u001b[0m\u001b[0;34m\u001b[0m\u001b[0m\n\u001b[0;32m----> 2\u001b[0;31m \u001b[0mevaluate_model\u001b[0m\u001b[0;34m(\u001b[0m\u001b[0mbaseline_instance\u001b[0m\u001b[0;34m)\u001b[0m\u001b[0;34m\u001b[0m\u001b[0;34m\u001b[0m\u001b[0m\n\u001b[0m",
            "\u001b[0;32m<ipython-input-17-a90003d67ad7>\u001b[0m in \u001b[0;36mevaluate_model\u001b[0;34m(model_instance)\u001b[0m\n\u001b[1;32m      3\u001b[0m \u001b[0;32mdef\u001b[0m \u001b[0mevaluate_model\u001b[0m\u001b[0;34m(\u001b[0m\u001b[0mmodel_instance\u001b[0m\u001b[0;34m)\u001b[0m\u001b[0;34m:\u001b[0m\u001b[0;34m\u001b[0m\u001b[0;34m\u001b[0m\u001b[0m\n\u001b[1;32m      4\u001b[0m   \u001b[0mmodel_evaluator\u001b[0m \u001b[0;34m=\u001b[0m \u001b[0mERCEvaluator\u001b[0m\u001b[0;34m(\u001b[0m\u001b[0mmodel_instance\u001b[0m\u001b[0;34m)\u001b[0m\u001b[0;34m\u001b[0m\u001b[0;34m\u001b[0m\u001b[0m\n\u001b[0;32m----> 5\u001b[0;31m   \u001b[0mmodel_evaluator\u001b[0m\u001b[0;34m.\u001b[0m\u001b[0mevaluate\u001b[0m\u001b[0;34m(\u001b[0m\u001b[0mds_sample\u001b[0m\u001b[0;34m,\u001b[0m \u001b[0mbatch_size\u001b[0m\u001b[0;34m=\u001b[0m\u001b[0;36m32\u001b[0m\u001b[0;34m,\u001b[0m \u001b[0mdevice\u001b[0m\u001b[0;34m=\u001b[0m\u001b[0mdevice\u001b[0m\u001b[0;34m)\u001b[0m\u001b[0;34m\u001b[0m\u001b[0;34m\u001b[0m\u001b[0m\n\u001b[0m",
            "\u001b[0;32m/content/src/hlm12erc/training/erc_evaluator.py\u001b[0m in \u001b[0;36mevaluate\u001b[0;34m(self, dataset, batch_size, device, output_dict)\u001b[0m\n\u001b[1;32m     49\u001b[0m             \u001b[0mlabels\u001b[0m\u001b[0;34m,\u001b[0m \u001b[0mpreds\u001b[0m \u001b[0;34m=\u001b[0m \u001b[0mself\u001b[0m\u001b[0;34m.\u001b[0m\u001b[0m_collect_labels_and_preds\u001b[0m\u001b[0;34m(\u001b[0m\u001b[0mdataset\u001b[0m\u001b[0;34m,\u001b[0m \u001b[0mdevice\u001b[0m\u001b[0;34m,\u001b[0m \u001b[0mbatch_size\u001b[0m\u001b[0;34m)\u001b[0m\u001b[0;34m\u001b[0m\u001b[0;34m\u001b[0m\u001b[0m\n\u001b[1;32m     50\u001b[0m \u001b[0;34m\u001b[0m\u001b[0m\n\u001b[0;32m---> 51\u001b[0;31m         \u001b[0;32mreturn\u001b[0m \u001b[0mself\u001b[0m\u001b[0;34m.\u001b[0m\u001b[0m_report_on_results\u001b[0m\u001b[0;34m(\u001b[0m\u001b[0memotions\u001b[0m\u001b[0;34m,\u001b[0m \u001b[0mlabels\u001b[0m\u001b[0;34m,\u001b[0m \u001b[0mpreds\u001b[0m\u001b[0;34m,\u001b[0m \u001b[0moutput_dict\u001b[0m\u001b[0;34m)\u001b[0m\u001b[0;34m\u001b[0m\u001b[0;34m\u001b[0m\u001b[0m\n\u001b[0m\u001b[1;32m     52\u001b[0m \u001b[0;34m\u001b[0m\u001b[0m\n\u001b[1;32m     53\u001b[0m     \u001b[0;32mdef\u001b[0m \u001b[0m_collect_labels_and_preds\u001b[0m\u001b[0;34m(\u001b[0m\u001b[0mself\u001b[0m\u001b[0;34m,\u001b[0m \u001b[0mdataset\u001b[0m\u001b[0;34m,\u001b[0m \u001b[0mdevice\u001b[0m\u001b[0;34m,\u001b[0m \u001b[0mbatch_size\u001b[0m\u001b[0;34m)\u001b[0m \u001b[0;34m->\u001b[0m \u001b[0mTuple\u001b[0m\u001b[0;34m[\u001b[0m\u001b[0mList\u001b[0m\u001b[0;34m[\u001b[0m\u001b[0mList\u001b[0m\u001b[0;34m[\u001b[0m\u001b[0mint\u001b[0m\u001b[0;34m]\u001b[0m\u001b[0;34m]\u001b[0m\u001b[0;34m,\u001b[0m \u001b[0mList\u001b[0m\u001b[0;34m[\u001b[0m\u001b[0mList\u001b[0m\u001b[0;34m[\u001b[0m\u001b[0mint\u001b[0m\u001b[0;34m]\u001b[0m\u001b[0;34m]\u001b[0m\u001b[0;34m]\u001b[0m\u001b[0;34m:\u001b[0m\u001b[0;34m\u001b[0m\u001b[0;34m\u001b[0m\u001b[0m\n",
            "\u001b[0;32m/content/src/hlm12erc/training/erc_evaluator.py\u001b[0m in \u001b[0;36m_report_on_results\u001b[0;34m(self, emotions, labels, preds, output_dict)\u001b[0m\n\u001b[1;32m     88\u001b[0m         \u001b[0;34m:\u001b[0m\u001b[0;32mreturn\u001b[0m\u001b[0;34m:\u001b[0m \u001b[0mThe\u001b[0m \u001b[0mclassification\u001b[0m \u001b[0mreport\u001b[0m \u001b[0mdictionary\u001b[0m\u001b[0;34m\u001b[0m\u001b[0;34m\u001b[0m\u001b[0m\n\u001b[1;32m     89\u001b[0m         \"\"\"\n\u001b[0;32m---> 90\u001b[0;31m         \u001b[0mprint\u001b[0m\u001b[0;34m(\u001b[0m\u001b[0mclassification_report\u001b[0m\u001b[0;34m(\u001b[0m\u001b[0my_true\u001b[0m\u001b[0;34m=\u001b[0m\u001b[0mlabels\u001b[0m\u001b[0;34m,\u001b[0m \u001b[0my_pred\u001b[0m\u001b[0;34m=\u001b[0m\u001b[0mpreds\u001b[0m\u001b[0;34m,\u001b[0m \u001b[0mtarget_names\u001b[0m\u001b[0;34m=\u001b[0m\u001b[0memotions\u001b[0m\u001b[0;34m)\u001b[0m\u001b[0;34m)\u001b[0m\u001b[0;34m\u001b[0m\u001b[0;34m\u001b[0m\u001b[0m\n\u001b[0m\u001b[1;32m     91\u001b[0m         \u001b[0;32mif\u001b[0m \u001b[0moutput_dict\u001b[0m\u001b[0;34m:\u001b[0m\u001b[0;34m\u001b[0m\u001b[0;34m\u001b[0m\u001b[0m\n\u001b[1;32m     92\u001b[0m             \u001b[0;32mreturn\u001b[0m \u001b[0mclassification_report\u001b[0m\u001b[0;34m(\u001b[0m\u001b[0my_true\u001b[0m\u001b[0;34m=\u001b[0m\u001b[0mlabels\u001b[0m\u001b[0;34m,\u001b[0m \u001b[0my_pred\u001b[0m\u001b[0;34m=\u001b[0m\u001b[0mpreds\u001b[0m\u001b[0;34m,\u001b[0m \u001b[0mtarget_names\u001b[0m\u001b[0;34m=\u001b[0m\u001b[0memotions\u001b[0m\u001b[0;34m,\u001b[0m \u001b[0moutput_dict\u001b[0m\u001b[0;34m=\u001b[0m\u001b[0;32mTrue\u001b[0m\u001b[0;34m)\u001b[0m\u001b[0;34m\u001b[0m\u001b[0;34m\u001b[0m\u001b[0m\n",
            "\u001b[0;32m/usr/local/lib/python3.10/dist-packages/sklearn/utils/_param_validation.py\u001b[0m in \u001b[0;36mwrapper\u001b[0;34m(*args, **kwargs)\u001b[0m\n\u001b[1;32m    209\u001b[0m                     )\n\u001b[1;32m    210\u001b[0m                 ):\n\u001b[0;32m--> 211\u001b[0;31m                     \u001b[0;32mreturn\u001b[0m \u001b[0mfunc\u001b[0m\u001b[0;34m(\u001b[0m\u001b[0;34m*\u001b[0m\u001b[0margs\u001b[0m\u001b[0;34m,\u001b[0m \u001b[0;34m**\u001b[0m\u001b[0mkwargs\u001b[0m\u001b[0;34m)\u001b[0m\u001b[0;34m\u001b[0m\u001b[0;34m\u001b[0m\u001b[0m\n\u001b[0m\u001b[1;32m    212\u001b[0m             \u001b[0;32mexcept\u001b[0m \u001b[0mInvalidParameterError\u001b[0m \u001b[0;32mas\u001b[0m \u001b[0me\u001b[0m\u001b[0;34m:\u001b[0m\u001b[0;34m\u001b[0m\u001b[0;34m\u001b[0m\u001b[0m\n\u001b[1;32m    213\u001b[0m                 \u001b[0;31m# When the function is just a wrapper around an estimator, we allow\u001b[0m\u001b[0;34m\u001b[0m\u001b[0;34m\u001b[0m\u001b[0m\n",
            "\u001b[0;32m/usr/local/lib/python3.10/dist-packages/sklearn/metrics/_classification.py\u001b[0m in \u001b[0;36mclassification_report\u001b[0;34m(y_true, y_pred, labels, target_names, sample_weight, digits, output_dict, zero_division)\u001b[0m\n\u001b[1;32m   2559\u001b[0m             )\n\u001b[1;32m   2560\u001b[0m         \u001b[0;32melse\u001b[0m\u001b[0;34m:\u001b[0m\u001b[0;34m\u001b[0m\u001b[0;34m\u001b[0m\u001b[0m\n\u001b[0;32m-> 2561\u001b[0;31m             raise ValueError(\n\u001b[0m\u001b[1;32m   2562\u001b[0m                 \u001b[0;34m\"Number of classes, {0}, does not match size of \"\u001b[0m\u001b[0;34m\u001b[0m\u001b[0;34m\u001b[0m\u001b[0m\n\u001b[1;32m   2563\u001b[0m                 \u001b[0;34m\"target_names, {1}. Try specifying the labels \"\u001b[0m\u001b[0;34m\u001b[0m\u001b[0;34m\u001b[0m\u001b[0m\n",
            "\u001b[0;31mValueError\u001b[0m: Number of classes, 4, does not match size of target_names, 7. Try specifying the labels parameter"
          ]
        }
      ]
    },
    {
      "cell_type": "code",
      "source": [],
      "metadata": {
        "colab": {
          "base_uri": "https://localhost:8080/",
          "height": 299,
          "referenced_widgets": [
            "d0621d289c5840a18abb47cc0a7f9b11",
            "ec425998bfec477594a7a0c1f6f50462",
            "8becf20115d54e61b00b9edd39f4d88d",
            "71828786c74e4ceeadd610a8abe5dcad",
            "3094f7eb0ad1435db4f7ad097bad683f",
            "13c9da21d08f4e25b22c3b6e1f496681",
            "bb46bbd31e254ced91dfb6c59b1e355d",
            "84eb9482ddfc443d8b932c5f57e77c62",
            "fd14eaa1d4294746b5ded78c5e2daf62",
            "495e5fcab6cd410a907771a3e3ca3817",
            "635e7cdbd3f54ab0a129de33ecd2a6e4"
          ]
        },
        "id": "Cg13M6VSsgAh",
        "outputId": "feaa1ec7-5f07-493a-df05-463bf4b6b960"
      },
      "execution_count": null,
      "outputs": [
        {
          "output_type": "display_data",
          "data": {
            "text/plain": [
              "evaluating:   0%|          | 0/82 [00:00<?, ?it/s]"
            ],
            "application/vnd.jupyter.widget-view+json": {
              "version_major": 2,
              "version_minor": 0,
              "model_id": "d0621d289c5840a18abb47cc0a7f9b11"
            }
          },
          "metadata": {}
        },
        {
          "output_type": "stream",
          "name": "stdout",
          "text": [
            "              precision    recall  f1-score   support\n",
            "\n",
            "       anger       0.00      0.00      0.00       345\n",
            "     disgust       0.00      0.00      0.00        68\n",
            "        fear       0.00      0.00      0.00        50\n",
            "         joy       0.00      0.00      0.00       402\n",
            "     neutral       0.48      1.00      0.65      1256\n",
            "     sadness       0.00      0.00      0.00       208\n",
            "    surprise       0.00      0.00      0.00       281\n",
            "\n",
            "    accuracy                           0.48      2610\n",
            "   macro avg       0.07      0.14      0.09      2610\n",
            "weighted avg       0.23      0.48      0.31      2610\n",
            "\n"
          ]
        }
      ]
    },
    {
      "cell_type": "code",
      "source": [],
      "metadata": {
        "id": "IbKYp1eNsgW1"
      },
      "execution_count": null,
      "outputs": []
    }
  ],
  "metadata": {
    "accelerator": "GPU",
    "colab": {
      "machine_shape": "hm",
      "provenance": [],
      "gpuType": "V100",
      "mount_file_id": "18c7t4yKshPNqxcjjzkfIbb-RtINFoJMo",
      "authorship_tag": "ABX9TyML2f5+zvgpYniiRs6va9C4",
      "include_colab_link": true
    },
    "kernelspec": {
      "display_name": "Python 3",
      "name": "python3"
    },
    "language_info": {
      "name": "python"
    },
    "widgets": {
      "application/vnd.jupyter.widget-state+json": {
        "c5432ed395564df6a273230feb8f8855": {
          "model_module": "@jupyter-widgets/controls",
          "model_name": "HBoxModel",
          "model_module_version": "1.5.0",
          "state": {
            "_dom_classes": [],
            "_model_module": "@jupyter-widgets/controls",
            "_model_module_version": "1.5.0",
            "_model_name": "HBoxModel",
            "_view_count": null,
            "_view_module": "@jupyter-widgets/controls",
            "_view_module_version": "1.5.0",
            "_view_name": "HBoxView",
            "box_style": "",
            "children": [
              "IPY_MODEL_c93e36b0697442ddafe23dfdb46aa6ca",
              "IPY_MODEL_005204ee0dca4964b26a39eacd5847be",
              "IPY_MODEL_ff5f962de0e1415190457e77838d90db"
            ],
            "layout": "IPY_MODEL_537b21369320437c9c90ce51ec7862f7"
          }
        },
        "c93e36b0697442ddafe23dfdb46aa6ca": {
          "model_module": "@jupyter-widgets/controls",
          "model_name": "HTMLModel",
          "model_module_version": "1.5.0",
          "state": {
            "_dom_classes": [],
            "_model_module": "@jupyter-widgets/controls",
            "_model_module_version": "1.5.0",
            "_model_name": "HTMLModel",
            "_view_count": null,
            "_view_module": "@jupyter-widgets/controls",
            "_view_module_version": "1.5.0",
            "_view_name": "HTMLView",
            "description": "",
            "description_tooltip": null,
            "layout": "IPY_MODEL_e1996b6f353649aaaa0d85ffe96e670e",
            "placeholder": "​",
            "style": "IPY_MODEL_fafa7d74e4cd4dc29d8d8b7ff40584b1",
            "value": "evaluating: 100%"
          }
        },
        "005204ee0dca4964b26a39eacd5847be": {
          "model_module": "@jupyter-widgets/controls",
          "model_name": "FloatProgressModel",
          "model_module_version": "1.5.0",
          "state": {
            "_dom_classes": [],
            "_model_module": "@jupyter-widgets/controls",
            "_model_module_version": "1.5.0",
            "_model_name": "FloatProgressModel",
            "_view_count": null,
            "_view_module": "@jupyter-widgets/controls",
            "_view_module_version": "1.5.0",
            "_view_name": "ProgressView",
            "bar_style": "success",
            "description": "",
            "description_tooltip": null,
            "layout": "IPY_MODEL_74f76e0170884ad5a8e2ad7c2b39e4a4",
            "max": 1,
            "min": 0,
            "orientation": "horizontal",
            "style": "IPY_MODEL_1b4c32eaf7ff438cabbb1769df6ffa7f",
            "value": 1
          }
        },
        "ff5f962de0e1415190457e77838d90db": {
          "model_module": "@jupyter-widgets/controls",
          "model_name": "HTMLModel",
          "model_module_version": "1.5.0",
          "state": {
            "_dom_classes": [],
            "_model_module": "@jupyter-widgets/controls",
            "_model_module_version": "1.5.0",
            "_model_name": "HTMLModel",
            "_view_count": null,
            "_view_module": "@jupyter-widgets/controls",
            "_view_module_version": "1.5.0",
            "_view_name": "HTMLView",
            "description": "",
            "description_tooltip": null,
            "layout": "IPY_MODEL_a4ade44839c947bea38ab41aaf6eb4ac",
            "placeholder": "​",
            "style": "IPY_MODEL_6209453a87cf4ff98dd0170b7c5b539c",
            "value": " 1/1 [00:00&lt;00:00,  1.35it/s]"
          }
        },
        "537b21369320437c9c90ce51ec7862f7": {
          "model_module": "@jupyter-widgets/base",
          "model_name": "LayoutModel",
          "model_module_version": "1.2.0",
          "state": {
            "_model_module": "@jupyter-widgets/base",
            "_model_module_version": "1.2.0",
            "_model_name": "LayoutModel",
            "_view_count": null,
            "_view_module": "@jupyter-widgets/base",
            "_view_module_version": "1.2.0",
            "_view_name": "LayoutView",
            "align_content": null,
            "align_items": null,
            "align_self": null,
            "border": null,
            "bottom": null,
            "display": null,
            "flex": null,
            "flex_flow": null,
            "grid_area": null,
            "grid_auto_columns": null,
            "grid_auto_flow": null,
            "grid_auto_rows": null,
            "grid_column": null,
            "grid_gap": null,
            "grid_row": null,
            "grid_template_areas": null,
            "grid_template_columns": null,
            "grid_template_rows": null,
            "height": null,
            "justify_content": null,
            "justify_items": null,
            "left": null,
            "margin": null,
            "max_height": null,
            "max_width": null,
            "min_height": null,
            "min_width": null,
            "object_fit": null,
            "object_position": null,
            "order": null,
            "overflow": null,
            "overflow_x": null,
            "overflow_y": null,
            "padding": null,
            "right": null,
            "top": null,
            "visibility": null,
            "width": null
          }
        },
        "e1996b6f353649aaaa0d85ffe96e670e": {
          "model_module": "@jupyter-widgets/base",
          "model_name": "LayoutModel",
          "model_module_version": "1.2.0",
          "state": {
            "_model_module": "@jupyter-widgets/base",
            "_model_module_version": "1.2.0",
            "_model_name": "LayoutModel",
            "_view_count": null,
            "_view_module": "@jupyter-widgets/base",
            "_view_module_version": "1.2.0",
            "_view_name": "LayoutView",
            "align_content": null,
            "align_items": null,
            "align_self": null,
            "border": null,
            "bottom": null,
            "display": null,
            "flex": null,
            "flex_flow": null,
            "grid_area": null,
            "grid_auto_columns": null,
            "grid_auto_flow": null,
            "grid_auto_rows": null,
            "grid_column": null,
            "grid_gap": null,
            "grid_row": null,
            "grid_template_areas": null,
            "grid_template_columns": null,
            "grid_template_rows": null,
            "height": null,
            "justify_content": null,
            "justify_items": null,
            "left": null,
            "margin": null,
            "max_height": null,
            "max_width": null,
            "min_height": null,
            "min_width": null,
            "object_fit": null,
            "object_position": null,
            "order": null,
            "overflow": null,
            "overflow_x": null,
            "overflow_y": null,
            "padding": null,
            "right": null,
            "top": null,
            "visibility": null,
            "width": null
          }
        },
        "fafa7d74e4cd4dc29d8d8b7ff40584b1": {
          "model_module": "@jupyter-widgets/controls",
          "model_name": "DescriptionStyleModel",
          "model_module_version": "1.5.0",
          "state": {
            "_model_module": "@jupyter-widgets/controls",
            "_model_module_version": "1.5.0",
            "_model_name": "DescriptionStyleModel",
            "_view_count": null,
            "_view_module": "@jupyter-widgets/base",
            "_view_module_version": "1.2.0",
            "_view_name": "StyleView",
            "description_width": ""
          }
        },
        "74f76e0170884ad5a8e2ad7c2b39e4a4": {
          "model_module": "@jupyter-widgets/base",
          "model_name": "LayoutModel",
          "model_module_version": "1.2.0",
          "state": {
            "_model_module": "@jupyter-widgets/base",
            "_model_module_version": "1.2.0",
            "_model_name": "LayoutModel",
            "_view_count": null,
            "_view_module": "@jupyter-widgets/base",
            "_view_module_version": "1.2.0",
            "_view_name": "LayoutView",
            "align_content": null,
            "align_items": null,
            "align_self": null,
            "border": null,
            "bottom": null,
            "display": null,
            "flex": null,
            "flex_flow": null,
            "grid_area": null,
            "grid_auto_columns": null,
            "grid_auto_flow": null,
            "grid_auto_rows": null,
            "grid_column": null,
            "grid_gap": null,
            "grid_row": null,
            "grid_template_areas": null,
            "grid_template_columns": null,
            "grid_template_rows": null,
            "height": null,
            "justify_content": null,
            "justify_items": null,
            "left": null,
            "margin": null,
            "max_height": null,
            "max_width": null,
            "min_height": null,
            "min_width": null,
            "object_fit": null,
            "object_position": null,
            "order": null,
            "overflow": null,
            "overflow_x": null,
            "overflow_y": null,
            "padding": null,
            "right": null,
            "top": null,
            "visibility": null,
            "width": null
          }
        },
        "1b4c32eaf7ff438cabbb1769df6ffa7f": {
          "model_module": "@jupyter-widgets/controls",
          "model_name": "ProgressStyleModel",
          "model_module_version": "1.5.0",
          "state": {
            "_model_module": "@jupyter-widgets/controls",
            "_model_module_version": "1.5.0",
            "_model_name": "ProgressStyleModel",
            "_view_count": null,
            "_view_module": "@jupyter-widgets/base",
            "_view_module_version": "1.2.0",
            "_view_name": "StyleView",
            "bar_color": null,
            "description_width": ""
          }
        },
        "a4ade44839c947bea38ab41aaf6eb4ac": {
          "model_module": "@jupyter-widgets/base",
          "model_name": "LayoutModel",
          "model_module_version": "1.2.0",
          "state": {
            "_model_module": "@jupyter-widgets/base",
            "_model_module_version": "1.2.0",
            "_model_name": "LayoutModel",
            "_view_count": null,
            "_view_module": "@jupyter-widgets/base",
            "_view_module_version": "1.2.0",
            "_view_name": "LayoutView",
            "align_content": null,
            "align_items": null,
            "align_self": null,
            "border": null,
            "bottom": null,
            "display": null,
            "flex": null,
            "flex_flow": null,
            "grid_area": null,
            "grid_auto_columns": null,
            "grid_auto_flow": null,
            "grid_auto_rows": null,
            "grid_column": null,
            "grid_gap": null,
            "grid_row": null,
            "grid_template_areas": null,
            "grid_template_columns": null,
            "grid_template_rows": null,
            "height": null,
            "justify_content": null,
            "justify_items": null,
            "left": null,
            "margin": null,
            "max_height": null,
            "max_width": null,
            "min_height": null,
            "min_width": null,
            "object_fit": null,
            "object_position": null,
            "order": null,
            "overflow": null,
            "overflow_x": null,
            "overflow_y": null,
            "padding": null,
            "right": null,
            "top": null,
            "visibility": null,
            "width": null
          }
        },
        "6209453a87cf4ff98dd0170b7c5b539c": {
          "model_module": "@jupyter-widgets/controls",
          "model_name": "DescriptionStyleModel",
          "model_module_version": "1.5.0",
          "state": {
            "_model_module": "@jupyter-widgets/controls",
            "_model_module_version": "1.5.0",
            "_model_name": "DescriptionStyleModel",
            "_view_count": null,
            "_view_module": "@jupyter-widgets/base",
            "_view_module_version": "1.2.0",
            "_view_name": "StyleView",
            "description_width": ""
          }
        },
        "0e1fdfa03a4d4ab0bbd90ff4ca076643": {
          "model_module": "@jupyter-widgets/controls",
          "model_name": "HBoxModel",
          "model_module_version": "1.5.0",
          "state": {
            "_dom_classes": [],
            "_model_module": "@jupyter-widgets/controls",
            "_model_module_version": "1.5.0",
            "_model_name": "HBoxModel",
            "_view_count": null,
            "_view_module": "@jupyter-widgets/controls",
            "_view_module_version": "1.5.0",
            "_view_name": "HBoxView",
            "box_style": "",
            "children": [
              "IPY_MODEL_491f6c30292d4b1a8928b4f89173a122",
              "IPY_MODEL_287633547ae846f8998bc5d8fd4ee4ec",
              "IPY_MODEL_e79309d129094af784a372ef3fe5a759"
            ],
            "layout": "IPY_MODEL_a31a5cfa386d411da11c5f61a8d82c21"
          }
        },
        "491f6c30292d4b1a8928b4f89173a122": {
          "model_module": "@jupyter-widgets/controls",
          "model_name": "HTMLModel",
          "model_module_version": "1.5.0",
          "state": {
            "_dom_classes": [],
            "_model_module": "@jupyter-widgets/controls",
            "_model_module_version": "1.5.0",
            "_model_name": "HTMLModel",
            "_view_count": null,
            "_view_module": "@jupyter-widgets/controls",
            "_view_module_version": "1.5.0",
            "_view_name": "HTMLView",
            "description": "",
            "description_tooltip": null,
            "layout": "IPY_MODEL_495bc1d99aeb476fb1cb163465cd3f69",
            "placeholder": "​",
            "style": "IPY_MODEL_87f972d90fd9492fa8464aed8b870321",
            "value": "evaluating: 100%"
          }
        },
        "287633547ae846f8998bc5d8fd4ee4ec": {
          "model_module": "@jupyter-widgets/controls",
          "model_name": "FloatProgressModel",
          "model_module_version": "1.5.0",
          "state": {
            "_dom_classes": [],
            "_model_module": "@jupyter-widgets/controls",
            "_model_module_version": "1.5.0",
            "_model_name": "FloatProgressModel",
            "_view_count": null,
            "_view_module": "@jupyter-widgets/controls",
            "_view_module_version": "1.5.0",
            "_view_name": "ProgressView",
            "bar_style": "success",
            "description": "",
            "description_tooltip": null,
            "layout": "IPY_MODEL_17917991a75d4d3aadc1600fa900bc31",
            "max": 1,
            "min": 0,
            "orientation": "horizontal",
            "style": "IPY_MODEL_9df5e5b79b054d8d8fd3960d25db5805",
            "value": 1
          }
        },
        "e79309d129094af784a372ef3fe5a759": {
          "model_module": "@jupyter-widgets/controls",
          "model_name": "HTMLModel",
          "model_module_version": "1.5.0",
          "state": {
            "_dom_classes": [],
            "_model_module": "@jupyter-widgets/controls",
            "_model_module_version": "1.5.0",
            "_model_name": "HTMLModel",
            "_view_count": null,
            "_view_module": "@jupyter-widgets/controls",
            "_view_module_version": "1.5.0",
            "_view_name": "HTMLView",
            "description": "",
            "description_tooltip": null,
            "layout": "IPY_MODEL_63969658b953416787d502cfb4463f32",
            "placeholder": "​",
            "style": "IPY_MODEL_101d9ba247fd4006ad2b108d40f7b5ad",
            "value": " 1/1 [00:00&lt;00:00,  1.21it/s]"
          }
        },
        "a31a5cfa386d411da11c5f61a8d82c21": {
          "model_module": "@jupyter-widgets/base",
          "model_name": "LayoutModel",
          "model_module_version": "1.2.0",
          "state": {
            "_model_module": "@jupyter-widgets/base",
            "_model_module_version": "1.2.0",
            "_model_name": "LayoutModel",
            "_view_count": null,
            "_view_module": "@jupyter-widgets/base",
            "_view_module_version": "1.2.0",
            "_view_name": "LayoutView",
            "align_content": null,
            "align_items": null,
            "align_self": null,
            "border": null,
            "bottom": null,
            "display": null,
            "flex": null,
            "flex_flow": null,
            "grid_area": null,
            "grid_auto_columns": null,
            "grid_auto_flow": null,
            "grid_auto_rows": null,
            "grid_column": null,
            "grid_gap": null,
            "grid_row": null,
            "grid_template_areas": null,
            "grid_template_columns": null,
            "grid_template_rows": null,
            "height": null,
            "justify_content": null,
            "justify_items": null,
            "left": null,
            "margin": null,
            "max_height": null,
            "max_width": null,
            "min_height": null,
            "min_width": null,
            "object_fit": null,
            "object_position": null,
            "order": null,
            "overflow": null,
            "overflow_x": null,
            "overflow_y": null,
            "padding": null,
            "right": null,
            "top": null,
            "visibility": null,
            "width": null
          }
        },
        "495bc1d99aeb476fb1cb163465cd3f69": {
          "model_module": "@jupyter-widgets/base",
          "model_name": "LayoutModel",
          "model_module_version": "1.2.0",
          "state": {
            "_model_module": "@jupyter-widgets/base",
            "_model_module_version": "1.2.0",
            "_model_name": "LayoutModel",
            "_view_count": null,
            "_view_module": "@jupyter-widgets/base",
            "_view_module_version": "1.2.0",
            "_view_name": "LayoutView",
            "align_content": null,
            "align_items": null,
            "align_self": null,
            "border": null,
            "bottom": null,
            "display": null,
            "flex": null,
            "flex_flow": null,
            "grid_area": null,
            "grid_auto_columns": null,
            "grid_auto_flow": null,
            "grid_auto_rows": null,
            "grid_column": null,
            "grid_gap": null,
            "grid_row": null,
            "grid_template_areas": null,
            "grid_template_columns": null,
            "grid_template_rows": null,
            "height": null,
            "justify_content": null,
            "justify_items": null,
            "left": null,
            "margin": null,
            "max_height": null,
            "max_width": null,
            "min_height": null,
            "min_width": null,
            "object_fit": null,
            "object_position": null,
            "order": null,
            "overflow": null,
            "overflow_x": null,
            "overflow_y": null,
            "padding": null,
            "right": null,
            "top": null,
            "visibility": null,
            "width": null
          }
        },
        "87f972d90fd9492fa8464aed8b870321": {
          "model_module": "@jupyter-widgets/controls",
          "model_name": "DescriptionStyleModel",
          "model_module_version": "1.5.0",
          "state": {
            "_model_module": "@jupyter-widgets/controls",
            "_model_module_version": "1.5.0",
            "_model_name": "DescriptionStyleModel",
            "_view_count": null,
            "_view_module": "@jupyter-widgets/base",
            "_view_module_version": "1.2.0",
            "_view_name": "StyleView",
            "description_width": ""
          }
        },
        "17917991a75d4d3aadc1600fa900bc31": {
          "model_module": "@jupyter-widgets/base",
          "model_name": "LayoutModel",
          "model_module_version": "1.2.0",
          "state": {
            "_model_module": "@jupyter-widgets/base",
            "_model_module_version": "1.2.0",
            "_model_name": "LayoutModel",
            "_view_count": null,
            "_view_module": "@jupyter-widgets/base",
            "_view_module_version": "1.2.0",
            "_view_name": "LayoutView",
            "align_content": null,
            "align_items": null,
            "align_self": null,
            "border": null,
            "bottom": null,
            "display": null,
            "flex": null,
            "flex_flow": null,
            "grid_area": null,
            "grid_auto_columns": null,
            "grid_auto_flow": null,
            "grid_auto_rows": null,
            "grid_column": null,
            "grid_gap": null,
            "grid_row": null,
            "grid_template_areas": null,
            "grid_template_columns": null,
            "grid_template_rows": null,
            "height": null,
            "justify_content": null,
            "justify_items": null,
            "left": null,
            "margin": null,
            "max_height": null,
            "max_width": null,
            "min_height": null,
            "min_width": null,
            "object_fit": null,
            "object_position": null,
            "order": null,
            "overflow": null,
            "overflow_x": null,
            "overflow_y": null,
            "padding": null,
            "right": null,
            "top": null,
            "visibility": null,
            "width": null
          }
        },
        "9df5e5b79b054d8d8fd3960d25db5805": {
          "model_module": "@jupyter-widgets/controls",
          "model_name": "ProgressStyleModel",
          "model_module_version": "1.5.0",
          "state": {
            "_model_module": "@jupyter-widgets/controls",
            "_model_module_version": "1.5.0",
            "_model_name": "ProgressStyleModel",
            "_view_count": null,
            "_view_module": "@jupyter-widgets/base",
            "_view_module_version": "1.2.0",
            "_view_name": "StyleView",
            "bar_color": null,
            "description_width": ""
          }
        },
        "63969658b953416787d502cfb4463f32": {
          "model_module": "@jupyter-widgets/base",
          "model_name": "LayoutModel",
          "model_module_version": "1.2.0",
          "state": {
            "_model_module": "@jupyter-widgets/base",
            "_model_module_version": "1.2.0",
            "_model_name": "LayoutModel",
            "_view_count": null,
            "_view_module": "@jupyter-widgets/base",
            "_view_module_version": "1.2.0",
            "_view_name": "LayoutView",
            "align_content": null,
            "align_items": null,
            "align_self": null,
            "border": null,
            "bottom": null,
            "display": null,
            "flex": null,
            "flex_flow": null,
            "grid_area": null,
            "grid_auto_columns": null,
            "grid_auto_flow": null,
            "grid_auto_rows": null,
            "grid_column": null,
            "grid_gap": null,
            "grid_row": null,
            "grid_template_areas": null,
            "grid_template_columns": null,
            "grid_template_rows": null,
            "height": null,
            "justify_content": null,
            "justify_items": null,
            "left": null,
            "margin": null,
            "max_height": null,
            "max_width": null,
            "min_height": null,
            "min_width": null,
            "object_fit": null,
            "object_position": null,
            "order": null,
            "overflow": null,
            "overflow_x": null,
            "overflow_y": null,
            "padding": null,
            "right": null,
            "top": null,
            "visibility": null,
            "width": null
          }
        },
        "101d9ba247fd4006ad2b108d40f7b5ad": {
          "model_module": "@jupyter-widgets/controls",
          "model_name": "DescriptionStyleModel",
          "model_module_version": "1.5.0",
          "state": {
            "_model_module": "@jupyter-widgets/controls",
            "_model_module_version": "1.5.0",
            "_model_name": "DescriptionStyleModel",
            "_view_count": null,
            "_view_module": "@jupyter-widgets/base",
            "_view_module_version": "1.2.0",
            "_view_name": "StyleView",
            "description_width": ""
          }
        },
        "d0621d289c5840a18abb47cc0a7f9b11": {
          "model_module": "@jupyter-widgets/controls",
          "model_name": "HBoxModel",
          "model_module_version": "1.5.0",
          "state": {
            "_dom_classes": [],
            "_model_module": "@jupyter-widgets/controls",
            "_model_module_version": "1.5.0",
            "_model_name": "HBoxModel",
            "_view_count": null,
            "_view_module": "@jupyter-widgets/controls",
            "_view_module_version": "1.5.0",
            "_view_name": "HBoxView",
            "box_style": "",
            "children": [
              "IPY_MODEL_ec425998bfec477594a7a0c1f6f50462",
              "IPY_MODEL_8becf20115d54e61b00b9edd39f4d88d",
              "IPY_MODEL_71828786c74e4ceeadd610a8abe5dcad"
            ],
            "layout": "IPY_MODEL_3094f7eb0ad1435db4f7ad097bad683f"
          }
        },
        "ec425998bfec477594a7a0c1f6f50462": {
          "model_module": "@jupyter-widgets/controls",
          "model_name": "HTMLModel",
          "model_module_version": "1.5.0",
          "state": {
            "_dom_classes": [],
            "_model_module": "@jupyter-widgets/controls",
            "_model_module_version": "1.5.0",
            "_model_name": "HTMLModel",
            "_view_count": null,
            "_view_module": "@jupyter-widgets/controls",
            "_view_module_version": "1.5.0",
            "_view_name": "HTMLView",
            "description": "",
            "description_tooltip": null,
            "layout": "IPY_MODEL_13c9da21d08f4e25b22c3b6e1f496681",
            "placeholder": "​",
            "style": "IPY_MODEL_bb46bbd31e254ced91dfb6c59b1e355d",
            "value": "evaluating: 100%"
          }
        },
        "8becf20115d54e61b00b9edd39f4d88d": {
          "model_module": "@jupyter-widgets/controls",
          "model_name": "FloatProgressModel",
          "model_module_version": "1.5.0",
          "state": {
            "_dom_classes": [],
            "_model_module": "@jupyter-widgets/controls",
            "_model_module_version": "1.5.0",
            "_model_name": "FloatProgressModel",
            "_view_count": null,
            "_view_module": "@jupyter-widgets/controls",
            "_view_module_version": "1.5.0",
            "_view_name": "ProgressView",
            "bar_style": "success",
            "description": "",
            "description_tooltip": null,
            "layout": "IPY_MODEL_84eb9482ddfc443d8b932c5f57e77c62",
            "max": 82,
            "min": 0,
            "orientation": "horizontal",
            "style": "IPY_MODEL_fd14eaa1d4294746b5ded78c5e2daf62",
            "value": 82
          }
        },
        "71828786c74e4ceeadd610a8abe5dcad": {
          "model_module": "@jupyter-widgets/controls",
          "model_name": "HTMLModel",
          "model_module_version": "1.5.0",
          "state": {
            "_dom_classes": [],
            "_model_module": "@jupyter-widgets/controls",
            "_model_module_version": "1.5.0",
            "_model_name": "HTMLModel",
            "_view_count": null,
            "_view_module": "@jupyter-widgets/controls",
            "_view_module_version": "1.5.0",
            "_view_name": "HTMLView",
            "description": "",
            "description_tooltip": null,
            "layout": "IPY_MODEL_495e5fcab6cd410a907771a3e3ca3817",
            "placeholder": "​",
            "style": "IPY_MODEL_635e7cdbd3f54ab0a129de33ecd2a6e4",
            "value": " 82/82 [01:45&lt;00:00,  1.28s/it]"
          }
        },
        "3094f7eb0ad1435db4f7ad097bad683f": {
          "model_module": "@jupyter-widgets/base",
          "model_name": "LayoutModel",
          "model_module_version": "1.2.0",
          "state": {
            "_model_module": "@jupyter-widgets/base",
            "_model_module_version": "1.2.0",
            "_model_name": "LayoutModel",
            "_view_count": null,
            "_view_module": "@jupyter-widgets/base",
            "_view_module_version": "1.2.0",
            "_view_name": "LayoutView",
            "align_content": null,
            "align_items": null,
            "align_self": null,
            "border": null,
            "bottom": null,
            "display": null,
            "flex": null,
            "flex_flow": null,
            "grid_area": null,
            "grid_auto_columns": null,
            "grid_auto_flow": null,
            "grid_auto_rows": null,
            "grid_column": null,
            "grid_gap": null,
            "grid_row": null,
            "grid_template_areas": null,
            "grid_template_columns": null,
            "grid_template_rows": null,
            "height": null,
            "justify_content": null,
            "justify_items": null,
            "left": null,
            "margin": null,
            "max_height": null,
            "max_width": null,
            "min_height": null,
            "min_width": null,
            "object_fit": null,
            "object_position": null,
            "order": null,
            "overflow": null,
            "overflow_x": null,
            "overflow_y": null,
            "padding": null,
            "right": null,
            "top": null,
            "visibility": null,
            "width": null
          }
        },
        "13c9da21d08f4e25b22c3b6e1f496681": {
          "model_module": "@jupyter-widgets/base",
          "model_name": "LayoutModel",
          "model_module_version": "1.2.0",
          "state": {
            "_model_module": "@jupyter-widgets/base",
            "_model_module_version": "1.2.0",
            "_model_name": "LayoutModel",
            "_view_count": null,
            "_view_module": "@jupyter-widgets/base",
            "_view_module_version": "1.2.0",
            "_view_name": "LayoutView",
            "align_content": null,
            "align_items": null,
            "align_self": null,
            "border": null,
            "bottom": null,
            "display": null,
            "flex": null,
            "flex_flow": null,
            "grid_area": null,
            "grid_auto_columns": null,
            "grid_auto_flow": null,
            "grid_auto_rows": null,
            "grid_column": null,
            "grid_gap": null,
            "grid_row": null,
            "grid_template_areas": null,
            "grid_template_columns": null,
            "grid_template_rows": null,
            "height": null,
            "justify_content": null,
            "justify_items": null,
            "left": null,
            "margin": null,
            "max_height": null,
            "max_width": null,
            "min_height": null,
            "min_width": null,
            "object_fit": null,
            "object_position": null,
            "order": null,
            "overflow": null,
            "overflow_x": null,
            "overflow_y": null,
            "padding": null,
            "right": null,
            "top": null,
            "visibility": null,
            "width": null
          }
        },
        "bb46bbd31e254ced91dfb6c59b1e355d": {
          "model_module": "@jupyter-widgets/controls",
          "model_name": "DescriptionStyleModel",
          "model_module_version": "1.5.0",
          "state": {
            "_model_module": "@jupyter-widgets/controls",
            "_model_module_version": "1.5.0",
            "_model_name": "DescriptionStyleModel",
            "_view_count": null,
            "_view_module": "@jupyter-widgets/base",
            "_view_module_version": "1.2.0",
            "_view_name": "StyleView",
            "description_width": ""
          }
        },
        "84eb9482ddfc443d8b932c5f57e77c62": {
          "model_module": "@jupyter-widgets/base",
          "model_name": "LayoutModel",
          "model_module_version": "1.2.0",
          "state": {
            "_model_module": "@jupyter-widgets/base",
            "_model_module_version": "1.2.0",
            "_model_name": "LayoutModel",
            "_view_count": null,
            "_view_module": "@jupyter-widgets/base",
            "_view_module_version": "1.2.0",
            "_view_name": "LayoutView",
            "align_content": null,
            "align_items": null,
            "align_self": null,
            "border": null,
            "bottom": null,
            "display": null,
            "flex": null,
            "flex_flow": null,
            "grid_area": null,
            "grid_auto_columns": null,
            "grid_auto_flow": null,
            "grid_auto_rows": null,
            "grid_column": null,
            "grid_gap": null,
            "grid_row": null,
            "grid_template_areas": null,
            "grid_template_columns": null,
            "grid_template_rows": null,
            "height": null,
            "justify_content": null,
            "justify_items": null,
            "left": null,
            "margin": null,
            "max_height": null,
            "max_width": null,
            "min_height": null,
            "min_width": null,
            "object_fit": null,
            "object_position": null,
            "order": null,
            "overflow": null,
            "overflow_x": null,
            "overflow_y": null,
            "padding": null,
            "right": null,
            "top": null,
            "visibility": null,
            "width": null
          }
        },
        "fd14eaa1d4294746b5ded78c5e2daf62": {
          "model_module": "@jupyter-widgets/controls",
          "model_name": "ProgressStyleModel",
          "model_module_version": "1.5.0",
          "state": {
            "_model_module": "@jupyter-widgets/controls",
            "_model_module_version": "1.5.0",
            "_model_name": "ProgressStyleModel",
            "_view_count": null,
            "_view_module": "@jupyter-widgets/base",
            "_view_module_version": "1.2.0",
            "_view_name": "StyleView",
            "bar_color": null,
            "description_width": ""
          }
        },
        "495e5fcab6cd410a907771a3e3ca3817": {
          "model_module": "@jupyter-widgets/base",
          "model_name": "LayoutModel",
          "model_module_version": "1.2.0",
          "state": {
            "_model_module": "@jupyter-widgets/base",
            "_model_module_version": "1.2.0",
            "_model_name": "LayoutModel",
            "_view_count": null,
            "_view_module": "@jupyter-widgets/base",
            "_view_module_version": "1.2.0",
            "_view_name": "LayoutView",
            "align_content": null,
            "align_items": null,
            "align_self": null,
            "border": null,
            "bottom": null,
            "display": null,
            "flex": null,
            "flex_flow": null,
            "grid_area": null,
            "grid_auto_columns": null,
            "grid_auto_flow": null,
            "grid_auto_rows": null,
            "grid_column": null,
            "grid_gap": null,
            "grid_row": null,
            "grid_template_areas": null,
            "grid_template_columns": null,
            "grid_template_rows": null,
            "height": null,
            "justify_content": null,
            "justify_items": null,
            "left": null,
            "margin": null,
            "max_height": null,
            "max_width": null,
            "min_height": null,
            "min_width": null,
            "object_fit": null,
            "object_position": null,
            "order": null,
            "overflow": null,
            "overflow_x": null,
            "overflow_y": null,
            "padding": null,
            "right": null,
            "top": null,
            "visibility": null,
            "width": null
          }
        },
        "635e7cdbd3f54ab0a129de33ecd2a6e4": {
          "model_module": "@jupyter-widgets/controls",
          "model_name": "DescriptionStyleModel",
          "model_module_version": "1.5.0",
          "state": {
            "_model_module": "@jupyter-widgets/controls",
            "_model_module_version": "1.5.0",
            "_model_name": "DescriptionStyleModel",
            "_view_count": null,
            "_view_module": "@jupyter-widgets/base",
            "_view_module_version": "1.2.0",
            "_view_name": "StyleView",
            "description_width": ""
          }
        }
      }
    }
  },
  "nbformat": 4,
  "nbformat_minor": 0
}