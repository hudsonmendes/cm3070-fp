{
 "cells": [
  {
   "cell_type": "markdown",
   "metadata": {},
   "source": [
    "# CM3070, Final Project\n",
    "\n",
    "```\n",
    "University of London\n",
    "BSc Computer Science\n",
    "CM3070, Final Project\n",
    "Hudson Leonardo MENDES\n",
    "hlm12@student.london.ac.uk\n",
    "```\n"
   ]
  },
  {
   "cell_type": "markdown",
   "metadata": {},
   "source": [
    "## 1. Introduction\n"
   ]
  },
  {
   "cell_type": "markdown",
   "metadata": {},
   "source": [
    "### 1.1. Domain-specific Area\n"
   ]
  },
  {
   "cell_type": "markdown",
   "metadata": {},
   "source": [
    "### 1.2. Dataset\n",
    "\n",
    "**Multimodal EmotionLines Dataset(MELD)**[2, 3]\n",
    "\n",
    "> Multimodal EmotionLines Dataset (MELD) has been created by enhancing and extending EmotionLines dataset. MELD contains the same dialogue instances available in EmotionLines, but it also encompasses audio and visual modality along with text. MELD has more than 1400 dialogues and 13000 utterances from Friends TV series. Multiple speakers participated in the dialogues. Each utterance in a dialogue has been labeled by any of these seven emotions -- Anger, Disgust, Sadness, Joy, Neutral, Surprise and Fear. MELD also has sentiment (positive, negative and neutral) annotation for each utterance.\n",
    "> (Hakim, 2021)\n"
   ]
  },
  {
   "cell_type": "markdown",
   "metadata": {},
   "source": [
    "### 1.3. Objective\n"
   ]
  },
  {
   "cell_type": "markdown",
   "metadata": {},
   "source": [
    "## 2. Environment\n"
   ]
  },
  {
   "cell_type": "markdown",
   "metadata": {},
   "source": [
    "### 2.1. Dependencies\n"
   ]
  },
  {
   "cell_type": "code",
   "execution_count": 1,
   "metadata": {
    "ExecuteTime": {
     "end_time": "2023-07-13T14:43:02.985547Z",
     "start_time": "2023-07-13T14:43:02.842918Z"
    }
   },
   "outputs": [
    {
     "name": "stdout",
     "output_type": "stream",
     "text": [
      "[metadata]\n",
      "name = hlm12erc\n",
      "version = attr: hlm12erc.VERSION\n",
      "author = Hudson Mendes\n",
      "author_email = hlm12@student.london.ac.uk\n",
      "description = Final Project from University of London\n",
      "long_description = file: README.md, LICENSE\n",
      "keywords = university-of-london\n",
      "license = copyright\n",
      "\n",
      "[options]\n",
      "zip_safe = False\n",
      "include_package_data = True\n",
      "packages = find:\n",
      "package_dir =\n",
      "    =src\n",
      "python_requires = >=3.10\n",
      "install_requires =\n",
      "    torch>=2.0.1\n",
      "    transformers>=4.30.2\n",
      "\n",
      "[options.package_data]\n",
      "\n",
      "[options.extras_require]\n",
      "# development\n",
      "dev =\n",
      "    pre-commit>=3.3.3\n",
      "    black[jupyter]>=23.7.0\n",
      "    isort>=5.12.0\n",
      "\n",
      "test =\n",
      "    pytest>=7.4.0\n",
      "\n",
      "# mlops\n",
      "etl =\n",
      "    kaggle>=1.5.13\n",
      "    tqdm>=4.65.0\n",
      "    pandas>=2.0.1\n",
      "    google-cloud-storage>=2.10.0\n",
      "    moviepy>=1.0.3\n",
      "    Pillow>=10.0.0\n",
      "\n",
      "modeling =\n",
      "    # no dependencies yet\n",
      "\n",
      "training =\n",
      "    # no dependencies yet\n",
      "\n",
      "serving =\n",
      "    fire>=0.5.0\n",
      "\n",
      "all =\n",
      "    %(dev)s\n",
      "    %(test)s\n",
      "    %(etl)s\n",
      "    %(modeling)s\n",
      "    %(training)s\n",
      "    %(serving)s\n",
      "\n",
      "[options.packages.find]\n",
      "include =\n",
      "    ./src\n"
     ]
    }
   ],
   "source": [
    "!cat ../setup.cfg"
   ]
  },
  {
   "cell_type": "code",
   "execution_count": 2,
   "metadata": {
    "ExecuteTime": {
     "end_time": "2023-07-13T14:43:03.141254Z",
     "start_time": "2023-07-13T14:43:03.092297Z"
    }
   },
   "outputs": [],
   "source": [
    "%load_ext autoreload\n",
    "%autoreload 2"
   ]
  },
  {
   "cell_type": "code",
   "execution_count": 3,
   "metadata": {
    "ExecuteTime": {
     "end_time": "2023-07-13T14:43:03.487527Z",
     "start_time": "2023-07-13T14:43:03.452824Z"
    }
   },
   "outputs": [],
   "source": [
    "import logging\n",
    "\n",
    "logging.basicConfig(level=logging.INFO)"
   ]
  },
  {
   "cell_type": "markdown",
   "metadata": {},
   "source": [
    "\n",
    "### Paths & Locations"
   ]
  },
  {
   "cell_type": "code",
   "execution_count": 4,
   "metadata": {
    "ExecuteTime": {
     "end_time": "2023-07-13T14:43:03.870117Z",
     "start_time": "2023-07-13T14:43:03.837574Z"
    }
   },
   "outputs": [],
   "source": [
    "import pathlib\n",
    "\n",
    "dir_data = pathlib.Path(\"../data\")"
   ]
  },
  {
   "cell_type": "markdown",
   "metadata": {},
   "source": [
    "## 3. Exploratory Data Analysis\n"
   ]
  },
  {
   "cell_type": "markdown",
   "metadata": {},
   "source": [
    "### 3.1. Data Extraction, Transformation & Loading\n"
   ]
  },
  {
   "cell_type": "code",
   "execution_count": 5,
   "metadata": {
    "ExecuteTime": {
     "end_time": "2023-07-13T14:43:07.117036Z",
     "start_time": "2023-07-13T14:43:04.961415Z"
    }
   },
   "outputs": [],
   "source": [
    "%%capture\n",
    "%pip install -e '.[etl]'"
   ]
  },
  {
   "cell_type": "code",
   "execution_count": null,
   "metadata": {
    "ExecuteTime": {
     "end_time": "2023-07-13T14:46:22.459843Z",
     "start_time": "2023-07-13T14:46:21.635307Z"
    }
   },
   "outputs": [],
   "source": [
    "from hlm12erc.etl import ETL, KaggleDataset\n",
    "\n",
    "ETL(\n",
    "    dataset=KaggleDataset(\n",
    "        owner=\"zaber666\",\n",
    "        name=\"meld-dataset\",\n",
    "        subdir=\"MELD-RAW/MELD.Raw\",\n",
    "    )\n",
    ").into(\n",
    "    uri_or_folderpath=dir_data,\n",
    "    force=False,\n",
    ")"
   ]
  },
  {
   "cell_type": "code",
   "execution_count": null,
   "metadata": {},
   "outputs": [],
   "source": [
    "!ls {str(dir_data)}"
   ]
  },
  {
   "cell_type": "markdown",
   "metadata": {},
   "source": [
    "### 3.2. Statistical Analysis\n"
   ]
  },
  {
   "cell_type": "markdown",
   "metadata": {},
   "source": [
    "#### 3.2.1. Measures of Spread\n"
   ]
  },
  {
   "cell_type": "markdown",
   "metadata": {},
   "source": [
    "#### 3.2.2. Types of Distribution\n"
   ]
  },
  {
   "cell_type": "markdown",
   "metadata": {},
   "source": [
    "### 3.3. Data Visualization\n"
   ]
  },
  {
   "cell_type": "markdown",
   "metadata": {},
   "source": [
    "#### 3.3.1. Word Cloud & Frequency\n"
   ]
  },
  {
   "cell_type": "markdown",
   "metadata": {},
   "source": [
    "#### 3.3.2. Image Grid & Scatter Plot\n"
   ]
  },
  {
   "cell_type": "markdown",
   "metadata": {},
   "source": [
    "#### 3.3.3. Audio Feature Plots\n"
   ]
  },
  {
   "cell_type": "markdown",
   "metadata": {},
   "source": [
    "## 4. Machine Learning\n",
    "\n",
    "**Universal Machine-learning Workflow**[1]\n"
   ]
  },
  {
   "cell_type": "markdown",
   "metadata": {},
   "source": [
    "### 4.1. Problem Definition\n"
   ]
  },
  {
   "cell_type": "markdown",
   "metadata": {},
   "source": [
    "### 4.2. Measure of Success\n"
   ]
  },
  {
   "cell_type": "markdown",
   "metadata": {},
   "source": [
    "### 4.3. Evaluation Protocol\n"
   ]
  },
  {
   "cell_type": "markdown",
   "metadata": {},
   "source": [
    "### 4.4. Data Preparation\n"
   ]
  },
  {
   "cell_type": "markdown",
   "metadata": {},
   "source": [
    "### 4.5. Baseline Model\n"
   ]
  },
  {
   "cell_type": "code",
   "execution_count": null,
   "metadata": {},
   "outputs": [],
   "source": [
    "from hlm12erc.modelling import ERCModel"
   ]
  },
  {
   "cell_type": "markdown",
   "metadata": {},
   "source": [
    "### 4.6. Overfitting Model\n"
   ]
  },
  {
   "cell_type": "markdown",
   "metadata": {},
   "source": [
    "### 4.7. Model Tuning\n"
   ]
  },
  {
   "cell_type": "markdown",
   "metadata": {},
   "source": [
    "## 5. Results\n"
   ]
  },
  {
   "cell_type": "markdown",
   "metadata": {},
   "source": [
    "## 6. Conclusions\n"
   ]
  },
  {
   "cell_type": "markdown",
   "metadata": {},
   "source": [
    "## References\n",
    "\n",
    "[1] Chollet, François. Deep Learning with Python. Manning, 2017.\n",
    "\n",
    "[2] Poria, Soujanya, et al. ‘MELD: A Multimodal Multi-Party Dataset for Emotion Recognition in Conversations’. ArXiv [Cs.CL], 2019, http://arxiv.org/abs/1810.02508. arXiv.\n",
    "\n",
    "[3] Chen, Sheng-Yeh, et al. ‘EmotionLines: An Emotion Corpus of Multi-Party Conversations’. ArXiv [Cs.CL], 2018, http://arxiv.org/abs/1802.08379. arXiv.\n",
    "\n",
    "[4] Su, Lin, et al. ‘GEM: A General Evaluation Benchmark for Multimodal Tasks’. ArXiv [Cs.CL], 2021, http://arxiv.org/abs/2106.09889. arXiv.\n"
   ]
  }
 ],
 "metadata": {
  "kernelspec": {
   "display_name": "Python 3 (ipykernel)",
   "language": "python",
   "name": "python3"
  },
  "language_info": {
   "codemirror_mode": {
    "name": "ipython",
    "version": 3
   },
   "file_extension": ".py",
   "mimetype": "text/x-python",
   "name": "python",
   "nbconvert_exporter": "python",
   "pygments_lexer": "ipython3",
   "version": "3.10.11"
  },
  "toc": {
   "base_numbering": 1,
   "nav_menu": {},
   "number_sections": true,
   "sideBar": true,
   "skip_h1_title": false,
   "title_cell": "Table of Contents",
   "title_sidebar": "Contents",
   "toc_cell": false,
   "toc_position": {},
   "toc_section_display": true,
   "toc_window_display": false
  }
 },
 "nbformat": 4,
 "nbformat_minor": 2
}
